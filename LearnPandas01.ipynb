{
 "cells": [
  {
   "cell_type": "markdown",
   "id": "c14436f0",
   "metadata": {},
   "source": [
    "# LEARNING PANDAS"
   ]
  },
  {
   "cell_type": "markdown",
   "id": "95c55512",
   "metadata": {},
   "source": [
    "## Table of Contents <a class=\"anchor\" id=\"toc\"></a>\n",
    "* [Pandas Series](#series)\n",
    " * [Series from lists](#serieslists)\n",
    " * [Series from dictionaries](#seriesdict)\n",
    " * [Series from arrays](#seriesarr)\n",
    " * [Modifying series](#seriesmod)\n",
    "* [Pandas Dataframes](#df)\n",
    " * [Dataframes from lists & arrays](#dfscratch)\n",
    " * [Dataframes from dictionaries](#dfdict)\n",
    " * [Dataframes from series](#dfseries)\n",
    " * [Dataframes from dataframes](#dfdf)\n",
    "* [Pandas Basics](#basics)\n",
    " * [View vs. Copy](#viewcopy)\n",
    " * [Data types](#datatypes)\n",
    " * [Modifying dataframes](#dfmod)\n",
    " * [Initial exploration](#describe)\n",
    " * [Introductory math](#math)\n",
    "* [Example Datasets](#examples)\n",
    " * [COVID19](#covid)"
   ]
  },
  {
   "cell_type": "code",
   "execution_count": 1,
   "id": "f3290e6d",
   "metadata": {},
   "outputs": [],
   "source": [
    "import pandas as pd\n",
    "import numpy as np"
   ]
  },
  {
   "cell_type": "markdown",
   "id": "6160fcf6",
   "metadata": {},
   "source": [
    "## Pandas Series <a class=\"anchor\" id=\"series\"></a>"
   ]
  },
  {
   "cell_type": "markdown",
   "id": "e922e83c",
   "metadata": {},
   "source": [
    "### _Series from list_ <a class=\"anchor\" id=\"serieslists\"></a>"
   ]
  },
  {
   "cell_type": "code",
   "execution_count": 2,
   "id": "a2ce9395",
   "metadata": {},
   "outputs": [
    {
     "data": {
      "text/plain": [
       "0      1\n",
       "1      a\n",
       "2    NaN\n",
       "3    end\n",
       "dtype: object"
      ]
     },
     "execution_count": 2,
     "metadata": {},
     "output_type": "execute_result"
    }
   ],
   "source": [
    "series1 = pd.Series(['1', 'a', np.nan, 'end'])\n",
    "series1"
   ]
  },
  {
   "cell_type": "code",
   "execution_count": 3,
   "id": "88bb39e5",
   "metadata": {},
   "outputs": [
    {
     "data": {
      "text/plain": [
       "0      1\n",
       "1      a\n",
       "2    NaN\n",
       "3    end\n",
       "Name: series 1, dtype: object"
      ]
     },
     "execution_count": 3,
     "metadata": {},
     "output_type": "execute_result"
    }
   ],
   "source": [
    "series1.name = 'series 1'\n",
    "series1"
   ]
  },
  {
   "cell_type": "code",
   "execution_count": 4,
   "id": "51194d26",
   "metadata": {},
   "outputs": [
    {
     "data": {
      "text/plain": [
       "A      1\n",
       "B      a\n",
       "C    NaN\n",
       "D    end\n",
       "Name: series 1, dtype: object"
      ]
     },
     "execution_count": 4,
     "metadata": {},
     "output_type": "execute_result"
    }
   ],
   "source": [
    "series1.index = ['A','B','C','D']\n",
    "series1"
   ]
  },
  {
   "cell_type": "code",
   "execution_count": 78,
   "id": "01867dd2",
   "metadata": {},
   "outputs": [
    {
     "data": {
      "text/plain": [
       "A         a\n",
       "B         1\n",
       "C         2\n",
       "D      45.0\n",
       "E    almost\n",
       "F       end\n",
       "Name: series 2, dtype: object"
      ]
     },
     "execution_count": 78,
     "metadata": {},
     "output_type": "execute_result"
    }
   ],
   "source": [
    "series2 = pd.Series(['a', 1, 2, 45.0, 'almost', 'end'], name='series 2', index=list('ABCDEF'))\n",
    "series2"
   ]
  },
  {
   "cell_type": "code",
   "execution_count": 6,
   "id": "513d5384",
   "metadata": {},
   "outputs": [
    {
     "data": {
      "text/plain": [
       "0    1.711719\n",
       "1   -1.244181\n",
       "2    0.193874\n",
       "3    1.242953\n",
       "4    0.803524\n",
       "5    1.095610\n",
       "6    0.574971\n",
       "7    0.251353\n",
       "8   -0.194158\n",
       "9   -0.994983\n",
       "Name: series 4, dtype: float64"
      ]
     },
     "execution_count": 6,
     "metadata": {},
     "output_type": "execute_result"
    }
   ],
   "source": [
    "series4 = pd.Series(np.random.randn(10), name='series 4')\n",
    "series4"
   ]
  },
  {
   "cell_type": "markdown",
   "id": "d9a25825",
   "metadata": {},
   "source": [
    "[_Table of Contents_](#toc)"
   ]
  },
  {
   "cell_type": "markdown",
   "id": "f3b8b32a",
   "metadata": {},
   "source": [
    "### _Series from dictionaries_ <a class=\"anchor\" id=\"seriesdict\"></a>"
   ]
  },
  {
   "cell_type": "code",
   "execution_count": 10,
   "id": "c4de1fc0",
   "metadata": {},
   "outputs": [
    {
     "data": {
      "text/plain": [
       "{'COL 1': [1, 2, 3, 4, 5], 'COL 2': [10.0, 10.5, 11.0, 11.5, 12.0]}"
      ]
     },
     "execution_count": 10,
     "metadata": {},
     "output_type": "execute_result"
    }
   ],
   "source": [
    "dict1 = {'COL 1': [1,2,3,4,5], 'COL 2': [10.0,10.5,11.0,11.5,12.0]}\n",
    "dict1"
   ]
  },
  {
   "cell_type": "code",
   "execution_count": 11,
   "id": "6f66eb2d",
   "metadata": {},
   "outputs": [
    {
     "data": {
      "text/plain": [
       "0    10.0\n",
       "1    10.5\n",
       "2    11.0\n",
       "3    11.5\n",
       "4    12.0\n",
       "Name: series 3, dtype: float64"
      ]
     },
     "execution_count": 11,
     "metadata": {},
     "output_type": "execute_result"
    }
   ],
   "source": [
    "series3 = pd.Series(dict1['COL 2'], name='series 3')\n",
    "series3"
   ]
  },
  {
   "cell_type": "code",
   "execution_count": 12,
   "id": "2e49d60f",
   "metadata": {},
   "outputs": [
    {
     "data": {
      "text/plain": [
       "140444881903888"
      ]
     },
     "execution_count": 12,
     "metadata": {},
     "output_type": "execute_result"
    }
   ],
   "source": [
    "id(series3)"
   ]
  },
  {
   "cell_type": "code",
   "execution_count": 13,
   "id": "3e349f56",
   "metadata": {},
   "outputs": [
    {
     "data": {
      "text/plain": [
       "140444891233664"
      ]
     },
     "execution_count": 13,
     "metadata": {},
     "output_type": "execute_result"
    }
   ],
   "source": [
    "id(dict1)"
   ]
  },
  {
   "cell_type": "code",
   "execution_count": 14,
   "id": "adf02bee",
   "metadata": {},
   "outputs": [
    {
     "data": {
      "text/plain": [
       "False"
      ]
     },
     "execution_count": 14,
     "metadata": {},
     "output_type": "execute_result"
    }
   ],
   "source": [
    "series3.values.base is dict1"
   ]
  },
  {
   "cell_type": "code",
   "execution_count": 17,
   "id": "982b0c8f",
   "metadata": {},
   "outputs": [
    {
     "data": {
      "text/plain": [
       "False"
      ]
     },
     "execution_count": 17,
     "metadata": {},
     "output_type": "execute_result"
    }
   ],
   "source": [
    "series3.values.base == dict1"
   ]
  },
  {
   "cell_type": "markdown",
   "id": "05be9e4b",
   "metadata": {},
   "source": [
    "[_Table of Contents_](#toc)"
   ]
  },
  {
   "cell_type": "markdown",
   "id": "985c130f",
   "metadata": {},
   "source": [
    "### _Modifying series_ <a class=\"anchor\" id=\"seriesmod\"></a>"
   ]
  },
  {
   "cell_type": "code",
   "execution_count": 18,
   "id": "4017fd86",
   "metadata": {},
   "outputs": [
    {
     "data": {
      "text/plain": [
       "A      1\n",
       "B      a\n",
       "C    NaN\n",
       "D    end\n",
       "Name: series 1, dtype: object"
      ]
     },
     "execution_count": 18,
     "metadata": {},
     "output_type": "execute_result"
    }
   ],
   "source": [
    "series1"
   ]
  },
  {
   "cell_type": "code",
   "execution_count": 19,
   "id": "41ef781b",
   "metadata": {},
   "outputs": [
    {
     "data": {
      "text/plain": [
       "A            1\n",
       "B            a\n",
       "C          NaN\n",
       "D          end\n",
       "E    new value\n",
       "Name: series 1, dtype: object"
      ]
     },
     "execution_count": 19,
     "metadata": {},
     "output_type": "execute_result"
    }
   ],
   "source": [
    "series1['E'] = \"new value\"\n",
    "series1"
   ]
  },
  {
   "cell_type": "code",
   "execution_count": 20,
   "id": "a2ced3c7",
   "metadata": {},
   "outputs": [
    {
     "data": {
      "text/plain": [
       "A         a\n",
       "B         1\n",
       "C         2\n",
       "D      45.0\n",
       "E    almost\n",
       "F       end\n",
       "Name: series 2, dtype: object"
      ]
     },
     "execution_count": 20,
     "metadata": {},
     "output_type": "execute_result"
    }
   ],
   "source": [
    "series2"
   ]
  },
  {
   "cell_type": "code",
   "execution_count": 21,
   "id": "258630f3",
   "metadata": {},
   "outputs": [
    {
     "data": {
      "text/plain": [
       "A       a\n",
       "B       1\n",
       "C       2\n",
       "D    45.0\n",
       "F     end\n",
       "Name: series 2, dtype: object"
      ]
     },
     "execution_count": 21,
     "metadata": {},
     "output_type": "execute_result"
    }
   ],
   "source": [
    "series2.pop('E')\n",
    "series2"
   ]
  },
  {
   "cell_type": "code",
   "execution_count": 22,
   "id": "f04a9b7b",
   "metadata": {},
   "outputs": [
    {
     "data": {
      "text/plain": [
       "0    10.0\n",
       "1    10.5\n",
       "2    11.0\n",
       "3    11.5\n",
       "4    12.0\n",
       "Name: series 3, dtype: float64"
      ]
     },
     "execution_count": 22,
     "metadata": {},
     "output_type": "execute_result"
    }
   ],
   "source": [
    "series3"
   ]
  },
  {
   "cell_type": "code",
   "execution_count": 23,
   "id": "42348dd8",
   "metadata": {},
   "outputs": [
    {
     "data": {
      "text/plain": [
       "'hello'"
      ]
     },
     "execution_count": 23,
     "metadata": {},
     "output_type": "execute_result"
    }
   ],
   "source": [
    "series3.name = 'hello'\n",
    "series3.name"
   ]
  },
  {
   "cell_type": "code",
   "execution_count": 24,
   "id": "81f6bb58",
   "metadata": {},
   "outputs": [
    {
     "data": {
      "text/plain": [
       "0    10.0\n",
       "1    10.5\n",
       "2    11.0\n",
       "3    11.5\n",
       "4    12.0\n",
       "Name: goodbye, dtype: float64"
      ]
     },
     "execution_count": 24,
     "metadata": {},
     "output_type": "execute_result"
    }
   ],
   "source": [
    "series3.rename('goodbye')"
   ]
  },
  {
   "cell_type": "code",
   "execution_count": 25,
   "id": "52ebf5ba",
   "metadata": {},
   "outputs": [
    {
     "data": {
      "text/plain": [
       "False"
      ]
     },
     "execution_count": 25,
     "metadata": {},
     "output_type": "execute_result"
    }
   ],
   "source": [
    "series3.name == 'goodbye'"
   ]
  },
  {
   "cell_type": "code",
   "execution_count": 26,
   "id": "650fcd08",
   "metadata": {},
   "outputs": [
    {
     "data": {
      "text/plain": [
       "'hello'"
      ]
     },
     "execution_count": 26,
     "metadata": {},
     "output_type": "execute_result"
    }
   ],
   "source": [
    "series3.name"
   ]
  },
  {
   "cell_type": "code",
   "execution_count": 27,
   "id": "5ea37ae7",
   "metadata": {},
   "outputs": [
    {
     "data": {
      "text/plain": [
       "True"
      ]
     },
     "execution_count": 27,
     "metadata": {},
     "output_type": "execute_result"
    }
   ],
   "source": [
    "series3.name == 'hello'"
   ]
  },
  {
   "cell_type": "code",
   "execution_count": 28,
   "id": "ee0affa7",
   "metadata": {
    "scrolled": true
   },
   "outputs": [
    {
     "data": {
      "text/plain": [
       "0    10.0\n",
       "1    10.5\n",
       "2    11.0\n",
       "3    11.5\n",
       "4    12.0\n",
       "Name: series 3, dtype: float64"
      ]
     },
     "execution_count": 28,
     "metadata": {},
     "output_type": "execute_result"
    }
   ],
   "source": [
    "series3.rename('series 3', inplace=True)"
   ]
  },
  {
   "cell_type": "code",
   "execution_count": 29,
   "id": "af3b1fa8",
   "metadata": {},
   "outputs": [
    {
     "data": {
      "text/plain": [
       "True"
      ]
     },
     "execution_count": 29,
     "metadata": {},
     "output_type": "execute_result"
    }
   ],
   "source": [
    "series3.name == 'series 3'"
   ]
  },
  {
   "cell_type": "markdown",
   "id": "40317296",
   "metadata": {},
   "source": [
    "[_Table of Contents_](#toc)"
   ]
  },
  {
   "cell_type": "markdown",
   "id": "748059db",
   "metadata": {},
   "source": [
    "## Pandas Dataframes <a class=\"anchor\" id=\"df\"></a>"
   ]
  },
  {
   "cell_type": "markdown",
   "id": "db25a61e",
   "metadata": {},
   "source": [
    "### _Dataframes from lists & arrays_ <a class=\"anchor\" id=\"dfscratch\"></a>"
   ]
  },
  {
   "cell_type": "code",
   "execution_count": 30,
   "id": "78a690b6",
   "metadata": {},
   "outputs": [
    {
     "data": {
      "text/plain": [
       "[[1, 2, 3, 4, 5], ['A', 'B', 'C', 'D', 'E'], [20.0, 45.0, nan, 17, 23.67]]"
      ]
     },
     "execution_count": 30,
     "metadata": {},
     "output_type": "execute_result"
    }
   ],
   "source": [
    "ls1 = [[1,2,3,4,5],list(\"ABCDE\"),[20.0,45.0,np.nan,17,23.67]]\n",
    "ls1"
   ]
  },
  {
   "cell_type": "code",
   "execution_count": 135,
   "id": "7d581999",
   "metadata": {},
   "outputs": [
    {
     "data": {
      "text/html": [
       "<div>\n",
       "<style scoped>\n",
       "    .dataframe tbody tr th:only-of-type {\n",
       "        vertical-align: middle;\n",
       "    }\n",
       "\n",
       "    .dataframe tbody tr th {\n",
       "        vertical-align: top;\n",
       "    }\n",
       "\n",
       "    .dataframe thead th {\n",
       "        text-align: right;\n",
       "    }\n",
       "</style>\n",
       "<table border=\"1\" class=\"dataframe\">\n",
       "  <thead>\n",
       "    <tr style=\"text-align: right;\">\n",
       "      <th></th>\n",
       "      <th>0</th>\n",
       "      <th>1</th>\n",
       "      <th>2</th>\n",
       "      <th>3</th>\n",
       "      <th>4</th>\n",
       "    </tr>\n",
       "  </thead>\n",
       "  <tbody>\n",
       "    <tr>\n",
       "      <th>0</th>\n",
       "      <td>1</td>\n",
       "      <td>2</td>\n",
       "      <td>3</td>\n",
       "      <td>4</td>\n",
       "      <td>5</td>\n",
       "    </tr>\n",
       "    <tr>\n",
       "      <th>1</th>\n",
       "      <td>A</td>\n",
       "      <td>B</td>\n",
       "      <td>C</td>\n",
       "      <td>D</td>\n",
       "      <td>E</td>\n",
       "    </tr>\n",
       "    <tr>\n",
       "      <th>2</th>\n",
       "      <td>20.0</td>\n",
       "      <td>45.0</td>\n",
       "      <td>NaN</td>\n",
       "      <td>17</td>\n",
       "      <td>23.67</td>\n",
       "    </tr>\n",
       "  </tbody>\n",
       "</table>\n",
       "</div>"
      ],
      "text/plain": [
       "      0     1    2   3      4\n",
       "0     1     2    3   4      5\n",
       "1     A     B    C   D      E\n",
       "2  20.0  45.0  NaN  17  23.67"
      ]
     },
     "execution_count": 135,
     "metadata": {},
     "output_type": "execute_result"
    }
   ],
   "source": [
    "df1 = pd.DataFrame(ls1)\n",
    "df1"
   ]
  },
  {
   "cell_type": "code",
   "execution_count": 32,
   "id": "c8738337",
   "metadata": {},
   "outputs": [
    {
     "data": {
      "text/plain": [
       "140444891323712"
      ]
     },
     "execution_count": 32,
     "metadata": {},
     "output_type": "execute_result"
    }
   ],
   "source": [
    "id(ls1)"
   ]
  },
  {
   "cell_type": "code",
   "execution_count": 33,
   "id": "fcca62fb",
   "metadata": {},
   "outputs": [
    {
     "data": {
      "text/plain": [
       "140444878272880"
      ]
     },
     "execution_count": 33,
     "metadata": {},
     "output_type": "execute_result"
    }
   ],
   "source": [
    "id(df1)"
   ]
  },
  {
   "cell_type": "code",
   "execution_count": 34,
   "id": "e6517739",
   "metadata": {},
   "outputs": [
    {
     "data": {
      "text/plain": [
       "False"
      ]
     },
     "execution_count": 34,
     "metadata": {},
     "output_type": "execute_result"
    }
   ],
   "source": [
    "df1.values.base is ls1"
   ]
  },
  {
   "cell_type": "code",
   "execution_count": 35,
   "id": "26af14a7",
   "metadata": {},
   "outputs": [
    {
     "name": "stderr",
     "output_type": "stream",
     "text": [
      "/var/folders/cs/jyh0ydnd0r978qyg_lxk0t0h0000gn/T/ipykernel_99147/2669122987.py:1: FutureWarning: elementwise comparison failed; returning scalar instead, but in the future will perform elementwise comparison\n",
      "  df1.values.base == ls1\n"
     ]
    },
    {
     "data": {
      "text/plain": [
       "False"
      ]
     },
     "execution_count": 35,
     "metadata": {},
     "output_type": "execute_result"
    }
   ],
   "source": [
    "df1.values.base == ls1"
   ]
  },
  {
   "cell_type": "code",
   "execution_count": 136,
   "id": "dae8c471",
   "metadata": {},
   "outputs": [
    {
     "data": {
      "text/html": [
       "<div>\n",
       "<style scoped>\n",
       "    .dataframe tbody tr th:only-of-type {\n",
       "        vertical-align: middle;\n",
       "    }\n",
       "\n",
       "    .dataframe tbody tr th {\n",
       "        vertical-align: top;\n",
       "    }\n",
       "\n",
       "    .dataframe thead th {\n",
       "        text-align: right;\n",
       "    }\n",
       "</style>\n",
       "<table border=\"1\" class=\"dataframe\">\n",
       "  <thead>\n",
       "    <tr style=\"text-align: right;\">\n",
       "      <th></th>\n",
       "      <th>col 1</th>\n",
       "      <th>col 2</th>\n",
       "      <th>col 3</th>\n",
       "      <th>col 4</th>\n",
       "      <th>col 5</th>\n",
       "    </tr>\n",
       "  </thead>\n",
       "  <tbody>\n",
       "    <tr>\n",
       "      <th>0</th>\n",
       "      <td>1</td>\n",
       "      <td>2</td>\n",
       "      <td>3</td>\n",
       "      <td>4</td>\n",
       "      <td>5</td>\n",
       "    </tr>\n",
       "    <tr>\n",
       "      <th>1</th>\n",
       "      <td>A</td>\n",
       "      <td>B</td>\n",
       "      <td>C</td>\n",
       "      <td>D</td>\n",
       "      <td>E</td>\n",
       "    </tr>\n",
       "    <tr>\n",
       "      <th>2</th>\n",
       "      <td>20.0</td>\n",
       "      <td>45.0</td>\n",
       "      <td>NaN</td>\n",
       "      <td>17</td>\n",
       "      <td>23.67</td>\n",
       "    </tr>\n",
       "  </tbody>\n",
       "</table>\n",
       "</div>"
      ],
      "text/plain": [
       "  col 1 col 2 col 3 col 4  col 5\n",
       "0     1     2     3     4      5\n",
       "1     A     B     C     D      E\n",
       "2  20.0  45.0   NaN    17  23.67"
      ]
     },
     "execution_count": 136,
     "metadata": {},
     "output_type": "execute_result"
    }
   ],
   "source": [
    "df1.columns = ['col 1', 'col 2', 'col 3', 'col 4', 'col 5']\n",
    "df1"
   ]
  },
  {
   "cell_type": "code",
   "execution_count": 137,
   "id": "3660e72c",
   "metadata": {},
   "outputs": [
    {
     "data": {
      "text/html": [
       "<div>\n",
       "<style scoped>\n",
       "    .dataframe tbody tr th:only-of-type {\n",
       "        vertical-align: middle;\n",
       "    }\n",
       "\n",
       "    .dataframe tbody tr th {\n",
       "        vertical-align: top;\n",
       "    }\n",
       "\n",
       "    .dataframe thead th {\n",
       "        text-align: right;\n",
       "    }\n",
       "</style>\n",
       "<table border=\"1\" class=\"dataframe\">\n",
       "  <thead>\n",
       "    <tr style=\"text-align: right;\">\n",
       "      <th></th>\n",
       "      <th>col 1</th>\n",
       "      <th>col 2</th>\n",
       "      <th>col 3</th>\n",
       "      <th>col 4</th>\n",
       "      <th>col 5</th>\n",
       "    </tr>\n",
       "  </thead>\n",
       "  <tbody>\n",
       "    <tr>\n",
       "      <th>row 1</th>\n",
       "      <td>1</td>\n",
       "      <td>2</td>\n",
       "      <td>3</td>\n",
       "      <td>4</td>\n",
       "      <td>5</td>\n",
       "    </tr>\n",
       "    <tr>\n",
       "      <th>row 2</th>\n",
       "      <td>A</td>\n",
       "      <td>B</td>\n",
       "      <td>C</td>\n",
       "      <td>D</td>\n",
       "      <td>E</td>\n",
       "    </tr>\n",
       "    <tr>\n",
       "      <th>row 3</th>\n",
       "      <td>20.0</td>\n",
       "      <td>45.0</td>\n",
       "      <td>NaN</td>\n",
       "      <td>17</td>\n",
       "      <td>23.67</td>\n",
       "    </tr>\n",
       "  </tbody>\n",
       "</table>\n",
       "</div>"
      ],
      "text/plain": [
       "      col 1 col 2 col 3 col 4  col 5\n",
       "row 1     1     2     3     4      5\n",
       "row 2     A     B     C     D      E\n",
       "row 3  20.0  45.0   NaN    17  23.67"
      ]
     },
     "execution_count": 137,
     "metadata": {},
     "output_type": "execute_result"
    }
   ],
   "source": [
    "df1.index = ['row 1', 'row 2', 'row 3']\n",
    "df1"
   ]
  },
  {
   "cell_type": "code",
   "execution_count": 52,
   "id": "6541a67a",
   "metadata": {},
   "outputs": [
    {
     "data": {
      "text/html": [
       "<div>\n",
       "<style scoped>\n",
       "    .dataframe tbody tr th:only-of-type {\n",
       "        vertical-align: middle;\n",
       "    }\n",
       "\n",
       "    .dataframe tbody tr th {\n",
       "        vertical-align: top;\n",
       "    }\n",
       "\n",
       "    .dataframe thead th {\n",
       "        text-align: right;\n",
       "    }\n",
       "</style>\n",
       "<table border=\"1\" class=\"dataframe\">\n",
       "  <thead>\n",
       "    <tr style=\"text-align: right;\">\n",
       "      <th></th>\n",
       "      <th>A</th>\n",
       "      <th>B</th>\n",
       "      <th>C</th>\n",
       "      <th>D</th>\n",
       "      <th>E</th>\n",
       "    </tr>\n",
       "  </thead>\n",
       "  <tbody>\n",
       "    <tr>\n",
       "      <th>row 1</th>\n",
       "      <td>1</td>\n",
       "      <td>2</td>\n",
       "      <td>3</td>\n",
       "      <td>4</td>\n",
       "      <td>5</td>\n",
       "    </tr>\n",
       "    <tr>\n",
       "      <th>row 2</th>\n",
       "      <td>A</td>\n",
       "      <td>B</td>\n",
       "      <td>C</td>\n",
       "      <td>D</td>\n",
       "      <td>E</td>\n",
       "    </tr>\n",
       "    <tr>\n",
       "      <th>row 3</th>\n",
       "      <td>20.0</td>\n",
       "      <td>45.0</td>\n",
       "      <td>NaN</td>\n",
       "      <td>17</td>\n",
       "      <td>23.67</td>\n",
       "    </tr>\n",
       "  </tbody>\n",
       "</table>\n",
       "</div>"
      ],
      "text/plain": [
       "          A     B    C   D      E\n",
       "row 1     1     2    3   4      5\n",
       "row 2     A     B    C   D      E\n",
       "row 3  20.0  45.0  NaN  17  23.67"
      ]
     },
     "execution_count": 52,
     "metadata": {},
     "output_type": "execute_result"
    }
   ],
   "source": [
    "df2 = pd.DataFrame(ls1, columns=list(\"ABCDE\"), index=['row 1', 'row 2', 'row 3'])\n",
    "df2"
   ]
  },
  {
   "cell_type": "code",
   "execution_count": 39,
   "id": "4a489301",
   "metadata": {},
   "outputs": [
    {
     "data": {
      "text/plain": [
       "array([[54, 28, 16, 75],\n",
       "       [68, 32, 23, 63],\n",
       "       [26, 31, 95, 67],\n",
       "       [69, 18, 33,  1],\n",
       "       [75, 27, 79, 88],\n",
       "       [62, 51, 37, 78]])"
      ]
     },
     "execution_count": 39,
     "metadata": {},
     "output_type": "execute_result"
    }
   ],
   "source": [
    "arr1 = np.random.randint(0, 100, size=(6,4))\n",
    "arr1"
   ]
  },
  {
   "cell_type": "code",
   "execution_count": 40,
   "id": "cb60985e",
   "metadata": {},
   "outputs": [
    {
     "data": {
      "text/html": [
       "<div>\n",
       "<style scoped>\n",
       "    .dataframe tbody tr th:only-of-type {\n",
       "        vertical-align: middle;\n",
       "    }\n",
       "\n",
       "    .dataframe tbody tr th {\n",
       "        vertical-align: top;\n",
       "    }\n",
       "\n",
       "    .dataframe thead th {\n",
       "        text-align: right;\n",
       "    }\n",
       "</style>\n",
       "<table border=\"1\" class=\"dataframe\">\n",
       "  <thead>\n",
       "    <tr style=\"text-align: right;\">\n",
       "      <th></th>\n",
       "      <th>A</th>\n",
       "      <th>B</th>\n",
       "      <th>C</th>\n",
       "      <th>D</th>\n",
       "    </tr>\n",
       "  </thead>\n",
       "  <tbody>\n",
       "    <tr>\n",
       "      <th>0</th>\n",
       "      <td>54</td>\n",
       "      <td>28</td>\n",
       "      <td>16</td>\n",
       "      <td>75</td>\n",
       "    </tr>\n",
       "    <tr>\n",
       "      <th>1</th>\n",
       "      <td>68</td>\n",
       "      <td>32</td>\n",
       "      <td>23</td>\n",
       "      <td>63</td>\n",
       "    </tr>\n",
       "    <tr>\n",
       "      <th>2</th>\n",
       "      <td>26</td>\n",
       "      <td>31</td>\n",
       "      <td>95</td>\n",
       "      <td>67</td>\n",
       "    </tr>\n",
       "    <tr>\n",
       "      <th>3</th>\n",
       "      <td>69</td>\n",
       "      <td>18</td>\n",
       "      <td>33</td>\n",
       "      <td>1</td>\n",
       "    </tr>\n",
       "    <tr>\n",
       "      <th>4</th>\n",
       "      <td>75</td>\n",
       "      <td>27</td>\n",
       "      <td>79</td>\n",
       "      <td>88</td>\n",
       "    </tr>\n",
       "    <tr>\n",
       "      <th>5</th>\n",
       "      <td>62</td>\n",
       "      <td>51</td>\n",
       "      <td>37</td>\n",
       "      <td>78</td>\n",
       "    </tr>\n",
       "  </tbody>\n",
       "</table>\n",
       "</div>"
      ],
      "text/plain": [
       "    A   B   C   D\n",
       "0  54  28  16  75\n",
       "1  68  32  23  63\n",
       "2  26  31  95  67\n",
       "3  69  18  33   1\n",
       "4  75  27  79  88\n",
       "5  62  51  37  78"
      ]
     },
     "execution_count": 40,
     "metadata": {},
     "output_type": "execute_result"
    }
   ],
   "source": [
    "df3 = pd.DataFrame(arr1, columns=list('ABCD'))\n",
    "df3"
   ]
  },
  {
   "cell_type": "code",
   "execution_count": 41,
   "id": "f003ee7c",
   "metadata": {},
   "outputs": [
    {
     "data": {
      "text/html": [
       "<div>\n",
       "<style scoped>\n",
       "    .dataframe tbody tr th:only-of-type {\n",
       "        vertical-align: middle;\n",
       "    }\n",
       "\n",
       "    .dataframe tbody tr th {\n",
       "        vertical-align: top;\n",
       "    }\n",
       "\n",
       "    .dataframe thead th {\n",
       "        text-align: right;\n",
       "    }\n",
       "</style>\n",
       "<table border=\"1\" class=\"dataframe\">\n",
       "  <thead>\n",
       "    <tr style=\"text-align: right;\">\n",
       "      <th></th>\n",
       "      <th>B</th>\n",
       "      <th>C</th>\n",
       "      <th>D</th>\n",
       "    </tr>\n",
       "    <tr>\n",
       "      <th>A</th>\n",
       "      <th></th>\n",
       "      <th></th>\n",
       "      <th></th>\n",
       "    </tr>\n",
       "  </thead>\n",
       "  <tbody>\n",
       "    <tr>\n",
       "      <th>54</th>\n",
       "      <td>28</td>\n",
       "      <td>16</td>\n",
       "      <td>75</td>\n",
       "    </tr>\n",
       "    <tr>\n",
       "      <th>68</th>\n",
       "      <td>32</td>\n",
       "      <td>23</td>\n",
       "      <td>63</td>\n",
       "    </tr>\n",
       "    <tr>\n",
       "      <th>26</th>\n",
       "      <td>31</td>\n",
       "      <td>95</td>\n",
       "      <td>67</td>\n",
       "    </tr>\n",
       "    <tr>\n",
       "      <th>69</th>\n",
       "      <td>18</td>\n",
       "      <td>33</td>\n",
       "      <td>1</td>\n",
       "    </tr>\n",
       "    <tr>\n",
       "      <th>75</th>\n",
       "      <td>27</td>\n",
       "      <td>79</td>\n",
       "      <td>88</td>\n",
       "    </tr>\n",
       "    <tr>\n",
       "      <th>62</th>\n",
       "      <td>51</td>\n",
       "      <td>37</td>\n",
       "      <td>78</td>\n",
       "    </tr>\n",
       "  </tbody>\n",
       "</table>\n",
       "</div>"
      ],
      "text/plain": [
       "     B   C   D\n",
       "A             \n",
       "54  28  16  75\n",
       "68  32  23  63\n",
       "26  31  95  67\n",
       "69  18  33   1\n",
       "75  27  79  88\n",
       "62  51  37  78"
      ]
     },
     "execution_count": 41,
     "metadata": {},
     "output_type": "execute_result"
    }
   ],
   "source": [
    "df3.set_index('A')"
   ]
  },
  {
   "cell_type": "code",
   "execution_count": 43,
   "id": "f55ed6ea",
   "metadata": {},
   "outputs": [
    {
     "data": {
      "text/plain": [
       "False"
      ]
     },
     "execution_count": 43,
     "metadata": {},
     "output_type": "execute_result"
    }
   ],
   "source": [
    "df3.index is df3['A']"
   ]
  },
  {
   "cell_type": "code",
   "execution_count": 45,
   "id": "f8fddbaa",
   "metadata": {},
   "outputs": [
    {
     "data": {
      "text/plain": [
       "array([0, 1, 2, 3, 4, 5])"
      ]
     },
     "execution_count": 45,
     "metadata": {},
     "output_type": "execute_result"
    }
   ],
   "source": [
    "df3.index.values"
   ]
  },
  {
   "cell_type": "code",
   "execution_count": 46,
   "id": "e7c64ae6",
   "metadata": {},
   "outputs": [
    {
     "data": {
      "text/html": [
       "<div>\n",
       "<style scoped>\n",
       "    .dataframe tbody tr th:only-of-type {\n",
       "        vertical-align: middle;\n",
       "    }\n",
       "\n",
       "    .dataframe tbody tr th {\n",
       "        vertical-align: top;\n",
       "    }\n",
       "\n",
       "    .dataframe thead th {\n",
       "        text-align: right;\n",
       "    }\n",
       "</style>\n",
       "<table border=\"1\" class=\"dataframe\">\n",
       "  <thead>\n",
       "    <tr style=\"text-align: right;\">\n",
       "      <th></th>\n",
       "      <th>B</th>\n",
       "      <th>C</th>\n",
       "      <th>D</th>\n",
       "    </tr>\n",
       "    <tr>\n",
       "      <th>A</th>\n",
       "      <th></th>\n",
       "      <th></th>\n",
       "      <th></th>\n",
       "    </tr>\n",
       "  </thead>\n",
       "  <tbody>\n",
       "    <tr>\n",
       "      <th>54</th>\n",
       "      <td>28</td>\n",
       "      <td>16</td>\n",
       "      <td>75</td>\n",
       "    </tr>\n",
       "    <tr>\n",
       "      <th>68</th>\n",
       "      <td>32</td>\n",
       "      <td>23</td>\n",
       "      <td>63</td>\n",
       "    </tr>\n",
       "    <tr>\n",
       "      <th>26</th>\n",
       "      <td>31</td>\n",
       "      <td>95</td>\n",
       "      <td>67</td>\n",
       "    </tr>\n",
       "    <tr>\n",
       "      <th>69</th>\n",
       "      <td>18</td>\n",
       "      <td>33</td>\n",
       "      <td>1</td>\n",
       "    </tr>\n",
       "    <tr>\n",
       "      <th>75</th>\n",
       "      <td>27</td>\n",
       "      <td>79</td>\n",
       "      <td>88</td>\n",
       "    </tr>\n",
       "    <tr>\n",
       "      <th>62</th>\n",
       "      <td>51</td>\n",
       "      <td>37</td>\n",
       "      <td>78</td>\n",
       "    </tr>\n",
       "  </tbody>\n",
       "</table>\n",
       "</div>"
      ],
      "text/plain": [
       "     B   C   D\n",
       "A             \n",
       "54  28  16  75\n",
       "68  32  23  63\n",
       "26  31  95  67\n",
       "69  18  33   1\n",
       "75  27  79  88\n",
       "62  51  37  78"
      ]
     },
     "execution_count": 46,
     "metadata": {},
     "output_type": "execute_result"
    }
   ],
   "source": [
    "df3.set_index('A', inplace=True)\n",
    "df3"
   ]
  },
  {
   "cell_type": "code",
   "execution_count": 49,
   "id": "7d0db348",
   "metadata": {},
   "outputs": [
    {
     "data": {
      "text/html": [
       "<div>\n",
       "<style scoped>\n",
       "    .dataframe tbody tr th:only-of-type {\n",
       "        vertical-align: middle;\n",
       "    }\n",
       "\n",
       "    .dataframe tbody tr th {\n",
       "        vertical-align: top;\n",
       "    }\n",
       "\n",
       "    .dataframe thead th {\n",
       "        text-align: right;\n",
       "    }\n",
       "</style>\n",
       "<table border=\"1\" class=\"dataframe\">\n",
       "  <thead>\n",
       "    <tr style=\"text-align: right;\">\n",
       "      <th></th>\n",
       "      <th>A</th>\n",
       "      <th>B</th>\n",
       "      <th>C</th>\n",
       "      <th>D</th>\n",
       "    </tr>\n",
       "  </thead>\n",
       "  <tbody>\n",
       "    <tr>\n",
       "      <th>0</th>\n",
       "      <td>54</td>\n",
       "      <td>28</td>\n",
       "      <td>16</td>\n",
       "      <td>75</td>\n",
       "    </tr>\n",
       "    <tr>\n",
       "      <th>1</th>\n",
       "      <td>68</td>\n",
       "      <td>32</td>\n",
       "      <td>23</td>\n",
       "      <td>63</td>\n",
       "    </tr>\n",
       "    <tr>\n",
       "      <th>2</th>\n",
       "      <td>26</td>\n",
       "      <td>31</td>\n",
       "      <td>95</td>\n",
       "      <td>67</td>\n",
       "    </tr>\n",
       "    <tr>\n",
       "      <th>3</th>\n",
       "      <td>69</td>\n",
       "      <td>18</td>\n",
       "      <td>33</td>\n",
       "      <td>1</td>\n",
       "    </tr>\n",
       "    <tr>\n",
       "      <th>4</th>\n",
       "      <td>75</td>\n",
       "      <td>27</td>\n",
       "      <td>79</td>\n",
       "      <td>88</td>\n",
       "    </tr>\n",
       "    <tr>\n",
       "      <th>5</th>\n",
       "      <td>62</td>\n",
       "      <td>51</td>\n",
       "      <td>37</td>\n",
       "      <td>78</td>\n",
       "    </tr>\n",
       "  </tbody>\n",
       "</table>\n",
       "</div>"
      ],
      "text/plain": [
       "    A   B   C   D\n",
       "0  54  28  16  75\n",
       "1  68  32  23  63\n",
       "2  26  31  95  67\n",
       "3  69  18  33   1\n",
       "4  75  27  79  88\n",
       "5  62  51  37  78"
      ]
     },
     "execution_count": 49,
     "metadata": {},
     "output_type": "execute_result"
    }
   ],
   "source": [
    "df3.reset_index(inplace=True)\n",
    "df3"
   ]
  },
  {
   "cell_type": "code",
   "execution_count": 50,
   "id": "13e6998c",
   "metadata": {},
   "outputs": [
    {
     "data": {
      "text/plain": [
       "DatetimeIndex(['2022-07-21', '2022-07-22', '2022-07-23', '2022-07-24',\n",
       "               '2022-07-25', '2022-07-26'],\n",
       "              dtype='datetime64[ns]', freq='D')"
      ]
     },
     "execution_count": 50,
     "metadata": {},
     "output_type": "execute_result"
    }
   ],
   "source": [
    "dates = pd.date_range('20220721', periods=6)\n",
    "dates"
   ]
  },
  {
   "cell_type": "code",
   "execution_count": 53,
   "id": "ea36c518",
   "metadata": {},
   "outputs": [
    {
     "data": {
      "text/html": [
       "<div>\n",
       "<style scoped>\n",
       "    .dataframe tbody tr th:only-of-type {\n",
       "        vertical-align: middle;\n",
       "    }\n",
       "\n",
       "    .dataframe tbody tr th {\n",
       "        vertical-align: top;\n",
       "    }\n",
       "\n",
       "    .dataframe thead th {\n",
       "        text-align: right;\n",
       "    }\n",
       "</style>\n",
       "<table border=\"1\" class=\"dataframe\">\n",
       "  <thead>\n",
       "    <tr style=\"text-align: right;\">\n",
       "      <th></th>\n",
       "      <th>A</th>\n",
       "      <th>B</th>\n",
       "      <th>C</th>\n",
       "      <th>D</th>\n",
       "      <th>Date</th>\n",
       "    </tr>\n",
       "  </thead>\n",
       "  <tbody>\n",
       "    <tr>\n",
       "      <th>0</th>\n",
       "      <td>54</td>\n",
       "      <td>28</td>\n",
       "      <td>16</td>\n",
       "      <td>75</td>\n",
       "      <td>2022-07-21</td>\n",
       "    </tr>\n",
       "    <tr>\n",
       "      <th>1</th>\n",
       "      <td>68</td>\n",
       "      <td>32</td>\n",
       "      <td>23</td>\n",
       "      <td>63</td>\n",
       "      <td>2022-07-22</td>\n",
       "    </tr>\n",
       "    <tr>\n",
       "      <th>2</th>\n",
       "      <td>26</td>\n",
       "      <td>31</td>\n",
       "      <td>95</td>\n",
       "      <td>67</td>\n",
       "      <td>2022-07-23</td>\n",
       "    </tr>\n",
       "    <tr>\n",
       "      <th>3</th>\n",
       "      <td>69</td>\n",
       "      <td>18</td>\n",
       "      <td>33</td>\n",
       "      <td>1</td>\n",
       "      <td>2022-07-24</td>\n",
       "    </tr>\n",
       "    <tr>\n",
       "      <th>4</th>\n",
       "      <td>75</td>\n",
       "      <td>27</td>\n",
       "      <td>79</td>\n",
       "      <td>88</td>\n",
       "      <td>2022-07-25</td>\n",
       "    </tr>\n",
       "    <tr>\n",
       "      <th>5</th>\n",
       "      <td>62</td>\n",
       "      <td>51</td>\n",
       "      <td>37</td>\n",
       "      <td>78</td>\n",
       "      <td>2022-07-26</td>\n",
       "    </tr>\n",
       "  </tbody>\n",
       "</table>\n",
       "</div>"
      ],
      "text/plain": [
       "    A   B   C   D       Date\n",
       "0  54  28  16  75 2022-07-21\n",
       "1  68  32  23  63 2022-07-22\n",
       "2  26  31  95  67 2022-07-23\n",
       "3  69  18  33   1 2022-07-24\n",
       "4  75  27  79  88 2022-07-25\n",
       "5  62  51  37  78 2022-07-26"
      ]
     },
     "execution_count": 53,
     "metadata": {},
     "output_type": "execute_result"
    }
   ],
   "source": [
    "df3['Date'] = dates\n",
    "df3"
   ]
  },
  {
   "cell_type": "code",
   "execution_count": 54,
   "id": "b58b2501",
   "metadata": {},
   "outputs": [
    {
     "data": {
      "text/html": [
       "<div>\n",
       "<style scoped>\n",
       "    .dataframe tbody tr th:only-of-type {\n",
       "        vertical-align: middle;\n",
       "    }\n",
       "\n",
       "    .dataframe tbody tr th {\n",
       "        vertical-align: top;\n",
       "    }\n",
       "\n",
       "    .dataframe thead th {\n",
       "        text-align: right;\n",
       "    }\n",
       "</style>\n",
       "<table border=\"1\" class=\"dataframe\">\n",
       "  <thead>\n",
       "    <tr style=\"text-align: right;\">\n",
       "      <th></th>\n",
       "      <th>A</th>\n",
       "      <th>B</th>\n",
       "      <th>C</th>\n",
       "      <th>D</th>\n",
       "      <th>Date</th>\n",
       "    </tr>\n",
       "    <tr>\n",
       "      <th>Date</th>\n",
       "      <th></th>\n",
       "      <th></th>\n",
       "      <th></th>\n",
       "      <th></th>\n",
       "      <th></th>\n",
       "    </tr>\n",
       "  </thead>\n",
       "  <tbody>\n",
       "    <tr>\n",
       "      <th>2022-07-21</th>\n",
       "      <td>54</td>\n",
       "      <td>28</td>\n",
       "      <td>16</td>\n",
       "      <td>75</td>\n",
       "      <td>2022-07-21</td>\n",
       "    </tr>\n",
       "    <tr>\n",
       "      <th>2022-07-22</th>\n",
       "      <td>68</td>\n",
       "      <td>32</td>\n",
       "      <td>23</td>\n",
       "      <td>63</td>\n",
       "      <td>2022-07-22</td>\n",
       "    </tr>\n",
       "    <tr>\n",
       "      <th>2022-07-23</th>\n",
       "      <td>26</td>\n",
       "      <td>31</td>\n",
       "      <td>95</td>\n",
       "      <td>67</td>\n",
       "      <td>2022-07-23</td>\n",
       "    </tr>\n",
       "    <tr>\n",
       "      <th>2022-07-24</th>\n",
       "      <td>69</td>\n",
       "      <td>18</td>\n",
       "      <td>33</td>\n",
       "      <td>1</td>\n",
       "      <td>2022-07-24</td>\n",
       "    </tr>\n",
       "    <tr>\n",
       "      <th>2022-07-25</th>\n",
       "      <td>75</td>\n",
       "      <td>27</td>\n",
       "      <td>79</td>\n",
       "      <td>88</td>\n",
       "      <td>2022-07-25</td>\n",
       "    </tr>\n",
       "    <tr>\n",
       "      <th>2022-07-26</th>\n",
       "      <td>62</td>\n",
       "      <td>51</td>\n",
       "      <td>37</td>\n",
       "      <td>78</td>\n",
       "      <td>2022-07-26</td>\n",
       "    </tr>\n",
       "  </tbody>\n",
       "</table>\n",
       "</div>"
      ],
      "text/plain": [
       "             A   B   C   D       Date\n",
       "Date                                 \n",
       "2022-07-21  54  28  16  75 2022-07-21\n",
       "2022-07-22  68  32  23  63 2022-07-22\n",
       "2022-07-23  26  31  95  67 2022-07-23\n",
       "2022-07-24  69  18  33   1 2022-07-24\n",
       "2022-07-25  75  27  79  88 2022-07-25\n",
       "2022-07-26  62  51  37  78 2022-07-26"
      ]
     },
     "execution_count": 54,
     "metadata": {},
     "output_type": "execute_result"
    }
   ],
   "source": [
    "df3.index = df3['Date']\n",
    "df3"
   ]
  },
  {
   "cell_type": "code",
   "execution_count": 55,
   "id": "5361806c",
   "metadata": {},
   "outputs": [
    {
     "data": {
      "text/html": [
       "<div>\n",
       "<style scoped>\n",
       "    .dataframe tbody tr th:only-of-type {\n",
       "        vertical-align: middle;\n",
       "    }\n",
       "\n",
       "    .dataframe tbody tr th {\n",
       "        vertical-align: top;\n",
       "    }\n",
       "\n",
       "    .dataframe thead th {\n",
       "        text-align: right;\n",
       "    }\n",
       "</style>\n",
       "<table border=\"1\" class=\"dataframe\">\n",
       "  <thead>\n",
       "    <tr style=\"text-align: right;\">\n",
       "      <th></th>\n",
       "      <th>A</th>\n",
       "      <th>B</th>\n",
       "      <th>C</th>\n",
       "      <th>D</th>\n",
       "      <th>Date</th>\n",
       "    </tr>\n",
       "  </thead>\n",
       "  <tbody>\n",
       "    <tr>\n",
       "      <th>0</th>\n",
       "      <td>54</td>\n",
       "      <td>28</td>\n",
       "      <td>16</td>\n",
       "      <td>75</td>\n",
       "      <td>2022-07-21</td>\n",
       "    </tr>\n",
       "    <tr>\n",
       "      <th>1</th>\n",
       "      <td>68</td>\n",
       "      <td>32</td>\n",
       "      <td>23</td>\n",
       "      <td>63</td>\n",
       "      <td>2022-07-22</td>\n",
       "    </tr>\n",
       "    <tr>\n",
       "      <th>2</th>\n",
       "      <td>26</td>\n",
       "      <td>31</td>\n",
       "      <td>95</td>\n",
       "      <td>67</td>\n",
       "      <td>2022-07-23</td>\n",
       "    </tr>\n",
       "    <tr>\n",
       "      <th>3</th>\n",
       "      <td>69</td>\n",
       "      <td>18</td>\n",
       "      <td>33</td>\n",
       "      <td>1</td>\n",
       "      <td>2022-07-24</td>\n",
       "    </tr>\n",
       "    <tr>\n",
       "      <th>4</th>\n",
       "      <td>75</td>\n",
       "      <td>27</td>\n",
       "      <td>79</td>\n",
       "      <td>88</td>\n",
       "      <td>2022-07-25</td>\n",
       "    </tr>\n",
       "    <tr>\n",
       "      <th>5</th>\n",
       "      <td>62</td>\n",
       "      <td>51</td>\n",
       "      <td>37</td>\n",
       "      <td>78</td>\n",
       "      <td>2022-07-26</td>\n",
       "    </tr>\n",
       "  </tbody>\n",
       "</table>\n",
       "</div>"
      ],
      "text/plain": [
       "    A   B   C   D       Date\n",
       "0  54  28  16  75 2022-07-21\n",
       "1  68  32  23  63 2022-07-22\n",
       "2  26  31  95  67 2022-07-23\n",
       "3  69  18  33   1 2022-07-24\n",
       "4  75  27  79  88 2022-07-25\n",
       "5  62  51  37  78 2022-07-26"
      ]
     },
     "execution_count": 55,
     "metadata": {},
     "output_type": "execute_result"
    }
   ],
   "source": [
    "df3.reset_index(inplace=True, drop=True)\n",
    "df3"
   ]
  },
  {
   "cell_type": "markdown",
   "id": "67aa4b42",
   "metadata": {},
   "source": [
    "[_Table of Contents_](#toc)"
   ]
  },
  {
   "cell_type": "markdown",
   "id": "8de34d61",
   "metadata": {},
   "source": [
    "### *Dataframes from dictionaries* <a class=\"anchor\" id=\"dfdict\"></a>"
   ]
  },
  {
   "cell_type": "code",
   "execution_count": 56,
   "id": "286aac10",
   "metadata": {},
   "outputs": [
    {
     "data": {
      "text/plain": [
       "{'COL 1': [1, 2, 3, 4, 5], 'COL 2': [10.0, 10.5, 11.0, 11.5, 12.0]}"
      ]
     },
     "execution_count": 56,
     "metadata": {},
     "output_type": "execute_result"
    }
   ],
   "source": [
    "dict1"
   ]
  },
  {
   "cell_type": "code",
   "execution_count": 57,
   "id": "3302b7be",
   "metadata": {},
   "outputs": [
    {
     "data": {
      "text/html": [
       "<div>\n",
       "<style scoped>\n",
       "    .dataframe tbody tr th:only-of-type {\n",
       "        vertical-align: middle;\n",
       "    }\n",
       "\n",
       "    .dataframe tbody tr th {\n",
       "        vertical-align: top;\n",
       "    }\n",
       "\n",
       "    .dataframe thead th {\n",
       "        text-align: right;\n",
       "    }\n",
       "</style>\n",
       "<table border=\"1\" class=\"dataframe\">\n",
       "  <thead>\n",
       "    <tr style=\"text-align: right;\">\n",
       "      <th></th>\n",
       "      <th>COL 1</th>\n",
       "      <th>COL 2</th>\n",
       "    </tr>\n",
       "  </thead>\n",
       "  <tbody>\n",
       "    <tr>\n",
       "      <th>0</th>\n",
       "      <td>1</td>\n",
       "      <td>10.0</td>\n",
       "    </tr>\n",
       "    <tr>\n",
       "      <th>1</th>\n",
       "      <td>2</td>\n",
       "      <td>10.5</td>\n",
       "    </tr>\n",
       "    <tr>\n",
       "      <th>2</th>\n",
       "      <td>3</td>\n",
       "      <td>11.0</td>\n",
       "    </tr>\n",
       "    <tr>\n",
       "      <th>3</th>\n",
       "      <td>4</td>\n",
       "      <td>11.5</td>\n",
       "    </tr>\n",
       "    <tr>\n",
       "      <th>4</th>\n",
       "      <td>5</td>\n",
       "      <td>12.0</td>\n",
       "    </tr>\n",
       "  </tbody>\n",
       "</table>\n",
       "</div>"
      ],
      "text/plain": [
       "   COL 1  COL 2\n",
       "0      1   10.0\n",
       "1      2   10.5\n",
       "2      3   11.0\n",
       "3      4   11.5\n",
       "4      5   12.0"
      ]
     },
     "execution_count": 57,
     "metadata": {},
     "output_type": "execute_result"
    }
   ],
   "source": [
    "df4 = pd.DataFrame(dict1)\n",
    "df4"
   ]
  },
  {
   "cell_type": "code",
   "execution_count": 59,
   "id": "2c7d1932",
   "metadata": {},
   "outputs": [
    {
     "data": {
      "text/plain": [
       "False"
      ]
     },
     "execution_count": 59,
     "metadata": {},
     "output_type": "execute_result"
    }
   ],
   "source": [
    "df4.values.base is dict1"
   ]
  },
  {
   "cell_type": "markdown",
   "id": "8f6a9707",
   "metadata": {},
   "source": [
    "[_Table of Contents_](#toc)"
   ]
  },
  {
   "cell_type": "markdown",
   "id": "6a4ef6dc",
   "metadata": {},
   "source": [
    "### _Dataframes from series_ <a class=\"anchor\" id=\"dfseries\"></a>"
   ]
  },
  {
   "cell_type": "code",
   "execution_count": 60,
   "id": "a9646c6d",
   "metadata": {
    "scrolled": true
   },
   "outputs": [
    {
     "data": {
      "text/plain": [
       "A            1\n",
       "B            a\n",
       "C          NaN\n",
       "D          end\n",
       "E    new value\n",
       "Name: series 1, dtype: object"
      ]
     },
     "execution_count": 60,
     "metadata": {},
     "output_type": "execute_result"
    }
   ],
   "source": [
    "series1"
   ]
  },
  {
   "cell_type": "code",
   "execution_count": 63,
   "id": "74696268",
   "metadata": {},
   "outputs": [
    {
     "data": {
      "text/html": [
       "<div>\n",
       "<style scoped>\n",
       "    .dataframe tbody tr th:only-of-type {\n",
       "        vertical-align: middle;\n",
       "    }\n",
       "\n",
       "    .dataframe tbody tr th {\n",
       "        vertical-align: top;\n",
       "    }\n",
       "\n",
       "    .dataframe thead th {\n",
       "        text-align: right;\n",
       "    }\n",
       "</style>\n",
       "<table border=\"1\" class=\"dataframe\">\n",
       "  <thead>\n",
       "    <tr style=\"text-align: right;\">\n",
       "      <th></th>\n",
       "      <th>series 1</th>\n",
       "    </tr>\n",
       "  </thead>\n",
       "  <tbody>\n",
       "    <tr>\n",
       "      <th>A</th>\n",
       "      <td>1</td>\n",
       "    </tr>\n",
       "    <tr>\n",
       "      <th>B</th>\n",
       "      <td>a</td>\n",
       "    </tr>\n",
       "    <tr>\n",
       "      <th>C</th>\n",
       "      <td>NaN</td>\n",
       "    </tr>\n",
       "    <tr>\n",
       "      <th>D</th>\n",
       "      <td>end</td>\n",
       "    </tr>\n",
       "    <tr>\n",
       "      <th>E</th>\n",
       "      <td>new value</td>\n",
       "    </tr>\n",
       "  </tbody>\n",
       "</table>\n",
       "</div>"
      ],
      "text/plain": [
       "    series 1\n",
       "A          1\n",
       "B          a\n",
       "C        NaN\n",
       "D        end\n",
       "E  new value"
      ]
     },
     "execution_count": 63,
     "metadata": {},
     "output_type": "execute_result"
    }
   ],
   "source": [
    "df5 = series1.to_frame()\n",
    "df5"
   ]
  },
  {
   "cell_type": "code",
   "execution_count": 64,
   "id": "e69217af",
   "metadata": {},
   "outputs": [
    {
     "data": {
      "text/plain": [
       "140444878265344"
      ]
     },
     "execution_count": 64,
     "metadata": {},
     "output_type": "execute_result"
    }
   ],
   "source": [
    "id(series1)"
   ]
  },
  {
   "cell_type": "code",
   "execution_count": 65,
   "id": "501d9d9f",
   "metadata": {},
   "outputs": [
    {
     "data": {
      "text/plain": [
       "140444931159088"
      ]
     },
     "execution_count": 65,
     "metadata": {},
     "output_type": "execute_result"
    }
   ],
   "source": [
    "id(df5)"
   ]
  },
  {
   "cell_type": "code",
   "execution_count": 73,
   "id": "f626777d",
   "metadata": {},
   "outputs": [
    {
     "data": {
      "text/plain": [
       "False"
      ]
     },
     "execution_count": 73,
     "metadata": {},
     "output_type": "execute_result"
    }
   ],
   "source": [
    "df5.values.base is series1.values.base"
   ]
  },
  {
   "cell_type": "code",
   "execution_count": 68,
   "id": "7917b42d",
   "metadata": {},
   "outputs": [
    {
     "data": {
      "text/plain": [
       "array([[ True, False, False, False, False],\n",
       "       [False,  True, False, False, False],\n",
       "       [False, False, False, False, False],\n",
       "       [False, False, False,  True, False],\n",
       "       [False, False, False, False,  True]])"
      ]
     },
     "execution_count": 68,
     "metadata": {},
     "output_type": "execute_result"
    }
   ],
   "source": [
    "df5.values == series1.values"
   ]
  },
  {
   "cell_type": "code",
   "execution_count": 69,
   "id": "e8118f1c",
   "metadata": {},
   "outputs": [
    {
     "data": {
      "text/plain": [
       "False"
      ]
     },
     "execution_count": 69,
     "metadata": {},
     "output_type": "execute_result"
    }
   ],
   "source": [
    "np.nan == np.nan"
   ]
  },
  {
   "cell_type": "code",
   "execution_count": 75,
   "id": "69ed3dac",
   "metadata": {},
   "outputs": [
    {
     "data": {
      "text/html": [
       "<div>\n",
       "<style scoped>\n",
       "    .dataframe tbody tr th:only-of-type {\n",
       "        vertical-align: middle;\n",
       "    }\n",
       "\n",
       "    .dataframe tbody tr th {\n",
       "        vertical-align: top;\n",
       "    }\n",
       "\n",
       "    .dataframe thead th {\n",
       "        text-align: right;\n",
       "    }\n",
       "</style>\n",
       "<table border=\"1\" class=\"dataframe\">\n",
       "  <thead>\n",
       "    <tr style=\"text-align: right;\">\n",
       "      <th></th>\n",
       "      <th>SERIES 1</th>\n",
       "    </tr>\n",
       "  </thead>\n",
       "  <tbody>\n",
       "    <tr>\n",
       "      <th>A</th>\n",
       "      <td>1</td>\n",
       "    </tr>\n",
       "    <tr>\n",
       "      <th>B</th>\n",
       "      <td>a</td>\n",
       "    </tr>\n",
       "    <tr>\n",
       "      <th>C</th>\n",
       "      <td>NaN</td>\n",
       "    </tr>\n",
       "    <tr>\n",
       "      <th>D</th>\n",
       "      <td>end</td>\n",
       "    </tr>\n",
       "    <tr>\n",
       "      <th>E</th>\n",
       "      <td>new value</td>\n",
       "    </tr>\n",
       "  </tbody>\n",
       "</table>\n",
       "</div>"
      ],
      "text/plain": [
       "    SERIES 1\n",
       "A          1\n",
       "B          a\n",
       "C        NaN\n",
       "D        end\n",
       "E  new value"
      ]
     },
     "execution_count": 75,
     "metadata": {},
     "output_type": "execute_result"
    }
   ],
   "source": [
    "df5.columns = ['SERIES 1']\n",
    "df5"
   ]
  },
  {
   "cell_type": "code",
   "execution_count": 79,
   "id": "fc20ce9e",
   "metadata": {},
   "outputs": [
    {
     "data": {
      "text/plain": [
       "A         a\n",
       "B         1\n",
       "C         2\n",
       "D      45.0\n",
       "E    almost\n",
       "F       end\n",
       "Name: series 2, dtype: object"
      ]
     },
     "execution_count": 79,
     "metadata": {},
     "output_type": "execute_result"
    }
   ],
   "source": [
    "series2"
   ]
  },
  {
   "cell_type": "code",
   "execution_count": 83,
   "id": "f91dcb5f",
   "metadata": {},
   "outputs": [
    {
     "data": {
      "text/html": [
       "<div>\n",
       "<style scoped>\n",
       "    .dataframe tbody tr th:only-of-type {\n",
       "        vertical-align: middle;\n",
       "    }\n",
       "\n",
       "    .dataframe tbody tr th {\n",
       "        vertical-align: top;\n",
       "    }\n",
       "\n",
       "    .dataframe thead th {\n",
       "        text-align: right;\n",
       "    }\n",
       "</style>\n",
       "<table border=\"1\" class=\"dataframe\">\n",
       "  <thead>\n",
       "    <tr style=\"text-align: right;\">\n",
       "      <th></th>\n",
       "      <th>SERIES 2</th>\n",
       "    </tr>\n",
       "  </thead>\n",
       "  <tbody>\n",
       "    <tr>\n",
       "      <th>A</th>\n",
       "      <td>a</td>\n",
       "    </tr>\n",
       "    <tr>\n",
       "      <th>B</th>\n",
       "      <td>1</td>\n",
       "    </tr>\n",
       "    <tr>\n",
       "      <th>C</th>\n",
       "      <td>2</td>\n",
       "    </tr>\n",
       "    <tr>\n",
       "      <th>D</th>\n",
       "      <td>45.0</td>\n",
       "    </tr>\n",
       "    <tr>\n",
       "      <th>E</th>\n",
       "      <td>almost</td>\n",
       "    </tr>\n",
       "    <tr>\n",
       "      <th>F</th>\n",
       "      <td>end</td>\n",
       "    </tr>\n",
       "  </tbody>\n",
       "</table>\n",
       "</div>"
      ],
      "text/plain": [
       "  SERIES 2\n",
       "A        a\n",
       "B        1\n",
       "C        2\n",
       "D     45.0\n",
       "E   almost\n",
       "F      end"
      ]
     },
     "execution_count": 83,
     "metadata": {},
     "output_type": "execute_result"
    }
   ],
   "source": [
    "df6 = series2.to_frame(name='SERIES 2')\n",
    "df6"
   ]
  },
  {
   "cell_type": "code",
   "execution_count": 84,
   "id": "12730a9d",
   "metadata": {},
   "outputs": [
    {
     "data": {
      "text/plain": [
       "A            1\n",
       "B            a\n",
       "C          NaN\n",
       "D          end\n",
       "E    new value\n",
       "A            a\n",
       "B            1\n",
       "C            2\n",
       "D         45.0\n",
       "E       almost\n",
       "F          end\n",
       "dtype: object"
      ]
     },
     "execution_count": 84,
     "metadata": {},
     "output_type": "execute_result"
    }
   ],
   "source": [
    "df7 = pd.concat([series1, series2])\n",
    "df7"
   ]
  },
  {
   "cell_type": "code",
   "execution_count": 85,
   "id": "a4be3e15",
   "metadata": {},
   "outputs": [
    {
     "data": {
      "text/html": [
       "<div>\n",
       "<style scoped>\n",
       "    .dataframe tbody tr th:only-of-type {\n",
       "        vertical-align: middle;\n",
       "    }\n",
       "\n",
       "    .dataframe tbody tr th {\n",
       "        vertical-align: top;\n",
       "    }\n",
       "\n",
       "    .dataframe thead th {\n",
       "        text-align: right;\n",
       "    }\n",
       "</style>\n",
       "<table border=\"1\" class=\"dataframe\">\n",
       "  <thead>\n",
       "    <tr style=\"text-align: right;\">\n",
       "      <th></th>\n",
       "      <th>series 1</th>\n",
       "      <th>series 2</th>\n",
       "    </tr>\n",
       "  </thead>\n",
       "  <tbody>\n",
       "    <tr>\n",
       "      <th>A</th>\n",
       "      <td>1</td>\n",
       "      <td>a</td>\n",
       "    </tr>\n",
       "    <tr>\n",
       "      <th>B</th>\n",
       "      <td>a</td>\n",
       "      <td>1</td>\n",
       "    </tr>\n",
       "    <tr>\n",
       "      <th>C</th>\n",
       "      <td>NaN</td>\n",
       "      <td>2</td>\n",
       "    </tr>\n",
       "    <tr>\n",
       "      <th>D</th>\n",
       "      <td>end</td>\n",
       "      <td>45.0</td>\n",
       "    </tr>\n",
       "    <tr>\n",
       "      <th>E</th>\n",
       "      <td>new value</td>\n",
       "      <td>almost</td>\n",
       "    </tr>\n",
       "    <tr>\n",
       "      <th>F</th>\n",
       "      <td>NaN</td>\n",
       "      <td>end</td>\n",
       "    </tr>\n",
       "  </tbody>\n",
       "</table>\n",
       "</div>"
      ],
      "text/plain": [
       "    series 1 series 2\n",
       "A          1        a\n",
       "B          a        1\n",
       "C        NaN        2\n",
       "D        end     45.0\n",
       "E  new value   almost\n",
       "F        NaN      end"
      ]
     },
     "execution_count": 85,
     "metadata": {},
     "output_type": "execute_result"
    }
   ],
   "source": [
    "df8 = pd.concat([series1, series2], axis=1)\n",
    "df8"
   ]
  },
  {
   "cell_type": "code",
   "execution_count": 86,
   "id": "258b52e4",
   "metadata": {},
   "outputs": [
    {
     "data": {
      "text/plain": [
       "pandas.core.series.Series"
      ]
     },
     "execution_count": 86,
     "metadata": {},
     "output_type": "execute_result"
    }
   ],
   "source": [
    "type(df7)"
   ]
  },
  {
   "cell_type": "code",
   "execution_count": 87,
   "id": "5112be4f",
   "metadata": {},
   "outputs": [
    {
     "data": {
      "text/plain": [
       "pandas.core.frame.DataFrame"
      ]
     },
     "execution_count": 87,
     "metadata": {},
     "output_type": "execute_result"
    }
   ],
   "source": [
    "type(df8)"
   ]
  },
  {
   "cell_type": "code",
   "execution_count": 96,
   "id": "211d4234",
   "metadata": {},
   "outputs": [
    {
     "data": {
      "text/plain": [
       "False"
      ]
     },
     "execution_count": 96,
     "metadata": {},
     "output_type": "execute_result"
    }
   ],
   "source": [
    "id(df8['series 1']) is id(series1)"
   ]
  },
  {
   "cell_type": "code",
   "execution_count": 100,
   "id": "99bf1812",
   "metadata": {},
   "outputs": [
    {
     "data": {
      "text/plain": [
       "False"
      ]
     },
     "execution_count": 100,
     "metadata": {},
     "output_type": "execute_result"
    }
   ],
   "source": [
    "df8['series 2'].values.base is series2.values.base"
   ]
  },
  {
   "cell_type": "code",
   "execution_count": 88,
   "id": "c6890611",
   "metadata": {},
   "outputs": [
    {
     "data": {
      "text/plain": [
       "0    10.0\n",
       "1    10.5\n",
       "2    11.0\n",
       "3    11.5\n",
       "4    12.0\n",
       "Name: series 3, dtype: float64"
      ]
     },
     "execution_count": 88,
     "metadata": {},
     "output_type": "execute_result"
    }
   ],
   "source": [
    "series3"
   ]
  },
  {
   "cell_type": "code",
   "execution_count": 89,
   "id": "3f9521a9",
   "metadata": {},
   "outputs": [
    {
     "data": {
      "text/html": [
       "<div>\n",
       "<style scoped>\n",
       "    .dataframe tbody tr th:only-of-type {\n",
       "        vertical-align: middle;\n",
       "    }\n",
       "\n",
       "    .dataframe tbody tr th {\n",
       "        vertical-align: top;\n",
       "    }\n",
       "\n",
       "    .dataframe thead th {\n",
       "        text-align: right;\n",
       "    }\n",
       "</style>\n",
       "<table border=\"1\" class=\"dataframe\">\n",
       "  <thead>\n",
       "    <tr style=\"text-align: right;\">\n",
       "      <th></th>\n",
       "      <th>series 1</th>\n",
       "      <th>series 2</th>\n",
       "      <th>series 3</th>\n",
       "    </tr>\n",
       "  </thead>\n",
       "  <tbody>\n",
       "    <tr>\n",
       "      <th>A</th>\n",
       "      <td>1</td>\n",
       "      <td>a</td>\n",
       "      <td>NaN</td>\n",
       "    </tr>\n",
       "    <tr>\n",
       "      <th>B</th>\n",
       "      <td>a</td>\n",
       "      <td>1</td>\n",
       "      <td>NaN</td>\n",
       "    </tr>\n",
       "    <tr>\n",
       "      <th>C</th>\n",
       "      <td>NaN</td>\n",
       "      <td>2</td>\n",
       "      <td>NaN</td>\n",
       "    </tr>\n",
       "    <tr>\n",
       "      <th>D</th>\n",
       "      <td>end</td>\n",
       "      <td>45.0</td>\n",
       "      <td>NaN</td>\n",
       "    </tr>\n",
       "    <tr>\n",
       "      <th>E</th>\n",
       "      <td>new value</td>\n",
       "      <td>almost</td>\n",
       "      <td>NaN</td>\n",
       "    </tr>\n",
       "    <tr>\n",
       "      <th>F</th>\n",
       "      <td>NaN</td>\n",
       "      <td>end</td>\n",
       "      <td>NaN</td>\n",
       "    </tr>\n",
       "    <tr>\n",
       "      <th>0</th>\n",
       "      <td>NaN</td>\n",
       "      <td>NaN</td>\n",
       "      <td>10.0</td>\n",
       "    </tr>\n",
       "    <tr>\n",
       "      <th>1</th>\n",
       "      <td>NaN</td>\n",
       "      <td>NaN</td>\n",
       "      <td>10.5</td>\n",
       "    </tr>\n",
       "    <tr>\n",
       "      <th>2</th>\n",
       "      <td>NaN</td>\n",
       "      <td>NaN</td>\n",
       "      <td>11.0</td>\n",
       "    </tr>\n",
       "    <tr>\n",
       "      <th>3</th>\n",
       "      <td>NaN</td>\n",
       "      <td>NaN</td>\n",
       "      <td>11.5</td>\n",
       "    </tr>\n",
       "    <tr>\n",
       "      <th>4</th>\n",
       "      <td>NaN</td>\n",
       "      <td>NaN</td>\n",
       "      <td>12.0</td>\n",
       "    </tr>\n",
       "  </tbody>\n",
       "</table>\n",
       "</div>"
      ],
      "text/plain": [
       "    series 1 series 2  series 3\n",
       "A          1        a       NaN\n",
       "B          a        1       NaN\n",
       "C        NaN        2       NaN\n",
       "D        end     45.0       NaN\n",
       "E  new value   almost       NaN\n",
       "F        NaN      end       NaN\n",
       "0        NaN      NaN      10.0\n",
       "1        NaN      NaN      10.5\n",
       "2        NaN      NaN      11.0\n",
       "3        NaN      NaN      11.5\n",
       "4        NaN      NaN      12.0"
      ]
     },
     "execution_count": 89,
     "metadata": {},
     "output_type": "execute_result"
    }
   ],
   "source": [
    "df9 = pd.concat([series1, series2, series3], axis=1)\n",
    "df9"
   ]
  },
  {
   "cell_type": "code",
   "execution_count": 91,
   "id": "fa4a5b97",
   "metadata": {},
   "outputs": [
    {
     "data": {
      "text/html": [
       "<div>\n",
       "<style scoped>\n",
       "    .dataframe tbody tr th:only-of-type {\n",
       "        vertical-align: middle;\n",
       "    }\n",
       "\n",
       "    .dataframe tbody tr th {\n",
       "        vertical-align: top;\n",
       "    }\n",
       "\n",
       "    .dataframe thead th {\n",
       "        text-align: right;\n",
       "    }\n",
       "</style>\n",
       "<table border=\"1\" class=\"dataframe\">\n",
       "  <thead>\n",
       "    <tr style=\"text-align: right;\">\n",
       "      <th></th>\n",
       "      <th>series 1</th>\n",
       "      <th>series 2</th>\n",
       "      <th>series 3</th>\n",
       "    </tr>\n",
       "  </thead>\n",
       "  <tbody>\n",
       "    <tr>\n",
       "      <th>0</th>\n",
       "      <td>1</td>\n",
       "      <td>a</td>\n",
       "      <td>10.0</td>\n",
       "    </tr>\n",
       "    <tr>\n",
       "      <th>1</th>\n",
       "      <td>a</td>\n",
       "      <td>1</td>\n",
       "      <td>10.5</td>\n",
       "    </tr>\n",
       "    <tr>\n",
       "      <th>2</th>\n",
       "      <td>NaN</td>\n",
       "      <td>2</td>\n",
       "      <td>11.0</td>\n",
       "    </tr>\n",
       "    <tr>\n",
       "      <th>3</th>\n",
       "      <td>end</td>\n",
       "      <td>45.0</td>\n",
       "      <td>11.5</td>\n",
       "    </tr>\n",
       "    <tr>\n",
       "      <th>4</th>\n",
       "      <td>new value</td>\n",
       "      <td>almost</td>\n",
       "      <td>12.0</td>\n",
       "    </tr>\n",
       "    <tr>\n",
       "      <th>5</th>\n",
       "      <td>NaN</td>\n",
       "      <td>end</td>\n",
       "      <td>NaN</td>\n",
       "    </tr>\n",
       "  </tbody>\n",
       "</table>\n",
       "</div>"
      ],
      "text/plain": [
       "    series 1 series 2  series 3\n",
       "0          1        a      10.0\n",
       "1          a        1      10.5\n",
       "2        NaN        2      11.0\n",
       "3        end     45.0      11.5\n",
       "4  new value   almost      12.0\n",
       "5        NaN      end       NaN"
      ]
     },
     "execution_count": 91,
     "metadata": {},
     "output_type": "execute_result"
    }
   ],
   "source": [
    "df10 = pd.concat([series1.reset_index(drop=True), series2.reset_index(drop=True), series3.reset_index(drop=True)], axis=1)\n",
    "df10"
   ]
  },
  {
   "cell_type": "markdown",
   "id": "941c4cd2",
   "metadata": {},
   "source": [
    "[_Table of Contents_](#toc)"
   ]
  },
  {
   "cell_type": "markdown",
   "id": "37fdc291",
   "metadata": {},
   "source": [
    "### _Dataframes from dataframes_ <a class=\"anchor\" id=\"dfdf\"></a> "
   ]
  },
  {
   "cell_type": "code",
   "execution_count": 92,
   "id": "4cbb4157",
   "metadata": {
    "scrolled": true
   },
   "outputs": [
    {
     "data": {
      "text/html": [
       "<div>\n",
       "<style scoped>\n",
       "    .dataframe tbody tr th:only-of-type {\n",
       "        vertical-align: middle;\n",
       "    }\n",
       "\n",
       "    .dataframe tbody tr th {\n",
       "        vertical-align: top;\n",
       "    }\n",
       "\n",
       "    .dataframe thead th {\n",
       "        text-align: right;\n",
       "    }\n",
       "</style>\n",
       "<table border=\"1\" class=\"dataframe\">\n",
       "  <thead>\n",
       "    <tr style=\"text-align: right;\">\n",
       "      <th></th>\n",
       "      <th>SERIES 1</th>\n",
       "    </tr>\n",
       "  </thead>\n",
       "  <tbody>\n",
       "    <tr>\n",
       "      <th>A</th>\n",
       "      <td>1</td>\n",
       "    </tr>\n",
       "    <tr>\n",
       "      <th>B</th>\n",
       "      <td>a</td>\n",
       "    </tr>\n",
       "    <tr>\n",
       "      <th>C</th>\n",
       "      <td>NaN</td>\n",
       "    </tr>\n",
       "    <tr>\n",
       "      <th>D</th>\n",
       "      <td>end</td>\n",
       "    </tr>\n",
       "    <tr>\n",
       "      <th>E</th>\n",
       "      <td>new value</td>\n",
       "    </tr>\n",
       "  </tbody>\n",
       "</table>\n",
       "</div>"
      ],
      "text/plain": [
       "    SERIES 1\n",
       "A          1\n",
       "B          a\n",
       "C        NaN\n",
       "D        end\n",
       "E  new value"
      ]
     },
     "execution_count": 92,
     "metadata": {},
     "output_type": "execute_result"
    }
   ],
   "source": [
    "df5"
   ]
  },
  {
   "cell_type": "code",
   "execution_count": 93,
   "id": "0f68d3fc",
   "metadata": {},
   "outputs": [
    {
     "data": {
      "text/html": [
       "<div>\n",
       "<style scoped>\n",
       "    .dataframe tbody tr th:only-of-type {\n",
       "        vertical-align: middle;\n",
       "    }\n",
       "\n",
       "    .dataframe tbody tr th {\n",
       "        vertical-align: top;\n",
       "    }\n",
       "\n",
       "    .dataframe thead th {\n",
       "        text-align: right;\n",
       "    }\n",
       "</style>\n",
       "<table border=\"1\" class=\"dataframe\">\n",
       "  <thead>\n",
       "    <tr style=\"text-align: right;\">\n",
       "      <th></th>\n",
       "      <th>SERIES 2</th>\n",
       "    </tr>\n",
       "  </thead>\n",
       "  <tbody>\n",
       "    <tr>\n",
       "      <th>A</th>\n",
       "      <td>a</td>\n",
       "    </tr>\n",
       "    <tr>\n",
       "      <th>B</th>\n",
       "      <td>1</td>\n",
       "    </tr>\n",
       "    <tr>\n",
       "      <th>C</th>\n",
       "      <td>2</td>\n",
       "    </tr>\n",
       "    <tr>\n",
       "      <th>D</th>\n",
       "      <td>45.0</td>\n",
       "    </tr>\n",
       "    <tr>\n",
       "      <th>E</th>\n",
       "      <td>almost</td>\n",
       "    </tr>\n",
       "    <tr>\n",
       "      <th>F</th>\n",
       "      <td>end</td>\n",
       "    </tr>\n",
       "  </tbody>\n",
       "</table>\n",
       "</div>"
      ],
      "text/plain": [
       "  SERIES 2\n",
       "A        a\n",
       "B        1\n",
       "C        2\n",
       "D     45.0\n",
       "E   almost\n",
       "F      end"
      ]
     },
     "execution_count": 93,
     "metadata": {},
     "output_type": "execute_result"
    }
   ],
   "source": [
    "df6"
   ]
  },
  {
   "cell_type": "code",
   "execution_count": 94,
   "id": "b23e5309",
   "metadata": {},
   "outputs": [
    {
     "data": {
      "text/html": [
       "<div>\n",
       "<style scoped>\n",
       "    .dataframe tbody tr th:only-of-type {\n",
       "        vertical-align: middle;\n",
       "    }\n",
       "\n",
       "    .dataframe tbody tr th {\n",
       "        vertical-align: top;\n",
       "    }\n",
       "\n",
       "    .dataframe thead th {\n",
       "        text-align: right;\n",
       "    }\n",
       "</style>\n",
       "<table border=\"1\" class=\"dataframe\">\n",
       "  <thead>\n",
       "    <tr style=\"text-align: right;\">\n",
       "      <th></th>\n",
       "      <th>series 1</th>\n",
       "      <th>series 2</th>\n",
       "    </tr>\n",
       "  </thead>\n",
       "  <tbody>\n",
       "    <tr>\n",
       "      <th>A</th>\n",
       "      <td>1</td>\n",
       "      <td>a</td>\n",
       "    </tr>\n",
       "    <tr>\n",
       "      <th>B</th>\n",
       "      <td>a</td>\n",
       "      <td>1</td>\n",
       "    </tr>\n",
       "    <tr>\n",
       "      <th>C</th>\n",
       "      <td>NaN</td>\n",
       "      <td>2</td>\n",
       "    </tr>\n",
       "    <tr>\n",
       "      <th>D</th>\n",
       "      <td>end</td>\n",
       "      <td>45.0</td>\n",
       "    </tr>\n",
       "    <tr>\n",
       "      <th>E</th>\n",
       "      <td>new value</td>\n",
       "      <td>almost</td>\n",
       "    </tr>\n",
       "    <tr>\n",
       "      <th>F</th>\n",
       "      <td>NaN</td>\n",
       "      <td>end</td>\n",
       "    </tr>\n",
       "  </tbody>\n",
       "</table>\n",
       "</div>"
      ],
      "text/plain": [
       "    series 1 series 2\n",
       "A          1        a\n",
       "B          a        1\n",
       "C        NaN        2\n",
       "D        end     45.0\n",
       "E  new value   almost\n",
       "F        NaN      end"
      ]
     },
     "execution_count": 94,
     "metadata": {},
     "output_type": "execute_result"
    }
   ],
   "source": [
    "df8"
   ]
  },
  {
   "cell_type": "code",
   "execution_count": 95,
   "id": "bba10a93",
   "metadata": {},
   "outputs": [
    {
     "data": {
      "text/html": [
       "<div>\n",
       "<style scoped>\n",
       "    .dataframe tbody tr th:only-of-type {\n",
       "        vertical-align: middle;\n",
       "    }\n",
       "\n",
       "    .dataframe tbody tr th {\n",
       "        vertical-align: top;\n",
       "    }\n",
       "\n",
       "    .dataframe thead th {\n",
       "        text-align: right;\n",
       "    }\n",
       "</style>\n",
       "<table border=\"1\" class=\"dataframe\">\n",
       "  <thead>\n",
       "    <tr style=\"text-align: right;\">\n",
       "      <th></th>\n",
       "      <th>SERIES 1</th>\n",
       "      <th>SERIES 2</th>\n",
       "      <th>series 1</th>\n",
       "      <th>series 2</th>\n",
       "    </tr>\n",
       "  </thead>\n",
       "  <tbody>\n",
       "    <tr>\n",
       "      <th>A</th>\n",
       "      <td>1</td>\n",
       "      <td>NaN</td>\n",
       "      <td>NaN</td>\n",
       "      <td>NaN</td>\n",
       "    </tr>\n",
       "    <tr>\n",
       "      <th>B</th>\n",
       "      <td>a</td>\n",
       "      <td>NaN</td>\n",
       "      <td>NaN</td>\n",
       "      <td>NaN</td>\n",
       "    </tr>\n",
       "    <tr>\n",
       "      <th>C</th>\n",
       "      <td>NaN</td>\n",
       "      <td>NaN</td>\n",
       "      <td>NaN</td>\n",
       "      <td>NaN</td>\n",
       "    </tr>\n",
       "    <tr>\n",
       "      <th>D</th>\n",
       "      <td>end</td>\n",
       "      <td>NaN</td>\n",
       "      <td>NaN</td>\n",
       "      <td>NaN</td>\n",
       "    </tr>\n",
       "    <tr>\n",
       "      <th>E</th>\n",
       "      <td>new value</td>\n",
       "      <td>NaN</td>\n",
       "      <td>NaN</td>\n",
       "      <td>NaN</td>\n",
       "    </tr>\n",
       "    <tr>\n",
       "      <th>A</th>\n",
       "      <td>NaN</td>\n",
       "      <td>a</td>\n",
       "      <td>NaN</td>\n",
       "      <td>NaN</td>\n",
       "    </tr>\n",
       "    <tr>\n",
       "      <th>B</th>\n",
       "      <td>NaN</td>\n",
       "      <td>1</td>\n",
       "      <td>NaN</td>\n",
       "      <td>NaN</td>\n",
       "    </tr>\n",
       "    <tr>\n",
       "      <th>C</th>\n",
       "      <td>NaN</td>\n",
       "      <td>2</td>\n",
       "      <td>NaN</td>\n",
       "      <td>NaN</td>\n",
       "    </tr>\n",
       "    <tr>\n",
       "      <th>D</th>\n",
       "      <td>NaN</td>\n",
       "      <td>45.0</td>\n",
       "      <td>NaN</td>\n",
       "      <td>NaN</td>\n",
       "    </tr>\n",
       "    <tr>\n",
       "      <th>E</th>\n",
       "      <td>NaN</td>\n",
       "      <td>almost</td>\n",
       "      <td>NaN</td>\n",
       "      <td>NaN</td>\n",
       "    </tr>\n",
       "    <tr>\n",
       "      <th>F</th>\n",
       "      <td>NaN</td>\n",
       "      <td>end</td>\n",
       "      <td>NaN</td>\n",
       "      <td>NaN</td>\n",
       "    </tr>\n",
       "    <tr>\n",
       "      <th>A</th>\n",
       "      <td>NaN</td>\n",
       "      <td>NaN</td>\n",
       "      <td>1</td>\n",
       "      <td>a</td>\n",
       "    </tr>\n",
       "    <tr>\n",
       "      <th>B</th>\n",
       "      <td>NaN</td>\n",
       "      <td>NaN</td>\n",
       "      <td>a</td>\n",
       "      <td>1</td>\n",
       "    </tr>\n",
       "    <tr>\n",
       "      <th>C</th>\n",
       "      <td>NaN</td>\n",
       "      <td>NaN</td>\n",
       "      <td>NaN</td>\n",
       "      <td>2</td>\n",
       "    </tr>\n",
       "    <tr>\n",
       "      <th>D</th>\n",
       "      <td>NaN</td>\n",
       "      <td>NaN</td>\n",
       "      <td>end</td>\n",
       "      <td>45.0</td>\n",
       "    </tr>\n",
       "    <tr>\n",
       "      <th>E</th>\n",
       "      <td>NaN</td>\n",
       "      <td>NaN</td>\n",
       "      <td>new value</td>\n",
       "      <td>almost</td>\n",
       "    </tr>\n",
       "    <tr>\n",
       "      <th>F</th>\n",
       "      <td>NaN</td>\n",
       "      <td>NaN</td>\n",
       "      <td>NaN</td>\n",
       "      <td>end</td>\n",
       "    </tr>\n",
       "  </tbody>\n",
       "</table>\n",
       "</div>"
      ],
      "text/plain": [
       "    SERIES 1 SERIES 2   series 1 series 2\n",
       "A          1      NaN        NaN      NaN\n",
       "B          a      NaN        NaN      NaN\n",
       "C        NaN      NaN        NaN      NaN\n",
       "D        end      NaN        NaN      NaN\n",
       "E  new value      NaN        NaN      NaN\n",
       "A        NaN        a        NaN      NaN\n",
       "B        NaN        1        NaN      NaN\n",
       "C        NaN        2        NaN      NaN\n",
       "D        NaN     45.0        NaN      NaN\n",
       "E        NaN   almost        NaN      NaN\n",
       "F        NaN      end        NaN      NaN\n",
       "A        NaN      NaN          1        a\n",
       "B        NaN      NaN          a        1\n",
       "C        NaN      NaN        NaN        2\n",
       "D        NaN      NaN        end     45.0\n",
       "E        NaN      NaN  new value   almost\n",
       "F        NaN      NaN        NaN      end"
      ]
     },
     "execution_count": 95,
     "metadata": {},
     "output_type": "execute_result"
    }
   ],
   "source": [
    "df11 = pd.concat([df5,df6,df8])\n",
    "df11"
   ]
  },
  {
   "cell_type": "code",
   "execution_count": 101,
   "id": "57d5f068",
   "metadata": {},
   "outputs": [
    {
     "data": {
      "text/html": [
       "<div>\n",
       "<style scoped>\n",
       "    .dataframe tbody tr th:only-of-type {\n",
       "        vertical-align: middle;\n",
       "    }\n",
       "\n",
       "    .dataframe tbody tr th {\n",
       "        vertical-align: top;\n",
       "    }\n",
       "\n",
       "    .dataframe thead th {\n",
       "        text-align: right;\n",
       "    }\n",
       "</style>\n",
       "<table border=\"1\" class=\"dataframe\">\n",
       "  <thead>\n",
       "    <tr style=\"text-align: right;\">\n",
       "      <th></th>\n",
       "      <th>SERIES 1</th>\n",
       "      <th>SERIES 2</th>\n",
       "      <th>series 1</th>\n",
       "      <th>series 2</th>\n",
       "    </tr>\n",
       "  </thead>\n",
       "  <tbody>\n",
       "    <tr>\n",
       "      <th>A</th>\n",
       "      <td>1</td>\n",
       "      <td>a</td>\n",
       "      <td>1</td>\n",
       "      <td>a</td>\n",
       "    </tr>\n",
       "    <tr>\n",
       "      <th>B</th>\n",
       "      <td>a</td>\n",
       "      <td>1</td>\n",
       "      <td>a</td>\n",
       "      <td>1</td>\n",
       "    </tr>\n",
       "    <tr>\n",
       "      <th>C</th>\n",
       "      <td>NaN</td>\n",
       "      <td>2</td>\n",
       "      <td>NaN</td>\n",
       "      <td>2</td>\n",
       "    </tr>\n",
       "    <tr>\n",
       "      <th>D</th>\n",
       "      <td>end</td>\n",
       "      <td>45.0</td>\n",
       "      <td>end</td>\n",
       "      <td>45.0</td>\n",
       "    </tr>\n",
       "    <tr>\n",
       "      <th>E</th>\n",
       "      <td>new value</td>\n",
       "      <td>almost</td>\n",
       "      <td>new value</td>\n",
       "      <td>almost</td>\n",
       "    </tr>\n",
       "    <tr>\n",
       "      <th>F</th>\n",
       "      <td>NaN</td>\n",
       "      <td>end</td>\n",
       "      <td>NaN</td>\n",
       "      <td>end</td>\n",
       "    </tr>\n",
       "  </tbody>\n",
       "</table>\n",
       "</div>"
      ],
      "text/plain": [
       "    SERIES 1 SERIES 2   series 1 series 2\n",
       "A          1        a          1        a\n",
       "B          a        1          a        1\n",
       "C        NaN        2        NaN        2\n",
       "D        end     45.0        end     45.0\n",
       "E  new value   almost  new value   almost\n",
       "F        NaN      end        NaN      end"
      ]
     },
     "execution_count": 101,
     "metadata": {},
     "output_type": "execute_result"
    }
   ],
   "source": [
    "df11 = pd.concat([df5,df6,df8], axis=1)\n",
    "df11"
   ]
  },
  {
   "cell_type": "code",
   "execution_count": 102,
   "id": "d0718359",
   "metadata": {},
   "outputs": [
    {
     "data": {
      "text/html": [
       "<div>\n",
       "<style scoped>\n",
       "    .dataframe tbody tr th:only-of-type {\n",
       "        vertical-align: middle;\n",
       "    }\n",
       "\n",
       "    .dataframe tbody tr th {\n",
       "        vertical-align: top;\n",
       "    }\n",
       "\n",
       "    .dataframe thead th {\n",
       "        text-align: right;\n",
       "    }\n",
       "</style>\n",
       "<table border=\"1\" class=\"dataframe\">\n",
       "  <thead>\n",
       "    <tr style=\"text-align: right;\">\n",
       "      <th></th>\n",
       "      <th>SERIES 1</th>\n",
       "      <th>SERIES 2</th>\n",
       "    </tr>\n",
       "  </thead>\n",
       "  <tbody>\n",
       "    <tr>\n",
       "      <th>A</th>\n",
       "      <td>1</td>\n",
       "      <td>a</td>\n",
       "    </tr>\n",
       "    <tr>\n",
       "      <th>B</th>\n",
       "      <td>a</td>\n",
       "      <td>1</td>\n",
       "    </tr>\n",
       "    <tr>\n",
       "      <th>C</th>\n",
       "      <td>NaN</td>\n",
       "      <td>2</td>\n",
       "    </tr>\n",
       "    <tr>\n",
       "      <th>D</th>\n",
       "      <td>end</td>\n",
       "      <td>45.0</td>\n",
       "    </tr>\n",
       "    <tr>\n",
       "      <th>E</th>\n",
       "      <td>new value</td>\n",
       "      <td>almost</td>\n",
       "    </tr>\n",
       "  </tbody>\n",
       "</table>\n",
       "</div>"
      ],
      "text/plain": [
       "    SERIES 1 SERIES 2\n",
       "A          1        a\n",
       "B          a        1\n",
       "C        NaN        2\n",
       "D        end     45.0\n",
       "E  new value   almost"
      ]
     },
     "execution_count": 102,
     "metadata": {},
     "output_type": "execute_result"
    }
   ],
   "source": [
    "df12 = df5.join(df6,rsuffix='_df5',lsuffix='_df6')\n",
    "df12"
   ]
  },
  {
   "cell_type": "markdown",
   "id": "cad0cc56",
   "metadata": {},
   "source": [
    "[_Table of Contents_](#toc)"
   ]
  },
  {
   "cell_type": "markdown",
   "id": "5c08cd16",
   "metadata": {},
   "source": [
    "# Pandas Basics <a class=\"anchor\" id=\"basics\"></a>"
   ]
  },
  {
   "cell_type": "markdown",
   "id": "366ee28e",
   "metadata": {},
   "source": [
    "### _View vs. Copy_ <a class=\"anchor\" id=\"viewcopy\"></a>"
   ]
  },
  {
   "cell_type": "code",
   "execution_count": null,
   "id": "698bd6a8",
   "metadata": {},
   "outputs": [],
   "source": []
  },
  {
   "cell_type": "code",
   "execution_count": null,
   "id": "a4cec0fb",
   "metadata": {},
   "outputs": [],
   "source": []
  },
  {
   "cell_type": "markdown",
   "id": "10db2969",
   "metadata": {},
   "source": [
    "[_Table of Contents_](#toc)"
   ]
  },
  {
   "cell_type": "markdown",
   "id": "8eb4fffb",
   "metadata": {},
   "source": [
    "### _Data types_ <a class=\"anchor\" id=\"datatypes\"></a>"
   ]
  },
  {
   "cell_type": "code",
   "execution_count": null,
   "id": "0a878a09",
   "metadata": {},
   "outputs": [],
   "source": []
  },
  {
   "cell_type": "code",
   "execution_count": null,
   "id": "b718230e",
   "metadata": {},
   "outputs": [],
   "source": []
  },
  {
   "cell_type": "markdown",
   "id": "b827607c",
   "metadata": {},
   "source": [
    "[_Table of Contents_](#toc)"
   ]
  },
  {
   "cell_type": "markdown",
   "id": "dfe20aa8",
   "metadata": {},
   "source": [
    "### _Modifying dataframes_ <a class=\"anchor\" id=\"dfmod\"></a>"
   ]
  },
  {
   "cell_type": "code",
   "execution_count": 112,
   "id": "b6a5569b",
   "metadata": {},
   "outputs": [
    {
     "data": {
      "text/html": [
       "<div>\n",
       "<style scoped>\n",
       "    .dataframe tbody tr th:only-of-type {\n",
       "        vertical-align: middle;\n",
       "    }\n",
       "\n",
       "    .dataframe tbody tr th {\n",
       "        vertical-align: top;\n",
       "    }\n",
       "\n",
       "    .dataframe thead th {\n",
       "        text-align: right;\n",
       "    }\n",
       "</style>\n",
       "<table border=\"1\" class=\"dataframe\">\n",
       "  <thead>\n",
       "    <tr style=\"text-align: right;\">\n",
       "      <th></th>\n",
       "      <th>col 1</th>\n",
       "      <th>col 2</th>\n",
       "      <th>col 3</th>\n",
       "      <th>col 4</th>\n",
       "      <th>col 5</th>\n",
       "    </tr>\n",
       "  </thead>\n",
       "  <tbody>\n",
       "    <tr>\n",
       "      <th>row 1</th>\n",
       "      <td>1</td>\n",
       "      <td>2</td>\n",
       "      <td>3</td>\n",
       "      <td>4</td>\n",
       "      <td>5</td>\n",
       "    </tr>\n",
       "    <tr>\n",
       "      <th>row 2</th>\n",
       "      <td>A</td>\n",
       "      <td>B</td>\n",
       "      <td>C</td>\n",
       "      <td>D</td>\n",
       "      <td>E</td>\n",
       "    </tr>\n",
       "    <tr>\n",
       "      <th>row 3</th>\n",
       "      <td>20.0</td>\n",
       "      <td>45.0</td>\n",
       "      <td>NaN</td>\n",
       "      <td>17</td>\n",
       "      <td>23.67</td>\n",
       "    </tr>\n",
       "  </tbody>\n",
       "</table>\n",
       "</div>"
      ],
      "text/plain": [
       "      col 1 col 2 col 3 col 4  col 5\n",
       "row 1     1     2     3     4      5\n",
       "row 2     A     B     C     D      E\n",
       "row 3  20.0  45.0   NaN    17  23.67"
      ]
     },
     "execution_count": 112,
     "metadata": {},
     "output_type": "execute_result"
    }
   ],
   "source": [
    "df1"
   ]
  },
  {
   "cell_type": "code",
   "execution_count": 138,
   "id": "3d39561c",
   "metadata": {},
   "outputs": [
    {
     "data": {
      "text/html": [
       "<div>\n",
       "<style scoped>\n",
       "    .dataframe tbody tr th:only-of-type {\n",
       "        vertical-align: middle;\n",
       "    }\n",
       "\n",
       "    .dataframe tbody tr th {\n",
       "        vertical-align: top;\n",
       "    }\n",
       "\n",
       "    .dataframe thead th {\n",
       "        text-align: right;\n",
       "    }\n",
       "</style>\n",
       "<table border=\"1\" class=\"dataframe\">\n",
       "  <thead>\n",
       "    <tr style=\"text-align: right;\">\n",
       "      <th></th>\n",
       "      <th>col 1</th>\n",
       "      <th>col 2</th>\n",
       "      <th>col 3</th>\n",
       "      <th>col 4</th>\n",
       "      <th>col 5</th>\n",
       "    </tr>\n",
       "  </thead>\n",
       "  <tbody>\n",
       "    <tr>\n",
       "      <th>row 1</th>\n",
       "      <td>1</td>\n",
       "      <td>2</td>\n",
       "      <td>3</td>\n",
       "      <td>4</td>\n",
       "      <td>5</td>\n",
       "    </tr>\n",
       "    <tr>\n",
       "      <th>row 2</th>\n",
       "      <td>A</td>\n",
       "      <td>B</td>\n",
       "      <td>C</td>\n",
       "      <td>D</td>\n",
       "      <td>E</td>\n",
       "    </tr>\n",
       "    <tr>\n",
       "      <th>row 3</th>\n",
       "      <td>20.0</td>\n",
       "      <td>45.0</td>\n",
       "      <td>NaN</td>\n",
       "      <td>17</td>\n",
       "      <td>23.67</td>\n",
       "    </tr>\n",
       "    <tr>\n",
       "      <th>new row</th>\n",
       "      <td>a</td>\n",
       "      <td>a</td>\n",
       "      <td>a</td>\n",
       "      <td>a</td>\n",
       "      <td>a</td>\n",
       "    </tr>\n",
       "  </tbody>\n",
       "</table>\n",
       "</div>"
      ],
      "text/plain": [
       "        col 1 col 2 col 3 col 4  col 5\n",
       "row 1       1     2     3     4      5\n",
       "row 2       A     B     C     D      E\n",
       "row 3    20.0  45.0   NaN    17  23.67\n",
       "new row     a     a     a     a      a"
      ]
     },
     "execution_count": 138,
     "metadata": {},
     "output_type": "execute_result"
    }
   ],
   "source": [
    "df1.loc['new row'] = 'a'\n",
    "df1"
   ]
  },
  {
   "cell_type": "code",
   "execution_count": 139,
   "id": "7a1b0f0e",
   "metadata": {},
   "outputs": [
    {
     "data": {
      "text/html": [
       "<div>\n",
       "<style scoped>\n",
       "    .dataframe tbody tr th:only-of-type {\n",
       "        vertical-align: middle;\n",
       "    }\n",
       "\n",
       "    .dataframe tbody tr th {\n",
       "        vertical-align: top;\n",
       "    }\n",
       "\n",
       "    .dataframe thead th {\n",
       "        text-align: right;\n",
       "    }\n",
       "</style>\n",
       "<table border=\"1\" class=\"dataframe\">\n",
       "  <thead>\n",
       "    <tr style=\"text-align: right;\">\n",
       "      <th></th>\n",
       "      <th>col 1</th>\n",
       "      <th>col 2</th>\n",
       "      <th>col 3</th>\n",
       "      <th>col 4</th>\n",
       "      <th>col 5</th>\n",
       "    </tr>\n",
       "  </thead>\n",
       "  <tbody>\n",
       "    <tr>\n",
       "      <th>row 1</th>\n",
       "      <td>1</td>\n",
       "      <td>2</td>\n",
       "      <td>3</td>\n",
       "      <td>4</td>\n",
       "      <td>5</td>\n",
       "    </tr>\n",
       "    <tr>\n",
       "      <th>row 2</th>\n",
       "      <td>A</td>\n",
       "      <td>B</td>\n",
       "      <td>C</td>\n",
       "      <td>D</td>\n",
       "      <td>E</td>\n",
       "    </tr>\n",
       "    <tr>\n",
       "      <th>row 3</th>\n",
       "      <td>20.0</td>\n",
       "      <td>45.0</td>\n",
       "      <td>NaN</td>\n",
       "      <td>17</td>\n",
       "      <td>23.67</td>\n",
       "    </tr>\n",
       "    <tr>\n",
       "      <th>new row</th>\n",
       "      <td>a</td>\n",
       "      <td>b</td>\n",
       "      <td>a</td>\n",
       "      <td>a</td>\n",
       "      <td>a</td>\n",
       "    </tr>\n",
       "  </tbody>\n",
       "</table>\n",
       "</div>"
      ],
      "text/plain": [
       "        col 1 col 2 col 3 col 4  col 5\n",
       "row 1       1     2     3     4      5\n",
       "row 2       A     B     C     D      E\n",
       "row 3    20.0  45.0   NaN    17  23.67\n",
       "new row     a     b     a     a      a"
      ]
     },
     "execution_count": 139,
     "metadata": {},
     "output_type": "execute_result"
    }
   ],
   "source": [
    "df1.loc['new row']['col 2'] = 'b'\n",
    "df1"
   ]
  },
  {
   "cell_type": "code",
   "execution_count": 140,
   "id": "067547cc",
   "metadata": {},
   "outputs": [
    {
     "data": {
      "text/html": [
       "<div>\n",
       "<style scoped>\n",
       "    .dataframe tbody tr th:only-of-type {\n",
       "        vertical-align: middle;\n",
       "    }\n",
       "\n",
       "    .dataframe tbody tr th {\n",
       "        vertical-align: top;\n",
       "    }\n",
       "\n",
       "    .dataframe thead th {\n",
       "        text-align: right;\n",
       "    }\n",
       "</style>\n",
       "<table border=\"1\" class=\"dataframe\">\n",
       "  <thead>\n",
       "    <tr style=\"text-align: right;\">\n",
       "      <th></th>\n",
       "      <th>col 1</th>\n",
       "      <th>col 2</th>\n",
       "      <th>col 3</th>\n",
       "      <th>col 4</th>\n",
       "      <th>col 5</th>\n",
       "    </tr>\n",
       "  </thead>\n",
       "  <tbody>\n",
       "    <tr>\n",
       "      <th>row 1</th>\n",
       "      <td>1</td>\n",
       "      <td>2</td>\n",
       "      <td>3</td>\n",
       "      <td>4</td>\n",
       "      <td>5</td>\n",
       "    </tr>\n",
       "    <tr>\n",
       "      <th>row 2</th>\n",
       "      <td>A</td>\n",
       "      <td>B</td>\n",
       "      <td>C</td>\n",
       "      <td>D</td>\n",
       "      <td>E</td>\n",
       "    </tr>\n",
       "    <tr>\n",
       "      <th>row 3</th>\n",
       "      <td>20.0</td>\n",
       "      <td>45.0</td>\n",
       "      <td>NaN</td>\n",
       "      <td>17</td>\n",
       "      <td>23.67</td>\n",
       "    </tr>\n",
       "    <tr>\n",
       "      <th>new row</th>\n",
       "      <td>a</td>\n",
       "      <td>b</td>\n",
       "      <td>c</td>\n",
       "      <td>a</td>\n",
       "      <td>a</td>\n",
       "    </tr>\n",
       "  </tbody>\n",
       "</table>\n",
       "</div>"
      ],
      "text/plain": [
       "        col 1 col 2 col 3 col 4  col 5\n",
       "row 1       1     2     3     4      5\n",
       "row 2       A     B     C     D      E\n",
       "row 3    20.0  45.0   NaN    17  23.67\n",
       "new row     a     b     c     a      a"
      ]
     },
     "execution_count": 140,
     "metadata": {},
     "output_type": "execute_result"
    }
   ],
   "source": [
    "df1.loc['new row'][2] = 'c'\n",
    "df1"
   ]
  },
  {
   "cell_type": "code",
   "execution_count": 141,
   "id": "458ca571",
   "metadata": {},
   "outputs": [
    {
     "data": {
      "text/html": [
       "<div>\n",
       "<style scoped>\n",
       "    .dataframe tbody tr th:only-of-type {\n",
       "        vertical-align: middle;\n",
       "    }\n",
       "\n",
       "    .dataframe tbody tr th {\n",
       "        vertical-align: top;\n",
       "    }\n",
       "\n",
       "    .dataframe thead th {\n",
       "        text-align: right;\n",
       "    }\n",
       "</style>\n",
       "<table border=\"1\" class=\"dataframe\">\n",
       "  <thead>\n",
       "    <tr style=\"text-align: right;\">\n",
       "      <th></th>\n",
       "      <th>col 1</th>\n",
       "      <th>col 2</th>\n",
       "      <th>col 3</th>\n",
       "      <th>col 4</th>\n",
       "      <th>col 5</th>\n",
       "    </tr>\n",
       "  </thead>\n",
       "  <tbody>\n",
       "    <tr>\n",
       "      <th>row 1</th>\n",
       "      <td>1</td>\n",
       "      <td>2</td>\n",
       "      <td>3</td>\n",
       "      <td>4</td>\n",
       "      <td>5</td>\n",
       "    </tr>\n",
       "    <tr>\n",
       "      <th>row 2</th>\n",
       "      <td>A</td>\n",
       "      <td>B</td>\n",
       "      <td>C</td>\n",
       "      <td>D</td>\n",
       "      <td>E</td>\n",
       "    </tr>\n",
       "    <tr>\n",
       "      <th>row 3</th>\n",
       "      <td>20.0</td>\n",
       "      <td>45.0</td>\n",
       "      <td>NaN</td>\n",
       "      <td>17</td>\n",
       "      <td>23.67</td>\n",
       "    </tr>\n",
       "    <tr>\n",
       "      <th>new row</th>\n",
       "      <td>a</td>\n",
       "      <td>b</td>\n",
       "      <td>c</td>\n",
       "      <td>d</td>\n",
       "      <td>e</td>\n",
       "    </tr>\n",
       "  </tbody>\n",
       "</table>\n",
       "</div>"
      ],
      "text/plain": [
       "        col 1 col 2 col 3 col 4  col 5\n",
       "row 1       1     2     3     4      5\n",
       "row 2       A     B     C     D      E\n",
       "row 3    20.0  45.0   NaN    17  23.67\n",
       "new row     a     b     c     d      e"
      ]
     },
     "execution_count": 141,
     "metadata": {},
     "output_type": "execute_result"
    }
   ],
   "source": [
    "df1.loc['new row'][3:] = list('de')\n",
    "df1"
   ]
  },
  {
   "cell_type": "code",
   "execution_count": 120,
   "id": "810835a5",
   "metadata": {},
   "outputs": [
    {
     "data": {
      "text/plain": [
       "'B'"
      ]
     },
     "execution_count": 120,
     "metadata": {},
     "output_type": "execute_result"
    }
   ],
   "source": [
    "df1.iloc[1,1]"
   ]
  },
  {
   "cell_type": "code",
   "execution_count": 121,
   "id": "6a728a8d",
   "metadata": {},
   "outputs": [
    {
     "data": {
      "text/plain": [
       "col 1    A\n",
       "col 2    B\n",
       "col 3    C\n",
       "col 4    D\n",
       "col 5    E\n",
       "Name: row 2, dtype: object"
      ]
     },
     "execution_count": 121,
     "metadata": {},
     "output_type": "execute_result"
    }
   ],
   "source": [
    "df1.iloc[1]"
   ]
  },
  {
   "cell_type": "code",
   "execution_count": 122,
   "id": "af2f5a8a",
   "metadata": {},
   "outputs": [
    {
     "data": {
      "text/plain": [
       "row 1         2\n",
       "row 2         B\n",
       "row 3      45.0\n",
       "new row       b\n",
       "Name: col 2, dtype: object"
      ]
     },
     "execution_count": 122,
     "metadata": {},
     "output_type": "execute_result"
    }
   ],
   "source": [
    "df1.iloc[:,1]"
   ]
  },
  {
   "cell_type": "code",
   "execution_count": 142,
   "id": "5f1f5c91",
   "metadata": {},
   "outputs": [
    {
     "data": {
      "text/html": [
       "<div>\n",
       "<style scoped>\n",
       "    .dataframe tbody tr th:only-of-type {\n",
       "        vertical-align: middle;\n",
       "    }\n",
       "\n",
       "    .dataframe tbody tr th {\n",
       "        vertical-align: top;\n",
       "    }\n",
       "\n",
       "    .dataframe thead th {\n",
       "        text-align: right;\n",
       "    }\n",
       "</style>\n",
       "<table border=\"1\" class=\"dataframe\">\n",
       "  <thead>\n",
       "    <tr style=\"text-align: right;\">\n",
       "      <th></th>\n",
       "      <th>col 1</th>\n",
       "      <th>col 2</th>\n",
       "      <th>col 3</th>\n",
       "      <th>col 4</th>\n",
       "      <th>col 5</th>\n",
       "      <th>new column</th>\n",
       "    </tr>\n",
       "  </thead>\n",
       "  <tbody>\n",
       "    <tr>\n",
       "      <th>row 1</th>\n",
       "      <td>1</td>\n",
       "      <td>2</td>\n",
       "      <td>3</td>\n",
       "      <td>4</td>\n",
       "      <td>5</td>\n",
       "      <td>99</td>\n",
       "    </tr>\n",
       "    <tr>\n",
       "      <th>row 2</th>\n",
       "      <td>A</td>\n",
       "      <td>B</td>\n",
       "      <td>C</td>\n",
       "      <td>D</td>\n",
       "      <td>E</td>\n",
       "      <td>99</td>\n",
       "    </tr>\n",
       "    <tr>\n",
       "      <th>row 3</th>\n",
       "      <td>20.0</td>\n",
       "      <td>45.0</td>\n",
       "      <td>NaN</td>\n",
       "      <td>17</td>\n",
       "      <td>23.67</td>\n",
       "      <td>99</td>\n",
       "    </tr>\n",
       "    <tr>\n",
       "      <th>new row</th>\n",
       "      <td>a</td>\n",
       "      <td>b</td>\n",
       "      <td>c</td>\n",
       "      <td>d</td>\n",
       "      <td>e</td>\n",
       "      <td>99</td>\n",
       "    </tr>\n",
       "  </tbody>\n",
       "</table>\n",
       "</div>"
      ],
      "text/plain": [
       "        col 1 col 2 col 3 col 4  col 5  new column\n",
       "row 1       1     2     3     4      5          99\n",
       "row 2       A     B     C     D      E          99\n",
       "row 3    20.0  45.0   NaN    17  23.67          99\n",
       "new row     a     b     c     d      e          99"
      ]
     },
     "execution_count": 142,
     "metadata": {},
     "output_type": "execute_result"
    }
   ],
   "source": [
    "df1['new column'] = 99\n",
    "df1"
   ]
  },
  {
   "cell_type": "code",
   "execution_count": 143,
   "id": "50cb19f5",
   "metadata": {},
   "outputs": [
    {
     "data": {
      "text/html": [
       "<div>\n",
       "<style scoped>\n",
       "    .dataframe tbody tr th:only-of-type {\n",
       "        vertical-align: middle;\n",
       "    }\n",
       "\n",
       "    .dataframe tbody tr th {\n",
       "        vertical-align: top;\n",
       "    }\n",
       "\n",
       "    .dataframe thead th {\n",
       "        text-align: right;\n",
       "    }\n",
       "</style>\n",
       "<table border=\"1\" class=\"dataframe\">\n",
       "  <thead>\n",
       "    <tr style=\"text-align: right;\">\n",
       "      <th></th>\n",
       "      <th>col 1</th>\n",
       "      <th>col 2</th>\n",
       "      <th>col 3</th>\n",
       "      <th>col 4</th>\n",
       "      <th>col 5</th>\n",
       "      <th>new column</th>\n",
       "    </tr>\n",
       "  </thead>\n",
       "  <tbody>\n",
       "    <tr>\n",
       "      <th>row 2</th>\n",
       "      <td>A</td>\n",
       "      <td>B</td>\n",
       "      <td>C</td>\n",
       "      <td>D</td>\n",
       "      <td>E</td>\n",
       "      <td>99</td>\n",
       "    </tr>\n",
       "    <tr>\n",
       "      <th>row 3</th>\n",
       "      <td>20.0</td>\n",
       "      <td>45.0</td>\n",
       "      <td>NaN</td>\n",
       "      <td>17</td>\n",
       "      <td>23.67</td>\n",
       "      <td>99</td>\n",
       "    </tr>\n",
       "    <tr>\n",
       "      <th>new row</th>\n",
       "      <td>a</td>\n",
       "      <td>b</td>\n",
       "      <td>c</td>\n",
       "      <td>d</td>\n",
       "      <td>e</td>\n",
       "      <td>99</td>\n",
       "    </tr>\n",
       "  </tbody>\n",
       "</table>\n",
       "</div>"
      ],
      "text/plain": [
       "        col 1 col 2 col 3 col 4  col 5  new column\n",
       "row 2       A     B     C     D      E          99\n",
       "row 3    20.0  45.0   NaN    17  23.67          99\n",
       "new row     a     b     c     d      e          99"
      ]
     },
     "execution_count": 143,
     "metadata": {},
     "output_type": "execute_result"
    }
   ],
   "source": [
    "df1.drop('row 1')"
   ]
  },
  {
   "cell_type": "code",
   "execution_count": 144,
   "id": "09696f73",
   "metadata": {},
   "outputs": [
    {
     "data": {
      "text/html": [
       "<div>\n",
       "<style scoped>\n",
       "    .dataframe tbody tr th:only-of-type {\n",
       "        vertical-align: middle;\n",
       "    }\n",
       "\n",
       "    .dataframe tbody tr th {\n",
       "        vertical-align: top;\n",
       "    }\n",
       "\n",
       "    .dataframe thead th {\n",
       "        text-align: right;\n",
       "    }\n",
       "</style>\n",
       "<table border=\"1\" class=\"dataframe\">\n",
       "  <thead>\n",
       "    <tr style=\"text-align: right;\">\n",
       "      <th></th>\n",
       "      <th>col 1</th>\n",
       "      <th>col 2</th>\n",
       "      <th>col 3</th>\n",
       "      <th>col 4</th>\n",
       "      <th>col 5</th>\n",
       "      <th>new column</th>\n",
       "    </tr>\n",
       "  </thead>\n",
       "  <tbody>\n",
       "    <tr>\n",
       "      <th>row 1</th>\n",
       "      <td>1</td>\n",
       "      <td>2</td>\n",
       "      <td>3</td>\n",
       "      <td>4</td>\n",
       "      <td>5</td>\n",
       "      <td>99</td>\n",
       "    </tr>\n",
       "    <tr>\n",
       "      <th>row 2</th>\n",
       "      <td>A</td>\n",
       "      <td>B</td>\n",
       "      <td>C</td>\n",
       "      <td>D</td>\n",
       "      <td>E</td>\n",
       "      <td>99</td>\n",
       "    </tr>\n",
       "    <tr>\n",
       "      <th>row 3</th>\n",
       "      <td>20.0</td>\n",
       "      <td>45.0</td>\n",
       "      <td>NaN</td>\n",
       "      <td>17</td>\n",
       "      <td>23.67</td>\n",
       "      <td>99</td>\n",
       "    </tr>\n",
       "    <tr>\n",
       "      <th>new row</th>\n",
       "      <td>a</td>\n",
       "      <td>b</td>\n",
       "      <td>c</td>\n",
       "      <td>d</td>\n",
       "      <td>e</td>\n",
       "      <td>99</td>\n",
       "    </tr>\n",
       "  </tbody>\n",
       "</table>\n",
       "</div>"
      ],
      "text/plain": [
       "        col 1 col 2 col 3 col 4  col 5  new column\n",
       "row 1       1     2     3     4      5          99\n",
       "row 2       A     B     C     D      E          99\n",
       "row 3    20.0  45.0   NaN    17  23.67          99\n",
       "new row     a     b     c     d      e          99"
      ]
     },
     "execution_count": 144,
     "metadata": {},
     "output_type": "execute_result"
    }
   ],
   "source": [
    "df1"
   ]
  },
  {
   "cell_type": "code",
   "execution_count": 145,
   "id": "ea926b5f",
   "metadata": {},
   "outputs": [],
   "source": [
    "df1.drop('new column', axis=1, inplace=True)"
   ]
  },
  {
   "cell_type": "code",
   "execution_count": 146,
   "id": "f1632a17",
   "metadata": {},
   "outputs": [
    {
     "data": {
      "text/html": [
       "<div>\n",
       "<style scoped>\n",
       "    .dataframe tbody tr th:only-of-type {\n",
       "        vertical-align: middle;\n",
       "    }\n",
       "\n",
       "    .dataframe tbody tr th {\n",
       "        vertical-align: top;\n",
       "    }\n",
       "\n",
       "    .dataframe thead th {\n",
       "        text-align: right;\n",
       "    }\n",
       "</style>\n",
       "<table border=\"1\" class=\"dataframe\">\n",
       "  <thead>\n",
       "    <tr style=\"text-align: right;\">\n",
       "      <th></th>\n",
       "      <th>col 1</th>\n",
       "      <th>col 2</th>\n",
       "      <th>col 3</th>\n",
       "      <th>col 4</th>\n",
       "      <th>col 5</th>\n",
       "    </tr>\n",
       "  </thead>\n",
       "  <tbody>\n",
       "    <tr>\n",
       "      <th>row 1</th>\n",
       "      <td>1</td>\n",
       "      <td>2</td>\n",
       "      <td>3</td>\n",
       "      <td>4</td>\n",
       "      <td>5</td>\n",
       "    </tr>\n",
       "    <tr>\n",
       "      <th>row 2</th>\n",
       "      <td>A</td>\n",
       "      <td>B</td>\n",
       "      <td>C</td>\n",
       "      <td>D</td>\n",
       "      <td>E</td>\n",
       "    </tr>\n",
       "    <tr>\n",
       "      <th>row 3</th>\n",
       "      <td>20.0</td>\n",
       "      <td>45.0</td>\n",
       "      <td>NaN</td>\n",
       "      <td>17</td>\n",
       "      <td>23.67</td>\n",
       "    </tr>\n",
       "    <tr>\n",
       "      <th>new row</th>\n",
       "      <td>a</td>\n",
       "      <td>b</td>\n",
       "      <td>c</td>\n",
       "      <td>d</td>\n",
       "      <td>e</td>\n",
       "    </tr>\n",
       "  </tbody>\n",
       "</table>\n",
       "</div>"
      ],
      "text/plain": [
       "        col 1 col 2 col 3 col 4  col 5\n",
       "row 1       1     2     3     4      5\n",
       "row 2       A     B     C     D      E\n",
       "row 3    20.0  45.0   NaN    17  23.67\n",
       "new row     a     b     c     d      e"
      ]
     },
     "execution_count": 146,
     "metadata": {},
     "output_type": "execute_result"
    }
   ],
   "source": [
    "df1"
   ]
  },
  {
   "cell_type": "code",
   "execution_count": null,
   "id": "e5c0589a",
   "metadata": {},
   "outputs": [],
   "source": [
    "df1.pop('col 3')"
   ]
  },
  {
   "cell_type": "code",
   "execution_count": null,
   "id": "f534273c",
   "metadata": {},
   "outputs": [],
   "source": [
    "df1['new column']"
   ]
  },
  {
   "cell_type": "code",
   "execution_count": 147,
   "id": "e3144db8",
   "metadata": {},
   "outputs": [
    {
     "data": {
      "text/plain": [
       "row 1          5\n",
       "row 2          E\n",
       "row 3      23.67\n",
       "new row        e\n",
       "Name: col 5, dtype: object"
      ]
     },
     "execution_count": 147,
     "metadata": {},
     "output_type": "execute_result"
    }
   ],
   "source": [
    "dfpop = df1.pop('col 5')\n",
    "dfpop"
   ]
  },
  {
   "cell_type": "code",
   "execution_count": 152,
   "id": "2c84fbb8",
   "metadata": {},
   "outputs": [
    {
     "data": {
      "text/html": [
       "<div>\n",
       "<style scoped>\n",
       "    .dataframe tbody tr th:only-of-type {\n",
       "        vertical-align: middle;\n",
       "    }\n",
       "\n",
       "    .dataframe tbody tr th {\n",
       "        vertical-align: top;\n",
       "    }\n",
       "\n",
       "    .dataframe thead th {\n",
       "        text-align: right;\n",
       "    }\n",
       "</style>\n",
       "<table border=\"1\" class=\"dataframe\">\n",
       "  <thead>\n",
       "    <tr style=\"text-align: right;\">\n",
       "      <th></th>\n",
       "      <th>col 1</th>\n",
       "      <th>col 2</th>\n",
       "      <th>col 3</th>\n",
       "      <th>col 4</th>\n",
       "    </tr>\n",
       "  </thead>\n",
       "  <tbody>\n",
       "    <tr>\n",
       "      <th>row 1</th>\n",
       "      <td>1</td>\n",
       "      <td>2</td>\n",
       "      <td>3</td>\n",
       "      <td>4</td>\n",
       "    </tr>\n",
       "    <tr>\n",
       "      <th>row 2</th>\n",
       "      <td>A</td>\n",
       "      <td>B</td>\n",
       "      <td>C</td>\n",
       "      <td>D</td>\n",
       "    </tr>\n",
       "    <tr>\n",
       "      <th>row 3</th>\n",
       "      <td>20.0</td>\n",
       "      <td>45.0</td>\n",
       "      <td>NaN</td>\n",
       "      <td>17</td>\n",
       "    </tr>\n",
       "    <tr>\n",
       "      <th>new row</th>\n",
       "      <td>a</td>\n",
       "      <td>b</td>\n",
       "      <td>c</td>\n",
       "      <td>d</td>\n",
       "    </tr>\n",
       "  </tbody>\n",
       "</table>\n",
       "</div>"
      ],
      "text/plain": [
       "        col 1 col 2 col 3 col 4\n",
       "row 1       1     2     3     4\n",
       "row 2       A     B     C     D\n",
       "row 3    20.0  45.0   NaN    17\n",
       "new row     a     b     c     d"
      ]
     },
     "execution_count": 152,
     "metadata": {},
     "output_type": "execute_result"
    }
   ],
   "source": [
    "df1"
   ]
  },
  {
   "cell_type": "code",
   "execution_count": 153,
   "id": "d826178f",
   "metadata": {},
   "outputs": [
    {
     "data": {
      "text/html": [
       "<div>\n",
       "<style scoped>\n",
       "    .dataframe tbody tr th:only-of-type {\n",
       "        vertical-align: middle;\n",
       "    }\n",
       "\n",
       "    .dataframe tbody tr th {\n",
       "        vertical-align: top;\n",
       "    }\n",
       "\n",
       "    .dataframe thead th {\n",
       "        text-align: right;\n",
       "    }\n",
       "</style>\n",
       "<table border=\"1\" class=\"dataframe\">\n",
       "  <thead>\n",
       "    <tr style=\"text-align: right;\">\n",
       "      <th></th>\n",
       "      <th>col 1</th>\n",
       "      <th>col 2</th>\n",
       "      <th>col 3</th>\n",
       "      <th>col 4</th>\n",
       "      <th>col 5</th>\n",
       "    </tr>\n",
       "  </thead>\n",
       "  <tbody>\n",
       "    <tr>\n",
       "      <th>row 1</th>\n",
       "      <td>1</td>\n",
       "      <td>2</td>\n",
       "      <td>3</td>\n",
       "      <td>4</td>\n",
       "      <td>5</td>\n",
       "    </tr>\n",
       "    <tr>\n",
       "      <th>row 2</th>\n",
       "      <td>A</td>\n",
       "      <td>B</td>\n",
       "      <td>C</td>\n",
       "      <td>D</td>\n",
       "      <td>E</td>\n",
       "    </tr>\n",
       "    <tr>\n",
       "      <th>row 3</th>\n",
       "      <td>20.0</td>\n",
       "      <td>45.0</td>\n",
       "      <td>NaN</td>\n",
       "      <td>17</td>\n",
       "      <td>23.67</td>\n",
       "    </tr>\n",
       "    <tr>\n",
       "      <th>new row</th>\n",
       "      <td>a</td>\n",
       "      <td>b</td>\n",
       "      <td>c</td>\n",
       "      <td>d</td>\n",
       "      <td>e</td>\n",
       "    </tr>\n",
       "  </tbody>\n",
       "</table>\n",
       "</div>"
      ],
      "text/plain": [
       "        col 1 col 2 col 3 col 4  col 5\n",
       "row 1       1     2     3     4      5\n",
       "row 2       A     B     C     D      E\n",
       "row 3    20.0  45.0   NaN    17  23.67\n",
       "new row     a     b     c     d      e"
      ]
     },
     "execution_count": 153,
     "metadata": {},
     "output_type": "execute_result"
    }
   ],
   "source": [
    "df1.insert(4,'col 5',dfpop)\n",
    "df1"
   ]
  },
  {
   "cell_type": "markdown",
   "id": "af680ab0",
   "metadata": {},
   "source": [
    "[_Table of Contents_](#toc)"
   ]
  },
  {
   "cell_type": "markdown",
   "id": "71726c71",
   "metadata": {},
   "source": [
    "### _Data exploration_ <a class=\"anchor\" id=\"describe\"></a>"
   ]
  },
  {
   "cell_type": "code",
   "execution_count": 160,
   "id": "12adc613",
   "metadata": {
    "scrolled": true
   },
   "outputs": [
    {
     "data": {
      "text/html": [
       "<div>\n",
       "<style scoped>\n",
       "    .dataframe tbody tr th:only-of-type {\n",
       "        vertical-align: middle;\n",
       "    }\n",
       "\n",
       "    .dataframe tbody tr th {\n",
       "        vertical-align: top;\n",
       "    }\n",
       "\n",
       "    .dataframe thead th {\n",
       "        text-align: right;\n",
       "    }\n",
       "</style>\n",
       "<table border=\"1\" class=\"dataframe\">\n",
       "  <thead>\n",
       "    <tr style=\"text-align: right;\">\n",
       "      <th></th>\n",
       "      <th>A</th>\n",
       "      <th>B</th>\n",
       "      <th>C</th>\n",
       "      <th>D</th>\n",
       "      <th>E</th>\n",
       "    </tr>\n",
       "  </thead>\n",
       "  <tbody>\n",
       "    <tr>\n",
       "      <th>row 1</th>\n",
       "      <td>1</td>\n",
       "      <td>2</td>\n",
       "      <td>3</td>\n",
       "      <td>4</td>\n",
       "      <td>5</td>\n",
       "    </tr>\n",
       "    <tr>\n",
       "      <th>row 2</th>\n",
       "      <td>A</td>\n",
       "      <td>B</td>\n",
       "      <td>C</td>\n",
       "      <td>D</td>\n",
       "      <td>E</td>\n",
       "    </tr>\n",
       "    <tr>\n",
       "      <th>row 3</th>\n",
       "      <td>20.0</td>\n",
       "      <td>45.0</td>\n",
       "      <td>NaN</td>\n",
       "      <td>17</td>\n",
       "      <td>23.67</td>\n",
       "    </tr>\n",
       "  </tbody>\n",
       "</table>\n",
       "</div>"
      ],
      "text/plain": [
       "          A     B    C   D      E\n",
       "row 1     1     2    3   4      5\n",
       "row 2     A     B    C   D      E\n",
       "row 3  20.0  45.0  NaN  17  23.67"
      ]
     },
     "execution_count": 160,
     "metadata": {},
     "output_type": "execute_result"
    }
   ],
   "source": [
    "df2"
   ]
  },
  {
   "cell_type": "code",
   "execution_count": 155,
   "id": "37042fab",
   "metadata": {},
   "outputs": [
    {
     "data": {
      "text/plain": [
       "(3, 5)"
      ]
     },
     "execution_count": 155,
     "metadata": {},
     "output_type": "execute_result"
    }
   ],
   "source": [
    "df2.shape"
   ]
  },
  {
   "cell_type": "code",
   "execution_count": 156,
   "id": "6f9cf4c1",
   "metadata": {},
   "outputs": [
    {
     "data": {
      "text/plain": [
       "15"
      ]
     },
     "execution_count": 156,
     "metadata": {},
     "output_type": "execute_result"
    }
   ],
   "source": [
    "df2.size"
   ]
  },
  {
   "cell_type": "code",
   "execution_count": 162,
   "id": "55ddebee",
   "metadata": {},
   "outputs": [
    {
     "data": {
      "text/html": [
       "<div>\n",
       "<style scoped>\n",
       "    .dataframe tbody tr th:only-of-type {\n",
       "        vertical-align: middle;\n",
       "    }\n",
       "\n",
       "    .dataframe tbody tr th {\n",
       "        vertical-align: top;\n",
       "    }\n",
       "\n",
       "    .dataframe thead th {\n",
       "        text-align: right;\n",
       "    }\n",
       "</style>\n",
       "<table border=\"1\" class=\"dataframe\">\n",
       "  <thead>\n",
       "    <tr style=\"text-align: right;\">\n",
       "      <th></th>\n",
       "      <th>A</th>\n",
       "      <th>B</th>\n",
       "      <th>C</th>\n",
       "      <th>D</th>\n",
       "      <th>E</th>\n",
       "    </tr>\n",
       "  </thead>\n",
       "  <tbody>\n",
       "    <tr>\n",
       "      <th>row 1</th>\n",
       "      <td>1</td>\n",
       "      <td>2</td>\n",
       "      <td>3</td>\n",
       "      <td>4</td>\n",
       "      <td>5</td>\n",
       "    </tr>\n",
       "    <tr>\n",
       "      <th>row 2</th>\n",
       "      <td>A</td>\n",
       "      <td>B</td>\n",
       "      <td>C</td>\n",
       "      <td>D</td>\n",
       "      <td>E</td>\n",
       "    </tr>\n",
       "    <tr>\n",
       "      <th>row 3</th>\n",
       "      <td>20.0</td>\n",
       "      <td>45.0</td>\n",
       "      <td>NaN</td>\n",
       "      <td>17</td>\n",
       "      <td>23.67</td>\n",
       "    </tr>\n",
       "    <tr>\n",
       "      <th>row 1</th>\n",
       "      <td>1</td>\n",
       "      <td>2</td>\n",
       "      <td>3</td>\n",
       "      <td>4</td>\n",
       "      <td>5</td>\n",
       "    </tr>\n",
       "    <tr>\n",
       "      <th>row 2</th>\n",
       "      <td>A</td>\n",
       "      <td>B</td>\n",
       "      <td>C</td>\n",
       "      <td>D</td>\n",
       "      <td>E</td>\n",
       "    </tr>\n",
       "    <tr>\n",
       "      <th>row 3</th>\n",
       "      <td>20.0</td>\n",
       "      <td>45.0</td>\n",
       "      <td>NaN</td>\n",
       "      <td>17</td>\n",
       "      <td>23.67</td>\n",
       "    </tr>\n",
       "    <tr>\n",
       "      <th>row 1</th>\n",
       "      <td>1</td>\n",
       "      <td>2</td>\n",
       "      <td>3</td>\n",
       "      <td>4</td>\n",
       "      <td>5</td>\n",
       "    </tr>\n",
       "    <tr>\n",
       "      <th>row 2</th>\n",
       "      <td>A</td>\n",
       "      <td>B</td>\n",
       "      <td>C</td>\n",
       "      <td>D</td>\n",
       "      <td>E</td>\n",
       "    </tr>\n",
       "    <tr>\n",
       "      <th>row 3</th>\n",
       "      <td>20.0</td>\n",
       "      <td>45.0</td>\n",
       "      <td>NaN</td>\n",
       "      <td>17</td>\n",
       "      <td>23.67</td>\n",
       "    </tr>\n",
       "  </tbody>\n",
       "</table>\n",
       "</div>"
      ],
      "text/plain": [
       "          A     B    C   D      E\n",
       "row 1     1     2    3   4      5\n",
       "row 2     A     B    C   D      E\n",
       "row 3  20.0  45.0  NaN  17  23.67\n",
       "row 1     1     2    3   4      5\n",
       "row 2     A     B    C   D      E\n",
       "row 3  20.0  45.0  NaN  17  23.67\n",
       "row 1     1     2    3   4      5\n",
       "row 2     A     B    C   D      E\n",
       "row 3  20.0  45.0  NaN  17  23.67"
      ]
     },
     "execution_count": 162,
     "metadata": {},
     "output_type": "execute_result"
    }
   ],
   "source": [
    "df13 = pd.concat([df2,df2,df2])\n",
    "df13"
   ]
  },
  {
   "cell_type": "code",
   "execution_count": 163,
   "id": "e421fa07",
   "metadata": {},
   "outputs": [
    {
     "data": {
      "text/plain": [
       "(9, 5)"
      ]
     },
     "execution_count": 163,
     "metadata": {},
     "output_type": "execute_result"
    }
   ],
   "source": [
    "df13.shape"
   ]
  },
  {
   "cell_type": "code",
   "execution_count": 164,
   "id": "0ec56507",
   "metadata": {},
   "outputs": [
    {
     "data": {
      "text/plain": [
       "45"
      ]
     },
     "execution_count": 164,
     "metadata": {},
     "output_type": "execute_result"
    }
   ],
   "source": [
    "df13.size"
   ]
  },
  {
   "cell_type": "code",
   "execution_count": 165,
   "id": "8a0ff760",
   "metadata": {},
   "outputs": [
    {
     "data": {
      "text/html": [
       "<div>\n",
       "<style scoped>\n",
       "    .dataframe tbody tr th:only-of-type {\n",
       "        vertical-align: middle;\n",
       "    }\n",
       "\n",
       "    .dataframe tbody tr th {\n",
       "        vertical-align: top;\n",
       "    }\n",
       "\n",
       "    .dataframe thead th {\n",
       "        text-align: right;\n",
       "    }\n",
       "</style>\n",
       "<table border=\"1\" class=\"dataframe\">\n",
       "  <thead>\n",
       "    <tr style=\"text-align: right;\">\n",
       "      <th></th>\n",
       "      <th>A</th>\n",
       "      <th>B</th>\n",
       "      <th>C</th>\n",
       "      <th>D</th>\n",
       "      <th>E</th>\n",
       "    </tr>\n",
       "  </thead>\n",
       "  <tbody>\n",
       "    <tr>\n",
       "      <th>row 1</th>\n",
       "      <td>1</td>\n",
       "      <td>2</td>\n",
       "      <td>3</td>\n",
       "      <td>4</td>\n",
       "      <td>5</td>\n",
       "    </tr>\n",
       "    <tr>\n",
       "      <th>row 2</th>\n",
       "      <td>A</td>\n",
       "      <td>B</td>\n",
       "      <td>C</td>\n",
       "      <td>D</td>\n",
       "      <td>E</td>\n",
       "    </tr>\n",
       "    <tr>\n",
       "      <th>row 3</th>\n",
       "      <td>20.0</td>\n",
       "      <td>45.0</td>\n",
       "      <td>NaN</td>\n",
       "      <td>17</td>\n",
       "      <td>23.67</td>\n",
       "    </tr>\n",
       "    <tr>\n",
       "      <th>row 1</th>\n",
       "      <td>1</td>\n",
       "      <td>2</td>\n",
       "      <td>3</td>\n",
       "      <td>4</td>\n",
       "      <td>5</td>\n",
       "    </tr>\n",
       "    <tr>\n",
       "      <th>row 2</th>\n",
       "      <td>A</td>\n",
       "      <td>B</td>\n",
       "      <td>C</td>\n",
       "      <td>D</td>\n",
       "      <td>E</td>\n",
       "    </tr>\n",
       "  </tbody>\n",
       "</table>\n",
       "</div>"
      ],
      "text/plain": [
       "          A     B    C   D      E\n",
       "row 1     1     2    3   4      5\n",
       "row 2     A     B    C   D      E\n",
       "row 3  20.0  45.0  NaN  17  23.67\n",
       "row 1     1     2    3   4      5\n",
       "row 2     A     B    C   D      E"
      ]
     },
     "execution_count": 165,
     "metadata": {},
     "output_type": "execute_result"
    }
   ],
   "source": [
    "df13.head()"
   ]
  },
  {
   "cell_type": "code",
   "execution_count": 187,
   "id": "f168de9e",
   "metadata": {},
   "outputs": [
    {
     "data": {
      "text/html": [
       "<div>\n",
       "<style scoped>\n",
       "    .dataframe tbody tr th:only-of-type {\n",
       "        vertical-align: middle;\n",
       "    }\n",
       "\n",
       "    .dataframe tbody tr th {\n",
       "        vertical-align: top;\n",
       "    }\n",
       "\n",
       "    .dataframe thead th {\n",
       "        text-align: right;\n",
       "    }\n",
       "</style>\n",
       "<table border=\"1\" class=\"dataframe\">\n",
       "  <thead>\n",
       "    <tr style=\"text-align: right;\">\n",
       "      <th></th>\n",
       "      <th>A</th>\n",
       "      <th>B</th>\n",
       "      <th>C</th>\n",
       "      <th>D</th>\n",
       "      <th>E</th>\n",
       "    </tr>\n",
       "  </thead>\n",
       "  <tbody>\n",
       "    <tr>\n",
       "      <th>row 1</th>\n",
       "      <td>1</td>\n",
       "      <td>2</td>\n",
       "      <td>3</td>\n",
       "      <td>4</td>\n",
       "      <td>5</td>\n",
       "    </tr>\n",
       "    <tr>\n",
       "      <th>row 2</th>\n",
       "      <td>A</td>\n",
       "      <td>B</td>\n",
       "      <td>C</td>\n",
       "      <td>D</td>\n",
       "      <td>E</td>\n",
       "    </tr>\n",
       "  </tbody>\n",
       "</table>\n",
       "</div>"
      ],
      "text/plain": [
       "       A  B  C  D  E\n",
       "row 1  1  2  3  4  5\n",
       "row 2  A  B  C  D  E"
      ]
     },
     "execution_count": 187,
     "metadata": {},
     "output_type": "execute_result"
    }
   ],
   "source": [
    "df13.head(2)"
   ]
  },
  {
   "cell_type": "code",
   "execution_count": 166,
   "id": "fefbbe81",
   "metadata": {},
   "outputs": [
    {
     "data": {
      "text/html": [
       "<div>\n",
       "<style scoped>\n",
       "    .dataframe tbody tr th:only-of-type {\n",
       "        vertical-align: middle;\n",
       "    }\n",
       "\n",
       "    .dataframe tbody tr th {\n",
       "        vertical-align: top;\n",
       "    }\n",
       "\n",
       "    .dataframe thead th {\n",
       "        text-align: right;\n",
       "    }\n",
       "</style>\n",
       "<table border=\"1\" class=\"dataframe\">\n",
       "  <thead>\n",
       "    <tr style=\"text-align: right;\">\n",
       "      <th></th>\n",
       "      <th>A</th>\n",
       "      <th>B</th>\n",
       "      <th>C</th>\n",
       "      <th>D</th>\n",
       "      <th>E</th>\n",
       "    </tr>\n",
       "  </thead>\n",
       "  <tbody>\n",
       "    <tr>\n",
       "      <th>row 2</th>\n",
       "      <td>A</td>\n",
       "      <td>B</td>\n",
       "      <td>C</td>\n",
       "      <td>D</td>\n",
       "      <td>E</td>\n",
       "    </tr>\n",
       "    <tr>\n",
       "      <th>row 3</th>\n",
       "      <td>20.0</td>\n",
       "      <td>45.0</td>\n",
       "      <td>NaN</td>\n",
       "      <td>17</td>\n",
       "      <td>23.67</td>\n",
       "    </tr>\n",
       "    <tr>\n",
       "      <th>row 1</th>\n",
       "      <td>1</td>\n",
       "      <td>2</td>\n",
       "      <td>3</td>\n",
       "      <td>4</td>\n",
       "      <td>5</td>\n",
       "    </tr>\n",
       "    <tr>\n",
       "      <th>row 2</th>\n",
       "      <td>A</td>\n",
       "      <td>B</td>\n",
       "      <td>C</td>\n",
       "      <td>D</td>\n",
       "      <td>E</td>\n",
       "    </tr>\n",
       "    <tr>\n",
       "      <th>row 3</th>\n",
       "      <td>20.0</td>\n",
       "      <td>45.0</td>\n",
       "      <td>NaN</td>\n",
       "      <td>17</td>\n",
       "      <td>23.67</td>\n",
       "    </tr>\n",
       "  </tbody>\n",
       "</table>\n",
       "</div>"
      ],
      "text/plain": [
       "          A     B    C   D      E\n",
       "row 2     A     B    C   D      E\n",
       "row 3  20.0  45.0  NaN  17  23.67\n",
       "row 1     1     2    3   4      5\n",
       "row 2     A     B    C   D      E\n",
       "row 3  20.0  45.0  NaN  17  23.67"
      ]
     },
     "execution_count": 166,
     "metadata": {},
     "output_type": "execute_result"
    }
   ],
   "source": [
    "df13.tail()"
   ]
  },
  {
   "cell_type": "code",
   "execution_count": 167,
   "id": "1da35517",
   "metadata": {},
   "outputs": [
    {
     "data": {
      "text/plain": [
       "A    9\n",
       "B    9\n",
       "C    6\n",
       "D    9\n",
       "E    9\n",
       "dtype: int64"
      ]
     },
     "execution_count": 167,
     "metadata": {},
     "output_type": "execute_result"
    }
   ],
   "source": [
    "df13.count()"
   ]
  },
  {
   "cell_type": "markdown",
   "id": "3fa521fa",
   "metadata": {},
   "source": [
    "[_Table of Contents_](#toc)"
   ]
  },
  {
   "cell_type": "markdown",
   "id": "4733310a",
   "metadata": {},
   "source": [
    "### _Math_ <a class=\"anchor\" id=\"math\"></a>"
   ]
  },
  {
   "cell_type": "code",
   "execution_count": 171,
   "id": "7b53ddde",
   "metadata": {},
   "outputs": [
    {
     "data": {
      "text/html": [
       "<div>\n",
       "<style scoped>\n",
       "    .dataframe tbody tr th:only-of-type {\n",
       "        vertical-align: middle;\n",
       "    }\n",
       "\n",
       "    .dataframe tbody tr th {\n",
       "        vertical-align: top;\n",
       "    }\n",
       "\n",
       "    .dataframe thead th {\n",
       "        text-align: right;\n",
       "    }\n",
       "</style>\n",
       "<table border=\"1\" class=\"dataframe\">\n",
       "  <thead>\n",
       "    <tr style=\"text-align: right;\">\n",
       "      <th></th>\n",
       "      <th>0</th>\n",
       "      <th>1</th>\n",
       "      <th>2</th>\n",
       "      <th>3</th>\n",
       "      <th>4</th>\n",
       "    </tr>\n",
       "  </thead>\n",
       "  <tbody>\n",
       "    <tr>\n",
       "      <th>0</th>\n",
       "      <td>0</td>\n",
       "      <td>1</td>\n",
       "      <td>2</td>\n",
       "      <td>3</td>\n",
       "      <td>4</td>\n",
       "    </tr>\n",
       "    <tr>\n",
       "      <th>1</th>\n",
       "      <td>5</td>\n",
       "      <td>6</td>\n",
       "      <td>7</td>\n",
       "      <td>8</td>\n",
       "      <td>9</td>\n",
       "    </tr>\n",
       "    <tr>\n",
       "      <th>2</th>\n",
       "      <td>10</td>\n",
       "      <td>11</td>\n",
       "      <td>12</td>\n",
       "      <td>13</td>\n",
       "      <td>14</td>\n",
       "    </tr>\n",
       "  </tbody>\n",
       "</table>\n",
       "</div>"
      ],
      "text/plain": [
       "    0   1   2   3   4\n",
       "0   0   1   2   3   4\n",
       "1   5   6   7   8   9\n",
       "2  10  11  12  13  14"
      ]
     },
     "execution_count": 171,
     "metadata": {},
     "output_type": "execute_result"
    }
   ],
   "source": [
    "df14 = pd.DataFrame(np.arange(15).reshape(3,5))\n",
    "df14"
   ]
  },
  {
   "cell_type": "code",
   "execution_count": 172,
   "id": "0efc6bc9",
   "metadata": {},
   "outputs": [
    {
     "data": {
      "text/html": [
       "<div>\n",
       "<style scoped>\n",
       "    .dataframe tbody tr th:only-of-type {\n",
       "        vertical-align: middle;\n",
       "    }\n",
       "\n",
       "    .dataframe tbody tr th {\n",
       "        vertical-align: top;\n",
       "    }\n",
       "\n",
       "    .dataframe thead th {\n",
       "        text-align: right;\n",
       "    }\n",
       "</style>\n",
       "<table border=\"1\" class=\"dataframe\">\n",
       "  <thead>\n",
       "    <tr style=\"text-align: right;\">\n",
       "      <th></th>\n",
       "      <th>0</th>\n",
       "      <th>1</th>\n",
       "      <th>2</th>\n",
       "      <th>3</th>\n",
       "      <th>4</th>\n",
       "    </tr>\n",
       "  </thead>\n",
       "  <tbody>\n",
       "    <tr>\n",
       "      <th>count</th>\n",
       "      <td>3.0</td>\n",
       "      <td>3.0</td>\n",
       "      <td>3.0</td>\n",
       "      <td>3.0</td>\n",
       "      <td>3.0</td>\n",
       "    </tr>\n",
       "    <tr>\n",
       "      <th>mean</th>\n",
       "      <td>5.0</td>\n",
       "      <td>6.0</td>\n",
       "      <td>7.0</td>\n",
       "      <td>8.0</td>\n",
       "      <td>9.0</td>\n",
       "    </tr>\n",
       "    <tr>\n",
       "      <th>std</th>\n",
       "      <td>5.0</td>\n",
       "      <td>5.0</td>\n",
       "      <td>5.0</td>\n",
       "      <td>5.0</td>\n",
       "      <td>5.0</td>\n",
       "    </tr>\n",
       "    <tr>\n",
       "      <th>min</th>\n",
       "      <td>0.0</td>\n",
       "      <td>1.0</td>\n",
       "      <td>2.0</td>\n",
       "      <td>3.0</td>\n",
       "      <td>4.0</td>\n",
       "    </tr>\n",
       "    <tr>\n",
       "      <th>25%</th>\n",
       "      <td>2.5</td>\n",
       "      <td>3.5</td>\n",
       "      <td>4.5</td>\n",
       "      <td>5.5</td>\n",
       "      <td>6.5</td>\n",
       "    </tr>\n",
       "    <tr>\n",
       "      <th>50%</th>\n",
       "      <td>5.0</td>\n",
       "      <td>6.0</td>\n",
       "      <td>7.0</td>\n",
       "      <td>8.0</td>\n",
       "      <td>9.0</td>\n",
       "    </tr>\n",
       "    <tr>\n",
       "      <th>75%</th>\n",
       "      <td>7.5</td>\n",
       "      <td>8.5</td>\n",
       "      <td>9.5</td>\n",
       "      <td>10.5</td>\n",
       "      <td>11.5</td>\n",
       "    </tr>\n",
       "    <tr>\n",
       "      <th>max</th>\n",
       "      <td>10.0</td>\n",
       "      <td>11.0</td>\n",
       "      <td>12.0</td>\n",
       "      <td>13.0</td>\n",
       "      <td>14.0</td>\n",
       "    </tr>\n",
       "  </tbody>\n",
       "</table>\n",
       "</div>"
      ],
      "text/plain": [
       "          0     1     2     3     4\n",
       "count   3.0   3.0   3.0   3.0   3.0\n",
       "mean    5.0   6.0   7.0   8.0   9.0\n",
       "std     5.0   5.0   5.0   5.0   5.0\n",
       "min     0.0   1.0   2.0   3.0   4.0\n",
       "25%     2.5   3.5   4.5   5.5   6.5\n",
       "50%     5.0   6.0   7.0   8.0   9.0\n",
       "75%     7.5   8.5   9.5  10.5  11.5\n",
       "max    10.0  11.0  12.0  13.0  14.0"
      ]
     },
     "execution_count": 172,
     "metadata": {},
     "output_type": "execute_result"
    }
   ],
   "source": [
    "df14.describe()"
   ]
  },
  {
   "cell_type": "code",
   "execution_count": 174,
   "id": "b39bee11",
   "metadata": {},
   "outputs": [
    {
     "data": {
      "text/plain": [
       "0    5.0\n",
       "1    6.0\n",
       "2    7.0\n",
       "3    8.0\n",
       "4    9.0\n",
       "dtype: float64"
      ]
     },
     "execution_count": 174,
     "metadata": {},
     "output_type": "execute_result"
    }
   ],
   "source": [
    "df14.median()"
   ]
  },
  {
   "cell_type": "code",
   "execution_count": 175,
   "id": "a8aff13a",
   "metadata": {},
   "outputs": [
    {
     "data": {
      "text/plain": [
       "0     2.0\n",
       "1     7.0\n",
       "2    12.0\n",
       "dtype: float64"
      ]
     },
     "execution_count": 175,
     "metadata": {},
     "output_type": "execute_result"
    }
   ],
   "source": [
    "df14.median(axis=1)"
   ]
  },
  {
   "cell_type": "code",
   "execution_count": 176,
   "id": "008efaaf",
   "metadata": {},
   "outputs": [
    {
     "data": {
      "text/plain": [
       "0    5.0\n",
       "1    6.0\n",
       "2    7.0\n",
       "3    8.0\n",
       "4    9.0\n",
       "dtype: float64"
      ]
     },
     "execution_count": 176,
     "metadata": {},
     "output_type": "execute_result"
    }
   ],
   "source": [
    "df14.mean()"
   ]
  },
  {
   "cell_type": "code",
   "execution_count": 177,
   "id": "a2e66ed5",
   "metadata": {},
   "outputs": [
    {
     "data": {
      "text/plain": [
       "0     2.0\n",
       "1     7.0\n",
       "2    12.0\n",
       "dtype: float64"
      ]
     },
     "execution_count": 177,
     "metadata": {},
     "output_type": "execute_result"
    }
   ],
   "source": [
    "df14.mean(axis=1)"
   ]
  },
  {
   "cell_type": "code",
   "execution_count": 178,
   "id": "40fc3766",
   "metadata": {},
   "outputs": [
    {
     "data": {
      "text/html": [
       "<div>\n",
       "<style scoped>\n",
       "    .dataframe tbody tr th:only-of-type {\n",
       "        vertical-align: middle;\n",
       "    }\n",
       "\n",
       "    .dataframe tbody tr th {\n",
       "        vertical-align: top;\n",
       "    }\n",
       "\n",
       "    .dataframe thead th {\n",
       "        text-align: right;\n",
       "    }\n",
       "</style>\n",
       "<table border=\"1\" class=\"dataframe\">\n",
       "  <thead>\n",
       "    <tr style=\"text-align: right;\">\n",
       "      <th></th>\n",
       "      <th>0</th>\n",
       "      <th>1</th>\n",
       "      <th>2</th>\n",
       "      <th>3</th>\n",
       "      <th>4</th>\n",
       "    </tr>\n",
       "  </thead>\n",
       "  <tbody>\n",
       "    <tr>\n",
       "      <th>0</th>\n",
       "      <td>0</td>\n",
       "      <td>1</td>\n",
       "      <td>2</td>\n",
       "      <td>3</td>\n",
       "      <td>4</td>\n",
       "    </tr>\n",
       "    <tr>\n",
       "      <th>1</th>\n",
       "      <td>5</td>\n",
       "      <td>7</td>\n",
       "      <td>9</td>\n",
       "      <td>11</td>\n",
       "      <td>13</td>\n",
       "    </tr>\n",
       "    <tr>\n",
       "      <th>2</th>\n",
       "      <td>15</td>\n",
       "      <td>18</td>\n",
       "      <td>21</td>\n",
       "      <td>24</td>\n",
       "      <td>27</td>\n",
       "    </tr>\n",
       "  </tbody>\n",
       "</table>\n",
       "</div>"
      ],
      "text/plain": [
       "    0   1   2   3   4\n",
       "0   0   1   2   3   4\n",
       "1   5   7   9  11  13\n",
       "2  15  18  21  24  27"
      ]
     },
     "execution_count": 178,
     "metadata": {},
     "output_type": "execute_result"
    }
   ],
   "source": [
    "df14.cumsum()"
   ]
  },
  {
   "cell_type": "code",
   "execution_count": 179,
   "id": "481a6021",
   "metadata": {},
   "outputs": [
    {
     "data": {
      "text/html": [
       "<div>\n",
       "<style scoped>\n",
       "    .dataframe tbody tr th:only-of-type {\n",
       "        vertical-align: middle;\n",
       "    }\n",
       "\n",
       "    .dataframe tbody tr th {\n",
       "        vertical-align: top;\n",
       "    }\n",
       "\n",
       "    .dataframe thead th {\n",
       "        text-align: right;\n",
       "    }\n",
       "</style>\n",
       "<table border=\"1\" class=\"dataframe\">\n",
       "  <thead>\n",
       "    <tr style=\"text-align: right;\">\n",
       "      <th></th>\n",
       "      <th>0</th>\n",
       "      <th>1</th>\n",
       "      <th>2</th>\n",
       "      <th>3</th>\n",
       "      <th>4</th>\n",
       "    </tr>\n",
       "  </thead>\n",
       "  <tbody>\n",
       "    <tr>\n",
       "      <th>0</th>\n",
       "      <td>0</td>\n",
       "      <td>1</td>\n",
       "      <td>3</td>\n",
       "      <td>6</td>\n",
       "      <td>10</td>\n",
       "    </tr>\n",
       "    <tr>\n",
       "      <th>1</th>\n",
       "      <td>5</td>\n",
       "      <td>11</td>\n",
       "      <td>18</td>\n",
       "      <td>26</td>\n",
       "      <td>35</td>\n",
       "    </tr>\n",
       "    <tr>\n",
       "      <th>2</th>\n",
       "      <td>10</td>\n",
       "      <td>21</td>\n",
       "      <td>33</td>\n",
       "      <td>46</td>\n",
       "      <td>60</td>\n",
       "    </tr>\n",
       "  </tbody>\n",
       "</table>\n",
       "</div>"
      ],
      "text/plain": [
       "    0   1   2   3   4\n",
       "0   0   1   3   6  10\n",
       "1   5  11  18  26  35\n",
       "2  10  21  33  46  60"
      ]
     },
     "execution_count": 179,
     "metadata": {},
     "output_type": "execute_result"
    }
   ],
   "source": [
    "df14.cumsum(axis=1)"
   ]
  },
  {
   "cell_type": "code",
   "execution_count": 183,
   "id": "60bfd461",
   "metadata": {},
   "outputs": [
    {
     "data": {
      "text/plain": [
       "0    5.0\n",
       "1    5.0\n",
       "2    5.0\n",
       "3    5.0\n",
       "4    5.0\n",
       "dtype: float64"
      ]
     },
     "execution_count": 183,
     "metadata": {},
     "output_type": "execute_result"
    }
   ],
   "source": [
    "df14.std()"
   ]
  },
  {
   "cell_type": "code",
   "execution_count": 184,
   "id": "ab1729b2",
   "metadata": {},
   "outputs": [
    {
     "data": {
      "text/plain": [
       "0    1.581139\n",
       "1    1.581139\n",
       "2    1.581139\n",
       "dtype: float64"
      ]
     },
     "execution_count": 184,
     "metadata": {},
     "output_type": "execute_result"
    }
   ],
   "source": [
    "df14.std(axis=1)"
   ]
  },
  {
   "cell_type": "code",
   "execution_count": 185,
   "id": "9d32e9d7",
   "metadata": {},
   "outputs": [
    {
     "data": {
      "text/plain": [
       "0    2.886751\n",
       "1    2.886751\n",
       "2    2.886751\n",
       "3    2.886751\n",
       "4    2.886751\n",
       "dtype: float64"
      ]
     },
     "execution_count": 185,
     "metadata": {},
     "output_type": "execute_result"
    }
   ],
   "source": [
    "df14.sem()"
   ]
  },
  {
   "cell_type": "code",
   "execution_count": 186,
   "id": "84f23c96",
   "metadata": {},
   "outputs": [
    {
     "data": {
      "text/plain": [
       "0    0.707107\n",
       "1    0.707107\n",
       "2    0.707107\n",
       "dtype: float64"
      ]
     },
     "execution_count": 186,
     "metadata": {},
     "output_type": "execute_result"
    }
   ],
   "source": [
    "df14.sem(axis=1)"
   ]
  },
  {
   "cell_type": "code",
   "execution_count": 180,
   "id": "51dc4a72",
   "metadata": {},
   "outputs": [
    {
     "data": {
      "text/html": [
       "<div>\n",
       "<style scoped>\n",
       "    .dataframe tbody tr th:only-of-type {\n",
       "        vertical-align: middle;\n",
       "    }\n",
       "\n",
       "    .dataframe tbody tr th {\n",
       "        vertical-align: top;\n",
       "    }\n",
       "\n",
       "    .dataframe thead th {\n",
       "        text-align: right;\n",
       "    }\n",
       "</style>\n",
       "<table border=\"1\" class=\"dataframe\">\n",
       "  <thead>\n",
       "    <tr style=\"text-align: right;\">\n",
       "      <th></th>\n",
       "      <th>0</th>\n",
       "      <th>1</th>\n",
       "      <th>2</th>\n",
       "      <th>3</th>\n",
       "      <th>4</th>\n",
       "    </tr>\n",
       "  </thead>\n",
       "  <tbody>\n",
       "    <tr>\n",
       "      <th>0</th>\n",
       "      <td>0</td>\n",
       "      <td>2</td>\n",
       "      <td>4</td>\n",
       "      <td>6</td>\n",
       "      <td>8</td>\n",
       "    </tr>\n",
       "    <tr>\n",
       "      <th>1</th>\n",
       "      <td>10</td>\n",
       "      <td>12</td>\n",
       "      <td>14</td>\n",
       "      <td>16</td>\n",
       "      <td>18</td>\n",
       "    </tr>\n",
       "    <tr>\n",
       "      <th>2</th>\n",
       "      <td>20</td>\n",
       "      <td>22</td>\n",
       "      <td>24</td>\n",
       "      <td>26</td>\n",
       "      <td>28</td>\n",
       "    </tr>\n",
       "  </tbody>\n",
       "</table>\n",
       "</div>"
      ],
      "text/plain": [
       "    0   1   2   3   4\n",
       "0   0   2   4   6   8\n",
       "1  10  12  14  16  18\n",
       "2  20  22  24  26  28"
      ]
     },
     "execution_count": 180,
     "metadata": {},
     "output_type": "execute_result"
    }
   ],
   "source": [
    "df14 * 2"
   ]
  },
  {
   "cell_type": "code",
   "execution_count": 181,
   "id": "466e8ad5",
   "metadata": {},
   "outputs": [
    {
     "data": {
      "text/html": [
       "<div>\n",
       "<style scoped>\n",
       "    .dataframe tbody tr th:only-of-type {\n",
       "        vertical-align: middle;\n",
       "    }\n",
       "\n",
       "    .dataframe tbody tr th {\n",
       "        vertical-align: top;\n",
       "    }\n",
       "\n",
       "    .dataframe thead th {\n",
       "        text-align: right;\n",
       "    }\n",
       "</style>\n",
       "<table border=\"1\" class=\"dataframe\">\n",
       "  <thead>\n",
       "    <tr style=\"text-align: right;\">\n",
       "      <th></th>\n",
       "      <th>0</th>\n",
       "      <th>1</th>\n",
       "      <th>2</th>\n",
       "      <th>3</th>\n",
       "      <th>4</th>\n",
       "    </tr>\n",
       "  </thead>\n",
       "  <tbody>\n",
       "    <tr>\n",
       "      <th>0</th>\n",
       "      <td>1.000000</td>\n",
       "      <td>2.718282</td>\n",
       "      <td>7.389056</td>\n",
       "      <td>20.085537</td>\n",
       "      <td>5.459815e+01</td>\n",
       "    </tr>\n",
       "    <tr>\n",
       "      <th>1</th>\n",
       "      <td>148.413159</td>\n",
       "      <td>403.428793</td>\n",
       "      <td>1096.633158</td>\n",
       "      <td>2980.957987</td>\n",
       "      <td>8.103084e+03</td>\n",
       "    </tr>\n",
       "    <tr>\n",
       "      <th>2</th>\n",
       "      <td>22026.465795</td>\n",
       "      <td>59874.141715</td>\n",
       "      <td>162754.791419</td>\n",
       "      <td>442413.392009</td>\n",
       "      <td>1.202604e+06</td>\n",
       "    </tr>\n",
       "  </tbody>\n",
       "</table>\n",
       "</div>"
      ],
      "text/plain": [
       "              0             1              2              3             4\n",
       "0      1.000000      2.718282       7.389056      20.085537  5.459815e+01\n",
       "1    148.413159    403.428793    1096.633158    2980.957987  8.103084e+03\n",
       "2  22026.465795  59874.141715  162754.791419  442413.392009  1.202604e+06"
      ]
     },
     "execution_count": 181,
     "metadata": {},
     "output_type": "execute_result"
    }
   ],
   "source": [
    "np.exp(df14)"
   ]
  },
  {
   "cell_type": "code",
   "execution_count": 182,
   "id": "26d50914",
   "metadata": {},
   "outputs": [
    {
     "data": {
      "text/html": [
       "<div>\n",
       "<style scoped>\n",
       "    .dataframe tbody tr th:only-of-type {\n",
       "        vertical-align: middle;\n",
       "    }\n",
       "\n",
       "    .dataframe tbody tr th {\n",
       "        vertical-align: top;\n",
       "    }\n",
       "\n",
       "    .dataframe thead th {\n",
       "        text-align: right;\n",
       "    }\n",
       "</style>\n",
       "<table border=\"1\" class=\"dataframe\">\n",
       "  <thead>\n",
       "    <tr style=\"text-align: right;\">\n",
       "      <th></th>\n",
       "      <th>0</th>\n",
       "      <th>1</th>\n",
       "      <th>2</th>\n",
       "      <th>3</th>\n",
       "      <th>4</th>\n",
       "    </tr>\n",
       "  </thead>\n",
       "  <tbody>\n",
       "    <tr>\n",
       "      <th>0</th>\n",
       "      <td>0</td>\n",
       "      <td>-1</td>\n",
       "      <td>-2</td>\n",
       "      <td>-3</td>\n",
       "      <td>-4</td>\n",
       "    </tr>\n",
       "    <tr>\n",
       "      <th>1</th>\n",
       "      <td>-5</td>\n",
       "      <td>-6</td>\n",
       "      <td>-7</td>\n",
       "      <td>-8</td>\n",
       "      <td>-9</td>\n",
       "    </tr>\n",
       "    <tr>\n",
       "      <th>2</th>\n",
       "      <td>-10</td>\n",
       "      <td>-11</td>\n",
       "      <td>-12</td>\n",
       "      <td>-13</td>\n",
       "      <td>-14</td>\n",
       "    </tr>\n",
       "  </tbody>\n",
       "</table>\n",
       "</div>"
      ],
      "text/plain": [
       "    0   1   2   3   4\n",
       "0   0  -1  -2  -3  -4\n",
       "1  -5  -6  -7  -8  -9\n",
       "2 -10 -11 -12 -13 -14"
      ]
     },
     "execution_count": 182,
     "metadata": {},
     "output_type": "execute_result"
    }
   ],
   "source": [
    "-df14"
   ]
  },
  {
   "cell_type": "markdown",
   "id": "143f62a8",
   "metadata": {},
   "source": [
    "[_Table of Contents_](#toc)"
   ]
  },
  {
   "cell_type": "markdown",
   "id": "915e9fe2",
   "metadata": {},
   "source": [
    "### _Location & Indexing_"
   ]
  },
  {
   "cell_type": "code",
   "execution_count": null,
   "id": "192a6d71",
   "metadata": {},
   "outputs": [],
   "source": []
  },
  {
   "cell_type": "markdown",
   "id": "e39cbcf4",
   "metadata": {},
   "source": [
    "### _Multi-Indexing_"
   ]
  },
  {
   "cell_type": "code",
   "execution_count": null,
   "id": "5da0d151",
   "metadata": {},
   "outputs": [],
   "source": []
  },
  {
   "cell_type": "code",
   "execution_count": null,
   "id": "ba4e6518",
   "metadata": {},
   "outputs": [],
   "source": []
  },
  {
   "cell_type": "markdown",
   "id": "56a19208",
   "metadata": {},
   "source": [
    "### _Reshaping_"
   ]
  },
  {
   "cell_type": "code",
   "execution_count": null,
   "id": "2e74de68",
   "metadata": {},
   "outputs": [],
   "source": []
  },
  {
   "cell_type": "markdown",
   "id": "1b687712",
   "metadata": {},
   "source": [
    "### _Plotting_"
   ]
  },
  {
   "cell_type": "code",
   "execution_count": null,
   "id": "3318cce0",
   "metadata": {},
   "outputs": [],
   "source": []
  },
  {
   "cell_type": "markdown",
   "id": "1e5deb8d",
   "metadata": {},
   "source": [
    "# Example Datasets <a class=\"anchor\" id=\"examples\"></a>"
   ]
  },
  {
   "cell_type": "code",
   "execution_count": 337,
   "id": "f9035f53",
   "metadata": {},
   "outputs": [],
   "source": [
    "import matplotlib.pyplot as plt\n",
    "import seaborn as sns\n",
    "%matplotlib inline"
   ]
  },
  {
   "cell_type": "markdown",
   "id": "e88ef8dd",
   "metadata": {},
   "source": [
    "### _COVID - US Counties_ <a class=\"anchor\" id=\"covid\"></a>"
   ]
  },
  {
   "cell_type": "markdown",
   "id": "c0d67985",
   "metadata": {},
   "source": [
    "Kaggle dataset - https://www.kaggle.com/datasets/fireballbyedimyrnmom/us-counties-covid-19-dataset"
   ]
  },
  {
   "cell_type": "code",
   "execution_count": 304,
   "id": "05eeb519",
   "metadata": {},
   "outputs": [
    {
     "data": {
      "text/html": [
       "<div>\n",
       "<style scoped>\n",
       "    .dataframe tbody tr th:only-of-type {\n",
       "        vertical-align: middle;\n",
       "    }\n",
       "\n",
       "    .dataframe tbody tr th {\n",
       "        vertical-align: top;\n",
       "    }\n",
       "\n",
       "    .dataframe thead th {\n",
       "        text-align: right;\n",
       "    }\n",
       "</style>\n",
       "<table border=\"1\" class=\"dataframe\">\n",
       "  <thead>\n",
       "    <tr style=\"text-align: right;\">\n",
       "      <th></th>\n",
       "      <th>date</th>\n",
       "      <th>county</th>\n",
       "      <th>state</th>\n",
       "      <th>fips</th>\n",
       "      <th>cases</th>\n",
       "      <th>deaths</th>\n",
       "    </tr>\n",
       "  </thead>\n",
       "  <tbody>\n",
       "    <tr>\n",
       "      <th>0</th>\n",
       "      <td>2020-01-21</td>\n",
       "      <td>Snohomish</td>\n",
       "      <td>Washington</td>\n",
       "      <td>53061.0</td>\n",
       "      <td>1</td>\n",
       "      <td>0.0</td>\n",
       "    </tr>\n",
       "    <tr>\n",
       "      <th>1</th>\n",
       "      <td>2020-01-22</td>\n",
       "      <td>Snohomish</td>\n",
       "      <td>Washington</td>\n",
       "      <td>53061.0</td>\n",
       "      <td>1</td>\n",
       "      <td>0.0</td>\n",
       "    </tr>\n",
       "    <tr>\n",
       "      <th>2</th>\n",
       "      <td>2020-01-23</td>\n",
       "      <td>Snohomish</td>\n",
       "      <td>Washington</td>\n",
       "      <td>53061.0</td>\n",
       "      <td>1</td>\n",
       "      <td>0.0</td>\n",
       "    </tr>\n",
       "    <tr>\n",
       "      <th>3</th>\n",
       "      <td>2020-01-24</td>\n",
       "      <td>Cook</td>\n",
       "      <td>Illinois</td>\n",
       "      <td>17031.0</td>\n",
       "      <td>1</td>\n",
       "      <td>0.0</td>\n",
       "    </tr>\n",
       "    <tr>\n",
       "      <th>4</th>\n",
       "      <td>2020-01-24</td>\n",
       "      <td>Snohomish</td>\n",
       "      <td>Washington</td>\n",
       "      <td>53061.0</td>\n",
       "      <td>1</td>\n",
       "      <td>0.0</td>\n",
       "    </tr>\n",
       "    <tr>\n",
       "      <th>...</th>\n",
       "      <td>...</td>\n",
       "      <td>...</td>\n",
       "      <td>...</td>\n",
       "      <td>...</td>\n",
       "      <td>...</td>\n",
       "      <td>...</td>\n",
       "    </tr>\n",
       "    <tr>\n",
       "      <th>2502827</th>\n",
       "      <td>2022-05-13</td>\n",
       "      <td>Sweetwater</td>\n",
       "      <td>Wyoming</td>\n",
       "      <td>56037.0</td>\n",
       "      <td>11088</td>\n",
       "      <td>126.0</td>\n",
       "    </tr>\n",
       "    <tr>\n",
       "      <th>2502828</th>\n",
       "      <td>2022-05-13</td>\n",
       "      <td>Teton</td>\n",
       "      <td>Wyoming</td>\n",
       "      <td>56039.0</td>\n",
       "      <td>10074</td>\n",
       "      <td>16.0</td>\n",
       "    </tr>\n",
       "    <tr>\n",
       "      <th>2502829</th>\n",
       "      <td>2022-05-13</td>\n",
       "      <td>Uinta</td>\n",
       "      <td>Wyoming</td>\n",
       "      <td>56041.0</td>\n",
       "      <td>5643</td>\n",
       "      <td>39.0</td>\n",
       "    </tr>\n",
       "    <tr>\n",
       "      <th>2502830</th>\n",
       "      <td>2022-05-13</td>\n",
       "      <td>Washakie</td>\n",
       "      <td>Wyoming</td>\n",
       "      <td>56043.0</td>\n",
       "      <td>2358</td>\n",
       "      <td>44.0</td>\n",
       "    </tr>\n",
       "    <tr>\n",
       "      <th>2502831</th>\n",
       "      <td>2022-05-13</td>\n",
       "      <td>Weston</td>\n",
       "      <td>Wyoming</td>\n",
       "      <td>56045.0</td>\n",
       "      <td>1588</td>\n",
       "      <td>18.0</td>\n",
       "    </tr>\n",
       "  </tbody>\n",
       "</table>\n",
       "<p>2502832 rows × 6 columns</p>\n",
       "</div>"
      ],
      "text/plain": [
       "               date      county       state     fips  cases  deaths\n",
       "0        2020-01-21   Snohomish  Washington  53061.0      1     0.0\n",
       "1        2020-01-22   Snohomish  Washington  53061.0      1     0.0\n",
       "2        2020-01-23   Snohomish  Washington  53061.0      1     0.0\n",
       "3        2020-01-24        Cook    Illinois  17031.0      1     0.0\n",
       "4        2020-01-24   Snohomish  Washington  53061.0      1     0.0\n",
       "...             ...         ...         ...      ...    ...     ...\n",
       "2502827  2022-05-13  Sweetwater     Wyoming  56037.0  11088   126.0\n",
       "2502828  2022-05-13       Teton     Wyoming  56039.0  10074    16.0\n",
       "2502829  2022-05-13       Uinta     Wyoming  56041.0   5643    39.0\n",
       "2502830  2022-05-13    Washakie     Wyoming  56043.0   2358    44.0\n",
       "2502831  2022-05-13      Weston     Wyoming  56045.0   1588    18.0\n",
       "\n",
       "[2502832 rows x 6 columns]"
      ]
     },
     "execution_count": 304,
     "metadata": {},
     "output_type": "execute_result"
    }
   ],
   "source": [
    "path = r'/Users/Matthew/Desktop/us-counties.csv'\n",
    "covid = pd.read_csv(path)\n",
    "covid"
   ]
  },
  {
   "cell_type": "code",
   "execution_count": 301,
   "id": "eba7e18a",
   "metadata": {},
   "outputs": [
    {
     "data": {
      "text/html": [
       "<div>\n",
       "<style scoped>\n",
       "    .dataframe tbody tr th:only-of-type {\n",
       "        vertical-align: middle;\n",
       "    }\n",
       "\n",
       "    .dataframe tbody tr th {\n",
       "        vertical-align: top;\n",
       "    }\n",
       "\n",
       "    .dataframe thead th {\n",
       "        text-align: right;\n",
       "    }\n",
       "</style>\n",
       "<table border=\"1\" class=\"dataframe\">\n",
       "  <thead>\n",
       "    <tr style=\"text-align: right;\">\n",
       "      <th></th>\n",
       "      <th>date</th>\n",
       "      <th>county</th>\n",
       "      <th>state</th>\n",
       "      <th>fips</th>\n",
       "      <th>cases</th>\n",
       "      <th>deaths</th>\n",
       "    </tr>\n",
       "  </thead>\n",
       "  <tbody>\n",
       "    <tr>\n",
       "      <th>0</th>\n",
       "      <td>2020-01-21</td>\n",
       "      <td>Snohomish</td>\n",
       "      <td>Washington</td>\n",
       "      <td>53061.0</td>\n",
       "      <td>1</td>\n",
       "      <td>0.0</td>\n",
       "    </tr>\n",
       "    <tr>\n",
       "      <th>1</th>\n",
       "      <td>2020-01-22</td>\n",
       "      <td>Snohomish</td>\n",
       "      <td>Washington</td>\n",
       "      <td>53061.0</td>\n",
       "      <td>1</td>\n",
       "      <td>0.0</td>\n",
       "    </tr>\n",
       "    <tr>\n",
       "      <th>2</th>\n",
       "      <td>2020-01-23</td>\n",
       "      <td>Snohomish</td>\n",
       "      <td>Washington</td>\n",
       "      <td>53061.0</td>\n",
       "      <td>1</td>\n",
       "      <td>0.0</td>\n",
       "    </tr>\n",
       "    <tr>\n",
       "      <th>3</th>\n",
       "      <td>2020-01-24</td>\n",
       "      <td>Cook</td>\n",
       "      <td>Illinois</td>\n",
       "      <td>17031.0</td>\n",
       "      <td>1</td>\n",
       "      <td>0.0</td>\n",
       "    </tr>\n",
       "    <tr>\n",
       "      <th>4</th>\n",
       "      <td>2020-01-24</td>\n",
       "      <td>Snohomish</td>\n",
       "      <td>Washington</td>\n",
       "      <td>53061.0</td>\n",
       "      <td>1</td>\n",
       "      <td>0.0</td>\n",
       "    </tr>\n",
       "  </tbody>\n",
       "</table>\n",
       "</div>"
      ],
      "text/plain": [
       "         date     county       state     fips  cases  deaths\n",
       "0  2020-01-21  Snohomish  Washington  53061.0      1     0.0\n",
       "1  2020-01-22  Snohomish  Washington  53061.0      1     0.0\n",
       "2  2020-01-23  Snohomish  Washington  53061.0      1     0.0\n",
       "3  2020-01-24       Cook    Illinois  17031.0      1     0.0\n",
       "4  2020-01-24  Snohomish  Washington  53061.0      1     0.0"
      ]
     },
     "execution_count": 301,
     "metadata": {},
     "output_type": "execute_result"
    }
   ],
   "source": [
    "covid.head()"
   ]
  },
  {
   "cell_type": "code",
   "execution_count": 302,
   "id": "0de7a8f1",
   "metadata": {},
   "outputs": [
    {
     "data": {
      "text/html": [
       "<div>\n",
       "<style scoped>\n",
       "    .dataframe tbody tr th:only-of-type {\n",
       "        vertical-align: middle;\n",
       "    }\n",
       "\n",
       "    .dataframe tbody tr th {\n",
       "        vertical-align: top;\n",
       "    }\n",
       "\n",
       "    .dataframe thead th {\n",
       "        text-align: right;\n",
       "    }\n",
       "</style>\n",
       "<table border=\"1\" class=\"dataframe\">\n",
       "  <thead>\n",
       "    <tr style=\"text-align: right;\">\n",
       "      <th></th>\n",
       "      <th>date</th>\n",
       "      <th>county</th>\n",
       "      <th>state</th>\n",
       "      <th>fips</th>\n",
       "      <th>cases</th>\n",
       "      <th>deaths</th>\n",
       "    </tr>\n",
       "  </thead>\n",
       "  <tbody>\n",
       "    <tr>\n",
       "      <th>2502827</th>\n",
       "      <td>2022-05-13</td>\n",
       "      <td>Sweetwater</td>\n",
       "      <td>Wyoming</td>\n",
       "      <td>56037.0</td>\n",
       "      <td>11088</td>\n",
       "      <td>126.0</td>\n",
       "    </tr>\n",
       "    <tr>\n",
       "      <th>2502828</th>\n",
       "      <td>2022-05-13</td>\n",
       "      <td>Teton</td>\n",
       "      <td>Wyoming</td>\n",
       "      <td>56039.0</td>\n",
       "      <td>10074</td>\n",
       "      <td>16.0</td>\n",
       "    </tr>\n",
       "    <tr>\n",
       "      <th>2502829</th>\n",
       "      <td>2022-05-13</td>\n",
       "      <td>Uinta</td>\n",
       "      <td>Wyoming</td>\n",
       "      <td>56041.0</td>\n",
       "      <td>5643</td>\n",
       "      <td>39.0</td>\n",
       "    </tr>\n",
       "    <tr>\n",
       "      <th>2502830</th>\n",
       "      <td>2022-05-13</td>\n",
       "      <td>Washakie</td>\n",
       "      <td>Wyoming</td>\n",
       "      <td>56043.0</td>\n",
       "      <td>2358</td>\n",
       "      <td>44.0</td>\n",
       "    </tr>\n",
       "    <tr>\n",
       "      <th>2502831</th>\n",
       "      <td>2022-05-13</td>\n",
       "      <td>Weston</td>\n",
       "      <td>Wyoming</td>\n",
       "      <td>56045.0</td>\n",
       "      <td>1588</td>\n",
       "      <td>18.0</td>\n",
       "    </tr>\n",
       "  </tbody>\n",
       "</table>\n",
       "</div>"
      ],
      "text/plain": [
       "               date      county    state     fips  cases  deaths\n",
       "2502827  2022-05-13  Sweetwater  Wyoming  56037.0  11088   126.0\n",
       "2502828  2022-05-13       Teton  Wyoming  56039.0  10074    16.0\n",
       "2502829  2022-05-13       Uinta  Wyoming  56041.0   5643    39.0\n",
       "2502830  2022-05-13    Washakie  Wyoming  56043.0   2358    44.0\n",
       "2502831  2022-05-13      Weston  Wyoming  56045.0   1588    18.0"
      ]
     },
     "execution_count": 302,
     "metadata": {},
     "output_type": "execute_result"
    }
   ],
   "source": [
    "covid.tail()"
   ]
  },
  {
   "cell_type": "code",
   "execution_count": 303,
   "id": "277cfe42",
   "metadata": {},
   "outputs": [
    {
     "data": {
      "text/plain": [
       "(2502832, 6)"
      ]
     },
     "execution_count": 303,
     "metadata": {},
     "output_type": "execute_result"
    }
   ],
   "source": [
    "covid.shape"
   ]
  },
  {
   "cell_type": "code",
   "execution_count": 305,
   "id": "70ebf94e",
   "metadata": {},
   "outputs": [
    {
     "data": {
      "text/plain": [
       "15016992"
      ]
     },
     "execution_count": 305,
     "metadata": {},
     "output_type": "execute_result"
    }
   ],
   "source": [
    "covid.size"
   ]
  },
  {
   "cell_type": "code",
   "execution_count": 306,
   "id": "15a9953f",
   "metadata": {},
   "outputs": [
    {
     "data": {
      "text/plain": [
       "Index(['date', 'county', 'state', 'fips', 'cases', 'deaths'], dtype='object')"
      ]
     },
     "execution_count": 306,
     "metadata": {},
     "output_type": "execute_result"
    }
   ],
   "source": [
    "covid.columns"
   ]
  },
  {
   "cell_type": "code",
   "execution_count": 307,
   "id": "ed851575",
   "metadata": {},
   "outputs": [
    {
     "data": {
      "text/plain": [
       "RangeIndex(start=0, stop=2502832, step=1)"
      ]
     },
     "execution_count": 307,
     "metadata": {},
     "output_type": "execute_result"
    }
   ],
   "source": [
    "covid.index"
   ]
  },
  {
   "cell_type": "code",
   "execution_count": 308,
   "id": "b8de4e60",
   "metadata": {},
   "outputs": [
    {
     "data": {
      "text/html": [
       "<div>\n",
       "<style scoped>\n",
       "    .dataframe tbody tr th:only-of-type {\n",
       "        vertical-align: middle;\n",
       "    }\n",
       "\n",
       "    .dataframe tbody tr th {\n",
       "        vertical-align: top;\n",
       "    }\n",
       "\n",
       "    .dataframe thead th {\n",
       "        text-align: right;\n",
       "    }\n",
       "</style>\n",
       "<table border=\"1\" class=\"dataframe\">\n",
       "  <thead>\n",
       "    <tr style=\"text-align: right;\">\n",
       "      <th></th>\n",
       "      <th>fips</th>\n",
       "      <th>cases</th>\n",
       "      <th>deaths</th>\n",
       "    </tr>\n",
       "  </thead>\n",
       "  <tbody>\n",
       "    <tr>\n",
       "      <th>count</th>\n",
       "      <td>2.479154e+06</td>\n",
       "      <td>2.502832e+06</td>\n",
       "      <td>2.445227e+06</td>\n",
       "    </tr>\n",
       "    <tr>\n",
       "      <th>mean</th>\n",
       "      <td>3.139958e+04</td>\n",
       "      <td>1.003380e+04</td>\n",
       "      <td>1.616100e+02</td>\n",
       "    </tr>\n",
       "    <tr>\n",
       "      <th>std</th>\n",
       "      <td>1.634251e+04</td>\n",
       "      <td>4.752522e+04</td>\n",
       "      <td>8.203335e+02</td>\n",
       "    </tr>\n",
       "    <tr>\n",
       "      <th>min</th>\n",
       "      <td>1.001000e+03</td>\n",
       "      <td>0.000000e+00</td>\n",
       "      <td>0.000000e+00</td>\n",
       "    </tr>\n",
       "    <tr>\n",
       "      <th>25%</th>\n",
       "      <td>1.902300e+04</td>\n",
       "      <td>3.820000e+02</td>\n",
       "      <td>6.000000e+00</td>\n",
       "    </tr>\n",
       "    <tr>\n",
       "      <th>50%</th>\n",
       "      <td>3.001100e+04</td>\n",
       "      <td>1.773000e+03</td>\n",
       "      <td>3.300000e+01</td>\n",
       "    </tr>\n",
       "    <tr>\n",
       "      <th>75%</th>\n",
       "      <td>4.611100e+04</td>\n",
       "      <td>5.884000e+03</td>\n",
       "      <td>1.010000e+02</td>\n",
       "    </tr>\n",
       "    <tr>\n",
       "      <th>max</th>\n",
       "      <td>7.803000e+04</td>\n",
       "      <td>2.908425e+06</td>\n",
       "      <td>4.026700e+04</td>\n",
       "    </tr>\n",
       "  </tbody>\n",
       "</table>\n",
       "</div>"
      ],
      "text/plain": [
       "               fips         cases        deaths\n",
       "count  2.479154e+06  2.502832e+06  2.445227e+06\n",
       "mean   3.139958e+04  1.003380e+04  1.616100e+02\n",
       "std    1.634251e+04  4.752522e+04  8.203335e+02\n",
       "min    1.001000e+03  0.000000e+00  0.000000e+00\n",
       "25%    1.902300e+04  3.820000e+02  6.000000e+00\n",
       "50%    3.001100e+04  1.773000e+03  3.300000e+01\n",
       "75%    4.611100e+04  5.884000e+03  1.010000e+02\n",
       "max    7.803000e+04  2.908425e+06  4.026700e+04"
      ]
     },
     "execution_count": 308,
     "metadata": {},
     "output_type": "execute_result"
    }
   ],
   "source": [
    "covid.describe()"
   ]
  },
  {
   "cell_type": "code",
   "execution_count": 309,
   "id": "3dae985f",
   "metadata": {},
   "outputs": [
    {
     "data": {
      "text/plain": [
       "date      2502832\n",
       "county    2502832\n",
       "state     2502832\n",
       "fips      2479154\n",
       "cases     2502832\n",
       "deaths    2445227\n",
       "dtype: int64"
      ]
     },
     "execution_count": 309,
     "metadata": {},
     "output_type": "execute_result"
    }
   ],
   "source": [
    "covid.count()"
   ]
  },
  {
   "cell_type": "code",
   "execution_count": 310,
   "id": "dc2091b1",
   "metadata": {},
   "outputs": [
    {
     "data": {
      "text/plain": [
       "0          53061.0\n",
       "1          53061.0\n",
       "2          53061.0\n",
       "3          17031.0\n",
       "4          53061.0\n",
       "            ...   \n",
       "2502827    56037.0\n",
       "2502828    56039.0\n",
       "2502829    56041.0\n",
       "2502830    56043.0\n",
       "2502831    56045.0\n",
       "Name: fips, Length: 2502832, dtype: float64"
      ]
     },
     "execution_count": 310,
     "metadata": {},
     "output_type": "execute_result"
    }
   ],
   "source": [
    "covid.pop('fips')"
   ]
  },
  {
   "cell_type": "code",
   "execution_count": 311,
   "id": "752e74e9",
   "metadata": {},
   "outputs": [
    {
     "data": {
      "text/html": [
       "<div>\n",
       "<style scoped>\n",
       "    .dataframe tbody tr th:only-of-type {\n",
       "        vertical-align: middle;\n",
       "    }\n",
       "\n",
       "    .dataframe tbody tr th {\n",
       "        vertical-align: top;\n",
       "    }\n",
       "\n",
       "    .dataframe thead th {\n",
       "        text-align: right;\n",
       "    }\n",
       "</style>\n",
       "<table border=\"1\" class=\"dataframe\">\n",
       "  <thead>\n",
       "    <tr style=\"text-align: right;\">\n",
       "      <th></th>\n",
       "      <th>date</th>\n",
       "      <th>county</th>\n",
       "      <th>state</th>\n",
       "      <th>cases</th>\n",
       "      <th>deaths</th>\n",
       "    </tr>\n",
       "  </thead>\n",
       "  <tbody>\n",
       "    <tr>\n",
       "      <th>0</th>\n",
       "      <td>2020-01-21</td>\n",
       "      <td>Snohomish</td>\n",
       "      <td>Washington</td>\n",
       "      <td>1</td>\n",
       "      <td>0.0</td>\n",
       "    </tr>\n",
       "    <tr>\n",
       "      <th>1</th>\n",
       "      <td>2020-01-22</td>\n",
       "      <td>Snohomish</td>\n",
       "      <td>Washington</td>\n",
       "      <td>1</td>\n",
       "      <td>0.0</td>\n",
       "    </tr>\n",
       "    <tr>\n",
       "      <th>2</th>\n",
       "      <td>2020-01-23</td>\n",
       "      <td>Snohomish</td>\n",
       "      <td>Washington</td>\n",
       "      <td>1</td>\n",
       "      <td>0.0</td>\n",
       "    </tr>\n",
       "    <tr>\n",
       "      <th>3</th>\n",
       "      <td>2020-01-24</td>\n",
       "      <td>Cook</td>\n",
       "      <td>Illinois</td>\n",
       "      <td>1</td>\n",
       "      <td>0.0</td>\n",
       "    </tr>\n",
       "    <tr>\n",
       "      <th>4</th>\n",
       "      <td>2020-01-24</td>\n",
       "      <td>Snohomish</td>\n",
       "      <td>Washington</td>\n",
       "      <td>1</td>\n",
       "      <td>0.0</td>\n",
       "    </tr>\n",
       "  </tbody>\n",
       "</table>\n",
       "</div>"
      ],
      "text/plain": [
       "         date     county       state  cases  deaths\n",
       "0  2020-01-21  Snohomish  Washington      1     0.0\n",
       "1  2020-01-22  Snohomish  Washington      1     0.0\n",
       "2  2020-01-23  Snohomish  Washington      1     0.0\n",
       "3  2020-01-24       Cook    Illinois      1     0.0\n",
       "4  2020-01-24  Snohomish  Washington      1     0.0"
      ]
     },
     "execution_count": 311,
     "metadata": {},
     "output_type": "execute_result"
    }
   ],
   "source": [
    "covid.head()"
   ]
  },
  {
   "cell_type": "code",
   "execution_count": 312,
   "id": "9ed9fcda",
   "metadata": {},
   "outputs": [
    {
     "data": {
      "text/html": [
       "<div>\n",
       "<style scoped>\n",
       "    .dataframe tbody tr th:only-of-type {\n",
       "        vertical-align: middle;\n",
       "    }\n",
       "\n",
       "    .dataframe tbody tr th {\n",
       "        vertical-align: top;\n",
       "    }\n",
       "\n",
       "    .dataframe thead th {\n",
       "        text-align: right;\n",
       "    }\n",
       "</style>\n",
       "<table border=\"1\" class=\"dataframe\">\n",
       "  <thead>\n",
       "    <tr style=\"text-align: right;\">\n",
       "      <th></th>\n",
       "      <th>date</th>\n",
       "      <th>county</th>\n",
       "      <th>state</th>\n",
       "      <th>cases</th>\n",
       "      <th>deaths</th>\n",
       "    </tr>\n",
       "  </thead>\n",
       "  <tbody>\n",
       "    <tr>\n",
       "      <th>0</th>\n",
       "      <td>2020-03-24</td>\n",
       "      <td>Autauga</td>\n",
       "      <td>Alabama</td>\n",
       "      <td>1</td>\n",
       "      <td>0.0</td>\n",
       "    </tr>\n",
       "    <tr>\n",
       "      <th>1</th>\n",
       "      <td>2020-03-25</td>\n",
       "      <td>Autauga</td>\n",
       "      <td>Alabama</td>\n",
       "      <td>4</td>\n",
       "      <td>0.0</td>\n",
       "    </tr>\n",
       "    <tr>\n",
       "      <th>2</th>\n",
       "      <td>2020-03-26</td>\n",
       "      <td>Autauga</td>\n",
       "      <td>Alabama</td>\n",
       "      <td>6</td>\n",
       "      <td>0.0</td>\n",
       "    </tr>\n",
       "    <tr>\n",
       "      <th>3</th>\n",
       "      <td>2020-03-27</td>\n",
       "      <td>Autauga</td>\n",
       "      <td>Alabama</td>\n",
       "      <td>6</td>\n",
       "      <td>0.0</td>\n",
       "    </tr>\n",
       "    <tr>\n",
       "      <th>4</th>\n",
       "      <td>2020-03-28</td>\n",
       "      <td>Autauga</td>\n",
       "      <td>Alabama</td>\n",
       "      <td>6</td>\n",
       "      <td>0.0</td>\n",
       "    </tr>\n",
       "    <tr>\n",
       "      <th>...</th>\n",
       "      <td>...</td>\n",
       "      <td>...</td>\n",
       "      <td>...</td>\n",
       "      <td>...</td>\n",
       "      <td>...</td>\n",
       "    </tr>\n",
       "    <tr>\n",
       "      <th>2502827</th>\n",
       "      <td>2022-05-09</td>\n",
       "      <td>Weston</td>\n",
       "      <td>Wyoming</td>\n",
       "      <td>1589</td>\n",
       "      <td>18.0</td>\n",
       "    </tr>\n",
       "    <tr>\n",
       "      <th>2502828</th>\n",
       "      <td>2022-05-10</td>\n",
       "      <td>Weston</td>\n",
       "      <td>Wyoming</td>\n",
       "      <td>1588</td>\n",
       "      <td>18.0</td>\n",
       "    </tr>\n",
       "    <tr>\n",
       "      <th>2502829</th>\n",
       "      <td>2022-05-11</td>\n",
       "      <td>Weston</td>\n",
       "      <td>Wyoming</td>\n",
       "      <td>1588</td>\n",
       "      <td>18.0</td>\n",
       "    </tr>\n",
       "    <tr>\n",
       "      <th>2502830</th>\n",
       "      <td>2022-05-12</td>\n",
       "      <td>Weston</td>\n",
       "      <td>Wyoming</td>\n",
       "      <td>1588</td>\n",
       "      <td>18.0</td>\n",
       "    </tr>\n",
       "    <tr>\n",
       "      <th>2502831</th>\n",
       "      <td>2022-05-13</td>\n",
       "      <td>Weston</td>\n",
       "      <td>Wyoming</td>\n",
       "      <td>1588</td>\n",
       "      <td>18.0</td>\n",
       "    </tr>\n",
       "  </tbody>\n",
       "</table>\n",
       "<p>2502832 rows × 5 columns</p>\n",
       "</div>"
      ],
      "text/plain": [
       "               date   county    state  cases  deaths\n",
       "0        2020-03-24  Autauga  Alabama      1     0.0\n",
       "1        2020-03-25  Autauga  Alabama      4     0.0\n",
       "2        2020-03-26  Autauga  Alabama      6     0.0\n",
       "3        2020-03-27  Autauga  Alabama      6     0.0\n",
       "4        2020-03-28  Autauga  Alabama      6     0.0\n",
       "...             ...      ...      ...    ...     ...\n",
       "2502827  2022-05-09   Weston  Wyoming   1589    18.0\n",
       "2502828  2022-05-10   Weston  Wyoming   1588    18.0\n",
       "2502829  2022-05-11   Weston  Wyoming   1588    18.0\n",
       "2502830  2022-05-12   Weston  Wyoming   1588    18.0\n",
       "2502831  2022-05-13   Weston  Wyoming   1588    18.0\n",
       "\n",
       "[2502832 rows x 5 columns]"
      ]
     },
     "execution_count": 312,
     "metadata": {},
     "output_type": "execute_result"
    }
   ],
   "source": [
    "covid.sort_values(by=['state', 'county'], inplace=True, ignore_index=True)\n",
    "covid"
   ]
  },
  {
   "cell_type": "code",
   "execution_count": 313,
   "id": "03acf248",
   "metadata": {},
   "outputs": [
    {
     "data": {
      "text/html": [
       "<div>\n",
       "<style scoped>\n",
       "    .dataframe tbody tr th:only-of-type {\n",
       "        vertical-align: middle;\n",
       "    }\n",
       "\n",
       "    .dataframe tbody tr th {\n",
       "        vertical-align: top;\n",
       "    }\n",
       "\n",
       "    .dataframe thead th {\n",
       "        text-align: right;\n",
       "    }\n",
       "</style>\n",
       "<table border=\"1\" class=\"dataframe\">\n",
       "  <thead>\n",
       "    <tr style=\"text-align: right;\">\n",
       "      <th></th>\n",
       "      <th>date</th>\n",
       "      <th>county</th>\n",
       "      <th>state</th>\n",
       "      <th>cases</th>\n",
       "      <th>deaths</th>\n",
       "    </tr>\n",
       "  </thead>\n",
       "  <tbody>\n",
       "    <tr>\n",
       "      <th>799738</th>\n",
       "      <td>2020-03-06</td>\n",
       "      <td>Fayette</td>\n",
       "      <td>Kentucky</td>\n",
       "      <td>1</td>\n",
       "      <td>0.0</td>\n",
       "    </tr>\n",
       "    <tr>\n",
       "      <th>799739</th>\n",
       "      <td>2020-03-07</td>\n",
       "      <td>Fayette</td>\n",
       "      <td>Kentucky</td>\n",
       "      <td>1</td>\n",
       "      <td>0.0</td>\n",
       "    </tr>\n",
       "    <tr>\n",
       "      <th>799740</th>\n",
       "      <td>2020-03-08</td>\n",
       "      <td>Fayette</td>\n",
       "      <td>Kentucky</td>\n",
       "      <td>2</td>\n",
       "      <td>0.0</td>\n",
       "    </tr>\n",
       "    <tr>\n",
       "      <th>799741</th>\n",
       "      <td>2020-03-09</td>\n",
       "      <td>Fayette</td>\n",
       "      <td>Kentucky</td>\n",
       "      <td>3</td>\n",
       "      <td>0.0</td>\n",
       "    </tr>\n",
       "    <tr>\n",
       "      <th>799742</th>\n",
       "      <td>2020-03-10</td>\n",
       "      <td>Fayette</td>\n",
       "      <td>Kentucky</td>\n",
       "      <td>3</td>\n",
       "      <td>0.0</td>\n",
       "    </tr>\n",
       "    <tr>\n",
       "      <th>...</th>\n",
       "      <td>...</td>\n",
       "      <td>...</td>\n",
       "      <td>...</td>\n",
       "      <td>...</td>\n",
       "      <td>...</td>\n",
       "    </tr>\n",
       "    <tr>\n",
       "      <th>800532</th>\n",
       "      <td>2022-05-09</td>\n",
       "      <td>Fayette</td>\n",
       "      <td>Kentucky</td>\n",
       "      <td>95993</td>\n",
       "      <td>609.0</td>\n",
       "    </tr>\n",
       "    <tr>\n",
       "      <th>800533</th>\n",
       "      <td>2022-05-10</td>\n",
       "      <td>Fayette</td>\n",
       "      <td>Kentucky</td>\n",
       "      <td>95993</td>\n",
       "      <td>609.0</td>\n",
       "    </tr>\n",
       "    <tr>\n",
       "      <th>800534</th>\n",
       "      <td>2022-05-11</td>\n",
       "      <td>Fayette</td>\n",
       "      <td>Kentucky</td>\n",
       "      <td>95993</td>\n",
       "      <td>609.0</td>\n",
       "    </tr>\n",
       "    <tr>\n",
       "      <th>800535</th>\n",
       "      <td>2022-05-12</td>\n",
       "      <td>Fayette</td>\n",
       "      <td>Kentucky</td>\n",
       "      <td>95993</td>\n",
       "      <td>609.0</td>\n",
       "    </tr>\n",
       "    <tr>\n",
       "      <th>800536</th>\n",
       "      <td>2022-05-13</td>\n",
       "      <td>Fayette</td>\n",
       "      <td>Kentucky</td>\n",
       "      <td>95993</td>\n",
       "      <td>609.0</td>\n",
       "    </tr>\n",
       "  </tbody>\n",
       "</table>\n",
       "<p>799 rows × 5 columns</p>\n",
       "</div>"
      ],
      "text/plain": [
       "              date   county     state  cases  deaths\n",
       "799738  2020-03-06  Fayette  Kentucky      1     0.0\n",
       "799739  2020-03-07  Fayette  Kentucky      1     0.0\n",
       "799740  2020-03-08  Fayette  Kentucky      2     0.0\n",
       "799741  2020-03-09  Fayette  Kentucky      3     0.0\n",
       "799742  2020-03-10  Fayette  Kentucky      3     0.0\n",
       "...            ...      ...       ...    ...     ...\n",
       "800532  2022-05-09  Fayette  Kentucky  95993   609.0\n",
       "800533  2022-05-10  Fayette  Kentucky  95993   609.0\n",
       "800534  2022-05-11  Fayette  Kentucky  95993   609.0\n",
       "800535  2022-05-12  Fayette  Kentucky  95993   609.0\n",
       "800536  2022-05-13  Fayette  Kentucky  95993   609.0\n",
       "\n",
       "[799 rows x 5 columns]"
      ]
     },
     "execution_count": 313,
     "metadata": {},
     "output_type": "execute_result"
    }
   ],
   "source": [
    "lex = covid.query('state == \"Kentucky\"').query('county == \"Fayette\"').sort_values(by='date')\n",
    "lex"
   ]
  },
  {
   "cell_type": "code",
   "execution_count": 314,
   "id": "7ca5e84c",
   "metadata": {},
   "outputs": [
    {
     "data": {
      "text/html": [
       "<div>\n",
       "<style scoped>\n",
       "    .dataframe tbody tr th:only-of-type {\n",
       "        vertical-align: middle;\n",
       "    }\n",
       "\n",
       "    .dataframe tbody tr th {\n",
       "        vertical-align: top;\n",
       "    }\n",
       "\n",
       "    .dataframe thead th {\n",
       "        text-align: right;\n",
       "    }\n",
       "</style>\n",
       "<table border=\"1\" class=\"dataframe\">\n",
       "  <thead>\n",
       "    <tr style=\"text-align: right;\">\n",
       "      <th></th>\n",
       "      <th>date</th>\n",
       "      <th>county</th>\n",
       "      <th>state</th>\n",
       "      <th>cases</th>\n",
       "      <th>deaths</th>\n",
       "    </tr>\n",
       "  </thead>\n",
       "  <tbody>\n",
       "    <tr>\n",
       "      <th>49183</th>\n",
       "      <td>2020-03-19</td>\n",
       "      <td>Walker</td>\n",
       "      <td>Alabama</td>\n",
       "      <td>1</td>\n",
       "      <td>0.0</td>\n",
       "    </tr>\n",
       "    <tr>\n",
       "      <th>49184</th>\n",
       "      <td>2020-03-20</td>\n",
       "      <td>Walker</td>\n",
       "      <td>Alabama</td>\n",
       "      <td>1</td>\n",
       "      <td>0.0</td>\n",
       "    </tr>\n",
       "    <tr>\n",
       "      <th>49185</th>\n",
       "      <td>2020-03-21</td>\n",
       "      <td>Walker</td>\n",
       "      <td>Alabama</td>\n",
       "      <td>1</td>\n",
       "      <td>0.0</td>\n",
       "    </tr>\n",
       "    <tr>\n",
       "      <th>49186</th>\n",
       "      <td>2020-03-22</td>\n",
       "      <td>Walker</td>\n",
       "      <td>Alabama</td>\n",
       "      <td>1</td>\n",
       "      <td>0.0</td>\n",
       "    </tr>\n",
       "    <tr>\n",
       "      <th>49187</th>\n",
       "      <td>2020-03-23</td>\n",
       "      <td>Walker</td>\n",
       "      <td>Alabama</td>\n",
       "      <td>3</td>\n",
       "      <td>0.0</td>\n",
       "    </tr>\n",
       "    <tr>\n",
       "      <th>...</th>\n",
       "      <td>...</td>\n",
       "      <td>...</td>\n",
       "      <td>...</td>\n",
       "      <td>...</td>\n",
       "      <td>...</td>\n",
       "    </tr>\n",
       "    <tr>\n",
       "      <th>49964</th>\n",
       "      <td>2022-05-09</td>\n",
       "      <td>Walker</td>\n",
       "      <td>Alabama</td>\n",
       "      <td>18749</td>\n",
       "      <td>446.0</td>\n",
       "    </tr>\n",
       "    <tr>\n",
       "      <th>49965</th>\n",
       "      <td>2022-05-10</td>\n",
       "      <td>Walker</td>\n",
       "      <td>Alabama</td>\n",
       "      <td>18751</td>\n",
       "      <td>446.0</td>\n",
       "    </tr>\n",
       "    <tr>\n",
       "      <th>49966</th>\n",
       "      <td>2022-05-11</td>\n",
       "      <td>Walker</td>\n",
       "      <td>Alabama</td>\n",
       "      <td>18758</td>\n",
       "      <td>446.0</td>\n",
       "    </tr>\n",
       "    <tr>\n",
       "      <th>49967</th>\n",
       "      <td>2022-05-12</td>\n",
       "      <td>Walker</td>\n",
       "      <td>Alabama</td>\n",
       "      <td>18763</td>\n",
       "      <td>447.0</td>\n",
       "    </tr>\n",
       "    <tr>\n",
       "      <th>49968</th>\n",
       "      <td>2022-05-13</td>\n",
       "      <td>Walker</td>\n",
       "      <td>Alabama</td>\n",
       "      <td>18767</td>\n",
       "      <td>447.0</td>\n",
       "    </tr>\n",
       "  </tbody>\n",
       "</table>\n",
       "<p>786 rows × 5 columns</p>\n",
       "</div>"
      ],
      "text/plain": [
       "             date  county    state  cases  deaths\n",
       "49183  2020-03-19  Walker  Alabama      1     0.0\n",
       "49184  2020-03-20  Walker  Alabama      1     0.0\n",
       "49185  2020-03-21  Walker  Alabama      1     0.0\n",
       "49186  2020-03-22  Walker  Alabama      1     0.0\n",
       "49187  2020-03-23  Walker  Alabama      3     0.0\n",
       "...           ...     ...      ...    ...     ...\n",
       "49964  2022-05-09  Walker  Alabama  18749   446.0\n",
       "49965  2022-05-10  Walker  Alabama  18751   446.0\n",
       "49966  2022-05-11  Walker  Alabama  18758   446.0\n",
       "49967  2022-05-12  Walker  Alabama  18763   447.0\n",
       "49968  2022-05-13  Walker  Alabama  18767   447.0\n",
       "\n",
       "[786 rows x 5 columns]"
      ]
     },
     "execution_count": 314,
     "metadata": {},
     "output_type": "execute_result"
    }
   ],
   "source": [
    "jas = covid.query('state == \"Alabama\"').query('county == \"Walker\"').sort_values(by='date')\n",
    "jas"
   ]
  },
  {
   "cell_type": "code",
   "execution_count": 345,
   "id": "05de532e",
   "metadata": {},
   "outputs": [
    {
     "data": {
      "text/plain": [
       "MultiIndex([('Alabama', 'Autauga'),\n",
       "            ('Alabama', 'Autauga'),\n",
       "            ('Alabama', 'Autauga'),\n",
       "            ('Alabama', 'Autauga'),\n",
       "            ('Alabama', 'Autauga'),\n",
       "            ('Alabama', 'Autauga'),\n",
       "            ('Alabama', 'Autauga'),\n",
       "            ('Alabama', 'Autauga'),\n",
       "            ('Alabama', 'Autauga'),\n",
       "            ('Alabama', 'Autauga'),\n",
       "            ...\n",
       "            ('Wyoming',  'Weston'),\n",
       "            ('Wyoming',  'Weston'),\n",
       "            ('Wyoming',  'Weston'),\n",
       "            ('Wyoming',  'Weston'),\n",
       "            ('Wyoming',  'Weston'),\n",
       "            ('Wyoming',  'Weston'),\n",
       "            ('Wyoming',  'Weston'),\n",
       "            ('Wyoming',  'Weston'),\n",
       "            ('Wyoming',  'Weston'),\n",
       "            ('Wyoming',  'Weston')],\n",
       "           names=['state', 'county'], length=2502832)"
      ]
     },
     "execution_count": 345,
     "metadata": {},
     "output_type": "execute_result"
    }
   ],
   "source": [
    "mulind = pd.MultiIndex.from_frame(covid[['state', 'county']])\n",
    "df"
   ]
  },
  {
   "cell_type": "code",
   "execution_count": 347,
   "id": "ac0fe86a",
   "metadata": {},
   "outputs": [
    {
     "data": {
      "text/html": [
       "<div>\n",
       "<style scoped>\n",
       "    .dataframe tbody tr th:only-of-type {\n",
       "        vertical-align: middle;\n",
       "    }\n",
       "\n",
       "    .dataframe tbody tr th {\n",
       "        vertical-align: top;\n",
       "    }\n",
       "\n",
       "    .dataframe thead th {\n",
       "        text-align: right;\n",
       "    }\n",
       "</style>\n",
       "<table border=\"1\" class=\"dataframe\">\n",
       "  <thead>\n",
       "    <tr style=\"text-align: right;\">\n",
       "      <th></th>\n",
       "      <th></th>\n",
       "      <th>date</th>\n",
       "      <th>county</th>\n",
       "      <th>state</th>\n",
       "      <th>cases</th>\n",
       "      <th>deaths</th>\n",
       "    </tr>\n",
       "    <tr>\n",
       "      <th>state</th>\n",
       "      <th>county</th>\n",
       "      <th></th>\n",
       "      <th></th>\n",
       "      <th></th>\n",
       "      <th></th>\n",
       "      <th></th>\n",
       "    </tr>\n",
       "  </thead>\n",
       "  <tbody>\n",
       "    <tr>\n",
       "      <th rowspan=\"5\" valign=\"top\">Alabama</th>\n",
       "      <th>Autauga</th>\n",
       "      <td>2020-03-24</td>\n",
       "      <td>Autauga</td>\n",
       "      <td>Alabama</td>\n",
       "      <td>1</td>\n",
       "      <td>0.0</td>\n",
       "    </tr>\n",
       "    <tr>\n",
       "      <th>Autauga</th>\n",
       "      <td>2020-03-25</td>\n",
       "      <td>Autauga</td>\n",
       "      <td>Alabama</td>\n",
       "      <td>4</td>\n",
       "      <td>0.0</td>\n",
       "    </tr>\n",
       "    <tr>\n",
       "      <th>Autauga</th>\n",
       "      <td>2020-03-26</td>\n",
       "      <td>Autauga</td>\n",
       "      <td>Alabama</td>\n",
       "      <td>6</td>\n",
       "      <td>0.0</td>\n",
       "    </tr>\n",
       "    <tr>\n",
       "      <th>Autauga</th>\n",
       "      <td>2020-03-27</td>\n",
       "      <td>Autauga</td>\n",
       "      <td>Alabama</td>\n",
       "      <td>6</td>\n",
       "      <td>0.0</td>\n",
       "    </tr>\n",
       "    <tr>\n",
       "      <th>Autauga</th>\n",
       "      <td>2020-03-28</td>\n",
       "      <td>Autauga</td>\n",
       "      <td>Alabama</td>\n",
       "      <td>6</td>\n",
       "      <td>0.0</td>\n",
       "    </tr>\n",
       "    <tr>\n",
       "      <th>...</th>\n",
       "      <th>...</th>\n",
       "      <td>...</td>\n",
       "      <td>...</td>\n",
       "      <td>...</td>\n",
       "      <td>...</td>\n",
       "      <td>...</td>\n",
       "    </tr>\n",
       "    <tr>\n",
       "      <th rowspan=\"5\" valign=\"top\">Wyoming</th>\n",
       "      <th>Weston</th>\n",
       "      <td>2022-05-09</td>\n",
       "      <td>Weston</td>\n",
       "      <td>Wyoming</td>\n",
       "      <td>1589</td>\n",
       "      <td>18.0</td>\n",
       "    </tr>\n",
       "    <tr>\n",
       "      <th>Weston</th>\n",
       "      <td>2022-05-10</td>\n",
       "      <td>Weston</td>\n",
       "      <td>Wyoming</td>\n",
       "      <td>1588</td>\n",
       "      <td>18.0</td>\n",
       "    </tr>\n",
       "    <tr>\n",
       "      <th>Weston</th>\n",
       "      <td>2022-05-11</td>\n",
       "      <td>Weston</td>\n",
       "      <td>Wyoming</td>\n",
       "      <td>1588</td>\n",
       "      <td>18.0</td>\n",
       "    </tr>\n",
       "    <tr>\n",
       "      <th>Weston</th>\n",
       "      <td>2022-05-12</td>\n",
       "      <td>Weston</td>\n",
       "      <td>Wyoming</td>\n",
       "      <td>1588</td>\n",
       "      <td>18.0</td>\n",
       "    </tr>\n",
       "    <tr>\n",
       "      <th>Weston</th>\n",
       "      <td>2022-05-13</td>\n",
       "      <td>Weston</td>\n",
       "      <td>Wyoming</td>\n",
       "      <td>1588</td>\n",
       "      <td>18.0</td>\n",
       "    </tr>\n",
       "  </tbody>\n",
       "</table>\n",
       "<p>2502832 rows × 5 columns</p>\n",
       "</div>"
      ],
      "text/plain": [
       "                       date   county    state  cases  deaths\n",
       "state   county                                              \n",
       "Alabama Autauga  2020-03-24  Autauga  Alabama      1     0.0\n",
       "        Autauga  2020-03-25  Autauga  Alabama      4     0.0\n",
       "        Autauga  2020-03-26  Autauga  Alabama      6     0.0\n",
       "        Autauga  2020-03-27  Autauga  Alabama      6     0.0\n",
       "        Autauga  2020-03-28  Autauga  Alabama      6     0.0\n",
       "...                     ...      ...      ...    ...     ...\n",
       "Wyoming Weston   2022-05-09   Weston  Wyoming   1589    18.0\n",
       "        Weston   2022-05-10   Weston  Wyoming   1588    18.0\n",
       "        Weston   2022-05-11   Weston  Wyoming   1588    18.0\n",
       "        Weston   2022-05-12   Weston  Wyoming   1588    18.0\n",
       "        Weston   2022-05-13   Weston  Wyoming   1588    18.0\n",
       "\n",
       "[2502832 rows x 5 columns]"
      ]
     },
     "execution_count": 347,
     "metadata": {},
     "output_type": "execute_result"
    }
   ],
   "source": [
    "covid.set_index(mulind, inplace=True)\n",
    "covid"
   ]
  },
  {
   "cell_type": "code",
   "execution_count": 356,
   "id": "68954d9c",
   "metadata": {},
   "outputs": [
    {
     "data": {
      "text/html": [
       "<div>\n",
       "<style scoped>\n",
       "    .dataframe tbody tr th:only-of-type {\n",
       "        vertical-align: middle;\n",
       "    }\n",
       "\n",
       "    .dataframe tbody tr th {\n",
       "        vertical-align: top;\n",
       "    }\n",
       "\n",
       "    .dataframe thead th {\n",
       "        text-align: right;\n",
       "    }\n",
       "</style>\n",
       "<table border=\"1\" class=\"dataframe\">\n",
       "  <thead>\n",
       "    <tr style=\"text-align: right;\">\n",
       "      <th></th>\n",
       "      <th></th>\n",
       "      <th>date</th>\n",
       "      <th>county</th>\n",
       "      <th>state</th>\n",
       "      <th>cases</th>\n",
       "      <th>deaths</th>\n",
       "    </tr>\n",
       "    <tr>\n",
       "      <th>state</th>\n",
       "      <th>county</th>\n",
       "      <th></th>\n",
       "      <th></th>\n",
       "      <th></th>\n",
       "      <th></th>\n",
       "      <th></th>\n",
       "    </tr>\n",
       "  </thead>\n",
       "  <tbody>\n",
       "    <tr>\n",
       "      <th rowspan=\"5\" valign=\"top\">Alabama</th>\n",
       "      <th>Fayette</th>\n",
       "      <td>2020-03-30</td>\n",
       "      <td>Fayette</td>\n",
       "      <td>Alabama</td>\n",
       "      <td>1</td>\n",
       "      <td>0.0</td>\n",
       "    </tr>\n",
       "    <tr>\n",
       "      <th>Fayette</th>\n",
       "      <td>2020-03-31</td>\n",
       "      <td>Fayette</td>\n",
       "      <td>Alabama</td>\n",
       "      <td>1</td>\n",
       "      <td>0.0</td>\n",
       "    </tr>\n",
       "    <tr>\n",
       "      <th>Fayette</th>\n",
       "      <td>2020-04-01</td>\n",
       "      <td>Fayette</td>\n",
       "      <td>Alabama</td>\n",
       "      <td>1</td>\n",
       "      <td>0.0</td>\n",
       "    </tr>\n",
       "    <tr>\n",
       "      <th>Fayette</th>\n",
       "      <td>2020-04-02</td>\n",
       "      <td>Fayette</td>\n",
       "      <td>Alabama</td>\n",
       "      <td>1</td>\n",
       "      <td>0.0</td>\n",
       "    </tr>\n",
       "    <tr>\n",
       "      <th>Fayette</th>\n",
       "      <td>2020-04-03</td>\n",
       "      <td>Fayette</td>\n",
       "      <td>Alabama</td>\n",
       "      <td>1</td>\n",
       "      <td>0.0</td>\n",
       "    </tr>\n",
       "    <tr>\n",
       "      <th>...</th>\n",
       "      <th>...</th>\n",
       "      <td>...</td>\n",
       "      <td>...</td>\n",
       "      <td>...</td>\n",
       "      <td>...</td>\n",
       "      <td>...</td>\n",
       "    </tr>\n",
       "    <tr>\n",
       "      <th rowspan=\"5\" valign=\"top\">Kentucky</th>\n",
       "      <th>Fayette</th>\n",
       "      <td>2022-05-09</td>\n",
       "      <td>Fayette</td>\n",
       "      <td>Kentucky</td>\n",
       "      <td>95993</td>\n",
       "      <td>609.0</td>\n",
       "    </tr>\n",
       "    <tr>\n",
       "      <th>Fayette</th>\n",
       "      <td>2022-05-10</td>\n",
       "      <td>Fayette</td>\n",
       "      <td>Kentucky</td>\n",
       "      <td>95993</td>\n",
       "      <td>609.0</td>\n",
       "    </tr>\n",
       "    <tr>\n",
       "      <th>Fayette</th>\n",
       "      <td>2022-05-11</td>\n",
       "      <td>Fayette</td>\n",
       "      <td>Kentucky</td>\n",
       "      <td>95993</td>\n",
       "      <td>609.0</td>\n",
       "    </tr>\n",
       "    <tr>\n",
       "      <th>Fayette</th>\n",
       "      <td>2022-05-12</td>\n",
       "      <td>Fayette</td>\n",
       "      <td>Kentucky</td>\n",
       "      <td>95993</td>\n",
       "      <td>609.0</td>\n",
       "    </tr>\n",
       "    <tr>\n",
       "      <th>Fayette</th>\n",
       "      <td>2022-05-13</td>\n",
       "      <td>Fayette</td>\n",
       "      <td>Kentucky</td>\n",
       "      <td>95993</td>\n",
       "      <td>609.0</td>\n",
       "    </tr>\n",
       "  </tbody>\n",
       "</table>\n",
       "<p>2360 rows × 5 columns</p>\n",
       "</div>"
      ],
      "text/plain": [
       "                        date   county     state  cases  deaths\n",
       "state    county                                               \n",
       "Alabama  Fayette  2020-03-30  Fayette   Alabama      1     0.0\n",
       "         Fayette  2020-03-31  Fayette   Alabama      1     0.0\n",
       "         Fayette  2020-04-01  Fayette   Alabama      1     0.0\n",
       "         Fayette  2020-04-02  Fayette   Alabama      1     0.0\n",
       "         Fayette  2020-04-03  Fayette   Alabama      1     0.0\n",
       "...                      ...      ...       ...    ...     ...\n",
       "Kentucky Fayette  2022-05-09  Fayette  Kentucky  95993   609.0\n",
       "         Fayette  2022-05-10  Fayette  Kentucky  95993   609.0\n",
       "         Fayette  2022-05-11  Fayette  Kentucky  95993   609.0\n",
       "         Fayette  2022-05-12  Fayette  Kentucky  95993   609.0\n",
       "         Fayette  2022-05-13  Fayette  Kentucky  95993   609.0\n",
       "\n",
       "[2360 rows x 5 columns]"
      ]
     },
     "execution_count": 356,
     "metadata": {},
     "output_type": "execute_result"
    }
   ],
   "source": [
    "states = ['Kentucky', 'Alabama']\n",
    "counties = ['Fayette', 'Walker']\n",
    "covid.query('state == @states').query('county == @counties')"
   ]
  },
  {
   "cell_type": "code",
   "execution_count": 360,
   "id": "eee13d0b",
   "metadata": {},
   "outputs": [
    {
     "data": {
      "text/html": [
       "<div>\n",
       "<style scoped>\n",
       "    .dataframe tbody tr th:only-of-type {\n",
       "        vertical-align: middle;\n",
       "    }\n",
       "\n",
       "    .dataframe tbody tr th {\n",
       "        vertical-align: top;\n",
       "    }\n",
       "\n",
       "    .dataframe thead th {\n",
       "        text-align: right;\n",
       "    }\n",
       "</style>\n",
       "<table border=\"1\" class=\"dataframe\">\n",
       "  <thead>\n",
       "    <tr style=\"text-align: right;\">\n",
       "      <th></th>\n",
       "      <th></th>\n",
       "      <th>date</th>\n",
       "      <th>county</th>\n",
       "      <th>state</th>\n",
       "      <th>cases</th>\n",
       "      <th>deaths</th>\n",
       "    </tr>\n",
       "    <tr>\n",
       "      <th>state</th>\n",
       "      <th>county</th>\n",
       "      <th></th>\n",
       "      <th></th>\n",
       "      <th></th>\n",
       "      <th></th>\n",
       "      <th></th>\n",
       "    </tr>\n",
       "  </thead>\n",
       "  <tbody>\n",
       "    <tr>\n",
       "      <th rowspan=\"11\" valign=\"top\">Kentucky</th>\n",
       "      <th>Fayette</th>\n",
       "      <td>2020-03-06</td>\n",
       "      <td>Fayette</td>\n",
       "      <td>Kentucky</td>\n",
       "      <td>1</td>\n",
       "      <td>0.0</td>\n",
       "    </tr>\n",
       "    <tr>\n",
       "      <th>Fayette</th>\n",
       "      <td>2020-03-07</td>\n",
       "      <td>Fayette</td>\n",
       "      <td>Kentucky</td>\n",
       "      <td>1</td>\n",
       "      <td>0.0</td>\n",
       "    </tr>\n",
       "    <tr>\n",
       "      <th>Fayette</th>\n",
       "      <td>2020-03-08</td>\n",
       "      <td>Fayette</td>\n",
       "      <td>Kentucky</td>\n",
       "      <td>2</td>\n",
       "      <td>0.0</td>\n",
       "    </tr>\n",
       "    <tr>\n",
       "      <th>Fayette</th>\n",
       "      <td>2020-03-09</td>\n",
       "      <td>Fayette</td>\n",
       "      <td>Kentucky</td>\n",
       "      <td>3</td>\n",
       "      <td>0.0</td>\n",
       "    </tr>\n",
       "    <tr>\n",
       "      <th>Fayette</th>\n",
       "      <td>2020-03-10</td>\n",
       "      <td>Fayette</td>\n",
       "      <td>Kentucky</td>\n",
       "      <td>3</td>\n",
       "      <td>0.0</td>\n",
       "    </tr>\n",
       "    <tr>\n",
       "      <th>...</th>\n",
       "      <td>...</td>\n",
       "      <td>...</td>\n",
       "      <td>...</td>\n",
       "      <td>...</td>\n",
       "      <td>...</td>\n",
       "    </tr>\n",
       "    <tr>\n",
       "      <th>Fayette</th>\n",
       "      <td>2022-05-09</td>\n",
       "      <td>Fayette</td>\n",
       "      <td>Kentucky</td>\n",
       "      <td>95993</td>\n",
       "      <td>609.0</td>\n",
       "    </tr>\n",
       "    <tr>\n",
       "      <th>Fayette</th>\n",
       "      <td>2022-05-10</td>\n",
       "      <td>Fayette</td>\n",
       "      <td>Kentucky</td>\n",
       "      <td>95993</td>\n",
       "      <td>609.0</td>\n",
       "    </tr>\n",
       "    <tr>\n",
       "      <th>Fayette</th>\n",
       "      <td>2022-05-11</td>\n",
       "      <td>Fayette</td>\n",
       "      <td>Kentucky</td>\n",
       "      <td>95993</td>\n",
       "      <td>609.0</td>\n",
       "    </tr>\n",
       "    <tr>\n",
       "      <th>Fayette</th>\n",
       "      <td>2022-05-12</td>\n",
       "      <td>Fayette</td>\n",
       "      <td>Kentucky</td>\n",
       "      <td>95993</td>\n",
       "      <td>609.0</td>\n",
       "    </tr>\n",
       "    <tr>\n",
       "      <th>Fayette</th>\n",
       "      <td>2022-05-13</td>\n",
       "      <td>Fayette</td>\n",
       "      <td>Kentucky</td>\n",
       "      <td>95993</td>\n",
       "      <td>609.0</td>\n",
       "    </tr>\n",
       "  </tbody>\n",
       "</table>\n",
       "<p>799 rows × 5 columns</p>\n",
       "</div>"
      ],
      "text/plain": [
       "                        date   county     state  cases  deaths\n",
       "state    county                                               \n",
       "Kentucky Fayette  2020-03-06  Fayette  Kentucky      1     0.0\n",
       "         Fayette  2020-03-07  Fayette  Kentucky      1     0.0\n",
       "         Fayette  2020-03-08  Fayette  Kentucky      2     0.0\n",
       "         Fayette  2020-03-09  Fayette  Kentucky      3     0.0\n",
       "         Fayette  2020-03-10  Fayette  Kentucky      3     0.0\n",
       "...                      ...      ...       ...    ...     ...\n",
       "         Fayette  2022-05-09  Fayette  Kentucky  95993   609.0\n",
       "         Fayette  2022-05-10  Fayette  Kentucky  95993   609.0\n",
       "         Fayette  2022-05-11  Fayette  Kentucky  95993   609.0\n",
       "         Fayette  2022-05-12  Fayette  Kentucky  95993   609.0\n",
       "         Fayette  2022-05-13  Fayette  Kentucky  95993   609.0\n",
       "\n",
       "[799 rows x 5 columns]"
      ]
     },
     "execution_count": 360,
     "metadata": {},
     "output_type": "execute_result"
    }
   ],
   "source": [
    "covid.query('state == \"Kentucky\" and county == \"Fayette\"')"
   ]
  },
  {
   "cell_type": "code",
   "execution_count": 376,
   "id": "40ff25bb",
   "metadata": {},
   "outputs": [
    {
     "data": {
      "text/html": [
       "<div>\n",
       "<style scoped>\n",
       "    .dataframe tbody tr th:only-of-type {\n",
       "        vertical-align: middle;\n",
       "    }\n",
       "\n",
       "    .dataframe tbody tr th {\n",
       "        vertical-align: top;\n",
       "    }\n",
       "\n",
       "    .dataframe thead th {\n",
       "        text-align: right;\n",
       "    }\n",
       "</style>\n",
       "<table border=\"1\" class=\"dataframe\">\n",
       "  <thead>\n",
       "    <tr style=\"text-align: right;\">\n",
       "      <th></th>\n",
       "      <th>date</th>\n",
       "      <th>county</th>\n",
       "      <th>state</th>\n",
       "      <th>cases</th>\n",
       "      <th>deaths</th>\n",
       "    </tr>\n",
       "  </thead>\n",
       "  <tbody>\n",
       "    <tr>\n",
       "      <th>0</th>\n",
       "      <td>2020-03-06</td>\n",
       "      <td>Fayette</td>\n",
       "      <td>Kentucky</td>\n",
       "      <td>1</td>\n",
       "      <td>0.0</td>\n",
       "    </tr>\n",
       "    <tr>\n",
       "      <th>1</th>\n",
       "      <td>2020-03-07</td>\n",
       "      <td>Fayette</td>\n",
       "      <td>Kentucky</td>\n",
       "      <td>1</td>\n",
       "      <td>0.0</td>\n",
       "    </tr>\n",
       "    <tr>\n",
       "      <th>2</th>\n",
       "      <td>2020-03-08</td>\n",
       "      <td>Fayette</td>\n",
       "      <td>Kentucky</td>\n",
       "      <td>2</td>\n",
       "      <td>0.0</td>\n",
       "    </tr>\n",
       "    <tr>\n",
       "      <th>3</th>\n",
       "      <td>2020-03-09</td>\n",
       "      <td>Fayette</td>\n",
       "      <td>Kentucky</td>\n",
       "      <td>3</td>\n",
       "      <td>0.0</td>\n",
       "    </tr>\n",
       "    <tr>\n",
       "      <th>4</th>\n",
       "      <td>2020-03-10</td>\n",
       "      <td>Fayette</td>\n",
       "      <td>Kentucky</td>\n",
       "      <td>3</td>\n",
       "      <td>0.0</td>\n",
       "    </tr>\n",
       "    <tr>\n",
       "      <th>...</th>\n",
       "      <td>...</td>\n",
       "      <td>...</td>\n",
       "      <td>...</td>\n",
       "      <td>...</td>\n",
       "      <td>...</td>\n",
       "    </tr>\n",
       "    <tr>\n",
       "      <th>1580</th>\n",
       "      <td>2022-05-09</td>\n",
       "      <td>Walker</td>\n",
       "      <td>Alabama</td>\n",
       "      <td>18749</td>\n",
       "      <td>446.0</td>\n",
       "    </tr>\n",
       "    <tr>\n",
       "      <th>1581</th>\n",
       "      <td>2022-05-10</td>\n",
       "      <td>Walker</td>\n",
       "      <td>Alabama</td>\n",
       "      <td>18751</td>\n",
       "      <td>446.0</td>\n",
       "    </tr>\n",
       "    <tr>\n",
       "      <th>1582</th>\n",
       "      <td>2022-05-11</td>\n",
       "      <td>Walker</td>\n",
       "      <td>Alabama</td>\n",
       "      <td>18758</td>\n",
       "      <td>446.0</td>\n",
       "    </tr>\n",
       "    <tr>\n",
       "      <th>1583</th>\n",
       "      <td>2022-05-12</td>\n",
       "      <td>Walker</td>\n",
       "      <td>Alabama</td>\n",
       "      <td>18763</td>\n",
       "      <td>447.0</td>\n",
       "    </tr>\n",
       "    <tr>\n",
       "      <th>1584</th>\n",
       "      <td>2022-05-13</td>\n",
       "      <td>Walker</td>\n",
       "      <td>Alabama</td>\n",
       "      <td>18767</td>\n",
       "      <td>447.0</td>\n",
       "    </tr>\n",
       "  </tbody>\n",
       "</table>\n",
       "<p>1585 rows × 5 columns</p>\n",
       "</div>"
      ],
      "text/plain": [
       "            date   county     state  cases  deaths\n",
       "0     2020-03-06  Fayette  Kentucky      1     0.0\n",
       "1     2020-03-07  Fayette  Kentucky      1     0.0\n",
       "2     2020-03-08  Fayette  Kentucky      2     0.0\n",
       "3     2020-03-09  Fayette  Kentucky      3     0.0\n",
       "4     2020-03-10  Fayette  Kentucky      3     0.0\n",
       "...          ...      ...       ...    ...     ...\n",
       "1580  2022-05-09   Walker   Alabama  18749   446.0\n",
       "1581  2022-05-10   Walker   Alabama  18751   446.0\n",
       "1582  2022-05-11   Walker   Alabama  18758   446.0\n",
       "1583  2022-05-12   Walker   Alabama  18763   447.0\n",
       "1584  2022-05-13   Walker   Alabama  18767   447.0\n",
       "\n",
       "[1585 rows x 5 columns]"
      ]
     },
     "execution_count": 376,
     "metadata": {},
     "output_type": "execute_result"
    }
   ],
   "source": [
    "df = pd.concat(objs=[covid.loc[('Kentucky','Fayette')], covid.loc[('Alabama','Walker')]]).reset_index(drop=True)\n",
    "df"
   ]
  },
  {
   "cell_type": "code",
   "execution_count": 391,
   "id": "b80a365f",
   "metadata": {},
   "outputs": [],
   "source": [
    "sns.set_theme()"
   ]
  },
  {
   "cell_type": "code",
   "execution_count": 393,
   "id": "8c47d7b9",
   "metadata": {},
   "outputs": [
    {
     "data": {
      "text/plain": [
       "<AxesSubplot:xlabel='date', ylabel='cases'>"
      ]
     },
     "execution_count": 393,
     "metadata": {},
     "output_type": "execute_result"
    },
    {
     "data": {
      "image/png": "[encoded data removed]",
      "text/plain": [
       "<Figure size 432x288 with 1 Axes>"
      ]
     },
     "metadata": {},
     "output_type": "display_data"
    }
   ],
   "source": [
    "cases = sns.lineplot(x='date', y='cases', data=df, hue='state', ci=None)\n",
    "cases"
   ]
  },
  {
   "cell_type": "code",
   "execution_count": 394,
   "id": "c131cfcd",
   "metadata": {},
   "outputs": [
    {
     "data": {
      "text/plain": [
       "'2020-03-06'"
      ]
     },
     "execution_count": 394,
     "metadata": {},
     "output_type": "execute_result"
    }
   ],
   "source": [
    "df['date'].min()"
   ]
  },
  {
   "cell_type": "code",
   "execution_count": 395,
   "id": "b8bc94e5",
   "metadata": {},
   "outputs": [
    {
     "data": {
      "text/plain": [
       "'2022-05-13'"
      ]
     },
     "execution_count": 395,
     "metadata": {},
     "output_type": "execute_result"
    }
   ],
   "source": [
    "df['date'].max()"
   ]
  },
  {
   "cell_type": "code",
   "execution_count": 401,
   "id": "606cd226",
   "metadata": {},
   "outputs": [
    {
     "data": {
      "text/html": [
       "<div>\n",
       "<style scoped>\n",
       "    .dataframe tbody tr th:only-of-type {\n",
       "        vertical-align: middle;\n",
       "    }\n",
       "\n",
       "    .dataframe tbody tr th {\n",
       "        vertical-align: top;\n",
       "    }\n",
       "\n",
       "    .dataframe thead th {\n",
       "        text-align: right;\n",
       "    }\n",
       "</style>\n",
       "<table border=\"1\" class=\"dataframe\">\n",
       "  <thead>\n",
       "    <tr style=\"text-align: right;\">\n",
       "      <th></th>\n",
       "      <th>date</th>\n",
       "      <th>county</th>\n",
       "      <th>state</th>\n",
       "      <th>cases</th>\n",
       "      <th>deaths</th>\n",
       "    </tr>\n",
       "  </thead>\n",
       "  <tbody>\n",
       "    <tr>\n",
       "      <th>0</th>\n",
       "      <td>2020-03-06</td>\n",
       "      <td>Fayette</td>\n",
       "      <td>Kentucky</td>\n",
       "      <td>1</td>\n",
       "      <td>0.0</td>\n",
       "    </tr>\n",
       "    <tr>\n",
       "      <th>1</th>\n",
       "      <td>2020-03-07</td>\n",
       "      <td>Fayette</td>\n",
       "      <td>Kentucky</td>\n",
       "      <td>1</td>\n",
       "      <td>0.0</td>\n",
       "    </tr>\n",
       "    <tr>\n",
       "      <th>2</th>\n",
       "      <td>2020-03-08</td>\n",
       "      <td>Fayette</td>\n",
       "      <td>Kentucky</td>\n",
       "      <td>2</td>\n",
       "      <td>0.0</td>\n",
       "    </tr>\n",
       "    <tr>\n",
       "      <th>3</th>\n",
       "      <td>2020-03-09</td>\n",
       "      <td>Fayette</td>\n",
       "      <td>Kentucky</td>\n",
       "      <td>3</td>\n",
       "      <td>0.0</td>\n",
       "    </tr>\n",
       "    <tr>\n",
       "      <th>4</th>\n",
       "      <td>2020-03-10</td>\n",
       "      <td>Fayette</td>\n",
       "      <td>Kentucky</td>\n",
       "      <td>3</td>\n",
       "      <td>0.0</td>\n",
       "    </tr>\n",
       "  </tbody>\n",
       "</table>\n",
       "</div>"
      ],
      "text/plain": [
       "         date   county     state  cases  deaths\n",
       "0  2020-03-06  Fayette  Kentucky      1     0.0\n",
       "1  2020-03-07  Fayette  Kentucky      1     0.0\n",
       "2  2020-03-08  Fayette  Kentucky      2     0.0\n",
       "3  2020-03-09  Fayette  Kentucky      3     0.0\n",
       "4  2020-03-10  Fayette  Kentucky      3     0.0"
      ]
     },
     "execution_count": 401,
     "metadata": {},
     "output_type": "execute_result"
    }
   ],
   "source": [
    "df.head()"
   ]
  },
  {
   "cell_type": "code",
   "execution_count": 403,
   "id": "bb27dd26",
   "metadata": {},
   "outputs": [
    {
     "data": {
      "text/html": [
       "<div>\n",
       "<style scoped>\n",
       "    .dataframe tbody tr th:only-of-type {\n",
       "        vertical-align: middle;\n",
       "    }\n",
       "\n",
       "    .dataframe tbody tr th {\n",
       "        vertical-align: top;\n",
       "    }\n",
       "\n",
       "    .dataframe thead th {\n",
       "        text-align: right;\n",
       "    }\n",
       "</style>\n",
       "<table border=\"1\" class=\"dataframe\">\n",
       "  <thead>\n",
       "    <tr style=\"text-align: right;\">\n",
       "      <th></th>\n",
       "      <th>date</th>\n",
       "      <th>county</th>\n",
       "      <th>state</th>\n",
       "      <th>cases</th>\n",
       "      <th>deaths</th>\n",
       "      <th>case_rate</th>\n",
       "    </tr>\n",
       "  </thead>\n",
       "  <tbody>\n",
       "    <tr>\n",
       "      <th>0</th>\n",
       "      <td>2020-03-06</td>\n",
       "      <td>Fayette</td>\n",
       "      <td>Kentucky</td>\n",
       "      <td>1</td>\n",
       "      <td>0.0</td>\n",
       "      <td>NaN</td>\n",
       "    </tr>\n",
       "    <tr>\n",
       "      <th>1</th>\n",
       "      <td>2020-03-07</td>\n",
       "      <td>Fayette</td>\n",
       "      <td>Kentucky</td>\n",
       "      <td>1</td>\n",
       "      <td>0.0</td>\n",
       "      <td>0.0</td>\n",
       "    </tr>\n",
       "    <tr>\n",
       "      <th>2</th>\n",
       "      <td>2020-03-08</td>\n",
       "      <td>Fayette</td>\n",
       "      <td>Kentucky</td>\n",
       "      <td>2</td>\n",
       "      <td>0.0</td>\n",
       "      <td>1.0</td>\n",
       "    </tr>\n",
       "    <tr>\n",
       "      <th>3</th>\n",
       "      <td>2020-03-09</td>\n",
       "      <td>Fayette</td>\n",
       "      <td>Kentucky</td>\n",
       "      <td>3</td>\n",
       "      <td>0.0</td>\n",
       "      <td>1.0</td>\n",
       "    </tr>\n",
       "    <tr>\n",
       "      <th>4</th>\n",
       "      <td>2020-03-10</td>\n",
       "      <td>Fayette</td>\n",
       "      <td>Kentucky</td>\n",
       "      <td>3</td>\n",
       "      <td>0.0</td>\n",
       "      <td>0.0</td>\n",
       "    </tr>\n",
       "    <tr>\n",
       "      <th>...</th>\n",
       "      <td>...</td>\n",
       "      <td>...</td>\n",
       "      <td>...</td>\n",
       "      <td>...</td>\n",
       "      <td>...</td>\n",
       "      <td>...</td>\n",
       "    </tr>\n",
       "    <tr>\n",
       "      <th>1580</th>\n",
       "      <td>2022-05-09</td>\n",
       "      <td>Walker</td>\n",
       "      <td>Alabama</td>\n",
       "      <td>18749</td>\n",
       "      <td>446.0</td>\n",
       "      <td>1.0</td>\n",
       "    </tr>\n",
       "    <tr>\n",
       "      <th>1581</th>\n",
       "      <td>2022-05-10</td>\n",
       "      <td>Walker</td>\n",
       "      <td>Alabama</td>\n",
       "      <td>18751</td>\n",
       "      <td>446.0</td>\n",
       "      <td>2.0</td>\n",
       "    </tr>\n",
       "    <tr>\n",
       "      <th>1582</th>\n",
       "      <td>2022-05-11</td>\n",
       "      <td>Walker</td>\n",
       "      <td>Alabama</td>\n",
       "      <td>18758</td>\n",
       "      <td>446.0</td>\n",
       "      <td>7.0</td>\n",
       "    </tr>\n",
       "    <tr>\n",
       "      <th>1583</th>\n",
       "      <td>2022-05-12</td>\n",
       "      <td>Walker</td>\n",
       "      <td>Alabama</td>\n",
       "      <td>18763</td>\n",
       "      <td>447.0</td>\n",
       "      <td>5.0</td>\n",
       "    </tr>\n",
       "    <tr>\n",
       "      <th>1584</th>\n",
       "      <td>2022-05-13</td>\n",
       "      <td>Walker</td>\n",
       "      <td>Alabama</td>\n",
       "      <td>18767</td>\n",
       "      <td>447.0</td>\n",
       "      <td>4.0</td>\n",
       "    </tr>\n",
       "  </tbody>\n",
       "</table>\n",
       "<p>1585 rows × 6 columns</p>\n",
       "</div>"
      ],
      "text/plain": [
       "            date   county     state  cases  deaths  case_rate\n",
       "0     2020-03-06  Fayette  Kentucky      1     0.0        NaN\n",
       "1     2020-03-07  Fayette  Kentucky      1     0.0        0.0\n",
       "2     2020-03-08  Fayette  Kentucky      2     0.0        1.0\n",
       "3     2020-03-09  Fayette  Kentucky      3     0.0        1.0\n",
       "4     2020-03-10  Fayette  Kentucky      3     0.0        0.0\n",
       "...          ...      ...       ...    ...     ...        ...\n",
       "1580  2022-05-09   Walker   Alabama  18749   446.0        1.0\n",
       "1581  2022-05-10   Walker   Alabama  18751   446.0        2.0\n",
       "1582  2022-05-11   Walker   Alabama  18758   446.0        7.0\n",
       "1583  2022-05-12   Walker   Alabama  18763   447.0        5.0\n",
       "1584  2022-05-13   Walker   Alabama  18767   447.0        4.0\n",
       "\n",
       "[1585 rows x 6 columns]"
      ]
     },
     "execution_count": 403,
     "metadata": {},
     "output_type": "execute_result"
    }
   ],
   "source": [
    "df['case_rate'] = df['cases'].diff()\n",
    "df"
   ]
  },
  {
   "cell_type": "code",
   "execution_count": 406,
   "id": "c1cd5f56",
   "metadata": {},
   "outputs": [
    {
     "data": {
      "text/html": [
       "<div>\n",
       "<style scoped>\n",
       "    .dataframe tbody tr th:only-of-type {\n",
       "        vertical-align: middle;\n",
       "    }\n",
       "\n",
       "    .dataframe tbody tr th {\n",
       "        vertical-align: top;\n",
       "    }\n",
       "\n",
       "    .dataframe thead th {\n",
       "        text-align: right;\n",
       "    }\n",
       "</style>\n",
       "<table border=\"1\" class=\"dataframe\">\n",
       "  <thead>\n",
       "    <tr style=\"text-align: right;\">\n",
       "      <th></th>\n",
       "      <th>date</th>\n",
       "      <th>county</th>\n",
       "      <th>state</th>\n",
       "      <th>cases</th>\n",
       "      <th>deaths</th>\n",
       "      <th>case_rate</th>\n",
       "      <th>case_rate_5day</th>\n",
       "    </tr>\n",
       "  </thead>\n",
       "  <tbody>\n",
       "    <tr>\n",
       "      <th>1579</th>\n",
       "      <td>2022-05-08</td>\n",
       "      <td>Walker</td>\n",
       "      <td>Alabama</td>\n",
       "      <td>18748</td>\n",
       "      <td>446.0</td>\n",
       "      <td>0.0</td>\n",
       "      <td>7.0</td>\n",
       "    </tr>\n",
       "    <tr>\n",
       "      <th>1580</th>\n",
       "      <td>2022-05-09</td>\n",
       "      <td>Walker</td>\n",
       "      <td>Alabama</td>\n",
       "      <td>18749</td>\n",
       "      <td>446.0</td>\n",
       "      <td>1.0</td>\n",
       "      <td>6.0</td>\n",
       "    </tr>\n",
       "    <tr>\n",
       "      <th>1581</th>\n",
       "      <td>2022-05-10</td>\n",
       "      <td>Walker</td>\n",
       "      <td>Alabama</td>\n",
       "      <td>18751</td>\n",
       "      <td>446.0</td>\n",
       "      <td>2.0</td>\n",
       "      <td>6.0</td>\n",
       "    </tr>\n",
       "    <tr>\n",
       "      <th>1582</th>\n",
       "      <td>2022-05-11</td>\n",
       "      <td>Walker</td>\n",
       "      <td>Alabama</td>\n",
       "      <td>18758</td>\n",
       "      <td>446.0</td>\n",
       "      <td>7.0</td>\n",
       "      <td>10.0</td>\n",
       "    </tr>\n",
       "    <tr>\n",
       "      <th>1583</th>\n",
       "      <td>2022-05-12</td>\n",
       "      <td>Walker</td>\n",
       "      <td>Alabama</td>\n",
       "      <td>18763</td>\n",
       "      <td>447.0</td>\n",
       "      <td>5.0</td>\n",
       "      <td>15.0</td>\n",
       "    </tr>\n",
       "    <tr>\n",
       "      <th>1584</th>\n",
       "      <td>2022-05-13</td>\n",
       "      <td>Walker</td>\n",
       "      <td>Alabama</td>\n",
       "      <td>18767</td>\n",
       "      <td>447.0</td>\n",
       "      <td>4.0</td>\n",
       "      <td>19.0</td>\n",
       "    </tr>\n",
       "  </tbody>\n",
       "</table>\n",
       "</div>"
      ],
      "text/plain": [
       "            date  county    state  cases  deaths  case_rate  case_rate_5day\n",
       "1579  2022-05-08  Walker  Alabama  18748   446.0        0.0             7.0\n",
       "1580  2022-05-09  Walker  Alabama  18749   446.0        1.0             6.0\n",
       "1581  2022-05-10  Walker  Alabama  18751   446.0        2.0             6.0\n",
       "1582  2022-05-11  Walker  Alabama  18758   446.0        7.0            10.0\n",
       "1583  2022-05-12  Walker  Alabama  18763   447.0        5.0            15.0\n",
       "1584  2022-05-13  Walker  Alabama  18767   447.0        4.0            19.0"
      ]
     },
     "execution_count": 406,
     "metadata": {},
     "output_type": "execute_result"
    }
   ],
   "source": [
    "df['case_rate_5day'] = df['cases'].diff(periods=5)\n",
    "df.tail(6)"
   ]
  },
  {
   "cell_type": "code",
   "execution_count": 413,
   "id": "c73b9c94",
   "metadata": {},
   "outputs": [
    {
     "data": {
      "text/html": [
       "<div>\n",
       "<style scoped>\n",
       "    .dataframe tbody tr th:only-of-type {\n",
       "        vertical-align: middle;\n",
       "    }\n",
       "\n",
       "    .dataframe tbody tr th {\n",
       "        vertical-align: top;\n",
       "    }\n",
       "\n",
       "    .dataframe thead th {\n",
       "        text-align: right;\n",
       "    }\n",
       "</style>\n",
       "<table border=\"1\" class=\"dataframe\">\n",
       "  <thead>\n",
       "    <tr style=\"text-align: right;\">\n",
       "      <th></th>\n",
       "      <th>date</th>\n",
       "      <th>county</th>\n",
       "      <th>state</th>\n",
       "      <th>cases</th>\n",
       "      <th>deaths</th>\n",
       "      <th>case_rate</th>\n",
       "      <th>case_rate_5day</th>\n",
       "    </tr>\n",
       "  </thead>\n",
       "  <tbody>\n",
       "    <tr>\n",
       "      <th>799</th>\n",
       "      <td>2020-03-19</td>\n",
       "      <td>Walker</td>\n",
       "      <td>Alabama</td>\n",
       "      <td>1</td>\n",
       "      <td>0.0</td>\n",
       "      <td>-95992.0</td>\n",
       "      <td>-95992.0</td>\n",
       "    </tr>\n",
       "    <tr>\n",
       "      <th>800</th>\n",
       "      <td>2020-03-20</td>\n",
       "      <td>Walker</td>\n",
       "      <td>Alabama</td>\n",
       "      <td>1</td>\n",
       "      <td>0.0</td>\n",
       "      <td>0.0</td>\n",
       "      <td>-95992.0</td>\n",
       "    </tr>\n",
       "    <tr>\n",
       "      <th>801</th>\n",
       "      <td>2020-03-21</td>\n",
       "      <td>Walker</td>\n",
       "      <td>Alabama</td>\n",
       "      <td>1</td>\n",
       "      <td>0.0</td>\n",
       "      <td>0.0</td>\n",
       "      <td>-95992.0</td>\n",
       "    </tr>\n",
       "    <tr>\n",
       "      <th>802</th>\n",
       "      <td>2020-03-22</td>\n",
       "      <td>Walker</td>\n",
       "      <td>Alabama</td>\n",
       "      <td>1</td>\n",
       "      <td>0.0</td>\n",
       "      <td>0.0</td>\n",
       "      <td>-95992.0</td>\n",
       "    </tr>\n",
       "    <tr>\n",
       "      <th>803</th>\n",
       "      <td>2020-03-23</td>\n",
       "      <td>Walker</td>\n",
       "      <td>Alabama</td>\n",
       "      <td>3</td>\n",
       "      <td>0.0</td>\n",
       "      <td>2.0</td>\n",
       "      <td>-95990.0</td>\n",
       "    </tr>\n",
       "    <tr>\n",
       "      <th>...</th>\n",
       "      <td>...</td>\n",
       "      <td>...</td>\n",
       "      <td>...</td>\n",
       "      <td>...</td>\n",
       "      <td>...</td>\n",
       "      <td>...</td>\n",
       "      <td>...</td>\n",
       "    </tr>\n",
       "    <tr>\n",
       "      <th>1580</th>\n",
       "      <td>2022-05-09</td>\n",
       "      <td>Walker</td>\n",
       "      <td>Alabama</td>\n",
       "      <td>18749</td>\n",
       "      <td>446.0</td>\n",
       "      <td>1.0</td>\n",
       "      <td>6.0</td>\n",
       "    </tr>\n",
       "    <tr>\n",
       "      <th>1581</th>\n",
       "      <td>2022-05-10</td>\n",
       "      <td>Walker</td>\n",
       "      <td>Alabama</td>\n",
       "      <td>18751</td>\n",
       "      <td>446.0</td>\n",
       "      <td>2.0</td>\n",
       "      <td>6.0</td>\n",
       "    </tr>\n",
       "    <tr>\n",
       "      <th>1582</th>\n",
       "      <td>2022-05-11</td>\n",
       "      <td>Walker</td>\n",
       "      <td>Alabama</td>\n",
       "      <td>18758</td>\n",
       "      <td>446.0</td>\n",
       "      <td>7.0</td>\n",
       "      <td>10.0</td>\n",
       "    </tr>\n",
       "    <tr>\n",
       "      <th>1583</th>\n",
       "      <td>2022-05-12</td>\n",
       "      <td>Walker</td>\n",
       "      <td>Alabama</td>\n",
       "      <td>18763</td>\n",
       "      <td>447.0</td>\n",
       "      <td>5.0</td>\n",
       "      <td>15.0</td>\n",
       "    </tr>\n",
       "    <tr>\n",
       "      <th>1584</th>\n",
       "      <td>2022-05-13</td>\n",
       "      <td>Walker</td>\n",
       "      <td>Alabama</td>\n",
       "      <td>18767</td>\n",
       "      <td>447.0</td>\n",
       "      <td>4.0</td>\n",
       "      <td>19.0</td>\n",
       "    </tr>\n",
       "  </tbody>\n",
       "</table>\n",
       "<p>786 rows × 7 columns</p>\n",
       "</div>"
      ],
      "text/plain": [
       "            date  county    state  cases  deaths  case_rate  case_rate_5day\n",
       "799   2020-03-19  Walker  Alabama      1     0.0   -95992.0        -95992.0\n",
       "800   2020-03-20  Walker  Alabama      1     0.0        0.0        -95992.0\n",
       "801   2020-03-21  Walker  Alabama      1     0.0        0.0        -95992.0\n",
       "802   2020-03-22  Walker  Alabama      1     0.0        0.0        -95992.0\n",
       "803   2020-03-23  Walker  Alabama      3     0.0        2.0        -95990.0\n",
       "...          ...     ...      ...    ...     ...        ...             ...\n",
       "1580  2022-05-09  Walker  Alabama  18749   446.0        1.0             6.0\n",
       "1581  2022-05-10  Walker  Alabama  18751   446.0        2.0             6.0\n",
       "1582  2022-05-11  Walker  Alabama  18758   446.0        7.0            10.0\n",
       "1583  2022-05-12  Walker  Alabama  18763   447.0        5.0            15.0\n",
       "1584  2022-05-13  Walker  Alabama  18767   447.0        4.0            19.0\n",
       "\n",
       "[786 rows x 7 columns]"
      ]
     },
     "execution_count": 413,
     "metadata": {},
     "output_type": "execute_result"
    }
   ],
   "source": [
    "df.query('state == \"Alabama\"').sort_values(by='date',ascending=True)"
   ]
  },
  {
   "cell_type": "code",
   "execution_count": 415,
   "id": "02abf408",
   "metadata": {},
   "outputs": [],
   "source": [
    "df.iloc[799,5] = np.nan"
   ]
  },
  {
   "cell_type": "code",
   "execution_count": 417,
   "id": "bdecf470",
   "metadata": {},
   "outputs": [
    {
     "name": "stderr",
     "output_type": "stream",
     "text": [
      "/var/folders/cs/jyh0ydnd0r978qyg_lxk0t0h0000gn/T/ipykernel_99147/1153279943.py:1: SettingWithCopyWarning: \n",
      "A value is trying to be set on a copy of a slice from a DataFrame\n",
      "\n",
      "See the caveats in the documentation: https://pandas.pydata.org/pandas-docs/stable/user_guide/indexing.html#returning-a-view-versus-a-copy\n",
      "  df['case_rate_5day'][799:804] = np.nan\n"
     ]
    }
   ],
   "source": [
    "df['case_rate_5day'][799:804] = np.nan"
   ]
  },
  {
   "cell_type": "code",
   "execution_count": 418,
   "id": "c79048ce",
   "metadata": {},
   "outputs": [
    {
     "data": {
      "text/html": [
       "<div>\n",
       "<style scoped>\n",
       "    .dataframe tbody tr th:only-of-type {\n",
       "        vertical-align: middle;\n",
       "    }\n",
       "\n",
       "    .dataframe tbody tr th {\n",
       "        vertical-align: top;\n",
       "    }\n",
       "\n",
       "    .dataframe thead th {\n",
       "        text-align: right;\n",
       "    }\n",
       "</style>\n",
       "<table border=\"1\" class=\"dataframe\">\n",
       "  <thead>\n",
       "    <tr style=\"text-align: right;\">\n",
       "      <th></th>\n",
       "      <th>date</th>\n",
       "      <th>county</th>\n",
       "      <th>state</th>\n",
       "      <th>cases</th>\n",
       "      <th>deaths</th>\n",
       "      <th>case_rate</th>\n",
       "      <th>case_rate_5day</th>\n",
       "    </tr>\n",
       "  </thead>\n",
       "  <tbody>\n",
       "    <tr>\n",
       "      <th>799</th>\n",
       "      <td>2020-03-19</td>\n",
       "      <td>Walker</td>\n",
       "      <td>Alabama</td>\n",
       "      <td>1</td>\n",
       "      <td>0.0</td>\n",
       "      <td>NaN</td>\n",
       "      <td>NaN</td>\n",
       "    </tr>\n",
       "    <tr>\n",
       "      <th>800</th>\n",
       "      <td>2020-03-20</td>\n",
       "      <td>Walker</td>\n",
       "      <td>Alabama</td>\n",
       "      <td>1</td>\n",
       "      <td>0.0</td>\n",
       "      <td>0.0</td>\n",
       "      <td>NaN</td>\n",
       "    </tr>\n",
       "    <tr>\n",
       "      <th>801</th>\n",
       "      <td>2020-03-21</td>\n",
       "      <td>Walker</td>\n",
       "      <td>Alabama</td>\n",
       "      <td>1</td>\n",
       "      <td>0.0</td>\n",
       "      <td>0.0</td>\n",
       "      <td>NaN</td>\n",
       "    </tr>\n",
       "    <tr>\n",
       "      <th>802</th>\n",
       "      <td>2020-03-22</td>\n",
       "      <td>Walker</td>\n",
       "      <td>Alabama</td>\n",
       "      <td>1</td>\n",
       "      <td>0.0</td>\n",
       "      <td>0.0</td>\n",
       "      <td>NaN</td>\n",
       "    </tr>\n",
       "    <tr>\n",
       "      <th>803</th>\n",
       "      <td>2020-03-23</td>\n",
       "      <td>Walker</td>\n",
       "      <td>Alabama</td>\n",
       "      <td>3</td>\n",
       "      <td>0.0</td>\n",
       "      <td>2.0</td>\n",
       "      <td>NaN</td>\n",
       "    </tr>\n",
       "    <tr>\n",
       "      <th>...</th>\n",
       "      <td>...</td>\n",
       "      <td>...</td>\n",
       "      <td>...</td>\n",
       "      <td>...</td>\n",
       "      <td>...</td>\n",
       "      <td>...</td>\n",
       "      <td>...</td>\n",
       "    </tr>\n",
       "    <tr>\n",
       "      <th>1580</th>\n",
       "      <td>2022-05-09</td>\n",
       "      <td>Walker</td>\n",
       "      <td>Alabama</td>\n",
       "      <td>18749</td>\n",
       "      <td>446.0</td>\n",
       "      <td>1.0</td>\n",
       "      <td>6.0</td>\n",
       "    </tr>\n",
       "    <tr>\n",
       "      <th>1581</th>\n",
       "      <td>2022-05-10</td>\n",
       "      <td>Walker</td>\n",
       "      <td>Alabama</td>\n",
       "      <td>18751</td>\n",
       "      <td>446.0</td>\n",
       "      <td>2.0</td>\n",
       "      <td>6.0</td>\n",
       "    </tr>\n",
       "    <tr>\n",
       "      <th>1582</th>\n",
       "      <td>2022-05-11</td>\n",
       "      <td>Walker</td>\n",
       "      <td>Alabama</td>\n",
       "      <td>18758</td>\n",
       "      <td>446.0</td>\n",
       "      <td>7.0</td>\n",
       "      <td>10.0</td>\n",
       "    </tr>\n",
       "    <tr>\n",
       "      <th>1583</th>\n",
       "      <td>2022-05-12</td>\n",
       "      <td>Walker</td>\n",
       "      <td>Alabama</td>\n",
       "      <td>18763</td>\n",
       "      <td>447.0</td>\n",
       "      <td>5.0</td>\n",
       "      <td>15.0</td>\n",
       "    </tr>\n",
       "    <tr>\n",
       "      <th>1584</th>\n",
       "      <td>2022-05-13</td>\n",
       "      <td>Walker</td>\n",
       "      <td>Alabama</td>\n",
       "      <td>18767</td>\n",
       "      <td>447.0</td>\n",
       "      <td>4.0</td>\n",
       "      <td>19.0</td>\n",
       "    </tr>\n",
       "  </tbody>\n",
       "</table>\n",
       "<p>786 rows × 7 columns</p>\n",
       "</div>"
      ],
      "text/plain": [
       "            date  county    state  cases  deaths  case_rate  case_rate_5day\n",
       "799   2020-03-19  Walker  Alabama      1     0.0        NaN             NaN\n",
       "800   2020-03-20  Walker  Alabama      1     0.0        0.0             NaN\n",
       "801   2020-03-21  Walker  Alabama      1     0.0        0.0             NaN\n",
       "802   2020-03-22  Walker  Alabama      1     0.0        0.0             NaN\n",
       "803   2020-03-23  Walker  Alabama      3     0.0        2.0             NaN\n",
       "...          ...     ...      ...    ...     ...        ...             ...\n",
       "1580  2022-05-09  Walker  Alabama  18749   446.0        1.0             6.0\n",
       "1581  2022-05-10  Walker  Alabama  18751   446.0        2.0             6.0\n",
       "1582  2022-05-11  Walker  Alabama  18758   446.0        7.0            10.0\n",
       "1583  2022-05-12  Walker  Alabama  18763   447.0        5.0            15.0\n",
       "1584  2022-05-13  Walker  Alabama  18767   447.0        4.0            19.0\n",
       "\n",
       "[786 rows x 7 columns]"
      ]
     },
     "execution_count": 418,
     "metadata": {},
     "output_type": "execute_result"
    }
   ],
   "source": [
    "df.query('state == \"Alabama\"').sort_values(by='date',ascending=True)"
   ]
  },
  {
   "cell_type": "code",
   "execution_count": 419,
   "id": "6a8bccd8",
   "metadata": {},
   "outputs": [
    {
     "data": {
      "text/plain": [
       "<AxesSubplot:xlabel='date', ylabel='case_rate'>"
      ]
     },
     "execution_count": 419,
     "metadata": {},
     "output_type": "execute_result"
    },
    {
     "data": {
      "image/png": "[encoded data removed]",
      "text/plain": [
       "<Figure size 432x288 with 1 Axes>"
      ]
     },
     "metadata": {},
     "output_type": "display_data"
    }
   ],
   "source": [
    "sns.lineplot(x='date', y='case_rate', data=df, hue='state', ci=None)"
   ]
  },
  {
   "cell_type": "code",
   "execution_count": 421,
   "id": "95eecc14",
   "metadata": {},
   "outputs": [
    {
     "data": {
      "text/plain": [
       "date              2022-05-13\n",
       "county                Walker\n",
       "state                Alabama\n",
       "cases                  18767\n",
       "deaths                 447.0\n",
       "case_rate             1270.0\n",
       "case_rate_5day        1872.0\n",
       "dtype: object"
      ]
     },
     "execution_count": 421,
     "metadata": {},
     "output_type": "execute_result"
    }
   ],
   "source": [
    "df.query('state == \"Alabama\"').max()"
   ]
  },
  {
   "cell_type": "code",
   "execution_count": 422,
   "id": "17b2b799",
   "metadata": {},
   "outputs": [
    {
     "data": {
      "text/plain": [
       "date              2022-05-13\n",
       "county               Fayette\n",
       "state               Kentucky\n",
       "cases                  95993\n",
       "deaths                 609.0\n",
       "case_rate             4157.0\n",
       "case_rate_5day        7338.0\n",
       "dtype: object"
      ]
     },
     "execution_count": 422,
     "metadata": {},
     "output_type": "execute_result"
    }
   ],
   "source": [
    "df.query('state == \"Kentucky\"').max()"
   ]
  },
  {
   "cell_type": "code",
   "execution_count": 420,
   "id": "78b7b901",
   "metadata": {},
   "outputs": [
    {
     "data": {
      "text/plain": [
       "<AxesSubplot:xlabel='date', ylabel='case_rate_5day'>"
      ]
     },
     "execution_count": 420,
     "metadata": {},
     "output_type": "execute_result"
    },
    {
     "data": {
      "image/png": "[encoded data removed]",
      "text/plain": [
       "<Figure size 432x288 with 1 Axes>"
      ]
     },
     "metadata": {},
     "output_type": "display_data"
    }
   ],
   "source": [
    "sns.lineplot(x='date', y='case_rate_5day', data=df, hue='state', ci=None)"
   ]
  },
  {
   "cell_type": "code",
   "execution_count": 423,
   "id": "cfc7d448",
   "metadata": {},
   "outputs": [],
   "source": [
    "df['death_rate'] = df['deaths'].diff()"
   ]
  },
  {
   "cell_type": "code",
   "execution_count": 424,
   "id": "483387ee",
   "metadata": {},
   "outputs": [],
   "source": [
    "df['death_rate_5day'] = df['deaths'].diff(5)"
   ]
  },
  {
   "cell_type": "code",
   "execution_count": 425,
   "id": "f5f61cbe",
   "metadata": {},
   "outputs": [
    {
     "data": {
      "text/plain": [
       "date               2022-05-13\n",
       "county                 Walker\n",
       "state                 Alabama\n",
       "cases                   18767\n",
       "deaths                  447.0\n",
       "case_rate              1270.0\n",
       "case_rate_5day         1872.0\n",
       "death_rate               31.0\n",
       "death_rate_5day          32.0\n",
       "dtype: object"
      ]
     },
     "execution_count": 425,
     "metadata": {},
     "output_type": "execute_result"
    }
   ],
   "source": [
    "df.query('state == \"Alabama\"').max()"
   ]
  },
  {
   "cell_type": "code",
   "execution_count": 426,
   "id": "2ca3bf27",
   "metadata": {},
   "outputs": [
    {
     "data": {
      "text/plain": [
       "date               2022-05-13\n",
       "county                Fayette\n",
       "state                Kentucky\n",
       "cases                   95993\n",
       "deaths                  609.0\n",
       "case_rate              4157.0\n",
       "case_rate_5day         7338.0\n",
       "death_rate               12.0\n",
       "death_rate_5day          28.0\n",
       "dtype: object"
      ]
     },
     "execution_count": 426,
     "metadata": {},
     "output_type": "execute_result"
    }
   ],
   "source": [
    "df.query('state == \"Kentucky\"').max()"
   ]
  },
  {
   "cell_type": "code",
   "execution_count": 427,
   "id": "169284b9",
   "metadata": {},
   "outputs": [
    {
     "data": {
      "text/plain": [
       "<AxesSubplot:xlabel='date', ylabel='death_rate'>"
      ]
     },
     "execution_count": 427,
     "metadata": {},
     "output_type": "execute_result"
    },
    {
     "data": {
      "image/png": "[encoded data removed]",
      "text/plain": [
       "<Figure size 432x288 with 1 Axes>"
      ]
     },
     "metadata": {},
     "output_type": "display_data"
    }
   ],
   "source": [
    "sns.lineplot(x='date', y='death_rate', data=df, hue='state', ci=None)"
   ]
  },
  {
   "cell_type": "code",
   "execution_count": 436,
   "id": "a07f729d",
   "metadata": {},
   "outputs": [
    {
     "data": {
      "text/html": [
       "<div>\n",
       "<style scoped>\n",
       "    .dataframe tbody tr th:only-of-type {\n",
       "        vertical-align: middle;\n",
       "    }\n",
       "\n",
       "    .dataframe tbody tr th {\n",
       "        vertical-align: top;\n",
       "    }\n",
       "\n",
       "    .dataframe thead th {\n",
       "        text-align: right;\n",
       "    }\n",
       "</style>\n",
       "<table border=\"1\" class=\"dataframe\">\n",
       "  <thead>\n",
       "    <tr style=\"text-align: right;\">\n",
       "      <th></th>\n",
       "      <th>date</th>\n",
       "      <th>county</th>\n",
       "      <th>state</th>\n",
       "      <th>cases</th>\n",
       "      <th>deaths</th>\n",
       "      <th>case_rate</th>\n",
       "      <th>case_rate_5day</th>\n",
       "      <th>death_rate</th>\n",
       "      <th>death_rate_5day</th>\n",
       "    </tr>\n",
       "  </thead>\n",
       "  <tbody>\n",
       "    <tr>\n",
       "      <th>30</th>\n",
       "      <td>2020-04-05</td>\n",
       "      <td>Fayette</td>\n",
       "      <td>Kentucky</td>\n",
       "      <td>153</td>\n",
       "      <td>6.0</td>\n",
       "      <td>28.0</td>\n",
       "      <td>47.0</td>\n",
       "      <td>-3.0</td>\n",
       "      <td>4.0</td>\n",
       "    </tr>\n",
       "    <tr>\n",
       "      <th>54</th>\n",
       "      <td>2020-04-29</td>\n",
       "      <td>Fayette</td>\n",
       "      <td>Kentucky</td>\n",
       "      <td>246</td>\n",
       "      <td>9.0</td>\n",
       "      <td>4.0</td>\n",
       "      <td>20.0</td>\n",
       "      <td>-1.0</td>\n",
       "      <td>1.0</td>\n",
       "    </tr>\n",
       "    <tr>\n",
       "      <th>230</th>\n",
       "      <td>2020-10-22</td>\n",
       "      <td>Fayette</td>\n",
       "      <td>Kentucky</td>\n",
       "      <td>10194</td>\n",
       "      <td>90.0</td>\n",
       "      <td>118.0</td>\n",
       "      <td>376.0</td>\n",
       "      <td>-1.0</td>\n",
       "      <td>3.0</td>\n",
       "    </tr>\n",
       "    <tr>\n",
       "      <th>266</th>\n",
       "      <td>2020-11-27</td>\n",
       "      <td>Fayette</td>\n",
       "      <td>Kentucky</td>\n",
       "      <td>16703</td>\n",
       "      <td>112.0</td>\n",
       "      <td>502.0</td>\n",
       "      <td>1163.0</td>\n",
       "      <td>-1.0</td>\n",
       "      <td>0.0</td>\n",
       "    </tr>\n",
       "    <tr>\n",
       "      <th>425</th>\n",
       "      <td>2021-05-05</td>\n",
       "      <td>Fayette</td>\n",
       "      <td>Kentucky</td>\n",
       "      <td>35506</td>\n",
       "      <td>308.0</td>\n",
       "      <td>55.0</td>\n",
       "      <td>191.0</td>\n",
       "      <td>-1.0</td>\n",
       "      <td>1.0</td>\n",
       "    </tr>\n",
       "    <tr>\n",
       "      <th>721</th>\n",
       "      <td>2022-02-25</td>\n",
       "      <td>Fayette</td>\n",
       "      <td>Kentucky</td>\n",
       "      <td>92659</td>\n",
       "      <td>547.0</td>\n",
       "      <td>217.0</td>\n",
       "      <td>1124.0</td>\n",
       "      <td>-1.0</td>\n",
       "      <td>7.0</td>\n",
       "    </tr>\n",
       "    <tr>\n",
       "      <th>799</th>\n",
       "      <td>2020-03-19</td>\n",
       "      <td>Walker</td>\n",
       "      <td>Alabama</td>\n",
       "      <td>1</td>\n",
       "      <td>0.0</td>\n",
       "      <td>NaN</td>\n",
       "      <td>NaN</td>\n",
       "      <td>-609.0</td>\n",
       "      <td>-609.0</td>\n",
       "    </tr>\n",
       "    <tr>\n",
       "      <th>1018</th>\n",
       "      <td>2020-10-24</td>\n",
       "      <td>Walker</td>\n",
       "      <td>Alabama</td>\n",
       "      <td>2772</td>\n",
       "      <td>92.0</td>\n",
       "      <td>17.0</td>\n",
       "      <td>92.0</td>\n",
       "      <td>-1.0</td>\n",
       "      <td>0.0</td>\n",
       "    </tr>\n",
       "    <tr>\n",
       "      <th>1100</th>\n",
       "      <td>2021-01-14</td>\n",
       "      <td>Walker</td>\n",
       "      <td>Alabama</td>\n",
       "      <td>5834</td>\n",
       "      <td>176.0</td>\n",
       "      <td>31.0</td>\n",
       "      <td>120.0</td>\n",
       "      <td>-1.0</td>\n",
       "      <td>6.0</td>\n",
       "    </tr>\n",
       "    <tr>\n",
       "      <th>1101</th>\n",
       "      <td>2021-01-15</td>\n",
       "      <td>Walker</td>\n",
       "      <td>Alabama</td>\n",
       "      <td>5852</td>\n",
       "      <td>174.0</td>\n",
       "      <td>18.0</td>\n",
       "      <td>118.0</td>\n",
       "      <td>-2.0</td>\n",
       "      <td>4.0</td>\n",
       "    </tr>\n",
       "    <tr>\n",
       "      <th>1134</th>\n",
       "      <td>2021-02-17</td>\n",
       "      <td>Walker</td>\n",
       "      <td>Alabama</td>\n",
       "      <td>6384</td>\n",
       "      <td>236.0</td>\n",
       "      <td>9.0</td>\n",
       "      <td>37.0</td>\n",
       "      <td>-2.0</td>\n",
       "      <td>1.0</td>\n",
       "    </tr>\n",
       "    <tr>\n",
       "      <th>1211</th>\n",
       "      <td>2021-05-05</td>\n",
       "      <td>Walker</td>\n",
       "      <td>Alabama</td>\n",
       "      <td>7214</td>\n",
       "      <td>277.0</td>\n",
       "      <td>9.0</td>\n",
       "      <td>14.0</td>\n",
       "      <td>-2.0</td>\n",
       "      <td>-1.0</td>\n",
       "    </tr>\n",
       "    <tr>\n",
       "      <th>1233</th>\n",
       "      <td>2021-05-27</td>\n",
       "      <td>Walker</td>\n",
       "      <td>Alabama</td>\n",
       "      <td>7283</td>\n",
       "      <td>278.0</td>\n",
       "      <td>1.0</td>\n",
       "      <td>13.0</td>\n",
       "      <td>-1.0</td>\n",
       "      <td>-1.0</td>\n",
       "    </tr>\n",
       "  </tbody>\n",
       "</table>\n",
       "</div>"
      ],
      "text/plain": [
       "            date   county     state  cases  deaths  case_rate  case_rate_5day  \\\n",
       "30    2020-04-05  Fayette  Kentucky    153     6.0       28.0            47.0   \n",
       "54    2020-04-29  Fayette  Kentucky    246     9.0        4.0            20.0   \n",
       "230   2020-10-22  Fayette  Kentucky  10194    90.0      118.0           376.0   \n",
       "266   2020-11-27  Fayette  Kentucky  16703   112.0      502.0          1163.0   \n",
       "425   2021-05-05  Fayette  Kentucky  35506   308.0       55.0           191.0   \n",
       "721   2022-02-25  Fayette  Kentucky  92659   547.0      217.0          1124.0   \n",
       "799   2020-03-19   Walker   Alabama      1     0.0        NaN             NaN   \n",
       "1018  2020-10-24   Walker   Alabama   2772    92.0       17.0            92.0   \n",
       "1100  2021-01-14   Walker   Alabama   5834   176.0       31.0           120.0   \n",
       "1101  2021-01-15   Walker   Alabama   5852   174.0       18.0           118.0   \n",
       "1134  2021-02-17   Walker   Alabama   6384   236.0        9.0            37.0   \n",
       "1211  2021-05-05   Walker   Alabama   7214   277.0        9.0            14.0   \n",
       "1233  2021-05-27   Walker   Alabama   7283   278.0        1.0            13.0   \n",
       "\n",
       "      death_rate  death_rate_5day  \n",
       "30          -3.0              4.0  \n",
       "54          -1.0              1.0  \n",
       "230         -1.0              3.0  \n",
       "266         -1.0              0.0  \n",
       "425         -1.0              1.0  \n",
       "721         -1.0              7.0  \n",
       "799       -609.0           -609.0  \n",
       "1018        -1.0              0.0  \n",
       "1100        -1.0              6.0  \n",
       "1101        -2.0              4.0  \n",
       "1134        -2.0              1.0  \n",
       "1211        -2.0             -1.0  \n",
       "1233        -1.0             -1.0  "
      ]
     },
     "execution_count": 436,
     "metadata": {},
     "output_type": "execute_result"
    }
   ],
   "source": [
    "df.query('death_rate < 0')"
   ]
  },
  {
   "cell_type": "code",
   "execution_count": 442,
   "id": "c71d844c",
   "metadata": {},
   "outputs": [],
   "source": [
    "df.drop(index=799, inplace=True)"
   ]
  },
  {
   "cell_type": "code",
   "execution_count": 443,
   "id": "09911ee7",
   "metadata": {},
   "outputs": [
    {
     "data": {
      "text/plain": [
       "<AxesSubplot:xlabel='date', ylabel='death_rate'>"
      ]
     },
     "execution_count": 443,
     "metadata": {},
     "output_type": "execute_result"
    },
    {
     "data": {
      "image/png": "[encoded data removed]",
      "text/plain": [
       "<Figure size 432x288 with 1 Axes>"
      ]
     },
     "metadata": {},
     "output_type": "display_data"
    }
   ],
   "source": [
    "sns.lineplot(x='date', y='death_rate', data=df, hue='state', ci=None)"
   ]
  },
  {
   "cell_type": "code",
   "execution_count": 444,
   "id": "4a9e5b6d",
   "metadata": {},
   "outputs": [
    {
     "data": {
      "text/plain": [
       "<AxesSubplot:xlabel='date', ylabel='death_rate_5day'>"
      ]
     },
     "execution_count": 444,
     "metadata": {},
     "output_type": "execute_result"
    },
    {
     "data": {
      "image/png": "[encoded data removed]",
      "text/plain": [
       "<Figure size 432x288 with 1 Axes>"
      ]
     },
     "metadata": {},
     "output_type": "display_data"
    }
   ],
   "source": [
    "sns.lineplot(x='date', y='death_rate_5day', data=df, hue='state', ci=None)"
   ]
  },
  {
   "cell_type": "code",
   "execution_count": 445,
   "id": "36cfd836",
   "metadata": {},
   "outputs": [
    {
     "data": {
      "text/html": [
       "<div>\n",
       "<style scoped>\n",
       "    .dataframe tbody tr th:only-of-type {\n",
       "        vertical-align: middle;\n",
       "    }\n",
       "\n",
       "    .dataframe tbody tr th {\n",
       "        vertical-align: top;\n",
       "    }\n",
       "\n",
       "    .dataframe thead th {\n",
       "        text-align: right;\n",
       "    }\n",
       "</style>\n",
       "<table border=\"1\" class=\"dataframe\">\n",
       "  <thead>\n",
       "    <tr style=\"text-align: right;\">\n",
       "      <th></th>\n",
       "      <th>date</th>\n",
       "      <th>county</th>\n",
       "      <th>state</th>\n",
       "      <th>cases</th>\n",
       "      <th>deaths</th>\n",
       "      <th>case_rate</th>\n",
       "      <th>case_rate_5day</th>\n",
       "      <th>death_rate</th>\n",
       "      <th>death_rate_5day</th>\n",
       "    </tr>\n",
       "  </thead>\n",
       "  <tbody>\n",
       "    <tr>\n",
       "      <th>32</th>\n",
       "      <td>2020-04-07</td>\n",
       "      <td>Fayette</td>\n",
       "      <td>Kentucky</td>\n",
       "      <td>170</td>\n",
       "      <td>7.0</td>\n",
       "      <td>17.0</td>\n",
       "      <td>46.0</td>\n",
       "      <td>1.0</td>\n",
       "      <td>-1.0</td>\n",
       "    </tr>\n",
       "    <tr>\n",
       "      <th>33</th>\n",
       "      <td>2020-04-08</td>\n",
       "      <td>Fayette</td>\n",
       "      <td>Kentucky</td>\n",
       "      <td>170</td>\n",
       "      <td>7.0</td>\n",
       "      <td>0.0</td>\n",
       "      <td>46.0</td>\n",
       "      <td>0.0</td>\n",
       "      <td>-1.0</td>\n",
       "    </tr>\n",
       "    <tr>\n",
       "      <th>34</th>\n",
       "      <td>2020-04-09</td>\n",
       "      <td>Fayette</td>\n",
       "      <td>Kentucky</td>\n",
       "      <td>174</td>\n",
       "      <td>7.0</td>\n",
       "      <td>4.0</td>\n",
       "      <td>49.0</td>\n",
       "      <td>0.0</td>\n",
       "      <td>-2.0</td>\n",
       "    </tr>\n",
       "    <tr>\n",
       "      <th>58</th>\n",
       "      <td>2020-05-03</td>\n",
       "      <td>Fayette</td>\n",
       "      <td>Kentucky</td>\n",
       "      <td>292</td>\n",
       "      <td>9.0</td>\n",
       "      <td>38.0</td>\n",
       "      <td>50.0</td>\n",
       "      <td>0.0</td>\n",
       "      <td>-1.0</td>\n",
       "    </tr>\n",
       "    <tr>\n",
       "      <th>269</th>\n",
       "      <td>2020-11-30</td>\n",
       "      <td>Fayette</td>\n",
       "      <td>Kentucky</td>\n",
       "      <td>17413</td>\n",
       "      <td>112.0</td>\n",
       "      <td>209.0</td>\n",
       "      <td>1212.0</td>\n",
       "      <td>0.0</td>\n",
       "      <td>-1.0</td>\n",
       "    </tr>\n",
       "    <tr>\n",
       "      <th>800</th>\n",
       "      <td>2020-03-20</td>\n",
       "      <td>Walker</td>\n",
       "      <td>Alabama</td>\n",
       "      <td>1</td>\n",
       "      <td>0.0</td>\n",
       "      <td>0.0</td>\n",
       "      <td>NaN</td>\n",
       "      <td>0.0</td>\n",
       "      <td>-609.0</td>\n",
       "    </tr>\n",
       "    <tr>\n",
       "      <th>801</th>\n",
       "      <td>2020-03-21</td>\n",
       "      <td>Walker</td>\n",
       "      <td>Alabama</td>\n",
       "      <td>1</td>\n",
       "      <td>0.0</td>\n",
       "      <td>0.0</td>\n",
       "      <td>NaN</td>\n",
       "      <td>0.0</td>\n",
       "      <td>-609.0</td>\n",
       "    </tr>\n",
       "    <tr>\n",
       "      <th>802</th>\n",
       "      <td>2020-03-22</td>\n",
       "      <td>Walker</td>\n",
       "      <td>Alabama</td>\n",
       "      <td>1</td>\n",
       "      <td>0.0</td>\n",
       "      <td>0.0</td>\n",
       "      <td>NaN</td>\n",
       "      <td>0.0</td>\n",
       "      <td>-609.0</td>\n",
       "    </tr>\n",
       "    <tr>\n",
       "      <th>803</th>\n",
       "      <td>2020-03-23</td>\n",
       "      <td>Walker</td>\n",
       "      <td>Alabama</td>\n",
       "      <td>3</td>\n",
       "      <td>0.0</td>\n",
       "      <td>2.0</td>\n",
       "      <td>NaN</td>\n",
       "      <td>0.0</td>\n",
       "      <td>-609.0</td>\n",
       "    </tr>\n",
       "    <tr>\n",
       "      <th>1020</th>\n",
       "      <td>2020-10-26</td>\n",
       "      <td>Walker</td>\n",
       "      <td>Alabama</td>\n",
       "      <td>2823</td>\n",
       "      <td>92.0</td>\n",
       "      <td>29.0</td>\n",
       "      <td>124.0</td>\n",
       "      <td>0.0</td>\n",
       "      <td>-1.0</td>\n",
       "    </tr>\n",
       "    <tr>\n",
       "      <th>1103</th>\n",
       "      <td>2021-01-17</td>\n",
       "      <td>Walker</td>\n",
       "      <td>Alabama</td>\n",
       "      <td>5897</td>\n",
       "      <td>174.0</td>\n",
       "      <td>17.0</td>\n",
       "      <td>122.0</td>\n",
       "      <td>0.0</td>\n",
       "      <td>-3.0</td>\n",
       "    </tr>\n",
       "    <tr>\n",
       "      <th>1104</th>\n",
       "      <td>2021-01-18</td>\n",
       "      <td>Walker</td>\n",
       "      <td>Alabama</td>\n",
       "      <td>5903</td>\n",
       "      <td>174.0</td>\n",
       "      <td>6.0</td>\n",
       "      <td>100.0</td>\n",
       "      <td>0.0</td>\n",
       "      <td>-3.0</td>\n",
       "    </tr>\n",
       "    <tr>\n",
       "      <th>1105</th>\n",
       "      <td>2021-01-19</td>\n",
       "      <td>Walker</td>\n",
       "      <td>Alabama</td>\n",
       "      <td>5930</td>\n",
       "      <td>174.0</td>\n",
       "      <td>27.0</td>\n",
       "      <td>96.0</td>\n",
       "      <td>0.0</td>\n",
       "      <td>-2.0</td>\n",
       "    </tr>\n",
       "    <tr>\n",
       "      <th>1211</th>\n",
       "      <td>2021-05-05</td>\n",
       "      <td>Walker</td>\n",
       "      <td>Alabama</td>\n",
       "      <td>7214</td>\n",
       "      <td>277.0</td>\n",
       "      <td>9.0</td>\n",
       "      <td>14.0</td>\n",
       "      <td>-2.0</td>\n",
       "      <td>-1.0</td>\n",
       "    </tr>\n",
       "    <tr>\n",
       "      <th>1212</th>\n",
       "      <td>2021-05-06</td>\n",
       "      <td>Walker</td>\n",
       "      <td>Alabama</td>\n",
       "      <td>7222</td>\n",
       "      <td>277.0</td>\n",
       "      <td>8.0</td>\n",
       "      <td>19.0</td>\n",
       "      <td>0.0</td>\n",
       "      <td>-2.0</td>\n",
       "    </tr>\n",
       "    <tr>\n",
       "      <th>1213</th>\n",
       "      <td>2021-05-07</td>\n",
       "      <td>Walker</td>\n",
       "      <td>Alabama</td>\n",
       "      <td>7223</td>\n",
       "      <td>277.0</td>\n",
       "      <td>1.0</td>\n",
       "      <td>18.0</td>\n",
       "      <td>0.0</td>\n",
       "      <td>-2.0</td>\n",
       "    </tr>\n",
       "    <tr>\n",
       "      <th>1214</th>\n",
       "      <td>2021-05-08</td>\n",
       "      <td>Walker</td>\n",
       "      <td>Alabama</td>\n",
       "      <td>7231</td>\n",
       "      <td>277.0</td>\n",
       "      <td>8.0</td>\n",
       "      <td>26.0</td>\n",
       "      <td>0.0</td>\n",
       "      <td>-2.0</td>\n",
       "    </tr>\n",
       "    <tr>\n",
       "      <th>1215</th>\n",
       "      <td>2021-05-09</td>\n",
       "      <td>Walker</td>\n",
       "      <td>Alabama</td>\n",
       "      <td>7235</td>\n",
       "      <td>277.0</td>\n",
       "      <td>4.0</td>\n",
       "      <td>30.0</td>\n",
       "      <td>0.0</td>\n",
       "      <td>-2.0</td>\n",
       "    </tr>\n",
       "    <tr>\n",
       "      <th>1233</th>\n",
       "      <td>2021-05-27</td>\n",
       "      <td>Walker</td>\n",
       "      <td>Alabama</td>\n",
       "      <td>7283</td>\n",
       "      <td>278.0</td>\n",
       "      <td>1.0</td>\n",
       "      <td>13.0</td>\n",
       "      <td>-1.0</td>\n",
       "      <td>-1.0</td>\n",
       "    </tr>\n",
       "    <tr>\n",
       "      <th>1234</th>\n",
       "      <td>2021-05-28</td>\n",
       "      <td>Walker</td>\n",
       "      <td>Alabama</td>\n",
       "      <td>7284</td>\n",
       "      <td>278.0</td>\n",
       "      <td>1.0</td>\n",
       "      <td>10.0</td>\n",
       "      <td>0.0</td>\n",
       "      <td>-1.0</td>\n",
       "    </tr>\n",
       "    <tr>\n",
       "      <th>1235</th>\n",
       "      <td>2021-05-29</td>\n",
       "      <td>Walker</td>\n",
       "      <td>Alabama</td>\n",
       "      <td>7284</td>\n",
       "      <td>278.0</td>\n",
       "      <td>0.0</td>\n",
       "      <td>10.0</td>\n",
       "      <td>0.0</td>\n",
       "      <td>-1.0</td>\n",
       "    </tr>\n",
       "    <tr>\n",
       "      <th>1236</th>\n",
       "      <td>2021-05-30</td>\n",
       "      <td>Walker</td>\n",
       "      <td>Alabama</td>\n",
       "      <td>7284</td>\n",
       "      <td>278.0</td>\n",
       "      <td>0.0</td>\n",
       "      <td>6.0</td>\n",
       "      <td>0.0</td>\n",
       "      <td>-1.0</td>\n",
       "    </tr>\n",
       "    <tr>\n",
       "      <th>1237</th>\n",
       "      <td>2021-05-31</td>\n",
       "      <td>Walker</td>\n",
       "      <td>Alabama</td>\n",
       "      <td>7284</td>\n",
       "      <td>278.0</td>\n",
       "      <td>0.0</td>\n",
       "      <td>2.0</td>\n",
       "      <td>0.0</td>\n",
       "      <td>-1.0</td>\n",
       "    </tr>\n",
       "  </tbody>\n",
       "</table>\n",
       "</div>"
      ],
      "text/plain": [
       "            date   county     state  cases  deaths  case_rate  case_rate_5day  \\\n",
       "32    2020-04-07  Fayette  Kentucky    170     7.0       17.0            46.0   \n",
       "33    2020-04-08  Fayette  Kentucky    170     7.0        0.0            46.0   \n",
       "34    2020-04-09  Fayette  Kentucky    174     7.0        4.0            49.0   \n",
       "58    2020-05-03  Fayette  Kentucky    292     9.0       38.0            50.0   \n",
       "269   2020-11-30  Fayette  Kentucky  17413   112.0      209.0          1212.0   \n",
       "800   2020-03-20   Walker   Alabama      1     0.0        0.0             NaN   \n",
       "801   2020-03-21   Walker   Alabama      1     0.0        0.0             NaN   \n",
       "802   2020-03-22   Walker   Alabama      1     0.0        0.0             NaN   \n",
       "803   2020-03-23   Walker   Alabama      3     0.0        2.0             NaN   \n",
       "1020  2020-10-26   Walker   Alabama   2823    92.0       29.0           124.0   \n",
       "1103  2021-01-17   Walker   Alabama   5897   174.0       17.0           122.0   \n",
       "1104  2021-01-18   Walker   Alabama   5903   174.0        6.0           100.0   \n",
       "1105  2021-01-19   Walker   Alabama   5930   174.0       27.0            96.0   \n",
       "1211  2021-05-05   Walker   Alabama   7214   277.0        9.0            14.0   \n",
       "1212  2021-05-06   Walker   Alabama   7222   277.0        8.0            19.0   \n",
       "1213  2021-05-07   Walker   Alabama   7223   277.0        1.0            18.0   \n",
       "1214  2021-05-08   Walker   Alabama   7231   277.0        8.0            26.0   \n",
       "1215  2021-05-09   Walker   Alabama   7235   277.0        4.0            30.0   \n",
       "1233  2021-05-27   Walker   Alabama   7283   278.0        1.0            13.0   \n",
       "1234  2021-05-28   Walker   Alabama   7284   278.0        1.0            10.0   \n",
       "1235  2021-05-29   Walker   Alabama   7284   278.0        0.0            10.0   \n",
       "1236  2021-05-30   Walker   Alabama   7284   278.0        0.0             6.0   \n",
       "1237  2021-05-31   Walker   Alabama   7284   278.0        0.0             2.0   \n",
       "\n",
       "      death_rate  death_rate_5day  \n",
       "32           1.0             -1.0  \n",
       "33           0.0             -1.0  \n",
       "34           0.0             -2.0  \n",
       "58           0.0             -1.0  \n",
       "269          0.0             -1.0  \n",
       "800          0.0           -609.0  \n",
       "801          0.0           -609.0  \n",
       "802          0.0           -609.0  \n",
       "803          0.0           -609.0  \n",
       "1020         0.0             -1.0  \n",
       "1103         0.0             -3.0  \n",
       "1104         0.0             -3.0  \n",
       "1105         0.0             -2.0  \n",
       "1211        -2.0             -1.0  \n",
       "1212         0.0             -2.0  \n",
       "1213         0.0             -2.0  \n",
       "1214         0.0             -2.0  \n",
       "1215         0.0             -2.0  \n",
       "1233        -1.0             -1.0  \n",
       "1234         0.0             -1.0  \n",
       "1235         0.0             -1.0  \n",
       "1236         0.0             -1.0  \n",
       "1237         0.0             -1.0  "
      ]
     },
     "execution_count": 445,
     "metadata": {},
     "output_type": "execute_result"
    }
   ],
   "source": [
    "df.query('death_rate_5day < 0')"
   ]
  },
  {
   "cell_type": "code",
   "execution_count": 453,
   "id": "4836a77c",
   "metadata": {},
   "outputs": [
    {
     "data": {
      "text/html": [
       "<div>\n",
       "<style scoped>\n",
       "    .dataframe tbody tr th:only-of-type {\n",
       "        vertical-align: middle;\n",
       "    }\n",
       "\n",
       "    .dataframe tbody tr th {\n",
       "        vertical-align: top;\n",
       "    }\n",
       "\n",
       "    .dataframe thead th {\n",
       "        text-align: right;\n",
       "    }\n",
       "</style>\n",
       "<table border=\"1\" class=\"dataframe\">\n",
       "  <thead>\n",
       "    <tr style=\"text-align: right;\">\n",
       "      <th></th>\n",
       "      <th>date</th>\n",
       "      <th>county</th>\n",
       "      <th>state</th>\n",
       "      <th>cases</th>\n",
       "      <th>deaths</th>\n",
       "      <th>case_rate</th>\n",
       "      <th>case_rate_5day</th>\n",
       "      <th>death_rate</th>\n",
       "      <th>death_rate_5day</th>\n",
       "    </tr>\n",
       "  </thead>\n",
       "  <tbody>\n",
       "    <tr>\n",
       "      <th>800</th>\n",
       "      <td>2020-03-20</td>\n",
       "      <td>Walker</td>\n",
       "      <td>Alabama</td>\n",
       "      <td>1</td>\n",
       "      <td>0.0</td>\n",
       "      <td>0.0</td>\n",
       "      <td>NaN</td>\n",
       "      <td>0.0</td>\n",
       "      <td>-609.0</td>\n",
       "    </tr>\n",
       "    <tr>\n",
       "      <th>801</th>\n",
       "      <td>2020-03-21</td>\n",
       "      <td>Walker</td>\n",
       "      <td>Alabama</td>\n",
       "      <td>1</td>\n",
       "      <td>0.0</td>\n",
       "      <td>0.0</td>\n",
       "      <td>NaN</td>\n",
       "      <td>0.0</td>\n",
       "      <td>NaN</td>\n",
       "    </tr>\n",
       "    <tr>\n",
       "      <th>802</th>\n",
       "      <td>2020-03-22</td>\n",
       "      <td>Walker</td>\n",
       "      <td>Alabama</td>\n",
       "      <td>1</td>\n",
       "      <td>0.0</td>\n",
       "      <td>0.0</td>\n",
       "      <td>NaN</td>\n",
       "      <td>0.0</td>\n",
       "      <td>NaN</td>\n",
       "    </tr>\n",
       "    <tr>\n",
       "      <th>803</th>\n",
       "      <td>2020-03-23</td>\n",
       "      <td>Walker</td>\n",
       "      <td>Alabama</td>\n",
       "      <td>3</td>\n",
       "      <td>0.0</td>\n",
       "      <td>2.0</td>\n",
       "      <td>NaN</td>\n",
       "      <td>0.0</td>\n",
       "      <td>NaN</td>\n",
       "    </tr>\n",
       "  </tbody>\n",
       "</table>\n",
       "</div>"
      ],
      "text/plain": [
       "           date  county    state  cases  deaths  case_rate  case_rate_5day  \\\n",
       "800  2020-03-20  Walker  Alabama      1     0.0        0.0             NaN   \n",
       "801  2020-03-21  Walker  Alabama      1     0.0        0.0             NaN   \n",
       "802  2020-03-22  Walker  Alabama      1     0.0        0.0             NaN   \n",
       "803  2020-03-23  Walker  Alabama      3     0.0        2.0             NaN   \n",
       "\n",
       "     death_rate  death_rate_5day  \n",
       "800         0.0           -609.0  \n",
       "801         0.0              NaN  \n",
       "802         0.0              NaN  \n",
       "803         0.0              NaN  "
      ]
     },
     "execution_count": 453,
     "metadata": {},
     "output_type": "execute_result"
    }
   ],
   "source": [
    "df.iloc[800:803,8] = np.nan"
   ]
  },
  {
   "cell_type": "code",
   "execution_count": 458,
   "id": "501c1a2d",
   "metadata": {},
   "outputs": [],
   "source": [
    "df.iloc[799,8] = np.nan"
   ]
  },
  {
   "cell_type": "code",
   "execution_count": 460,
   "id": "60eddd66",
   "metadata": {},
   "outputs": [
    {
     "data": {
      "text/html": [
       "<div>\n",
       "<style scoped>\n",
       "    .dataframe tbody tr th:only-of-type {\n",
       "        vertical-align: middle;\n",
       "    }\n",
       "\n",
       "    .dataframe tbody tr th {\n",
       "        vertical-align: top;\n",
       "    }\n",
       "\n",
       "    .dataframe thead th {\n",
       "        text-align: right;\n",
       "    }\n",
       "</style>\n",
       "<table border=\"1\" class=\"dataframe\">\n",
       "  <thead>\n",
       "    <tr style=\"text-align: right;\">\n",
       "      <th></th>\n",
       "      <th>date</th>\n",
       "      <th>county</th>\n",
       "      <th>state</th>\n",
       "      <th>cases</th>\n",
       "      <th>deaths</th>\n",
       "      <th>case_rate</th>\n",
       "      <th>case_rate_5day</th>\n",
       "      <th>death_rate</th>\n",
       "      <th>death_rate_5day</th>\n",
       "    </tr>\n",
       "  </thead>\n",
       "  <tbody>\n",
       "    <tr>\n",
       "      <th>0</th>\n",
       "      <td>2020-03-06</td>\n",
       "      <td>Fayette</td>\n",
       "      <td>Kentucky</td>\n",
       "      <td>1</td>\n",
       "      <td>0.0</td>\n",
       "      <td>NaN</td>\n",
       "      <td>NaN</td>\n",
       "      <td>NaN</td>\n",
       "      <td>NaN</td>\n",
       "    </tr>\n",
       "    <tr>\n",
       "      <th>1</th>\n",
       "      <td>2020-03-07</td>\n",
       "      <td>Fayette</td>\n",
       "      <td>Kentucky</td>\n",
       "      <td>1</td>\n",
       "      <td>0.0</td>\n",
       "      <td>0.0</td>\n",
       "      <td>NaN</td>\n",
       "      <td>0.0</td>\n",
       "      <td>NaN</td>\n",
       "    </tr>\n",
       "    <tr>\n",
       "      <th>2</th>\n",
       "      <td>2020-03-08</td>\n",
       "      <td>Fayette</td>\n",
       "      <td>Kentucky</td>\n",
       "      <td>2</td>\n",
       "      <td>0.0</td>\n",
       "      <td>1.0</td>\n",
       "      <td>NaN</td>\n",
       "      <td>0.0</td>\n",
       "      <td>NaN</td>\n",
       "    </tr>\n",
       "    <tr>\n",
       "      <th>3</th>\n",
       "      <td>2020-03-09</td>\n",
       "      <td>Fayette</td>\n",
       "      <td>Kentucky</td>\n",
       "      <td>3</td>\n",
       "      <td>0.0</td>\n",
       "      <td>1.0</td>\n",
       "      <td>NaN</td>\n",
       "      <td>0.0</td>\n",
       "      <td>NaN</td>\n",
       "    </tr>\n",
       "    <tr>\n",
       "      <th>4</th>\n",
       "      <td>2020-03-10</td>\n",
       "      <td>Fayette</td>\n",
       "      <td>Kentucky</td>\n",
       "      <td>3</td>\n",
       "      <td>0.0</td>\n",
       "      <td>0.0</td>\n",
       "      <td>NaN</td>\n",
       "      <td>0.0</td>\n",
       "      <td>NaN</td>\n",
       "    </tr>\n",
       "    <tr>\n",
       "      <th>...</th>\n",
       "      <td>...</td>\n",
       "      <td>...</td>\n",
       "      <td>...</td>\n",
       "      <td>...</td>\n",
       "      <td>...</td>\n",
       "      <td>...</td>\n",
       "      <td>...</td>\n",
       "      <td>...</td>\n",
       "      <td>...</td>\n",
       "    </tr>\n",
       "    <tr>\n",
       "      <th>1579</th>\n",
       "      <td>2022-05-09</td>\n",
       "      <td>Walker</td>\n",
       "      <td>Alabama</td>\n",
       "      <td>18749</td>\n",
       "      <td>446.0</td>\n",
       "      <td>1.0</td>\n",
       "      <td>6.0</td>\n",
       "      <td>0.0</td>\n",
       "      <td>1.0</td>\n",
       "    </tr>\n",
       "    <tr>\n",
       "      <th>1580</th>\n",
       "      <td>2022-05-10</td>\n",
       "      <td>Walker</td>\n",
       "      <td>Alabama</td>\n",
       "      <td>18751</td>\n",
       "      <td>446.0</td>\n",
       "      <td>2.0</td>\n",
       "      <td>6.0</td>\n",
       "      <td>0.0</td>\n",
       "      <td>1.0</td>\n",
       "    </tr>\n",
       "    <tr>\n",
       "      <th>1581</th>\n",
       "      <td>2022-05-11</td>\n",
       "      <td>Walker</td>\n",
       "      <td>Alabama</td>\n",
       "      <td>18758</td>\n",
       "      <td>446.0</td>\n",
       "      <td>7.0</td>\n",
       "      <td>10.0</td>\n",
       "      <td>0.0</td>\n",
       "      <td>0.0</td>\n",
       "    </tr>\n",
       "    <tr>\n",
       "      <th>1582</th>\n",
       "      <td>2022-05-12</td>\n",
       "      <td>Walker</td>\n",
       "      <td>Alabama</td>\n",
       "      <td>18763</td>\n",
       "      <td>447.0</td>\n",
       "      <td>5.0</td>\n",
       "      <td>15.0</td>\n",
       "      <td>1.0</td>\n",
       "      <td>1.0</td>\n",
       "    </tr>\n",
       "    <tr>\n",
       "      <th>1583</th>\n",
       "      <td>2022-05-13</td>\n",
       "      <td>Walker</td>\n",
       "      <td>Alabama</td>\n",
       "      <td>18767</td>\n",
       "      <td>447.0</td>\n",
       "      <td>4.0</td>\n",
       "      <td>19.0</td>\n",
       "      <td>0.0</td>\n",
       "      <td>1.0</td>\n",
       "    </tr>\n",
       "  </tbody>\n",
       "</table>\n",
       "<p>1584 rows × 9 columns</p>\n",
       "</div>"
      ],
      "text/plain": [
       "            date   county     state  cases  deaths  case_rate  case_rate_5day  \\\n",
       "0     2020-03-06  Fayette  Kentucky      1     0.0        NaN             NaN   \n",
       "1     2020-03-07  Fayette  Kentucky      1     0.0        0.0             NaN   \n",
       "2     2020-03-08  Fayette  Kentucky      2     0.0        1.0             NaN   \n",
       "3     2020-03-09  Fayette  Kentucky      3     0.0        1.0             NaN   \n",
       "4     2020-03-10  Fayette  Kentucky      3     0.0        0.0             NaN   \n",
       "...          ...      ...       ...    ...     ...        ...             ...   \n",
       "1579  2022-05-09   Walker   Alabama  18749   446.0        1.0             6.0   \n",
       "1580  2022-05-10   Walker   Alabama  18751   446.0        2.0             6.0   \n",
       "1581  2022-05-11   Walker   Alabama  18758   446.0        7.0            10.0   \n",
       "1582  2022-05-12   Walker   Alabama  18763   447.0        5.0            15.0   \n",
       "1583  2022-05-13   Walker   Alabama  18767   447.0        4.0            19.0   \n",
       "\n",
       "      death_rate  death_rate_5day  \n",
       "0            NaN              NaN  \n",
       "1            0.0              NaN  \n",
       "2            0.0              NaN  \n",
       "3            0.0              NaN  \n",
       "4            0.0              NaN  \n",
       "...          ...              ...  \n",
       "1579         0.0              1.0  \n",
       "1580         0.0              1.0  \n",
       "1581         0.0              0.0  \n",
       "1582         1.0              1.0  \n",
       "1583         0.0              1.0  \n",
       "\n",
       "[1584 rows x 9 columns]"
      ]
     },
     "execution_count": 460,
     "metadata": {},
     "output_type": "execute_result"
    }
   ],
   "source": [
    "df.reset_index(inplace=True, drop=True)\n",
    "df"
   ]
  },
  {
   "cell_type": "code",
   "execution_count": 461,
   "id": "55fa5818",
   "metadata": {},
   "outputs": [
    {
     "data": {
      "text/html": [
       "<div>\n",
       "<style scoped>\n",
       "    .dataframe tbody tr th:only-of-type {\n",
       "        vertical-align: middle;\n",
       "    }\n",
       "\n",
       "    .dataframe tbody tr th {\n",
       "        vertical-align: top;\n",
       "    }\n",
       "\n",
       "    .dataframe thead th {\n",
       "        text-align: right;\n",
       "    }\n",
       "</style>\n",
       "<table border=\"1\" class=\"dataframe\">\n",
       "  <thead>\n",
       "    <tr style=\"text-align: right;\">\n",
       "      <th></th>\n",
       "      <th>date</th>\n",
       "      <th>county</th>\n",
       "      <th>state</th>\n",
       "      <th>cases</th>\n",
       "      <th>deaths</th>\n",
       "      <th>case_rate</th>\n",
       "      <th>case_rate_5day</th>\n",
       "      <th>death_rate</th>\n",
       "      <th>death_rate_5day</th>\n",
       "    </tr>\n",
       "  </thead>\n",
       "  <tbody>\n",
       "    <tr>\n",
       "      <th>32</th>\n",
       "      <td>2020-04-07</td>\n",
       "      <td>Fayette</td>\n",
       "      <td>Kentucky</td>\n",
       "      <td>170</td>\n",
       "      <td>7.0</td>\n",
       "      <td>17.0</td>\n",
       "      <td>46.0</td>\n",
       "      <td>1.0</td>\n",
       "      <td>-1.0</td>\n",
       "    </tr>\n",
       "    <tr>\n",
       "      <th>33</th>\n",
       "      <td>2020-04-08</td>\n",
       "      <td>Fayette</td>\n",
       "      <td>Kentucky</td>\n",
       "      <td>170</td>\n",
       "      <td>7.0</td>\n",
       "      <td>0.0</td>\n",
       "      <td>46.0</td>\n",
       "      <td>0.0</td>\n",
       "      <td>-1.0</td>\n",
       "    </tr>\n",
       "    <tr>\n",
       "      <th>34</th>\n",
       "      <td>2020-04-09</td>\n",
       "      <td>Fayette</td>\n",
       "      <td>Kentucky</td>\n",
       "      <td>174</td>\n",
       "      <td>7.0</td>\n",
       "      <td>4.0</td>\n",
       "      <td>49.0</td>\n",
       "      <td>0.0</td>\n",
       "      <td>-2.0</td>\n",
       "    </tr>\n",
       "    <tr>\n",
       "      <th>58</th>\n",
       "      <td>2020-05-03</td>\n",
       "      <td>Fayette</td>\n",
       "      <td>Kentucky</td>\n",
       "      <td>292</td>\n",
       "      <td>9.0</td>\n",
       "      <td>38.0</td>\n",
       "      <td>50.0</td>\n",
       "      <td>0.0</td>\n",
       "      <td>-1.0</td>\n",
       "    </tr>\n",
       "    <tr>\n",
       "      <th>269</th>\n",
       "      <td>2020-11-30</td>\n",
       "      <td>Fayette</td>\n",
       "      <td>Kentucky</td>\n",
       "      <td>17413</td>\n",
       "      <td>112.0</td>\n",
       "      <td>209.0</td>\n",
       "      <td>1212.0</td>\n",
       "      <td>0.0</td>\n",
       "      <td>-1.0</td>\n",
       "    </tr>\n",
       "    <tr>\n",
       "      <th>1019</th>\n",
       "      <td>2020-10-26</td>\n",
       "      <td>Walker</td>\n",
       "      <td>Alabama</td>\n",
       "      <td>2823</td>\n",
       "      <td>92.0</td>\n",
       "      <td>29.0</td>\n",
       "      <td>124.0</td>\n",
       "      <td>0.0</td>\n",
       "      <td>-1.0</td>\n",
       "    </tr>\n",
       "    <tr>\n",
       "      <th>1102</th>\n",
       "      <td>2021-01-17</td>\n",
       "      <td>Walker</td>\n",
       "      <td>Alabama</td>\n",
       "      <td>5897</td>\n",
       "      <td>174.0</td>\n",
       "      <td>17.0</td>\n",
       "      <td>122.0</td>\n",
       "      <td>0.0</td>\n",
       "      <td>-3.0</td>\n",
       "    </tr>\n",
       "    <tr>\n",
       "      <th>1103</th>\n",
       "      <td>2021-01-18</td>\n",
       "      <td>Walker</td>\n",
       "      <td>Alabama</td>\n",
       "      <td>5903</td>\n",
       "      <td>174.0</td>\n",
       "      <td>6.0</td>\n",
       "      <td>100.0</td>\n",
       "      <td>0.0</td>\n",
       "      <td>-3.0</td>\n",
       "    </tr>\n",
       "    <tr>\n",
       "      <th>1104</th>\n",
       "      <td>2021-01-19</td>\n",
       "      <td>Walker</td>\n",
       "      <td>Alabama</td>\n",
       "      <td>5930</td>\n",
       "      <td>174.0</td>\n",
       "      <td>27.0</td>\n",
       "      <td>96.0</td>\n",
       "      <td>0.0</td>\n",
       "      <td>-2.0</td>\n",
       "    </tr>\n",
       "    <tr>\n",
       "      <th>1210</th>\n",
       "      <td>2021-05-05</td>\n",
       "      <td>Walker</td>\n",
       "      <td>Alabama</td>\n",
       "      <td>7214</td>\n",
       "      <td>277.0</td>\n",
       "      <td>9.0</td>\n",
       "      <td>14.0</td>\n",
       "      <td>-2.0</td>\n",
       "      <td>-1.0</td>\n",
       "    </tr>\n",
       "    <tr>\n",
       "      <th>1211</th>\n",
       "      <td>2021-05-06</td>\n",
       "      <td>Walker</td>\n",
       "      <td>Alabama</td>\n",
       "      <td>7222</td>\n",
       "      <td>277.0</td>\n",
       "      <td>8.0</td>\n",
       "      <td>19.0</td>\n",
       "      <td>0.0</td>\n",
       "      <td>-2.0</td>\n",
       "    </tr>\n",
       "    <tr>\n",
       "      <th>1212</th>\n",
       "      <td>2021-05-07</td>\n",
       "      <td>Walker</td>\n",
       "      <td>Alabama</td>\n",
       "      <td>7223</td>\n",
       "      <td>277.0</td>\n",
       "      <td>1.0</td>\n",
       "      <td>18.0</td>\n",
       "      <td>0.0</td>\n",
       "      <td>-2.0</td>\n",
       "    </tr>\n",
       "    <tr>\n",
       "      <th>1213</th>\n",
       "      <td>2021-05-08</td>\n",
       "      <td>Walker</td>\n",
       "      <td>Alabama</td>\n",
       "      <td>7231</td>\n",
       "      <td>277.0</td>\n",
       "      <td>8.0</td>\n",
       "      <td>26.0</td>\n",
       "      <td>0.0</td>\n",
       "      <td>-2.0</td>\n",
       "    </tr>\n",
       "    <tr>\n",
       "      <th>1214</th>\n",
       "      <td>2021-05-09</td>\n",
       "      <td>Walker</td>\n",
       "      <td>Alabama</td>\n",
       "      <td>7235</td>\n",
       "      <td>277.0</td>\n",
       "      <td>4.0</td>\n",
       "      <td>30.0</td>\n",
       "      <td>0.0</td>\n",
       "      <td>-2.0</td>\n",
       "    </tr>\n",
       "    <tr>\n",
       "      <th>1232</th>\n",
       "      <td>2021-05-27</td>\n",
       "      <td>Walker</td>\n",
       "      <td>Alabama</td>\n",
       "      <td>7283</td>\n",
       "      <td>278.0</td>\n",
       "      <td>1.0</td>\n",
       "      <td>13.0</td>\n",
       "      <td>-1.0</td>\n",
       "      <td>-1.0</td>\n",
       "    </tr>\n",
       "    <tr>\n",
       "      <th>1233</th>\n",
       "      <td>2021-05-28</td>\n",
       "      <td>Walker</td>\n",
       "      <td>Alabama</td>\n",
       "      <td>7284</td>\n",
       "      <td>278.0</td>\n",
       "      <td>1.0</td>\n",
       "      <td>10.0</td>\n",
       "      <td>0.0</td>\n",
       "      <td>-1.0</td>\n",
       "    </tr>\n",
       "    <tr>\n",
       "      <th>1234</th>\n",
       "      <td>2021-05-29</td>\n",
       "      <td>Walker</td>\n",
       "      <td>Alabama</td>\n",
       "      <td>7284</td>\n",
       "      <td>278.0</td>\n",
       "      <td>0.0</td>\n",
       "      <td>10.0</td>\n",
       "      <td>0.0</td>\n",
       "      <td>-1.0</td>\n",
       "    </tr>\n",
       "    <tr>\n",
       "      <th>1235</th>\n",
       "      <td>2021-05-30</td>\n",
       "      <td>Walker</td>\n",
       "      <td>Alabama</td>\n",
       "      <td>7284</td>\n",
       "      <td>278.0</td>\n",
       "      <td>0.0</td>\n",
       "      <td>6.0</td>\n",
       "      <td>0.0</td>\n",
       "      <td>-1.0</td>\n",
       "    </tr>\n",
       "    <tr>\n",
       "      <th>1236</th>\n",
       "      <td>2021-05-31</td>\n",
       "      <td>Walker</td>\n",
       "      <td>Alabama</td>\n",
       "      <td>7284</td>\n",
       "      <td>278.0</td>\n",
       "      <td>0.0</td>\n",
       "      <td>2.0</td>\n",
       "      <td>0.0</td>\n",
       "      <td>-1.0</td>\n",
       "    </tr>\n",
       "  </tbody>\n",
       "</table>\n",
       "</div>"
      ],
      "text/plain": [
       "            date   county     state  cases  deaths  case_rate  case_rate_5day  \\\n",
       "32    2020-04-07  Fayette  Kentucky    170     7.0       17.0            46.0   \n",
       "33    2020-04-08  Fayette  Kentucky    170     7.0        0.0            46.0   \n",
       "34    2020-04-09  Fayette  Kentucky    174     7.0        4.0            49.0   \n",
       "58    2020-05-03  Fayette  Kentucky    292     9.0       38.0            50.0   \n",
       "269   2020-11-30  Fayette  Kentucky  17413   112.0      209.0          1212.0   \n",
       "1019  2020-10-26   Walker   Alabama   2823    92.0       29.0           124.0   \n",
       "1102  2021-01-17   Walker   Alabama   5897   174.0       17.0           122.0   \n",
       "1103  2021-01-18   Walker   Alabama   5903   174.0        6.0           100.0   \n",
       "1104  2021-01-19   Walker   Alabama   5930   174.0       27.0            96.0   \n",
       "1210  2021-05-05   Walker   Alabama   7214   277.0        9.0            14.0   \n",
       "1211  2021-05-06   Walker   Alabama   7222   277.0        8.0            19.0   \n",
       "1212  2021-05-07   Walker   Alabama   7223   277.0        1.0            18.0   \n",
       "1213  2021-05-08   Walker   Alabama   7231   277.0        8.0            26.0   \n",
       "1214  2021-05-09   Walker   Alabama   7235   277.0        4.0            30.0   \n",
       "1232  2021-05-27   Walker   Alabama   7283   278.0        1.0            13.0   \n",
       "1233  2021-05-28   Walker   Alabama   7284   278.0        1.0            10.0   \n",
       "1234  2021-05-29   Walker   Alabama   7284   278.0        0.0            10.0   \n",
       "1235  2021-05-30   Walker   Alabama   7284   278.0        0.0             6.0   \n",
       "1236  2021-05-31   Walker   Alabama   7284   278.0        0.0             2.0   \n",
       "\n",
       "      death_rate  death_rate_5day  \n",
       "32           1.0             -1.0  \n",
       "33           0.0             -1.0  \n",
       "34           0.0             -2.0  \n",
       "58           0.0             -1.0  \n",
       "269          0.0             -1.0  \n",
       "1019         0.0             -1.0  \n",
       "1102         0.0             -3.0  \n",
       "1103         0.0             -3.0  \n",
       "1104         0.0             -2.0  \n",
       "1210        -2.0             -1.0  \n",
       "1211         0.0             -2.0  \n",
       "1212         0.0             -2.0  \n",
       "1213         0.0             -2.0  \n",
       "1214         0.0             -2.0  \n",
       "1232        -1.0             -1.0  \n",
       "1233         0.0             -1.0  \n",
       "1234         0.0             -1.0  \n",
       "1235         0.0             -1.0  \n",
       "1236         0.0             -1.0  "
      ]
     },
     "execution_count": 461,
     "metadata": {},
     "output_type": "execute_result"
    }
   ],
   "source": [
    "df.query('death_rate_5day < 0')"
   ]
  },
  {
   "cell_type": "code",
   "execution_count": 465,
   "id": "60b7a925",
   "metadata": {},
   "outputs": [
    {
     "data": {
      "text/html": [
       "<div>\n",
       "<style scoped>\n",
       "    .dataframe tbody tr th:only-of-type {\n",
       "        vertical-align: middle;\n",
       "    }\n",
       "\n",
       "    .dataframe tbody tr th {\n",
       "        vertical-align: top;\n",
       "    }\n",
       "\n",
       "    .dataframe thead th {\n",
       "        text-align: right;\n",
       "    }\n",
       "</style>\n",
       "<table border=\"1\" class=\"dataframe\">\n",
       "  <thead>\n",
       "    <tr style=\"text-align: right;\">\n",
       "      <th></th>\n",
       "      <th>date</th>\n",
       "      <th>county</th>\n",
       "      <th>state</th>\n",
       "      <th>cases</th>\n",
       "      <th>deaths</th>\n",
       "      <th>case_rate</th>\n",
       "      <th>case_rate_5day</th>\n",
       "      <th>death_rate</th>\n",
       "      <th>death_rate_5day</th>\n",
       "    </tr>\n",
       "  </thead>\n",
       "  <tbody>\n",
       "    <tr>\n",
       "      <th>0</th>\n",
       "      <td>2020-03-06</td>\n",
       "      <td>Fayette</td>\n",
       "      <td>Kentucky</td>\n",
       "      <td>1</td>\n",
       "      <td>0.0</td>\n",
       "      <td>NaN</td>\n",
       "      <td>NaN</td>\n",
       "      <td>NaN</td>\n",
       "      <td>NaN</td>\n",
       "    </tr>\n",
       "    <tr>\n",
       "      <th>1</th>\n",
       "      <td>2020-03-07</td>\n",
       "      <td>Fayette</td>\n",
       "      <td>Kentucky</td>\n",
       "      <td>1</td>\n",
       "      <td>0.0</td>\n",
       "      <td>0.0</td>\n",
       "      <td>NaN</td>\n",
       "      <td>0.0</td>\n",
       "      <td>NaN</td>\n",
       "    </tr>\n",
       "    <tr>\n",
       "      <th>2</th>\n",
       "      <td>2020-03-08</td>\n",
       "      <td>Fayette</td>\n",
       "      <td>Kentucky</td>\n",
       "      <td>2</td>\n",
       "      <td>0.0</td>\n",
       "      <td>1.0</td>\n",
       "      <td>NaN</td>\n",
       "      <td>0.0</td>\n",
       "      <td>NaN</td>\n",
       "    </tr>\n",
       "    <tr>\n",
       "      <th>3</th>\n",
       "      <td>2020-03-09</td>\n",
       "      <td>Fayette</td>\n",
       "      <td>Kentucky</td>\n",
       "      <td>3</td>\n",
       "      <td>0.0</td>\n",
       "      <td>1.0</td>\n",
       "      <td>NaN</td>\n",
       "      <td>0.0</td>\n",
       "      <td>NaN</td>\n",
       "    </tr>\n",
       "    <tr>\n",
       "      <th>4</th>\n",
       "      <td>2020-03-10</td>\n",
       "      <td>Fayette</td>\n",
       "      <td>Kentucky</td>\n",
       "      <td>3</td>\n",
       "      <td>0.0</td>\n",
       "      <td>0.0</td>\n",
       "      <td>NaN</td>\n",
       "      <td>0.0</td>\n",
       "      <td>NaN</td>\n",
       "    </tr>\n",
       "    <tr>\n",
       "      <th>5</th>\n",
       "      <td>2020-03-11</td>\n",
       "      <td>Fayette</td>\n",
       "      <td>Kentucky</td>\n",
       "      <td>3</td>\n",
       "      <td>0.0</td>\n",
       "      <td>0.0</td>\n",
       "      <td>2.0</td>\n",
       "      <td>0.0</td>\n",
       "      <td>0.0</td>\n",
       "    </tr>\n",
       "    <tr>\n",
       "      <th>6</th>\n",
       "      <td>2020-03-12</td>\n",
       "      <td>Fayette</td>\n",
       "      <td>Kentucky</td>\n",
       "      <td>4</td>\n",
       "      <td>0.0</td>\n",
       "      <td>1.0</td>\n",
       "      <td>3.0</td>\n",
       "      <td>0.0</td>\n",
       "      <td>0.0</td>\n",
       "    </tr>\n",
       "    <tr>\n",
       "      <th>7</th>\n",
       "      <td>2020-03-13</td>\n",
       "      <td>Fayette</td>\n",
       "      <td>Kentucky</td>\n",
       "      <td>4</td>\n",
       "      <td>0.0</td>\n",
       "      <td>0.0</td>\n",
       "      <td>2.0</td>\n",
       "      <td>0.0</td>\n",
       "      <td>0.0</td>\n",
       "    </tr>\n",
       "    <tr>\n",
       "      <th>8</th>\n",
       "      <td>2020-03-14</td>\n",
       "      <td>Fayette</td>\n",
       "      <td>Kentucky</td>\n",
       "      <td>5</td>\n",
       "      <td>0.0</td>\n",
       "      <td>1.0</td>\n",
       "      <td>2.0</td>\n",
       "      <td>0.0</td>\n",
       "      <td>0.0</td>\n",
       "    </tr>\n",
       "    <tr>\n",
       "      <th>9</th>\n",
       "      <td>2020-03-15</td>\n",
       "      <td>Fayette</td>\n",
       "      <td>Kentucky</td>\n",
       "      <td>5</td>\n",
       "      <td>0.0</td>\n",
       "      <td>0.0</td>\n",
       "      <td>2.0</td>\n",
       "      <td>0.0</td>\n",
       "      <td>0.0</td>\n",
       "    </tr>\n",
       "    <tr>\n",
       "      <th>10</th>\n",
       "      <td>2020-03-16</td>\n",
       "      <td>Fayette</td>\n",
       "      <td>Kentucky</td>\n",
       "      <td>5</td>\n",
       "      <td>0.0</td>\n",
       "      <td>0.0</td>\n",
       "      <td>2.0</td>\n",
       "      <td>0.0</td>\n",
       "      <td>0.0</td>\n",
       "    </tr>\n",
       "    <tr>\n",
       "      <th>11</th>\n",
       "      <td>2020-03-17</td>\n",
       "      <td>Fayette</td>\n",
       "      <td>Kentucky</td>\n",
       "      <td>5</td>\n",
       "      <td>0.0</td>\n",
       "      <td>0.0</td>\n",
       "      <td>1.0</td>\n",
       "      <td>0.0</td>\n",
       "      <td>0.0</td>\n",
       "    </tr>\n",
       "    <tr>\n",
       "      <th>12</th>\n",
       "      <td>2020-03-18</td>\n",
       "      <td>Fayette</td>\n",
       "      <td>Kentucky</td>\n",
       "      <td>6</td>\n",
       "      <td>0.0</td>\n",
       "      <td>1.0</td>\n",
       "      <td>2.0</td>\n",
       "      <td>0.0</td>\n",
       "      <td>0.0</td>\n",
       "    </tr>\n",
       "    <tr>\n",
       "      <th>13</th>\n",
       "      <td>2020-03-19</td>\n",
       "      <td>Fayette</td>\n",
       "      <td>Kentucky</td>\n",
       "      <td>7</td>\n",
       "      <td>0.0</td>\n",
       "      <td>1.0</td>\n",
       "      <td>2.0</td>\n",
       "      <td>0.0</td>\n",
       "      <td>0.0</td>\n",
       "    </tr>\n",
       "    <tr>\n",
       "      <th>14</th>\n",
       "      <td>2020-03-20</td>\n",
       "      <td>Fayette</td>\n",
       "      <td>Kentucky</td>\n",
       "      <td>10</td>\n",
       "      <td>0.0</td>\n",
       "      <td>3.0</td>\n",
       "      <td>5.0</td>\n",
       "      <td>0.0</td>\n",
       "      <td>0.0</td>\n",
       "    </tr>\n",
       "    <tr>\n",
       "      <th>15</th>\n",
       "      <td>2020-03-21</td>\n",
       "      <td>Fayette</td>\n",
       "      <td>Kentucky</td>\n",
       "      <td>13</td>\n",
       "      <td>0.0</td>\n",
       "      <td>3.0</td>\n",
       "      <td>8.0</td>\n",
       "      <td>0.0</td>\n",
       "      <td>0.0</td>\n",
       "    </tr>\n",
       "    <tr>\n",
       "      <th>16</th>\n",
       "      <td>2020-03-22</td>\n",
       "      <td>Fayette</td>\n",
       "      <td>Kentucky</td>\n",
       "      <td>14</td>\n",
       "      <td>0.0</td>\n",
       "      <td>1.0</td>\n",
       "      <td>9.0</td>\n",
       "      <td>0.0</td>\n",
       "      <td>0.0</td>\n",
       "    </tr>\n",
       "    <tr>\n",
       "      <th>17</th>\n",
       "      <td>2020-03-23</td>\n",
       "      <td>Fayette</td>\n",
       "      <td>Kentucky</td>\n",
       "      <td>14</td>\n",
       "      <td>0.0</td>\n",
       "      <td>0.0</td>\n",
       "      <td>8.0</td>\n",
       "      <td>0.0</td>\n",
       "      <td>0.0</td>\n",
       "    </tr>\n",
       "    <tr>\n",
       "      <th>18</th>\n",
       "      <td>2020-03-24</td>\n",
       "      <td>Fayette</td>\n",
       "      <td>Kentucky</td>\n",
       "      <td>20</td>\n",
       "      <td>0.0</td>\n",
       "      <td>6.0</td>\n",
       "      <td>13.0</td>\n",
       "      <td>0.0</td>\n",
       "      <td>0.0</td>\n",
       "    </tr>\n",
       "    <tr>\n",
       "      <th>19</th>\n",
       "      <td>2020-03-25</td>\n",
       "      <td>Fayette</td>\n",
       "      <td>Kentucky</td>\n",
       "      <td>24</td>\n",
       "      <td>0.0</td>\n",
       "      <td>4.0</td>\n",
       "      <td>14.0</td>\n",
       "      <td>0.0</td>\n",
       "      <td>0.0</td>\n",
       "    </tr>\n",
       "    <tr>\n",
       "      <th>20</th>\n",
       "      <td>2020-03-26</td>\n",
       "      <td>Fayette</td>\n",
       "      <td>Kentucky</td>\n",
       "      <td>33</td>\n",
       "      <td>0.0</td>\n",
       "      <td>9.0</td>\n",
       "      <td>20.0</td>\n",
       "      <td>0.0</td>\n",
       "      <td>0.0</td>\n",
       "    </tr>\n",
       "    <tr>\n",
       "      <th>21</th>\n",
       "      <td>2020-03-27</td>\n",
       "      <td>Fayette</td>\n",
       "      <td>Kentucky</td>\n",
       "      <td>37</td>\n",
       "      <td>1.0</td>\n",
       "      <td>4.0</td>\n",
       "      <td>23.0</td>\n",
       "      <td>1.0</td>\n",
       "      <td>1.0</td>\n",
       "    </tr>\n",
       "    <tr>\n",
       "      <th>22</th>\n",
       "      <td>2020-03-28</td>\n",
       "      <td>Fayette</td>\n",
       "      <td>Kentucky</td>\n",
       "      <td>60</td>\n",
       "      <td>1.0</td>\n",
       "      <td>23.0</td>\n",
       "      <td>46.0</td>\n",
       "      <td>0.0</td>\n",
       "      <td>1.0</td>\n",
       "    </tr>\n",
       "    <tr>\n",
       "      <th>23</th>\n",
       "      <td>2020-03-29</td>\n",
       "      <td>Fayette</td>\n",
       "      <td>Kentucky</td>\n",
       "      <td>75</td>\n",
       "      <td>1.0</td>\n",
       "      <td>15.0</td>\n",
       "      <td>55.0</td>\n",
       "      <td>0.0</td>\n",
       "      <td>1.0</td>\n",
       "    </tr>\n",
       "    <tr>\n",
       "      <th>24</th>\n",
       "      <td>2020-03-30</td>\n",
       "      <td>Fayette</td>\n",
       "      <td>Kentucky</td>\n",
       "      <td>83</td>\n",
       "      <td>1.0</td>\n",
       "      <td>8.0</td>\n",
       "      <td>59.0</td>\n",
       "      <td>0.0</td>\n",
       "      <td>1.0</td>\n",
       "    </tr>\n",
       "    <tr>\n",
       "      <th>25</th>\n",
       "      <td>2020-03-31</td>\n",
       "      <td>Fayette</td>\n",
       "      <td>Kentucky</td>\n",
       "      <td>106</td>\n",
       "      <td>2.0</td>\n",
       "      <td>23.0</td>\n",
       "      <td>73.0</td>\n",
       "      <td>1.0</td>\n",
       "      <td>2.0</td>\n",
       "    </tr>\n",
       "    <tr>\n",
       "      <th>26</th>\n",
       "      <td>2020-04-01</td>\n",
       "      <td>Fayette</td>\n",
       "      <td>Kentucky</td>\n",
       "      <td>118</td>\n",
       "      <td>2.0</td>\n",
       "      <td>12.0</td>\n",
       "      <td>81.0</td>\n",
       "      <td>0.0</td>\n",
       "      <td>1.0</td>\n",
       "    </tr>\n",
       "    <tr>\n",
       "      <th>27</th>\n",
       "      <td>2020-04-02</td>\n",
       "      <td>Fayette</td>\n",
       "      <td>Kentucky</td>\n",
       "      <td>124</td>\n",
       "      <td>8.0</td>\n",
       "      <td>6.0</td>\n",
       "      <td>64.0</td>\n",
       "      <td>6.0</td>\n",
       "      <td>7.0</td>\n",
       "    </tr>\n",
       "    <tr>\n",
       "      <th>28</th>\n",
       "      <td>2020-04-03</td>\n",
       "      <td>Fayette</td>\n",
       "      <td>Kentucky</td>\n",
       "      <td>124</td>\n",
       "      <td>8.0</td>\n",
       "      <td>0.0</td>\n",
       "      <td>49.0</td>\n",
       "      <td>0.0</td>\n",
       "      <td>7.0</td>\n",
       "    </tr>\n",
       "    <tr>\n",
       "      <th>29</th>\n",
       "      <td>2020-04-04</td>\n",
       "      <td>Fayette</td>\n",
       "      <td>Kentucky</td>\n",
       "      <td>125</td>\n",
       "      <td>9.0</td>\n",
       "      <td>1.0</td>\n",
       "      <td>42.0</td>\n",
       "      <td>1.0</td>\n",
       "      <td>8.0</td>\n",
       "    </tr>\n",
       "    <tr>\n",
       "      <th>30</th>\n",
       "      <td>2020-04-05</td>\n",
       "      <td>Fayette</td>\n",
       "      <td>Kentucky</td>\n",
       "      <td>153</td>\n",
       "      <td>6.0</td>\n",
       "      <td>28.0</td>\n",
       "      <td>47.0</td>\n",
       "      <td>-3.0</td>\n",
       "      <td>4.0</td>\n",
       "    </tr>\n",
       "    <tr>\n",
       "      <th>31</th>\n",
       "      <td>2020-04-06</td>\n",
       "      <td>Fayette</td>\n",
       "      <td>Kentucky</td>\n",
       "      <td>153</td>\n",
       "      <td>6.0</td>\n",
       "      <td>0.0</td>\n",
       "      <td>35.0</td>\n",
       "      <td>0.0</td>\n",
       "      <td>4.0</td>\n",
       "    </tr>\n",
       "    <tr>\n",
       "      <th>32</th>\n",
       "      <td>2020-04-07</td>\n",
       "      <td>Fayette</td>\n",
       "      <td>Kentucky</td>\n",
       "      <td>170</td>\n",
       "      <td>7.0</td>\n",
       "      <td>17.0</td>\n",
       "      <td>46.0</td>\n",
       "      <td>1.0</td>\n",
       "      <td>-1.0</td>\n",
       "    </tr>\n",
       "  </tbody>\n",
       "</table>\n",
       "</div>"
      ],
      "text/plain": [
       "          date   county     state  cases  deaths  case_rate  case_rate_5day  \\\n",
       "0   2020-03-06  Fayette  Kentucky      1     0.0        NaN             NaN   \n",
       "1   2020-03-07  Fayette  Kentucky      1     0.0        0.0             NaN   \n",
       "2   2020-03-08  Fayette  Kentucky      2     0.0        1.0             NaN   \n",
       "3   2020-03-09  Fayette  Kentucky      3     0.0        1.0             NaN   \n",
       "4   2020-03-10  Fayette  Kentucky      3     0.0        0.0             NaN   \n",
       "5   2020-03-11  Fayette  Kentucky      3     0.0        0.0             2.0   \n",
       "6   2020-03-12  Fayette  Kentucky      4     0.0        1.0             3.0   \n",
       "7   2020-03-13  Fayette  Kentucky      4     0.0        0.0             2.0   \n",
       "8   2020-03-14  Fayette  Kentucky      5     0.0        1.0             2.0   \n",
       "9   2020-03-15  Fayette  Kentucky      5     0.0        0.0             2.0   \n",
       "10  2020-03-16  Fayette  Kentucky      5     0.0        0.0             2.0   \n",
       "11  2020-03-17  Fayette  Kentucky      5     0.0        0.0             1.0   \n",
       "12  2020-03-18  Fayette  Kentucky      6     0.0        1.0             2.0   \n",
       "13  2020-03-19  Fayette  Kentucky      7     0.0        1.0             2.0   \n",
       "14  2020-03-20  Fayette  Kentucky     10     0.0        3.0             5.0   \n",
       "15  2020-03-21  Fayette  Kentucky     13     0.0        3.0             8.0   \n",
       "16  2020-03-22  Fayette  Kentucky     14     0.0        1.0             9.0   \n",
       "17  2020-03-23  Fayette  Kentucky     14     0.0        0.0             8.0   \n",
       "18  2020-03-24  Fayette  Kentucky     20     0.0        6.0            13.0   \n",
       "19  2020-03-25  Fayette  Kentucky     24     0.0        4.0            14.0   \n",
       "20  2020-03-26  Fayette  Kentucky     33     0.0        9.0            20.0   \n",
       "21  2020-03-27  Fayette  Kentucky     37     1.0        4.0            23.0   \n",
       "22  2020-03-28  Fayette  Kentucky     60     1.0       23.0            46.0   \n",
       "23  2020-03-29  Fayette  Kentucky     75     1.0       15.0            55.0   \n",
       "24  2020-03-30  Fayette  Kentucky     83     1.0        8.0            59.0   \n",
       "25  2020-03-31  Fayette  Kentucky    106     2.0       23.0            73.0   \n",
       "26  2020-04-01  Fayette  Kentucky    118     2.0       12.0            81.0   \n",
       "27  2020-04-02  Fayette  Kentucky    124     8.0        6.0            64.0   \n",
       "28  2020-04-03  Fayette  Kentucky    124     8.0        0.0            49.0   \n",
       "29  2020-04-04  Fayette  Kentucky    125     9.0        1.0            42.0   \n",
       "30  2020-04-05  Fayette  Kentucky    153     6.0       28.0            47.0   \n",
       "31  2020-04-06  Fayette  Kentucky    153     6.0        0.0            35.0   \n",
       "32  2020-04-07  Fayette  Kentucky    170     7.0       17.0            46.0   \n",
       "\n",
       "    death_rate  death_rate_5day  \n",
       "0          NaN              NaN  \n",
       "1          0.0              NaN  \n",
       "2          0.0              NaN  \n",
       "3          0.0              NaN  \n",
       "4          0.0              NaN  \n",
       "5          0.0              0.0  \n",
       "6          0.0              0.0  \n",
       "7          0.0              0.0  \n",
       "8          0.0              0.0  \n",
       "9          0.0              0.0  \n",
       "10         0.0              0.0  \n",
       "11         0.0              0.0  \n",
       "12         0.0              0.0  \n",
       "13         0.0              0.0  \n",
       "14         0.0              0.0  \n",
       "15         0.0              0.0  \n",
       "16         0.0              0.0  \n",
       "17         0.0              0.0  \n",
       "18         0.0              0.0  \n",
       "19         0.0              0.0  \n",
       "20         0.0              0.0  \n",
       "21         1.0              1.0  \n",
       "22         0.0              1.0  \n",
       "23         0.0              1.0  \n",
       "24         0.0              1.0  \n",
       "25         1.0              2.0  \n",
       "26         0.0              1.0  \n",
       "27         6.0              7.0  \n",
       "28         0.0              7.0  \n",
       "29         1.0              8.0  \n",
       "30        -3.0              4.0  \n",
       "31         0.0              4.0  \n",
       "32         1.0             -1.0  "
      ]
     },
     "execution_count": 465,
     "metadata": {},
     "output_type": "execute_result"
    }
   ],
   "source": [
    "df.head(33)"
   ]
  },
  {
   "cell_type": "code",
   "execution_count": 462,
   "id": "9b1ac54b",
   "metadata": {},
   "outputs": [
    {
     "data": {
      "text/plain": [
       "<AxesSubplot:xlabel='date', ylabel='death_rate_5day'>"
      ]
     },
     "execution_count": 462,
     "metadata": {},
     "output_type": "execute_result"
    },
    {
     "data": {
      "image/png": "[encoded data removed]",
      "text/plain": [
       "<Figure size 432x288 with 1 Axes>"
      ]
     },
     "metadata": {},
     "output_type": "display_data"
    }
   ],
   "source": [
    "sns.lineplot(x='date', y='death_rate_5day', data=df, hue='state', ci=None)"
   ]
  },
  {
   "cell_type": "code",
   "execution_count": null,
   "id": "640ab406",
   "metadata": {},
   "outputs": [],
   "source": []
  },
  {
   "cell_type": "code",
   "execution_count": null,
   "id": "d654392d",
   "metadata": {},
   "outputs": [],
   "source": []
  },
  {
   "cell_type": "code",
   "execution_count": null,
   "id": "72222857",
   "metadata": {},
   "outputs": [],
   "source": []
  },
  {
   "cell_type": "code",
   "execution_count": null,
   "id": "09b499a6",
   "metadata": {},
   "outputs": [],
   "source": []
  },
  {
   "cell_type": "code",
   "execution_count": null,
   "id": "5729476d",
   "metadata": {},
   "outputs": [],
   "source": [
    "cdc['Country'].isin(['US'])"
   ]
  },
  {
   "cell_type": "code",
   "execution_count": null,
   "id": "e1f9388f",
   "metadata": {},
   "outputs": [],
   "source": [
    "cdc[cdc.Country.isin(['US'])]"
   ]
  },
  {
   "cell_type": "code",
   "execution_count": null,
   "id": "0e6cc5fd",
   "metadata": {},
   "outputs": [],
   "source": [
    "cdc.dtypes"
   ]
  },
  {
   "cell_type": "code",
   "execution_count": null,
   "id": "d76cead8",
   "metadata": {},
   "outputs": [],
   "source": [
    "cdc.select_dtypes(include='int64')"
   ]
  },
  {
   "cell_type": "code",
   "execution_count": null,
   "id": "6913300f",
   "metadata": {},
   "outputs": [],
   "source": [
    "cdc.select_dtypes(exclude='object')"
   ]
  },
  {
   "cell_type": "code",
   "execution_count": null,
   "id": "1137a86d",
   "metadata": {},
   "outputs": [],
   "source": [
    "cdc.select_dtypes(include='int64').mean()"
   ]
  },
  {
   "cell_type": "code",
   "execution_count": null,
   "id": "5613a038",
   "metadata": {},
   "outputs": [],
   "source": [
    "cdc.select_dtypes(include='int64').mean(1)"
   ]
  },
  {
   "cell_type": "code",
   "execution_count": null,
   "id": "66aaead2",
   "metadata": {},
   "outputs": [],
   "source": [
    "cdc.groupby('Country').sum().sort_values('Confirmed', ascending=False)"
   ]
  },
  {
   "cell_type": "code",
   "execution_count": null,
   "id": "dd789ac2",
   "metadata": {},
   "outputs": [],
   "source": [
    "us = cdc[cdc['Country'] == 'US']\n",
    "us"
   ]
  },
  {
   "cell_type": "code",
   "execution_count": null,
   "id": "2f2e56a6",
   "metadata": {},
   "outputs": [],
   "source": [
    "us.pop(us.columns[0])"
   ]
  },
  {
   "cell_type": "code",
   "execution_count": null,
   "id": "e2da2679",
   "metadata": {},
   "outputs": [],
   "source": [
    "us"
   ]
  },
  {
   "cell_type": "code",
   "execution_count": null,
   "id": "021ddda8",
   "metadata": {},
   "outputs": [],
   "source": [
    "us.set_index('Date', inplace=True)\n",
    "us"
   ]
  },
  {
   "cell_type": "code",
   "execution_count": null,
   "id": "eeb418f6",
   "metadata": {
    "scrolled": true
   },
   "outputs": [],
   "source": [
    "sns.set_theme()\n",
    "us.newConfirmed.plot()"
   ]
  },
  {
   "cell_type": "markdown",
   "id": "68311a2c",
   "metadata": {},
   "source": [
    "[_Table of Contents_](#toc)"
   ]
  }
 ],
 "metadata": {
  "kernelspec": {
   "display_name": "Python 3 (ipykernel)",
   "language": "python",
   "name": "python3"
  },
  "language_info": {
   "codemirror_mode": {
    "name": "ipython",
    "version": 3
   },
   "file_extension": ".py",
   "mimetype": "text/x-python",
   "name": "python",
   "nbconvert_exporter": "python",
   "pygments_lexer": "ipython3",
   "version": "3.10.4"
  }
 },
 "nbformat": 4,
 "nbformat_minor": 5
}
