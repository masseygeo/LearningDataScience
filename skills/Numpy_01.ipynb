{
 "cells": [
  {
   "cell_type": "markdown",
   "metadata": {
    "id": "lOasO_-uLZfM"
   },
   "source": [
    "# Numpy 1 - *Python and Grid-based Gambling*\n",
    "\n",
    "You work for a casino that is piloting new gambling machines.  The casino has 6 rows of the new machines; each row contains 6 machines. Each machine in this 6x6 grid will allow a no more than 10 jackpot prizes per hour.\n",
    "\n",
    "The casino asks you to monitor and log the machines over time; this requires various tasks outlined in the sections below.\n",
    "\n",
    "Goal: This assignment aims to explore file input and output with a complex data structure."
   ]
  },
  {
   "cell_type": "markdown",
   "metadata": {
    "id": "qLWAuTo-RneR"
   },
   "source": [
    "## Part 1 -- Create\n",
    "\n",
    "(10 points)  You've been asked to simulate **12 hours** of data collection, where the number of each machine's **jackpots per hour** are recorded.\n",
    "\n",
    "Create a 3D structure capable of storing the hourly totals for each machine in the 6x6 grid; fill this structure with random integer values between 0 and 10 (inclusive) to indicate how many jackpots per machine happened.\n",
    "\n",
    "Your 3D data structure should be able to hold 12 copies of 6x6 values. Print your structure."
   ]
  },
  {
   "cell_type": "code",
   "execution_count": 1,
   "metadata": {
    "colab": {
     "base_uri": "https://localhost:8080/"
    },
    "executionInfo": {
     "elapsed": 32,
     "status": "ok",
     "timestamp": 1663870982613,
     "user": {
      "displayName": "Matt Massey",
      "userId": "08637701140305391198"
     },
     "user_tz": 240
    },
    "id": "nUejFC9RTNaA",
    "outputId": "dee9fd3a-8f39-4450-8417-c5abb76e5915"
   },
   "outputs": [
    {
     "name": "stdout",
     "output_type": "stream",
     "text": [
      "[[[ 9  7  8 10  5  8  4  9  5  8  6 10]\n",
      "  [ 6  3  2  2  5  3 10  4  3  9  2  0]\n",
      "  [ 6  2  1  6  1  1  0  7  5  2  7  5]\n",
      "  [ 7  0 10  0  3  1  2  4  0  2  7  7]\n",
      "  [ 5  5  4  5  2  6  8  6  5 10  3  8]\n",
      "  [ 5 10  7  4  4  1  4  5  1  2  6  1]]\n",
      "\n",
      " [[ 5  3 10  9  2  0  7  2  1 10  8  9]\n",
      "  [ 7  7  4  3  5  8  6  1  7  2  7  2]\n",
      "  [10  1  4  7  7  5  0  9  2  1  7  0]\n",
      "  [ 7  7 10  6  7  1  7  1  4  6  5 10]\n",
      "  [ 2  6  0  2  8 10  5  1 10  8  4  6]\n",
      "  [ 3  7 10  4  5  4  8  5  2  3  4  8]]\n",
      "\n",
      " [[10  6  5  4  2  6  0  2  3  5  9  4]\n",
      "  [ 9  4  7  3 10  9  8  0  6  8  4  3]\n",
      "  [ 8 10  1  6 10  7  0  0  9  8  5  1]\n",
      "  [ 6  1 10  2  2  7  1  5  8 10  8  8]\n",
      "  [ 5  5  4  1  4  9 10  6  3  1  4  4]\n",
      "  [10  0  7  5  6  2  6  9 10  9  6  3]]\n",
      "\n",
      " [[ 2  4 10  8 10  2  3  3  3  6  1  5]\n",
      "  [ 3  6  4  0  7  5  8  2  3  0  3  2]\n",
      "  [ 9  7  3  4  7  3  1  4  1  3  8  0]\n",
      "  [ 2  4  7  5  3 10  5  2  2  1  0  6]\n",
      "  [ 2  3  9 10  5  5 10  1  9  2  0  8]\n",
      "  [10  4  1  4  8 10  8  0  7  4  9  3]]\n",
      "\n",
      " [[ 7  6  7  1  4  6  9  3 10  2  1  8]\n",
      "  [ 3  5  0  7  5  8  5  4  8  7  6  8]\n",
      "  [ 5  7  8  2  5  1  7  2  0  7  2  4]\n",
      "  [ 6  6  8  3  3  4  9  9  5  1  7  0]\n",
      "  [ 4  6  3  6  5  3  3  4  4  7  4 10]\n",
      "  [ 6  6  1  7  0  4  7  9  2  7  9  8]]\n",
      "\n",
      " [[ 1  6  4  5  5  2  5  5  6 10  7  7]\n",
      "  [ 7  3  9  0  3  7  2  2  8  1  0  5]\n",
      "  [ 0  3  6 10  4  9 10  1  9  9  8  2]\n",
      "  [ 3  0  2  5  8 10  2  8  0  4  0  8]\n",
      "  [ 4  6  7  0  2 10  9  6  7  4  8  7]\n",
      "  [ 8  6  8  8  8  6  0  5  2  9  0  8]]]\n"
     ]
    }
   ],
   "source": [
    "import numpy as np\n",
    "\n",
    "# create 3D array for 6 rows of 6 machines and simulate jackpots for 12 hours\n",
    "# jackpots simulated by random integers from 0-10 representing number of \n",
    "# jackpots per hour\n",
    "jackpot_arr = np.random.randint(0,11, size=(6,6,12))\n",
    "\n",
    "# print 3d array\n",
    "print(jackpot_arr)"
   ]
  },
  {
   "cell_type": "markdown",
   "metadata": {
    "id": "_tKrDDQISYYf"
   },
   "source": [
    "## Part 2 -- Write to File\n",
    "\n",
    "(15 points) Write a function that takes (1) a filename and (2) a 3D data structure; this function should write the contents of the 3D structure to the specified file. Use any file format or any module you wish.  Run your function with an appropriate filename and the 3D structure from Part #1."
   ]
  },
  {
   "cell_type": "code",
   "execution_count": 2,
   "metadata": {
    "id": "EuxeM8ArNyW-"
   },
   "outputs": [],
   "source": [
    "def datasave_func(fname, data):\n",
    "  '''\n",
    "  Function to save NumPy array as binary .npy file using NumPy \"save\" function.\n",
    "  \n",
    "  PARAMETERS\n",
    "  -----------\n",
    "  fname : string\n",
    "      filename or path\n",
    "  data : array\n",
    "      array of any shape\n",
    "\n",
    "  '''\n",
    "  # call NumPy function to save any array to .npy file\n",
    "  np.save(fname, data)\n",
    "\n",
    "# creating a filename variable with .npy extension for saving 3d data structure\n",
    "# to working directory\n",
    "filename = 'jackpot_file.npy'\n",
    "\n",
    "# calling function created above to save data structure created in part 1\n",
    "datasave_func(filename, jackpot_arr)\n"
   ]
  },
  {
   "cell_type": "markdown",
   "metadata": {
    "id": "8WXbVVeGT8BK"
   },
   "source": [
    "## Part 3 -- Read from File\n",
    "\n",
    "(15 points) Write a function that takes a filename, opens it, and returns the 3D structure saved inside the specified file.  Call your function using the filename from Part 2 and save the results into a new variable. Print the contents of this variable. \n",
    "\n",
    "In other words, your function should open what your function in Part 2 has saved."
   ]
  },
  {
   "cell_type": "code",
   "execution_count": 3,
   "metadata": {
    "colab": {
     "base_uri": "https://localhost:8080/"
    },
    "executionInfo": {
     "elapsed": 29,
     "status": "ok",
     "timestamp": 1663870982615,
     "user": {
      "displayName": "Matt Massey",
      "userId": "08637701140305391198"
     },
     "user_tz": 240
    },
    "id": "1H4ZE8irT7ef",
    "outputId": "19673668-0ddd-4446-faa3-dd4b6c50c7a8"
   },
   "outputs": [
    {
     "name": "stdout",
     "output_type": "stream",
     "text": [
      "Is the new array the same as the old array?\n",
      " True \n",
      "\n",
      "[[[ 9  7  8 10  5  8  4  9  5  8  6 10]\n",
      "  [ 6  3  2  2  5  3 10  4  3  9  2  0]\n",
      "  [ 6  2  1  6  1  1  0  7  5  2  7  5]\n",
      "  [ 7  0 10  0  3  1  2  4  0  2  7  7]\n",
      "  [ 5  5  4  5  2  6  8  6  5 10  3  8]\n",
      "  [ 5 10  7  4  4  1  4  5  1  2  6  1]]\n",
      "\n",
      " [[ 5  3 10  9  2  0  7  2  1 10  8  9]\n",
      "  [ 7  7  4  3  5  8  6  1  7  2  7  2]\n",
      "  [10  1  4  7  7  5  0  9  2  1  7  0]\n",
      "  [ 7  7 10  6  7  1  7  1  4  6  5 10]\n",
      "  [ 2  6  0  2  8 10  5  1 10  8  4  6]\n",
      "  [ 3  7 10  4  5  4  8  5  2  3  4  8]]\n",
      "\n",
      " [[10  6  5  4  2  6  0  2  3  5  9  4]\n",
      "  [ 9  4  7  3 10  9  8  0  6  8  4  3]\n",
      "  [ 8 10  1  6 10  7  0  0  9  8  5  1]\n",
      "  [ 6  1 10  2  2  7  1  5  8 10  8  8]\n",
      "  [ 5  5  4  1  4  9 10  6  3  1  4  4]\n",
      "  [10  0  7  5  6  2  6  9 10  9  6  3]]\n",
      "\n",
      " [[ 2  4 10  8 10  2  3  3  3  6  1  5]\n",
      "  [ 3  6  4  0  7  5  8  2  3  0  3  2]\n",
      "  [ 9  7  3  4  7  3  1  4  1  3  8  0]\n",
      "  [ 2  4  7  5  3 10  5  2  2  1  0  6]\n",
      "  [ 2  3  9 10  5  5 10  1  9  2  0  8]\n",
      "  [10  4  1  4  8 10  8  0  7  4  9  3]]\n",
      "\n",
      " [[ 7  6  7  1  4  6  9  3 10  2  1  8]\n",
      "  [ 3  5  0  7  5  8  5  4  8  7  6  8]\n",
      "  [ 5  7  8  2  5  1  7  2  0  7  2  4]\n",
      "  [ 6  6  8  3  3  4  9  9  5  1  7  0]\n",
      "  [ 4  6  3  6  5  3  3  4  4  7  4 10]\n",
      "  [ 6  6  1  7  0  4  7  9  2  7  9  8]]\n",
      "\n",
      " [[ 1  6  4  5  5  2  5  5  6 10  7  7]\n",
      "  [ 7  3  9  0  3  7  2  2  8  1  0  5]\n",
      "  [ 0  3  6 10  4  9 10  1  9  9  8  2]\n",
      "  [ 3  0  2  5  8 10  2  8  0  4  0  8]\n",
      "  [ 4  6  7  0  2 10  9  6  7  4  8  7]\n",
      "  [ 8  6  8  8  8  6  0  5  2  9  0  8]]]\n"
     ]
    }
   ],
   "source": [
    "def dataload_func(fname):\n",
    "  '''\n",
    "  Function to load binary .npy file as NumPy ndarray using the NumPy \"load\" function.\n",
    "  \n",
    "  PARAMETERS\n",
    "  -----------\n",
    "  fname : string\n",
    "      filename or path\n",
    "  \n",
    "  RETURNS\n",
    "  --------\n",
    "  NumPy ndarray\n",
    "\n",
    "  '''\n",
    "  # call NumPy function to load .npy file and return array\n",
    "  return np.load(fname)\n",
    "\n",
    "# open data file created in part 2 as new array\n",
    "# using previous filename variable form part 2\n",
    "new_jackpot_arr = dataload_func(filename)\n",
    "\n",
    "# test to compare original array to new array with boolean\n",
    "comparison = jackpot_arr == new_jackpot_arr\n",
    "\n",
    "# print overall result of comparison boolean array\n",
    "print('Is the new array the same as the old array?\\n', comparison.all(), '\\n')\n",
    "\n",
    "# print new array\n",
    "print(new_jackpot_arr)"
   ]
  },
  {
   "cell_type": "markdown",
   "metadata": {
    "id": "VGt25BY2VC5p"
   },
   "source": [
    "## Part 4 -- Averages\n",
    "\n",
    "(15 points) Write a function that takes a 3D data structure and returns a 6x6 2D structure, where each value is the average of the hourly grid values *per machine*. Call this function using the data from Part 1; print the results."
   ]
  },
  {
   "cell_type": "code",
   "execution_count": 4,
   "metadata": {
    "colab": {
     "base_uri": "https://localhost:8080/"
    },
    "executionInfo": {
     "elapsed": 26,
     "status": "ok",
     "timestamp": 1663870982616,
     "user": {
      "displayName": "Matt Massey",
      "userId": "08637701140305391198"
     },
     "user_tz": 240
    },
    "id": "5uFr5EtRV664",
    "outputId": "db44e773-40a7-41bf-a53a-012d9eec7bc3"
   },
   "outputs": [
    {
     "name": "stdout",
     "output_type": "stream",
     "text": [
      "[[7.417 4.083 3.583 3.583 5.583 4.167]\n",
      " [5.5   4.917 4.417 5.917 5.167 5.25 ]\n",
      " [4.667 5.917 5.417 5.667 4.667 6.083]\n",
      " [4.75  3.583 4.167 3.917 5.333 5.667]\n",
      " [5.333 5.5   4.167 5.083 4.917 5.5  ]\n",
      " [5.25  3.917 5.917 4.167 5.833 5.667]]\n"
     ]
    }
   ],
   "source": [
    "def mean3d_func(data):\n",
    "  '''\n",
    "  Function to calculate averages of third dimension in 3D array and return 2D \n",
    "  array of means.\n",
    "  \n",
    "  PARAMETERS\n",
    "  -----------\n",
    "  data : array\n",
    "      3D array\n",
    "  \n",
    "  RETURNS\n",
    "  --------\n",
    "  NumPy ndarray\n",
    "\n",
    "  '''\n",
    "  # call NumPy function on 3rd dimension (axis 2) and return 2D array of means\n",
    "  # using NumPy \"mean\" function\n",
    "  return np.mean(data, axis=2)\n",
    "\n",
    "# call function created aboe to calculate average jackpots of simulated jackpots \n",
    "# for each machine over 12 hour period\n",
    "jackpot_mean_arr = mean3d_func(jackpot_arr)\n",
    "\n",
    "# print means and round to 3 decimal places for readability\n",
    "print(jackpot_mean_arr.round(3))"
   ]
  },
  {
   "cell_type": "markdown",
   "metadata": {
    "id": "F9Gf9HkaWgXU"
   },
   "source": [
    "## Part 5 -- Averages (Constrained)\n",
    "\n",
    "(15 points) A coworker training you casually mentions that occurences of 0s in the jackpot hourly totals imply the machine was disabled and out of order for that hour.\n",
    "\n",
    "Write a function that takes a 3D structure and returns a 6x6 2D structure, where each value is the average of the **non-zero** hourly grid values per machine. If all hourly values for a single machine are 0, return -1 for that machine's totals.\n",
    "\n",
    "Call this function using the data from Part 1; print the results."
   ]
  },
  {
   "cell_type": "code",
   "execution_count": 5,
   "metadata": {
    "colab": {
     "base_uri": "https://localhost:8080/"
    },
    "executionInfo": {
     "elapsed": 24,
     "status": "ok",
     "timestamp": 1663870982617,
     "user": {
      "displayName": "Matt Massey",
      "userId": "08637701140305391198"
     },
     "user_tz": 240
    },
    "id": "j0dfprjXWjzo",
    "outputId": "0654e4d5-7d63-437a-ab01-15b7602ffcec"
   },
   "outputs": [
    {
     "name": "stdout",
     "output_type": "stream",
     "text": [
      "[[7.417 4.455 3.909 4.778 5.583 4.167]\n",
      " [6.    4.917 5.3   5.917 5.636 5.25 ]\n",
      " [5.091 6.455 6.5   5.667 4.667 6.636]\n",
      " [4.75  4.3   4.545 4.273 5.818 6.182]\n",
      " [5.333 6.    4.545 5.545 4.917 6.   ]\n",
      " [5.25  4.7   6.455 5.556 6.364 6.8  ]]\n",
      "\n",
      " [[-1.     4.455  3.909  4.778  5.583  4.167]\n",
      " [ 6.     4.917  5.3    5.917  5.636  5.25 ]\n",
      " [ 5.091  6.455  6.5    5.667  4.667  6.636]\n",
      " [ 4.75   4.3    4.545  4.273  5.818  6.182]\n",
      " [ 5.333  6.     4.545  5.545  4.917  6.   ]\n",
      " [ 5.25   4.7    6.455  5.556  6.364  6.8  ]]\n",
      "\n",
      " [[-1. -1. -1. -1. -1. -1.]\n",
      " [-1. -1. -1. -1. -1. -1.]\n",
      " [-1. -1. -1. -1. -1. -1.]\n",
      " [-1. -1. -1. -1. -1. -1.]\n",
      " [-1. -1. -1. -1. -1. -1.]\n",
      " [-1. -1. -1. -1. -1. -1.]]\n"
     ]
    }
   ],
   "source": [
    "def nzmean3d_func(data):\n",
    "  '''\n",
    "  Function to calculate averages ignoring non-zero values of third dimension in \n",
    "  3D array and return 2D array of means. When calculated mean=0, result returned \n",
    "  as -1.\n",
    "  \n",
    "  PARAMETERS\n",
    "  -----------\n",
    "  data : array\n",
    "      3D array\n",
    "  \n",
    "  RETURNS\n",
    "  --------\n",
    "  NumPy 2D ndarray\n",
    "  \n",
    "  '''\n",
    "  # find machines with ALL hourly jackpots of 0 and replace with -1\n",
    "  # modify input 3d array by calling NumPy \"count_nonzero\" function along 3rd \n",
    "  # dimension of array to find total number of non-zero values; if count is 0, \n",
    "  #then replace 0 count with -1\n",
    "  data[np.count_nonzero(data, axis=2) == 0] = -1\n",
    "\n",
    "  # calculate constrained mean of jackpot simulation over 12 hours by calling\n",
    "  # NumPy \"sum\" function along 3rd dimension then divide using NumPy \"count_nonzero\"\n",
    "  # function by the number of non-zero elements along 3rd dimension for constrained mean\n",
    "  nzm = np.sum(data, axis=2) / np.count_nonzero(data, axis=2)\n",
    "\n",
    "  # return 2D array of constrained means with 0 converted to -1 if present\n",
    "  return nzm\n",
    "\n",
    "# calculate constrained average jackpots of each machine over 12 hour period\n",
    "jackpot_constrainedmean_arr = nzmean3d_func(jackpot_arr)\n",
    "\n",
    "# print results of constrained means, rounding to 3 decimals for readability\n",
    "print(jackpot_constrainedmean_arr.round(3))\n",
    "\n",
    "# testing machine on first row and column with 0 hourly jackpots\n",
    "# copy 3d array\n",
    "test1 = jackpot_arr.copy()\n",
    "# change first row, first column, all 3rd dimension values to 0\n",
    "test1[0,0,:] = 0\n",
    "# calling function from above, should give -1 in position 0,0\n",
    "print('\\n', nzmean3d_func(test1).round(3))\n",
    "\n",
    "# testing input with all machines having 0 hourly jackpots; should give 2d array\n",
    "# of all -1 values\n",
    "test2 = np.zeros((6,6,12))\n",
    "print('\\n', nzmean3d_func(test2))"
   ]
  },
  {
   "cell_type": "markdown",
   "metadata": {
    "id": "5oe75bJHGILd"
   },
   "source": [
    "## Part 6 -- Targeting Machines\n",
    "\n",
    "(10 points) The company is very happy with your ability to create averages of their machines' jackpots.  They instruct you to disable any machine that averaged at least 7 jackpots during the initial 12 hour period because it's \"too hot\" and to run your simulation again on the remaining machines.\n",
    "\n",
    "In other words, repeat <mark>Part 1</mark> for another 12 hour period by creating another 3D structure of randomized results 0-10, where the \"too hot\" machines from the first simulation are also disabled and forced to appear as 0s at every hour. \n",
    "\n",
    "Show your results by printing the indices of the \"too hot\" machines and by printing the final 3D structure."
   ]
  },
  {
   "cell_type": "code",
   "execution_count": 6,
   "metadata": {
    "colab": {
     "base_uri": "https://localhost:8080/"
    },
    "executionInfo": {
     "elapsed": 387,
     "status": "ok",
     "timestamp": 1663870982982,
     "user": {
      "displayName": "Matt Massey",
      "userId": "08637701140305391198"
     },
     "user_tz": 240
    },
    "id": "vU-9VAS4GHrt",
    "outputId": "fca98c53-d2e9-4cec-e409-705e8629d938"
   },
   "outputs": [
    {
     "name": "stdout",
     "output_type": "stream",
     "text": [
      "Indices of hot machines in the first simulation: \n",
      " [[0 0]]\n",
      "\n",
      "Second simulation without \"hot\" machines: \n",
      " [[[ 0  0  0  0  0  0  0  0  0  0  0  0]\n",
      "  [ 4  3  8  6  1  9  6  2  1  2 10  9]\n",
      "  [ 4  7  7  3  6  3  4  5  8  1  0  7]\n",
      "  [10 10  2  2  7  2  2  2  4 10  3  2]\n",
      "  [ 5  8  0  8  7  4  0  5  2  4  9  4]\n",
      "  [10  1  9  0  6  9  6  7  9  0 10  5]]\n",
      "\n",
      " [[ 1  9  4  1  5  0  1  1  2  3  5 10]\n",
      "  [ 6  2  4  7  2  6  0  0  1  1  3  8]\n",
      "  [ 9  8  3  4 10  3  8  7  5  5  1  0]\n",
      "  [ 7  2  3  0  6  2  5  8  7  0  3  0]\n",
      "  [ 8  0  3  0  6  2 10  7  9  5  5  0]\n",
      "  [ 9  9  0  3  2  6  4  6  7  8  0  5]]\n",
      "\n",
      " [[ 2  3  6  6  3  6 10  8  1  3  9  6]\n",
      "  [ 1  4  3  0  8  5  7  5  3  1  4  9]\n",
      "  [ 6  1  9 10  4  1  8 10  1  7  7  8]\n",
      "  [ 0  4  2  1  1  2  6  9  9  3  5  7]\n",
      "  [ 5  3  4  6  3  0  4  9  4  4  5  5]\n",
      "  [ 9  5  5 10  9  9 10  6  1 10  6 10]]\n",
      "\n",
      " [[ 9  2  3  0  2  4  5  3  8  5  0  1]\n",
      "  [10  9  9  0  0  2  3  6  7  2  8  4]\n",
      "  [10  1  0  5 10  9 10 10  1  4  3 10]\n",
      "  [ 0  7  4  6  9  8  4  7  2  8  8  4]\n",
      "  [ 2 10  8  9 10  6  6  3  4  3  7  6]\n",
      "  [ 2  4  2  9  0  8  7  8  0  0  9  7]]\n",
      "\n",
      " [[ 9  9 10  7  7  3  0  4  3  0 10  9]\n",
      "  [ 2  3  8  5  0 10  2  5  4 10  1  6]\n",
      "  [ 1  2  1  1  5  2  4 10 10  3  2 10]\n",
      "  [ 2  4 10  7  2  2  4  5  9  4  2  3]\n",
      "  [ 8  4  8  3  4  6  1  3  5  5  3  5]\n",
      "  [ 3  0  6  9  5  4  8  6  5  3  4  1]]\n",
      "\n",
      " [[ 7  0  4  8  4  4  8  6  7  9 10  7]\n",
      "  [ 2  7  9  9  6  9  9  0 10  2  9  6]\n",
      "  [ 7  4  0  5  9 10  2  7  4  4  5  3]\n",
      "  [ 3 10  0  9  9  9  4  9  4  6  9 10]\n",
      "  [ 6 10  4 10 10  2  4  6  0  3  7  2]\n",
      "  [10  8 10  1  5  9  6  1  4 10  2  0]]]\n"
     ]
    }
   ],
   "source": [
    "# create new jackpot simulation for another 12 hour period;\n",
    "# 6 machines on 6 rows for 12 hours (same methods as part 1 above)\n",
    "next_jackpot_arr = np.random.randint(0,11, size=(6,6,12))\n",
    "\n",
    "# find indices of \"hot\" machines (at least 7 jackpots) using constrained\n",
    "# means function from part 5 above\n",
    "# \"argwhere\" function returns indices of input array; here input array is mask\n",
    "# of constrained means where the number of jackpots over 12 hours is 7 or greater\n",
    "hot_idx = np.argwhere(jackpot_constrainedmean_arr >= 7)\n",
    "\n",
    "# disable hot machines found in new simulation by changing to zero\n",
    "# for second 12 hour time period; use indices determined in step above to index\n",
    "# simulation and replace hot machines with 0 (\"hot\" rows, \"hot\" columns, all 12 hours)\n",
    "next_jackpot_arr[hot_idx[:,0], hot_idx[:,1],:] = 0\n",
    "\n",
    "# print indices and final modified second simulation\n",
    "print('Indices of hot machines in the first simulation: \\n', hot_idx)\n",
    "print('\\nSecond simulation without \"hot\" machines: \\n', next_jackpot_arr)"
   ]
  },
  {
   "cell_type": "markdown",
   "metadata": {
    "id": "lCRNuDMzMa93"
   },
   "source": [
    "## Review Points\n",
    "\n",
    "The below may be helpful in preparing for this assignment. The examples below are from numpy, but pandas examples would be similar in spirit."
   ]
  },
  {
   "cell_type": "code",
   "execution_count": 7,
   "metadata": {
    "id": "HFU5ApscIxb7"
   },
   "outputs": [],
   "source": [
    "# The following code generates a random 3D array of integers 0-9\n",
    "import numpy as np\n",
    "ar3 = np.random.randint(0, 10, (3, 4, 4))"
   ]
  },
  {
   "cell_type": "code",
   "execution_count": 8,
   "metadata": {
    "colab": {
     "base_uri": "https://localhost:8080/"
    },
    "executionInfo": {
     "elapsed": 18,
     "status": "ok",
     "timestamp": 1663870982985,
     "user": {
      "displayName": "Matt Massey",
      "userId": "08637701140305391198"
     },
     "user_tz": 240
    },
    "id": "cfVTWxd5JpZY",
    "outputId": "bceffc54-9e6f-4bf4-da16-46bd174a4a49"
   },
   "outputs": [
    {
     "name": "stdout",
     "output_type": "stream",
     "text": [
      "<class 'numpy.ndarray'>\n"
     ]
    }
   ],
   "source": [
    "# This is a numpy ndarray\n",
    "print(type(ar3))"
   ]
  },
  {
   "cell_type": "code",
   "execution_count": 9,
   "metadata": {
    "colab": {
     "base_uri": "https://localhost:8080/"
    },
    "executionInfo": {
     "elapsed": 17,
     "status": "ok",
     "timestamp": 1663870982986,
     "user": {
      "displayName": "Matt Massey",
      "userId": "08637701140305391198"
     },
     "user_tz": 240
    },
    "id": "5lq-kSYDJpKI",
    "outputId": "95faac57-9594-4bc5-f12f-3730286ebc20"
   },
   "outputs": [
    {
     "name": "stdout",
     "output_type": "stream",
     "text": [
      "[[[6 6 8 0]\n",
      "  [9 4 3 4]\n",
      "  [5 3 3 2]\n",
      "  [2 4 2 0]]\n",
      "\n",
      " [[3 3 1 2]\n",
      "  [9 2 9 4]\n",
      "  [0 9 1 5]\n",
      "  [7 1 5 5]]\n",
      "\n",
      " [[1 9 8 1]\n",
      "  [8 4 6 0]\n",
      "  [1 4 3 9]\n",
      "  [0 9 9 8]]]\n"
     ]
    }
   ],
   "source": [
    "# The entire array is printable\n",
    "print(ar3)"
   ]
  },
  {
   "cell_type": "code",
   "execution_count": 10,
   "metadata": {
    "colab": {
     "base_uri": "https://localhost:8080/"
    },
    "executionInfo": {
     "elapsed": 17,
     "status": "ok",
     "timestamp": 1663870982987,
     "user": {
      "displayName": "Matt Massey",
      "userId": "08637701140305391198"
     },
     "user_tz": 240
    },
    "id": "CkZ_a5BWJEvf",
    "outputId": "8355472a-4595-4627-b007-c31b2a0c87b8"
   },
   "outputs": [
    {
     "name": "stdout",
     "output_type": "stream",
     "text": [
      "[[6 6 8 0]\n",
      " [9 4 3 4]\n",
      " [5 3 3 2]\n",
      " [2 4 2 0]]\n"
     ]
    }
   ],
   "source": [
    "# Recall that you can access data inside arrays via indexing; the 0th element is a 4x4 array.\n",
    "print(ar3[0])"
   ]
  }
 ],
 "metadata": {
  "colab": {
   "collapsed_sections": [
    "lCRNuDMzMa93"
   ],
   "provenance": []
  },
  "kernelspec": {
   "display_name": "Python 3 (ipykernel)",
   "language": "python",
   "name": "python3"
  },
  "language_info": {
   "codemirror_mode": {
    "name": "ipython",
    "version": 3
   },
   "file_extension": ".py",
   "mimetype": "text/x-python",
   "name": "python",
   "nbconvert_exporter": "python",
   "pygments_lexer": "ipython3",
   "version": "3.8.15"
  }
 },
 "nbformat": 4,
 "nbformat_minor": 4
}
