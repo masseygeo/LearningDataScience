{
 "cells": [
  {
   "cell_type": "markdown",
   "metadata": {
    "id": "9bZ-x9euLD9_"
   },
   "source": [
    "# Pandas Cleaning 1\n",
    "\n",
    "Being a wizard can be dangerous. Being a wizard in training can be even more dangerous. The Hogwarts school nurse is a very busy person and records their activity in a log. You are asked to review a sample of the logs from the nurse's office of Hogwarts and to report your findings.  "
   ]
  },
  {
   "cell_type": "markdown",
   "metadata": {
    "id": "V2qKhuvALpIh"
   },
   "source": [
    "## Part 1 -- Create\n",
    "\n",
    "(10 points) Download the data from Canvas and load it into an appropriate Python structure.  Leave a comment in your code justifying your choice in data structure.  \n",
    "\n",
    "You do not need to include this file with your submission; everyone's code will be ran with the same input data; do not modify the format of the file for your program."
   ]
  },
  {
   "cell_type": "code",
   "execution_count": 1,
   "metadata": {
    "colab": {
     "base_uri": "https://localhost:8080/",
     "height": 803
    },
    "executionInfo": {
     "elapsed": 1522,
     "status": "ok",
     "timestamp": 1665453457711,
     "user": {
      "displayName": "Matt Massey",
      "userId": "08637701140305391198"
     },
     "user_tz": 240
    },
    "id": "xUXWetgbWx-F",
    "outputId": "2504b79e-0151-4994-8af9-c53ca82a492b"
   },
   "outputs": [
    {
     "data": {
      "text/html": [
       "<div>\n",
       "<style scoped>\n",
       "    .dataframe tbody tr th:only-of-type {\n",
       "        vertical-align: middle;\n",
       "    }\n",
       "\n",
       "    .dataframe tbody tr th {\n",
       "        vertical-align: top;\n",
       "    }\n",
       "\n",
       "    .dataframe thead th {\n",
       "        text-align: right;\n",
       "    }\n",
       "</style>\n",
       "<table border=\"1\" class=\"dataframe\">\n",
       "  <thead>\n",
       "    <tr style=\"text-align: right;\">\n",
       "      <th></th>\n",
       "      <th>medical_record_number</th>\n",
       "      <th>first_name</th>\n",
       "      <th>last_name</th>\n",
       "      <th>visit_id</th>\n",
       "      <th>date</th>\n",
       "      <th>time_spent</th>\n",
       "      <th>height(cm)</th>\n",
       "      <th>weight(kg)</th>\n",
       "      <th>charge</th>\n",
       "      <th>supplies_used</th>\n",
       "    </tr>\n",
       "  </thead>\n",
       "  <tbody>\n",
       "    <tr>\n",
       "      <th>0</th>\n",
       "      <td>15685.0</td>\n",
       "      <td>Harry</td>\n",
       "      <td>Potter</td>\n",
       "      <td>8219</td>\n",
       "      <td>06-05-1994</td>\n",
       "      <td>20 minutes</td>\n",
       "      <td>174.0</td>\n",
       "      <td>57</td>\n",
       "      <td>25.72</td>\n",
       "      <td>5.0</td>\n",
       "    </tr>\n",
       "    <tr>\n",
       "      <th>1</th>\n",
       "      <td>7619.0</td>\n",
       "      <td>Ron</td>\n",
       "      <td>Weasley</td>\n",
       "      <td>7512</td>\n",
       "      <td>01-15-1994</td>\n",
       "      <td>10 minutes</td>\n",
       "      <td>180.0</td>\n",
       "      <td>60</td>\n",
       "      <td>7.16</td>\n",
       "      <td>2.0</td>\n",
       "    </tr>\n",
       "    <tr>\n",
       "      <th>2</th>\n",
       "      <td>14593.0</td>\n",
       "      <td>Hermione</td>\n",
       "      <td>Granger</td>\n",
       "      <td>5896</td>\n",
       "      <td>01-25-1994</td>\n",
       "      <td>20 minutes</td>\n",
       "      <td>164.0</td>\n",
       "      <td>53</td>\n",
       "      <td>8.85</td>\n",
       "      <td>1.0</td>\n",
       "    </tr>\n",
       "    <tr>\n",
       "      <th>3</th>\n",
       "      <td>15685.0</td>\n",
       "      <td>Harry</td>\n",
       "      <td>Potter</td>\n",
       "      <td>1552</td>\n",
       "      <td>1994-02-15</td>\n",
       "      <td>5 minutes</td>\n",
       "      <td>174.0</td>\n",
       "      <td>58</td>\n",
       "      <td>25.72</td>\n",
       "      <td>3.0</td>\n",
       "    </tr>\n",
       "    <tr>\n",
       "      <th>4</th>\n",
       "      <td>15685.0</td>\n",
       "      <td>Harry</td>\n",
       "      <td>Potter</td>\n",
       "      <td>1202</td>\n",
       "      <td>05-19-1994</td>\n",
       "      <td>20 minutes</td>\n",
       "      <td>174.0</td>\n",
       "      <td>55</td>\n",
       "      <td>25.72</td>\n",
       "      <td>3.0</td>\n",
       "    </tr>\n",
       "  </tbody>\n",
       "</table>\n",
       "</div>"
      ],
      "text/plain": [
       "   medical_record_number first_name last_name  visit_id        date  \\\n",
       "0                15685.0      Harry    Potter      8219  06-05-1994   \n",
       "1                 7619.0        Ron   Weasley      7512  01-15-1994   \n",
       "2                14593.0   Hermione   Granger      5896  01-25-1994   \n",
       "3                15685.0      Harry    Potter      1552  1994-02-15   \n",
       "4                15685.0      Harry    Potter      1202  05-19-1994   \n",
       "\n",
       "   time_spent  height(cm)  weight(kg)  charge  supplies_used  \n",
       "0  20 minutes       174.0          57   25.72            5.0  \n",
       "1  10 minutes       180.0          60    7.16            2.0  \n",
       "2  20 minutes       164.0          53    8.85            1.0  \n",
       "3   5 minutes       174.0          58   25.72            3.0  \n",
       "4  20 minutes       174.0          55   25.72            3.0  "
      ]
     },
     "execution_count": 1,
     "metadata": {},
     "output_type": "execute_result"
    }
   ],
   "source": [
    "# import pandas for data structure and manipulation\n",
    "import pandas as pd\n",
    "\n",
    "# path of file from github\n",
    "url = r'https://raw.githubusercontent.com/masseygeo/LearningDataScience/main/datasets/Pandas_01.csv'\n",
    "\n",
    "# read csv file into dataframe\n",
    "df = pd.read_csv(url)\n",
    "\n",
    "# view first 5 records of imported dataset\n",
    "df.head()"
   ]
  },
  {
   "cell_type": "code",
   "execution_count": 2,
   "metadata": {
    "colab": {
     "base_uri": "https://localhost:8080/"
    },
    "executionInfo": {
     "elapsed": 184,
     "status": "ok",
     "timestamp": 1665453463972,
     "user": {
      "displayName": "Matt Massey",
      "userId": "08637701140305391198"
     },
     "user_tz": 240
    },
    "id": "wKXbIO_NN_KK",
    "outputId": "69d145aa-77ac-486b-bce6-04470851807a"
   },
   "outputs": [
    {
     "name": "stdout",
     "output_type": "stream",
     "text": [
      "<class 'pandas.core.frame.DataFrame'>\n",
      "RangeIndex: 22 entries, 0 to 21\n",
      "Data columns (total 10 columns):\n",
      " #   Column                 Non-Null Count  Dtype  \n",
      "---  ------                 --------------  -----  \n",
      " 0   medical_record_number  21 non-null     float64\n",
      " 1   first_name             21 non-null     object \n",
      " 2   last_name              21 non-null     object \n",
      " 3   visit_id               22 non-null     int64  \n",
      " 4   date                   21 non-null     object \n",
      " 5   time_spent             21 non-null     object \n",
      " 6   height(cm)             21 non-null     float64\n",
      " 7   weight(kg)             22 non-null     int64  \n",
      " 8   charge                 22 non-null     float64\n",
      " 9   supplies_used          21 non-null     float64\n",
      "dtypes: float64(4), int64(2), object(4)\n",
      "memory usage: 1.8+ KB\n"
     ]
    }
   ],
   "source": [
    "# general info about the dataset including feature variables, non-null, and dtypes\n",
    "df.info()"
   ]
  },
  {
   "cell_type": "code",
   "execution_count": 3,
   "metadata": {
    "colab": {
     "base_uri": "https://localhost:8080/",
     "height": 458
    },
    "executionInfo": {
     "elapsed": 198,
     "status": "ok",
     "timestamp": 1665453467144,
     "user": {
      "displayName": "Matt Massey",
      "userId": "08637701140305391198"
     },
     "user_tz": 240
    },
    "id": "ZcoHRdpWOvAe",
    "outputId": "9e7f22c6-fec4-4303-af31-08b56aafece1"
   },
   "outputs": [
    {
     "data": {
      "text/html": [
       "<div>\n",
       "<style scoped>\n",
       "    .dataframe tbody tr th:only-of-type {\n",
       "        vertical-align: middle;\n",
       "    }\n",
       "\n",
       "    .dataframe tbody tr th {\n",
       "        vertical-align: top;\n",
       "    }\n",
       "\n",
       "    .dataframe thead th {\n",
       "        text-align: right;\n",
       "    }\n",
       "</style>\n",
       "<table border=\"1\" class=\"dataframe\">\n",
       "  <thead>\n",
       "    <tr style=\"text-align: right;\">\n",
       "      <th></th>\n",
       "      <th>medical_record_number</th>\n",
       "      <th>first_name</th>\n",
       "      <th>last_name</th>\n",
       "      <th>visit_id</th>\n",
       "      <th>date</th>\n",
       "      <th>time_spent</th>\n",
       "      <th>height(cm)</th>\n",
       "      <th>weight(kg)</th>\n",
       "      <th>charge</th>\n",
       "      <th>supplies_used</th>\n",
       "    </tr>\n",
       "  </thead>\n",
       "  <tbody>\n",
       "    <tr>\n",
       "      <th>count</th>\n",
       "      <td>21.000000</td>\n",
       "      <td>21</td>\n",
       "      <td>21</td>\n",
       "      <td>22.000000</td>\n",
       "      <td>21</td>\n",
       "      <td>21</td>\n",
       "      <td>21.000000</td>\n",
       "      <td>22.000000</td>\n",
       "      <td>22.000000</td>\n",
       "      <td>21.000000</td>\n",
       "    </tr>\n",
       "    <tr>\n",
       "      <th>unique</th>\n",
       "      <td>NaN</td>\n",
       "      <td>9</td>\n",
       "      <td>8</td>\n",
       "      <td>NaN</td>\n",
       "      <td>18</td>\n",
       "      <td>7</td>\n",
       "      <td>NaN</td>\n",
       "      <td>NaN</td>\n",
       "      <td>NaN</td>\n",
       "      <td>NaN</td>\n",
       "    </tr>\n",
       "    <tr>\n",
       "      <th>top</th>\n",
       "      <td>NaN</td>\n",
       "      <td>Ron</td>\n",
       "      <td>Weasley</td>\n",
       "      <td>NaN</td>\n",
       "      <td>01-15-1994</td>\n",
       "      <td>10 minutes</td>\n",
       "      <td>NaN</td>\n",
       "      <td>NaN</td>\n",
       "      <td>NaN</td>\n",
       "      <td>NaN</td>\n",
       "    </tr>\n",
       "    <tr>\n",
       "      <th>freq</th>\n",
       "      <td>NaN</td>\n",
       "      <td>7</td>\n",
       "      <td>7</td>\n",
       "      <td>NaN</td>\n",
       "      <td>3</td>\n",
       "      <td>8</td>\n",
       "      <td>NaN</td>\n",
       "      <td>NaN</td>\n",
       "      <td>NaN</td>\n",
       "      <td>NaN</td>\n",
       "    </tr>\n",
       "    <tr>\n",
       "      <th>mean</th>\n",
       "      <td>16269.857143</td>\n",
       "      <td>NaN</td>\n",
       "      <td>NaN</td>\n",
       "      <td>5465.500000</td>\n",
       "      <td>NaN</td>\n",
       "      <td>NaN</td>\n",
       "      <td>247.714286</td>\n",
       "      <td>65.045455</td>\n",
       "      <td>19.412273</td>\n",
       "      <td>384.952381</td>\n",
       "    </tr>\n",
       "    <tr>\n",
       "      <th>std</th>\n",
       "      <td>12475.755990</td>\n",
       "      <td>NaN</td>\n",
       "      <td>NaN</td>\n",
       "      <td>2851.657325</td>\n",
       "      <td>NaN</td>\n",
       "      <td>NaN</td>\n",
       "      <td>369.507935</td>\n",
       "      <td>26.646678</td>\n",
       "      <td>9.383818</td>\n",
       "      <td>1744.831524</td>\n",
       "    </tr>\n",
       "    <tr>\n",
       "      <th>min</th>\n",
       "      <td>7619.000000</td>\n",
       "      <td>NaN</td>\n",
       "      <td>NaN</td>\n",
       "      <td>1202.000000</td>\n",
       "      <td>NaN</td>\n",
       "      <td>NaN</td>\n",
       "      <td>57.000000</td>\n",
       "      <td>25.000000</td>\n",
       "      <td>0.000000</td>\n",
       "      <td>-1.000000</td>\n",
       "    </tr>\n",
       "    <tr>\n",
       "      <th>25%</th>\n",
       "      <td>7619.000000</td>\n",
       "      <td>NaN</td>\n",
       "      <td>NaN</td>\n",
       "      <td>2693.250000</td>\n",
       "      <td>NaN</td>\n",
       "      <td>NaN</td>\n",
       "      <td>174.000000</td>\n",
       "      <td>57.250000</td>\n",
       "      <td>15.785000</td>\n",
       "      <td>1.000000</td>\n",
       "    </tr>\n",
       "    <tr>\n",
       "      <th>50%</th>\n",
       "      <td>15685.000000</td>\n",
       "      <td>NaN</td>\n",
       "      <td>NaN</td>\n",
       "      <td>5879.000000</td>\n",
       "      <td>NaN</td>\n",
       "      <td>NaN</td>\n",
       "      <td>180.000000</td>\n",
       "      <td>60.000000</td>\n",
       "      <td>19.845000</td>\n",
       "      <td>3.000000</td>\n",
       "    </tr>\n",
       "    <tr>\n",
       "      <th>75%</th>\n",
       "      <td>15685.000000</td>\n",
       "      <td>NaN</td>\n",
       "      <td>NaN</td>\n",
       "      <td>7512.000000</td>\n",
       "      <td>NaN</td>\n",
       "      <td>NaN</td>\n",
       "      <td>180.000000</td>\n",
       "      <td>61.000000</td>\n",
       "      <td>25.720000</td>\n",
       "      <td>6.000000</td>\n",
       "    </tr>\n",
       "    <tr>\n",
       "      <th>max</th>\n",
       "      <td>51627.000000</td>\n",
       "      <td>NaN</td>\n",
       "      <td>NaN</td>\n",
       "      <td>9861.000000</td>\n",
       "      <td>NaN</td>\n",
       "      <td>NaN</td>\n",
       "      <td>1855.000000</td>\n",
       "      <td>174.000000</td>\n",
       "      <td>42.670000</td>\n",
       "      <td>8000.000000</td>\n",
       "    </tr>\n",
       "  </tbody>\n",
       "</table>\n",
       "</div>"
      ],
      "text/plain": [
       "        medical_record_number first_name last_name     visit_id        date  \\\n",
       "count               21.000000         21        21    22.000000          21   \n",
       "unique                    NaN          9         8          NaN          18   \n",
       "top                       NaN        Ron   Weasley          NaN  01-15-1994   \n",
       "freq                      NaN          7         7          NaN           3   \n",
       "mean             16269.857143        NaN       NaN  5465.500000         NaN   \n",
       "std              12475.755990        NaN       NaN  2851.657325         NaN   \n",
       "min               7619.000000        NaN       NaN  1202.000000         NaN   \n",
       "25%               7619.000000        NaN       NaN  2693.250000         NaN   \n",
       "50%              15685.000000        NaN       NaN  5879.000000         NaN   \n",
       "75%              15685.000000        NaN       NaN  7512.000000         NaN   \n",
       "max              51627.000000        NaN       NaN  9861.000000         NaN   \n",
       "\n",
       "        time_spent   height(cm)  weight(kg)     charge  supplies_used  \n",
       "count           21    21.000000   22.000000  22.000000      21.000000  \n",
       "unique           7          NaN         NaN        NaN            NaN  \n",
       "top     10 minutes          NaN         NaN        NaN            NaN  \n",
       "freq             8          NaN         NaN        NaN            NaN  \n",
       "mean           NaN   247.714286   65.045455  19.412273     384.952381  \n",
       "std            NaN   369.507935   26.646678   9.383818    1744.831524  \n",
       "min            NaN    57.000000   25.000000   0.000000      -1.000000  \n",
       "25%            NaN   174.000000   57.250000  15.785000       1.000000  \n",
       "50%            NaN   180.000000   60.000000  19.845000       3.000000  \n",
       "75%            NaN   180.000000   61.000000  25.720000       6.000000  \n",
       "max            NaN  1855.000000  174.000000  42.670000    8000.000000  "
      ]
     },
     "execution_count": 3,
     "metadata": {},
     "output_type": "execute_result"
    }
   ],
   "source": [
    "# general stats on entire dataset \n",
    "df.describe(include='all')"
   ]
  },
  {
   "cell_type": "markdown",
   "metadata": {
    "id": "pudJ8kZQMuvs"
   },
   "source": [
    "## Part 2 -- Missing Data\n",
    "\n",
    "(15 points) Write a function that accepts as input your data structure from Part 1 and a \"column\" of data (a single variable name represented as a string) and reports the number of missing values.  \n",
    "\n",
    "Test your function by calling it at least three time and show the output; demonstrate your function works correctly by calling it with columns with and without missing data."
   ]
  },
  {
   "cell_type": "code",
   "execution_count": 4,
   "metadata": {
    "colab": {
     "base_uri": "https://localhost:8080/"
    },
    "executionInfo": {
     "elapsed": 175,
     "status": "ok",
     "timestamp": 1665453471018,
     "user": {
      "displayName": "Matt Massey",
      "userId": "08637701140305391198"
     },
     "user_tz": 240
    },
    "id": "ZBKACQ5pL6U7",
    "outputId": "9ea884be-605d-4848-8fad-5b77919dc98b"
   },
   "outputs": [
    {
     "name": "stdout",
     "output_type": "stream",
     "text": [
      "Number of missing values in *medical_record_number*: 1\n",
      "Number of missing values in *visit_id*: 0\n",
      "Number of missing values in *date*: 1\n"
     ]
    }
   ],
   "source": [
    "def missing_vals(df, col):\n",
    "  '''\n",
    "  Function to evaluate dataframe variable (column) and report missing or NaN values.\n",
    "\n",
    "  Args:\n",
    "    df: dataframe containing variable\n",
    "    col: string of variable name in dataframe\n",
    "  \n",
    "  Returns:\n",
    "    string: printed count of missing values in variable of interest\n",
    "  '''\n",
    "  # boolean of variable for NaN/missing values, then summing number of True\n",
    "  missing = df[col].isna().sum()\n",
    "\n",
    "  # print formatted string for report\n",
    "  print('Number of missing values in *{0}*: {1}'.format(col, missing))\n",
    "\n",
    "\n",
    "\n",
    "# test 1 - float dtype data with missing value\n",
    "missing_vals(df, 'medical_record_number')\n",
    "\n",
    "# test 2 - integer dtype with no missing values\n",
    "missing_vals(df, 'visit_id')\n",
    "\n",
    "# test 3 - object dtype with missing value\n",
    "missing_vals(df, 'date')"
   ]
  },
  {
   "cell_type": "markdown",
   "metadata": {
    "id": "MB0plvPtNcJj"
   },
   "source": [
    "## Part 3 -- Bad Dates\n",
    "\n",
    "(15 points) Write a function that accepts as input your data structure from Part 1 and a \"column\" of data (a single variable name represented as a string) and reports the number of bad dates (impossible dates, poorly formated, etc).  For example, September has no 31st day.  If the record is not a date at all, such as the name \"Potter\", consider it a bad date by default.\n",
    "\n",
    "Test your function by calling it at least two times and show the output: once with the \"date\" column from the data and once with any other column.\n"
   ]
  },
  {
   "cell_type": "code",
   "execution_count": 5,
   "metadata": {
    "colab": {
     "base_uri": "https://localhost:8080/"
    },
    "executionInfo": {
     "elapsed": 177,
     "status": "ok",
     "timestamp": 1665454210324,
     "user": {
      "displayName": "Matt Massey",
      "userId": "08637701140305391198"
     },
     "user_tz": 240
    },
    "id": "M8I8pVsfMuKk",
    "outputId": "13d1b1ce-3f4d-4b95-f76e-e4c6a8e514e2"
   },
   "outputs": [
    {
     "name": "stdout",
     "output_type": "stream",
     "text": [
      "Number of incorrectly formatted or bad dates in *date*: 4\n",
      "Number of incorrectly formatted or bad dates in *medical_record_number*: 22\n"
     ]
    }
   ],
   "source": [
    "def bad_dates(df, col):\n",
    "  '''\n",
    "  Function to identify and report bad dates in dataframe variable.\n",
    "\n",
    "  Args:\n",
    "    df: dataframe containing variable\n",
    "    col: string of variable name in dataframe\n",
    "  \n",
    "  Returns:\n",
    "    string: printed count of bad dates in variable of interest\n",
    "  '''\n",
    "  # converting variable to pandas datetime object with month-day-year format and\n",
    "  # coercing error into NaT values\n",
    "  dates = pd.to_datetime(df[col], format='%m-%d-%Y', errors='coerce')\n",
    "\n",
    "  # counting NaT values in new datetime variable above\n",
    "  bad = dates.isna().sum()\n",
    "\n",
    "  # formatted string report of bad dates\n",
    "  print('Number of incorrectly formatted or bad dates in *{0}*: {1}'.format(col, bad))\n",
    "\n",
    "    \n",
    "    \n",
    "# test 1 - date variable with 4 values of missing, incorrectly formatted, and impossible dates\n",
    "bad_dates(df, 'date')\n",
    "\n",
    "# test 2 - float variable not able to parse any records into datetime format\n",
    "bad_dates(df, 'medical_record_number')\n"
   ]
  },
  {
   "cell_type": "markdown",
   "metadata": {
    "id": "owJybnM6OhsG"
   },
   "source": [
    "## Part 4 -- Outliers\n",
    "\n",
    "(15 points) Write a function that accepts as input your data structure from Part 1 and a \"column\" of data (a single variable represented as a string) and reports the number of outliers.  \n",
    "\n",
    "Define outliers as any value that is -/+ **X** standard deviations away from the mean value, where **X** is a value you choose.  \n",
    "\n",
    "Special case consideration: return 0 by default if the input data is not numerical data (because standard deviation must be well-defined for this function to work properly).\n",
    "\n",
    "Leave as a comment how you chose the value of **X**.\n",
    "\n",
    "Test your function by calling it at least two times and show the output: once with a column containly only numerical records and one containing at least one non-numerical result."
   ]
  },
  {
   "cell_type": "code",
   "execution_count": 6,
   "metadata": {
    "colab": {
     "base_uri": "https://localhost:8080/"
    },
    "executionInfo": {
     "elapsed": 178,
     "status": "ok",
     "timestamp": 1665454978666,
     "user": {
      "displayName": "Matt Massey",
      "userId": "08637701140305391198"
     },
     "user_tz": 240
    },
    "id": "HVwqfJwdOhSy",
    "outputId": "c3ed3383-6b6a-44c8-8979-7f7ed8f00575"
   },
   "outputs": [
    {
     "name": "stdout",
     "output_type": "stream",
     "text": [
      "Number of outliers in column *height(cm)*: 1\n"
     ]
    },
    {
     "data": {
      "text/plain": [
       "0"
      ]
     },
     "execution_count": 6,
     "metadata": {},
     "output_type": "execute_result"
    }
   ],
   "source": [
    "# using pandas.api.types module to id numeric data types\n",
    "import pandas.api.types\n",
    "\n",
    "def outlier_vals(df, col):\n",
    "  '''\n",
    "  Function to identify and report outliers in numeric dataframe variable; non-numeric\n",
    "  variables returned as 0.\n",
    "\n",
    "  Args:\n",
    "    df: dataframe containing variable\n",
    "    col: string of variable name in dataframe\n",
    "  \n",
    "  Returns:\n",
    "    string: printed count of bad dates in numeric variable of interest, or 0 for non-numeric variable input\n",
    "  '''\n",
    "  # for numeric data types find outliers\n",
    "  if pandas.api.types.is_numeric_dtype(df[col]) == True:\n",
    "    # center of data\n",
    "    center = df[col].mean()\n",
    "    \n",
    "    # threshold for outliers at 2*standard deviation of sample because this should include\n",
    "    # approximately 95% of the dataset if normally distributed\n",
    "    threshold = df[col].std() * 2\n",
    "    \n",
    "    # upper fencepost of outliers\n",
    "    upper = center + threshold\n",
    "    \n",
    "    # lower fencepost of outliers\n",
    "    lower = center - threshold\n",
    "    \n",
    "    # find outliers using upper OR lower outlier fenceposts; count number number of outlier records\n",
    "    outliers = df.loc[(df[col] > upper) | (df[col] < lower), col].count()\n",
    "    \n",
    "    # print count and report of outliers in formatted string\n",
    "    print('Number of outliers in column *{0}*: {1}'.format(col, outliers))\n",
    "  \n",
    "  # for non-numeric data types return 0\n",
    "  else:\n",
    "    return 0\n",
    "\n",
    "\n",
    "\n",
    "# test 1 - numeric variable with one obvious outlier\n",
    "outlier_vals(df, 'height(cm)')\n",
    "\n",
    "# test 2 - non-numeric variable with no outliers\n",
    "outlier_vals(df, 'first_name')"
   ]
  },
  {
   "cell_type": "markdown",
   "metadata": {
    "id": "NgVVGHz-PpED"
   },
   "source": [
    "## Part 5 -- Consistency Checking Example\n",
    "\n",
    "(15 points) -- Write a function that checks for consistency in the **time_spent** column.  Assume that the correct unit of measurement should be **minutes**.  Your function should return how many values are not consistent with this chosen standard.\n",
    "\n",
    "Design your own function parameters.  Leave as a comment why you chose these parameters.\n",
    "\n",
    "Test your function by calling it at least once and show the output."
   ]
  },
  {
   "cell_type": "code",
   "execution_count": 7,
   "metadata": {
    "colab": {
     "base_uri": "https://localhost:8080/"
    },
    "executionInfo": {
     "elapsed": 195,
     "status": "ok",
     "timestamp": 1665455646611,
     "user": {
      "displayName": "Matt Massey",
      "userId": "08637701140305391198"
     },
     "user_tz": 240
    },
    "id": "UxPiXgijP6Pr",
    "outputId": "2d57b04a-6cec-47fb-d70c-82145c0bc0fc"
   },
   "outputs": [
    {
     "name": "stdout",
     "output_type": "stream",
     "text": [
      "Number of recrods inconsistent with units of *minutes* in *time_spent*: 3\n",
      "Number of recrods inconsistent with units of *hours* in *time_spent*: 21\n"
     ]
    }
   ],
   "source": [
    "def dataconsistency(df, col, unit='minutes'):\n",
    "  '''\n",
    "  Function to identify and report inconsistent formatting in time_spent variable.\n",
    "  Variables dataset and column chosen to be consistent with the rest of the assignment,\n",
    "  and variable unit chosen to allow user option to check other formatting options.\n",
    "\n",
    "  Args:\n",
    "    df: dataframe containing variable\n",
    "    col: string of variable name in dataframe\n",
    "    unit: string of units to check for formatting; default is minutes \n",
    "  \n",
    "  Returns:\n",
    "    string: printed count of bad dates in variable of interest\n",
    "  '''\n",
    "  # total number of records in variable/dataframe MINUS the number of records that contain the \n",
    "  # user defined parameter 'unit' (sum of True in boolean; NaN treated as False)\n",
    "  inconsistent = len(df[col]) - df[col].str.contains(unit, na=False).sum()\n",
    "  \n",
    "  # formatted string report of total number of inconsistent records for given input\n",
    "  print('Number of recrods inconsistent with units of *{0}* in *{1}*: {2}'.format(unit, col, inconsistent))\n",
    "\n",
    "\n",
    "\n",
    "# test 1 - testing for minutes unit on time_spent variable should show 3 inconsistent values\n",
    "# of different units (hours and minute) and NaN\n",
    "dataconsistency(df, 'time_spent')\n",
    "\n",
    "# test 2 - testing for hours on time_spent variable should show 21 inconsistent values\n",
    "dataconsistency(df, 'time_spent', unit='hours')\n"
   ]
  },
  {
   "cell_type": "markdown",
   "metadata": {
    "id": "YLJrrg_4QUse"
   },
   "source": [
    "## Part 6 -- Reporting\n",
    "\n",
    "(10 points) -- Write code that generates a report using the functions defined in Parts 2-5.  Your report should summarize any findings **per appropriate columns**.\n",
    "\n",
    "You may write this to file or just print to standard output.  \n",
    "\n",
    "Below is an example output (using X,Y,Z in place of actual values). You may deviate from the example output as long as the same information is conveyed; in other words, you have **creative freedom in presentation** but the content needs to summarize the results from Parts 2-5.\n",
    "\n",
    "```\n",
    "Column medical_record_number has X missing values.\n",
    "Column first_name has X missing values.\n",
    "Column last_name has X missing values.\n",
    "Column visit has X missing values.\n",
    "Column date has X missing values.\n",
    "Column time_spent has X missing values.\n",
    "Column height(cm) has X missing values.\n",
    "Column weight(kg) has X missing values.\n",
    "Column charge has X missing values.\n",
    "Column supplies_used has X missing values.\n",
    "\n",
    "Column time_spent has X outliers.\n",
    "Column height(cm) has X outliers.\n",
    "Column weight(kg) has X outliers.\n",
    "Column charge has X outliers.\n",
    "Column supplies_used has X outliers\n",
    "\n",
    "Column date has Y bad dates.\n",
    "Column time_spent Z inconsistent values.\n",
    "```"
   ]
  },
  {
   "cell_type": "code",
   "execution_count": 8,
   "metadata": {
    "colab": {
     "base_uri": "https://localhost:8080/"
    },
    "executionInfo": {
     "elapsed": 158,
     "status": "ok",
     "timestamp": 1665456602487,
     "user": {
      "displayName": "Matt Massey",
      "userId": "08637701140305391198"
     },
     "user_tz": 240
    },
    "id": "7foNwnTaUQ85",
    "outputId": "26284fc6-887c-4378-ad11-28d759a35dde"
   },
   "outputs": [
    {
     "name": "stdout",
     "output_type": "stream",
     "text": [
      "HOGWART'S NURSE LOG\n",
      "DATA REPORT\n",
      "--------------\n",
      "Missing Data:\n",
      "Number of missing values in *medical_record_number*: 1\n",
      "Number of missing values in *first_name*: 1\n",
      "Number of missing values in *last_name*: 1\n",
      "Number of missing values in *visit_id*: 0\n",
      "Number of missing values in *date*: 1\n",
      "Number of missing values in *time_spent*: 1\n",
      "Number of missing values in *height(cm)*: 1\n",
      "Number of missing values in *weight(kg)*: 0\n",
      "Number of missing values in *charge*: 0\n",
      "Number of missing values in *supplies_used*: 1\n",
      "\n",
      "Relevant Outliers:\n",
      "Number of outliers in column *height(cm)*: 1\n",
      "Number of outliers in column *weight(kg)*: 1\n",
      "Number of outliers in column *charge*: 2\n",
      "Number of outliers in column *supplies_used*: 1\n",
      "  ***defined as +/- 2 standard deviations away from the mean\n",
      "  ***NaN not considered\n",
      "\n",
      "Date-Times:\n",
      "Number of incorrectly formatted or bad dates in *date*: 4\n",
      "\n",
      "Time Spent Unit Conistency:\n",
      "Number of recrods inconsistent with units of *minutes* in *time_spent*: 3\n"
     ]
    }
   ],
   "source": [
    "# report title\n",
    "print(\"HOGWART'S NURSE LOG\\nDATA REPORT\\n--------------\")\n",
    "\n",
    "# section title\n",
    "print('Missing Data:')\n",
    "# report for missing values in all columns\n",
    "for cols in df.columns:\n",
    "  missing_vals(df, cols)\n",
    "\n",
    "# section title\n",
    "print('\\nRelevant Outliers:')\n",
    "# report for outliers in relevant numeric data type columns only\n",
    "# relevant numeric variables where outlier analysis is appropriate\n",
    "relevant = ['height(cm)', 'weight(kg)', 'charge', 'supplies_used']\n",
    "for cols in df[relevant]:\n",
    "  if pandas.api.types.is_numeric_dtype(df[cols]) == True:\n",
    "    outlier_vals(df, cols)\n",
    "# note of outlier definition and methodology\n",
    "print('  ***defined as +/- 2 standard deviations away from the mean')\n",
    "print('  ***NaN not considered')\n",
    "\n",
    "# section title\n",
    "print('\\nDate-Times:')\n",
    "# report for only datetime column in dataset\n",
    "bad_dates(df, 'date')\n",
    "\n",
    "# section title\n",
    "print('\\nTime Spent Unit Conistency:')\n",
    "# report for unit consistency in time_spent variable\n",
    "dataconsistency(df, 'time_spent')\n"
   ]
  }
 ],
 "metadata": {
  "colab": {
   "collapsed_sections": [],
   "provenance": [],
   "toc_visible": true
  },
  "kernelspec": {
   "display_name": "Python 3 (ipykernel)",
   "language": "python",
   "name": "python3"
  },
  "language_info": {
   "codemirror_mode": {
    "name": "ipython",
    "version": 3
   },
   "file_extension": ".py",
   "mimetype": "text/x-python",
   "name": "python",
   "nbconvert_exporter": "python",
   "pygments_lexer": "ipython3",
   "version": "3.8.15"
  }
 },
 "nbformat": 4,
 "nbformat_minor": 4
}
