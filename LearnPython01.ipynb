{
 "cells": [
  {
   "cell_type": "markdown",
   "id": "ceefb27a",
   "metadata": {},
   "source": [
    "# LEARNING PYTHON"
   ]
  },
  {
   "cell_type": "markdown",
   "id": "2c0cd0f8",
   "metadata": {},
   "source": [
    "## Table of Contents\n",
    "* [Dictionaries](#dict)\n",
    "* [Functions](#func)\n",
    " * [Lambda](#lambda)\n",
    " * [map()](#map)\n",
    " * [filter()](#filter)"
   ]
  },
  {
   "cell_type": "markdown",
   "id": "516fe01a",
   "metadata": {},
   "source": [
    "## Dictionaries <a class=\"anchor\" id=\"dict\"></a>"
   ]
  },
  {
   "cell_type": "code",
   "execution_count": 1,
   "id": "091e9d4d",
   "metadata": {},
   "outputs": [
    {
     "data": {
      "text/plain": [
       "{'COL 1': [1, 2, 3], 'COL 2': ['a', 'b', 'c']}"
      ]
     },
     "execution_count": 1,
     "metadata": {},
     "output_type": "execute_result"
    }
   ],
   "source": [
    "dict1 = {'COL 1': [1,2,3], 'COL 2': ['a', 'b', 'c']}\n",
    "dict1"
   ]
  },
  {
   "cell_type": "code",
   "execution_count": 2,
   "id": "e4490105",
   "metadata": {},
   "outputs": [
    {
     "data": {
      "text/plain": [
       "dict_keys(['COL 1', 'COL 2'])"
      ]
     },
     "execution_count": 2,
     "metadata": {},
     "output_type": "execute_result"
    }
   ],
   "source": [
    "dict1.keys()"
   ]
  },
  {
   "cell_type": "code",
   "execution_count": 3,
   "id": "e21d4cf4",
   "metadata": {},
   "outputs": [
    {
     "data": {
      "text/plain": [
       "dict_values([[1, 2, 3], ['a', 'b', 'c']])"
      ]
     },
     "execution_count": 3,
     "metadata": {},
     "output_type": "execute_result"
    }
   ],
   "source": [
    "dict1.values()"
   ]
  },
  {
   "cell_type": "code",
   "execution_count": 4,
   "id": "3939de47",
   "metadata": {},
   "outputs": [
    {
     "data": {
      "text/plain": [
       "['a', 'b', 'c']"
      ]
     },
     "execution_count": 4,
     "metadata": {},
     "output_type": "execute_result"
    }
   ],
   "source": [
    "dict1['COL 2']"
   ]
  },
  {
   "cell_type": "code",
   "execution_count": 5,
   "id": "705371d0",
   "metadata": {},
   "outputs": [
    {
     "data": {
      "text/plain": [
       "3"
      ]
     },
     "execution_count": 5,
     "metadata": {},
     "output_type": "execute_result"
    }
   ],
   "source": [
    "dict1['COL 1'][2]"
   ]
  },
  {
   "cell_type": "markdown",
   "id": "79f31a1d",
   "metadata": {},
   "source": [
    "## Functions <a class=\"anchor\" id=\"func\"></a>"
   ]
  },
  {
   "cell_type": "markdown",
   "id": "672d6dd7",
   "metadata": {},
   "source": [
    "### _Lambda_ <a class=\"anchor\" id=\"lambda\"></a>"
   ]
  },
  {
   "cell_type": "code",
   "execution_count": 6,
   "id": "72d4ab5d",
   "metadata": {},
   "outputs": [
    {
     "data": {
      "text/plain": [
       "2"
      ]
     },
     "execution_count": 6,
     "metadata": {},
     "output_type": "execute_result"
    }
   ],
   "source": [
    "(lambda x: x+1)(1)"
   ]
  },
  {
   "cell_type": "code",
   "execution_count": 7,
   "id": "0818828b",
   "metadata": {},
   "outputs": [
    {
     "data": {
      "text/plain": [
       "16"
      ]
     },
     "execution_count": 7,
     "metadata": {},
     "output_type": "execute_result"
    }
   ],
   "source": [
    "lambda1 = lambda x: x**2\n",
    "lambda1(4)"
   ]
  },
  {
   "cell_type": "code",
   "execution_count": 9,
   "id": "67c9d129",
   "metadata": {},
   "outputs": [
    {
     "data": {
      "text/plain": [
       "4"
      ]
     },
     "execution_count": 9,
     "metadata": {},
     "output_type": "execute_result"
    }
   ],
   "source": [
    "lambda2 = lambda x,y,z: x * (y+z)\n",
    "lambda2(2,1,1)"
   ]
  },
  {
   "cell_type": "markdown",
   "id": "7ea07daa",
   "metadata": {},
   "source": [
    "### _map()_ <a class=\"anchor\" id=\"map\"></a>"
   ]
  },
  {
   "cell_type": "code",
   "execution_count": 10,
   "id": "5add18e1",
   "metadata": {},
   "outputs": [],
   "source": [
    "list1 = [1,2,3,4,5]"
   ]
  },
  {
   "cell_type": "code",
   "execution_count": 12,
   "id": "1f9cd01a",
   "metadata": {},
   "outputs": [
    {
     "data": {
      "text/plain": [
       "<map at 0x7fa8348b8790>"
      ]
     },
     "execution_count": 12,
     "metadata": {},
     "output_type": "execute_result"
    }
   ],
   "source": [
    "map(lambda1, list1)"
   ]
  },
  {
   "cell_type": "code",
   "execution_count": 13,
   "id": "f46d5c6d",
   "metadata": {},
   "outputs": [
    {
     "data": {
      "text/plain": [
       "[1, 4, 9, 16, 25]"
      ]
     },
     "execution_count": 13,
     "metadata": {},
     "output_type": "execute_result"
    }
   ],
   "source": [
    "list(map(lambda1, list1))"
   ]
  },
  {
   "cell_type": "markdown",
   "id": "cdffb8c1",
   "metadata": {},
   "source": [
    "### _filter()_ <a class=\"anchor\" id=\"filter\"></a>"
   ]
  },
  {
   "cell_type": "code",
   "execution_count": null,
   "id": "b6a13c35",
   "metadata": {},
   "outputs": [],
   "source": []
  },
  {
   "cell_type": "code",
   "execution_count": null,
   "id": "83beeac2",
   "metadata": {},
   "outputs": [],
   "source": []
  }
 ],
 "metadata": {
  "kernelspec": {
   "display_name": "Python 3 (ipykernel)",
   "language": "python",
   "name": "python3"
  },
  "language_info": {
   "codemirror_mode": {
    "name": "ipython",
    "version": 3
   },
   "file_extension": ".py",
   "mimetype": "text/x-python",
   "name": "python",
   "nbconvert_exporter": "python",
   "pygments_lexer": "ipython3",
   "version": "3.10.4"
  }
 },
 "nbformat": 4,
 "nbformat_minor": 5
}
